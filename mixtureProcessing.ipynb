{
 "cells": [
  {
   "cell_type": "code",
   "execution_count": 19,
   "metadata": {},
   "outputs": [],
   "source": [
    "import CarbonaraDataTools as CDT\n",
    "import ipywidgets as widgets\n",
    "from IPython.display import display, clear_output\n",
    "from glob import glob"
   ]
  },
  {
   "cell_type": "code",
   "execution_count": 26,
   "metadata": {},
   "outputs": [
    {
     "data": {
      "application/vnd.jupyter.widget-view+json": {
       "model_id": "07f961f8072f4c00a1656b7181803b56",
       "version_major": 2,
       "version_minor": 0
      },
      "text/plain": [
       "SelectMultiple(description='Select which directories to mix:', index=(0, 1), layout=Layout(height='150px', wid…"
      ]
     },
     "metadata": {},
     "output_type": "display_data"
    },
    {
     "data": {
      "application/vnd.jupyter.widget-view+json": {
       "model_id": "ecda900cb89444c5bab6586cfa1598d1",
       "version_major": 2,
       "version_minor": 0
      },
      "text/plain": [
       "Output()"
      ]
     },
     "metadata": {},
     "output_type": "display_data"
    }
   ],
   "source": [
    "preprocessed_directories = glob('newFitData/*')\n",
    "\n",
    "mixture_SelectMultiple = widgets.SelectMultiple(\n",
    "    options=preprocessed_directories,\n",
    "    value=preprocessed_directories,\n",
    "    #rows=10,\n",
    "    description='Select which directories to mix:',\n",
    "    layout={'width': '400px','height':'150px'},\n",
    "    disabled=False\n",
    "    )\n",
    "\n",
    "def SelectMultiple_handler(change):\n",
    "        global selected_directories\n",
    "        selected_directories = change.new\n",
    "        with output:\n",
    "            clear_output(wait=True)\n",
    "\n",
    "mixture_SelectMultiple.style = {'description_width': '200px','description_height': '25px'}\n",
    "\n",
    "# Output widget\n",
    "output = widgets.Output()\n",
    "mixture_SelectMultiple.observe(SelectMultiple_handler,names='value')\n",
    "display(mixture_SelectMultiple)\n",
    "display(output)"
   ]
  },
  {
   "cell_type": "code",
   "execution_count": 28,
   "metadata": {},
   "outputs": [],
   "source": [
    "import os, shutil"
   ]
  },
  {
   "cell_type": "code",
   "execution_count": 43,
   "metadata": {},
   "outputs": [],
   "source": [
    "def create_mixture(preprocessed_directories_list,mixture_name,saxs_file_loc):\n",
    "    if not os.path.exists('newFitData/'+mixture_name):\n",
    "        os.mkdir('newFitData/'+mixture_name)\n",
    "        to_dir = 'newFitData/'+mixture_name\n",
    "        for i in range(len(preprocessed_directories_list)):\n",
    "            from_dir = preprocessed_directories_list[i]\n",
    "            \n",
    "            shutil.copyfile(from_dir+'/coordinates1.dat',to_dir+'/coordinates'+str(i+1)+'.dat')\n",
    "            shutil.copyfile(from_dir+'/fingerPrint1.dat',to_dir+'/fingerPrint'+str(i+1)+'.dat')\n",
    "            shutil.copyfile(from_dir+'/varyingSectionSecondary1.dat',to_dir+'/varyingSectionSecondary'+str(i+1)+'.dat')\n",
    "            if os.path.exists(from_dir+'/fixedDistanceConstraints1.dat'):\n",
    "                shutil.copyfile(from_dir+'/fixedDistanceConstraints1.dat',to_dir+'/fixedDistanceConstraints'+str(i+1)+'.dat')\n",
    "        write_mixture_ratios(len(preprocessed_directories_list),to_dir+'/mixtureFile.dat')\n",
    "        shutil.copyfile(saxs_file_loc,to_dir+'/Saxs.dat')\n",
    "    else:\n",
    "        return(\"A folder already exists with that name, choose another to not overwrite this!\")\n",
    "    "
   ]
  },
  {
   "cell_type": "code",
   "execution_count": 33,
   "metadata": {},
   "outputs": [
    {
     "data": {
      "text/plain": [
       "('newFitData/test_multi', 'newFitData/test_simple')"
      ]
     },
     "execution_count": 33,
     "metadata": {},
     "output_type": "execute_result"
    }
   ],
   "source": [
    "selected_directories"
   ]
  },
  {
   "cell_type": "code",
   "execution_count": 39,
   "metadata": {},
   "outputs": [],
   "source": [
    "def write_mixture_ratios(n, filename):\n",
    "    with open(filename, 'w') as file:\n",
    "        increment = 0.1\n",
    "        ratios = [round(i * increment,1) for i in range(1, int(1 / increment))]  # Exclude 0.0 and 1.0\n",
    "        \n",
    "        def generate_combinations(current_combination, remaining_sum, level):\n",
    "            if level == n - 1:\n",
    "                final_ratio = round(remaining_sum, 1)\n",
    "                if 0 < final_ratio < 1:\n",
    "                    current_combination.append(final_ratio)\n",
    "                    file.write(\" \".join(map(str, current_combination)) + \"\\n\")\n",
    "                    current_combination.pop()\n",
    "                return\n",
    "            \n",
    "            for ratio in ratios:\n",
    "                if ratio < remaining_sum:\n",
    "                    current_combination.append(ratio)\n",
    "                    generate_combinations(current_combination, remaining_sum - ratio, level + 1)\n",
    "                    current_combination.pop()\n",
    "        \n",
    "        generate_combinations([], 1.0, 0)\n",
    "\n",
    "# Example usage:\n",
    "write_mixture_ratios(3)\n"
   ]
  },
  {
   "cell_type": "code",
   "execution_count": 44,
   "metadata": {},
   "outputs": [],
   "source": [
    "create_mixture(selected_directories,'mixture','newFitData/test_simple/Saxs.dat')"
   ]
  }
 ],
 "metadata": {
  "kernelspec": {
   "display_name": "Python 3 (ipykernel)",
   "language": "python",
   "name": "python3"
  },
  "language_info": {
   "codemirror_mode": {
    "name": "ipython",
    "version": 3
   },
   "file_extension": ".py",
   "mimetype": "text/x-python",
   "name": "python",
   "nbconvert_exporter": "python",
   "pygments_lexer": "ipython3",
   "version": "3.11.8"
  },
  "orig_nbformat": 4
 },
 "nbformat": 4,
 "nbformat_minor": 2
}
