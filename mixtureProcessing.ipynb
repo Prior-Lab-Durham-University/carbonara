{
 "cells": [
  {
   "cell_type": "code",
   "execution_count": null,
   "metadata": {
    "hide_input": true,
    "jupyter": {
     "source_hidden": true
    }
   },
   "outputs": [],
   "source": [
    "import CarbonaraDataTools as CDT\n",
    "import ipywidgets as widgets\n",
    "from IPython.display import display, clear_output\n",
    "from glob import glob"
   ]
  },
  {
   "cell_type": "code",
   "execution_count": null,
   "metadata": {
    "hide_input": true,
    "jupyter": {
     "source_hidden": true
    }
   },
   "outputs": [],
   "source": [
    "# <-- Press play to view the currently available processed directories\n",
    "\n",
    "preprocessed_directories = glob('newFitData/*')\n",
    "examp = ['newFitData/Calmodulin1','newFitData/Calmodulin2']\n",
    "\n",
    "mixture_SelectMultiple = widgets.SelectMultiple(\n",
    "    options=preprocessed_directories,\n",
    "    value=examp,\n",
    "    #rows=10,\n",
    "    description='Select which directories to mix:',\n",
    "    layout={'width': '400px','height':'150px'},\n",
    "    disabled=False\n",
    "    )\n",
    "\n",
    "def SelectMultiple_handler(change):\n",
    "        global selected_directories\n",
    "        selected_directories = change.new\n",
    "        with output:\n",
    "            clear_output(wait=True)\n",
    "\n",
    "mixture_SelectMultiple.style = {'description_width': '200px','description_height': '25px'}\n",
    "selected_directories = examp\n",
    "# Output widget\n",
    "output = widgets.Output()\n",
    "mixture_SelectMultiple.observe(SelectMultiple_handler,names='value')\n",
    "display(mixture_SelectMultiple)\n",
    "display(output)"
   ]
  },
  {
   "cell_type": "code",
   "execution_count": null,
   "metadata": {
    "hide_input": true,
    "jupyter": {
     "source_hidden": true
    }
   },
   "outputs": [],
   "source": [
    "# <-- Press play to enter a name for your mixture prediction\n",
    "mixName_text = widgets.Text(\n",
    "    value='CalmodulinMix',\n",
    "    placeholder='Enter a name for your mixture prediction:',\n",
    "    description='Enter a name for your mixture prediction:',\n",
    "    disabled=False,\n",
    "    layout={'width': '500px','height':'50px'},   \n",
    ")\n",
    "\n",
    "mixName_text.style = {'description_width': '250px','description_height': '25px'}\n",
    "\n",
    "def mixName_handler(change):\n",
    "    global mix_name\n",
    "    mix_name = change.new\n",
    "    with output:\n",
    "        clear_output(wait=True)\n",
    "\n",
    "mix_name = 'CalmodulinMix'\n",
    "# Output widget\n",
    "output = widgets.Output()\n",
    "mixName_text.observe(mixName_handler,names='value')\n",
    "display(mixName_text)"
   ]
  },
  {
   "cell_type": "code",
   "execution_count": null,
   "metadata": {
    "hide_input": true,
    "jupyter": {
     "source_hidden": true
    }
   },
   "outputs": [],
   "source": [
    "# <-- Press play to enter a name for your mixture prediction\n",
    "runName_text = widgets.Text(\n",
    "    value='TestRun',\n",
    "    placeholder='Enter a name for your run:',\n",
    "    description='Enter a name for your run:',\n",
    "    disabled=False,\n",
    "    layout={'width': '500px','height':'50px'},   \n",
    ")\n",
    "\n",
    "runName_text.style = {'description_width': '250px','description_height': '25px'}\n",
    "\n",
    "def runName_handler(change):\n",
    "    global run_name\n",
    "    run_name = change.new\n",
    "    with output:\n",
    "        clear_output(wait=True)\n",
    "\n",
    "run_name = 'TestRun'\n",
    "# Output widget\n",
    "output = widgets.Output()\n",
    "runName_text.observe(runName_handler,names='value')\n",
    "display(runName_text)"
   ]
  },
  {
   "cell_type": "code",
   "execution_count": null,
   "metadata": {
    "hide_input": true,
    "jupyter": {
     "source_hidden": true
    }
   },
   "outputs": [],
   "source": [
    "# <-- Press play to enter the mixture SAXs file location\n",
    "\n",
    "saxsFile_text = widgets.Text(\n",
    "    value='Examples/Calmodulin/apoCAM_average_average_refined_sx.dat',\n",
    "    placeholder='Enter your SAXS file location:',\n",
    "    description='Enter your SAXS file location:',\n",
    "    disabled=False,\n",
    "    layout={'width': '550px','height':'50px'},   \n",
    ")\n",
    "\n",
    "saxsFile_text.style = {'description_width': '200px','description_height': '25px'}\n",
    "\n",
    "def saxsFile_handler(change):\n",
    "    global SAXS_file\n",
    "    global working_path\n",
    "    SAXS_file = change.new\n",
    "    with output:\n",
    "        clear_output(wait=True)\n",
    "\n",
    "SAXS_file = 'Examples/Calmodulin/apoCAM_average_average_refined_sx.dat'\n",
    "# Output widget\n",
    "output = widgets.Output()\n",
    "saxsFile_text.observe(saxsFile_handler,names='value')\n",
    "display(saxsFile_text)"
   ]
  },
  {
   "attachments": {},
   "cell_type": "markdown",
   "metadata": {},
   "source": [
    "Once you're happy with your selections above, run the next to cell to create the mixture directory and write the _.sh_ file"
   ]
  },
  {
   "cell_type": "code",
   "execution_count": null,
   "metadata": {
    "hide_input": true,
    "jupyter": {
     "source_hidden": true
    }
   },
   "outputs": [],
   "source": [
    "CDT.create_mixture(selected_directories,mix_name,SAXS_file)\n",
    "CDT.write_run_sh_file('newFitData/'+mix_name,\n",
    "                    mix_name,\n",
    "                    run_name,\n",
    "                    len(selected_directories),\n",
    "                    0.01,\n",
    "                    0.15,\n",
    "                    20,\n",
    "                    10,\n",
    "                    pairedQ=bool(glob('newFitData/'+mix_name+'/fixedDistanceConstraints*.dat'))\n",
    "                    )"
   ]
  },
  {
   "attachments": {},
   "cell_type": "markdown",
   "metadata": {},
   "source": [
    "Unfortunately you now need to head to the terminal to set off your run!\n",
    "* First, navigate to the carbonara directory\n",
    "* Enter _sh_ followed by the script name printed above and hit enter."
   ]
  }
 ],
 "metadata": {
  "kernelspec": {
   "display_name": "Python 3 (ipykernel)",
   "language": "python",
   "name": "python3"
  },
  "language_info": {
   "codemirror_mode": {
    "name": "ipython",
    "version": 3
   },
   "file_extension": ".py",
   "mimetype": "text/x-python",
   "name": "python",
   "nbconvert_exporter": "python",
   "pygments_lexer": "ipython3",
   "version": "3.11.8"
  },
  "orig_nbformat": 4
 },
 "nbformat": 4,
 "nbformat_minor": 2
}
