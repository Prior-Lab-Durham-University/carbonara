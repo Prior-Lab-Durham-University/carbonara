{
 "cells": [
  {
   "cell_type": "markdown",
   "metadata": {},
   "source": [
    "Import Carbonara's Data Tools by running the below cell (_ctrl+enter_)"
   ]
  },
  {
   "cell_type": "code",
   "execution_count": 1,
   "metadata": {
    "hide_input": true,
    "jupyter": {
     "source_hidden": true
    },
    "vscode": {
     "languageId": "python"
    }
   },
   "outputs": [],
   "source": [
    "# <-- Imports\n",
    "\n",
    "import CarbonaraDataTools as CDT\n",
    "import ipywidgets as widgets\n",
    "from IPython.display import display, clear_output\n",
    "from glob import glob\n",
    "import numpy as np"
   ]
  },
  {
   "cell_type": "markdown",
   "metadata": {},
   "source": [
    "1. View all your processed directories, _ctrl+click_ to select which you'd like in your mixture"
   ]
  },
  {
   "cell_type": "code",
   "execution_count": 2,
   "metadata": {
    "hide_input": true,
    "jupyter": {
     "source_hidden": true
    },
    "vscode": {
     "languageId": "python"
    }
   },
   "outputs": [
    {
     "data": {
      "application/vnd.jupyter.widget-view+json": {
       "model_id": "78b3e0b9b178499799ba996bb4448820",
       "version_major": 2,
       "version_minor": 0
      },
      "text/plain": [
       "SelectMultiple(description='Select which directories to mix:', index=(2, 3), layout=Layout(height='150px', wid…"
      ]
     },
     "metadata": {},
     "output_type": "display_data"
    },
    {
     "data": {
      "application/vnd.jupyter.widget-view+json": {
       "model_id": "c05b56367dcc4f2a8be7f8ba58acad64",
       "version_major": 2,
       "version_minor": 0
      },
      "text/plain": [
       "Output()"
      ]
     },
     "metadata": {},
     "output_type": "display_data"
    }
   ],
   "source": [
    "# <-- Press play to view the currently available processed directories\n",
    "\n",
    "preprocessed_directories = glob('newFitData/*')\n",
    "examp = ['newFitData/Calmodulin1','newFitData/Calmodulin2']\n",
    "\n",
    "mixture_SelectMultiple = widgets.SelectMultiple(\n",
    "    options=preprocessed_directories,\n",
    "    value=examp,\n",
    "    #rows=10,\n",
    "    description='Select which directories to mix:',\n",
    "    layout={'width': '400px','height':'150px'},\n",
    "    disabled=False\n",
    "    )\n",
    "\n",
    "def SelectMultiple_handler(change):\n",
    "        global selected_directories\n",
    "        selected_directories = change.new\n",
    "        with output:\n",
    "            clear_output(wait=True)\n",
    "\n",
    "mixture_SelectMultiple.style = {'description_width': '200px','description_height': '25px'}\n",
    "selected_directories = examp\n",
    "# Output widget\n",
    "output = widgets.Output()\n",
    "mixture_SelectMultiple.observe(SelectMultiple_handler,names='value')\n",
    "display(mixture_SelectMultiple)\n",
    "display(output)"
   ]
  },
  {
   "cell_type": "markdown",
   "metadata": {},
   "source": [
    "2. Enter a name for this mixture prediction (please don't include any underscore characters '_')"
   ]
  },
  {
   "cell_type": "code",
   "execution_count": 3,
   "metadata": {
    "hide_input": true,
    "jupyter": {
     "source_hidden": true
    },
    "vscode": {
     "languageId": "python"
    }
   },
   "outputs": [
    {
     "data": {
      "application/vnd.jupyter.widget-view+json": {
       "model_id": "0a1be78fc6424e88a129670bc44c8d37",
       "version_major": 2,
       "version_minor": 0
      },
      "text/plain": [
       "Text(value='CalmodulinMix', description='Enter a name for your mixture prediction:', layout=Layout(height='50p…"
      ]
     },
     "metadata": {},
     "output_type": "display_data"
    }
   ],
   "source": [
    "# <-- Press play to enter a name for your mixture prediction\n",
    "mixName_text = widgets.Text(\n",
    "    value='CalmodulinMix',\n",
    "    placeholder='Enter a name for your mixture prediction:',\n",
    "    description='Enter a name for your mixture prediction:',\n",
    "    disabled=False,\n",
    "    layout={'width': '500px','height':'50px'},   \n",
    ")\n",
    "\n",
    "mixName_text.style = {'description_width': '250px','description_height': '25px'}\n",
    "\n",
    "def mixName_handler(change):\n",
    "    global mix_name\n",
    "    mix_name = change.new\n",
    "    with output:\n",
    "        clear_output(wait=True)\n",
    "\n",
    "mix_name = 'CalmodulinMix'\n",
    "# Output widget\n",
    "output = widgets.Output()\n",
    "mixName_text.observe(mixName_handler,names='value')\n",
    "display(mixName_text)"
   ]
  },
  {
   "cell_type": "markdown",
   "metadata": {},
   "source": [
    "3. Enter a unique name for the run with these parameters."
   ]
  },
  {
   "cell_type": "code",
   "execution_count": 4,
   "metadata": {
    "hide_input": true,
    "jupyter": {
     "source_hidden": true
    },
    "vscode": {
     "languageId": "python"
    }
   },
   "outputs": [
    {
     "data": {
      "application/vnd.jupyter.widget-view+json": {
       "model_id": "fc8a001e27f84cca813ebdbc0f5e04ce",
       "version_major": 2,
       "version_minor": 0
      },
      "text/plain": [
       "Text(value='fitdata', description='Enter a name for your run:', layout=Layout(height='50px', width='500px'), p…"
      ]
     },
     "metadata": {},
     "output_type": "display_data"
    }
   ],
   "source": [
    "# <-- Press play to enter a name for your mixture prediction\n",
    "runName_text = widgets.Text(\n",
    "    value='fitdata',\n",
    "    placeholder='Enter a name for your run:',\n",
    "    description='Enter a name for your run:',\n",
    "    disabled=False,\n",
    "    layout={'width': '500px','height':'50px'},   \n",
    ")\n",
    "\n",
    "runName_text.style = {'description_width': '250px','description_height': '25px'}\n",
    "\n",
    "def runName_handler(change):\n",
    "    global run_name\n",
    "    run_name = change.new\n",
    "    with output:\n",
    "        clear_output(wait=True)\n",
    "\n",
    "run_name = 'fitdata'\n",
    "# Output widget\n",
    "output = widgets.Output()\n",
    "runName_text.observe(runName_handler,names='value')\n",
    "display(runName_text)"
   ]
  },
  {
   "cell_type": "markdown",
   "metadata": {},
   "source": [
    "4. Enter the file location for the SAXS file for the mixture."
   ]
  },
  {
   "cell_type": "code",
   "execution_count": 5,
   "metadata": {
    "hide_input": true,
    "jupyter": {
     "source_hidden": true
    },
    "vscode": {
     "languageId": "python"
    }
   },
   "outputs": [
    {
     "data": {
      "application/vnd.jupyter.widget-view+json": {
       "model_id": "ad6d5693c84648c9ab06e7d5968c0e44",
       "version_major": 2,
       "version_minor": 0
      },
      "text/plain": [
       "Text(value='Examples/Calmodulin/apoCAM_average_average_refined_sx.dat', description='Enter your SAXS file loca…"
      ]
     },
     "metadata": {},
     "output_type": "display_data"
    }
   ],
   "source": [
    "# <-- Press play to enter the mixture SAXs file location\n",
    "\n",
    "saxsFile_text = widgets.Text(\n",
    "    value='Examples/Calmodulin/apoCAM_average_average_refined_sx.dat',\n",
    "    placeholder='Enter your SAXS file location:',\n",
    "    description='Enter your SAXS file location:',\n",
    "    disabled=False,\n",
    "    layout={'width': '550px','height':'50px'},   \n",
    ")\n",
    "\n",
    "saxsFile_text.style = {'description_width': '200px','description_height': '25px'}\n",
    "\n",
    "def saxsFile_handler(change):\n",
    "    global SAXS_file\n",
    "    global working_path\n",
    "    SAXS_file = change.new\n",
    "    with output:\n",
    "        clear_output(wait=True)\n",
    "\n",
    "SAXS_file = 'Examples/Calmodulin/apoCAM_average_average_refined_sx.dat'\n",
    "# Output widget\n",
    "output = widgets.Output()\n",
    "saxsFile_text.observe(saxsFile_handler,names='value')\n",
    "display(saxsFile_text)"
   ]
  },
  {
   "cell_type": "markdown",
   "metadata": {},
   "source": [
    "5. Select the range of _q_ you'd like to fit to in this run."
   ]
  },
  {
   "cell_type": "code",
   "execution_count": 6,
   "metadata": {
    "hide_input": true,
    "jupyter": {
     "source_hidden": true
    },
    "vscode": {
     "languageId": "python"
    }
   },
   "outputs": [
    {
     "data": {
      "application/vnd.jupyter.widget-view+json": {
       "model_id": "894a9dbacaae4b3b8786cc45ccfc355b",
       "version_major": 2,
       "version_minor": 0
      },
      "text/plain": [
       "Text(value='0.04', description='Enter your min q:', layout=Layout(height='50px', width='250px'), placeholder='…"
      ]
     },
     "metadata": {},
     "output_type": "display_data"
    },
    {
     "data": {
      "application/vnd.jupyter.widget-view+json": {
       "model_id": "bb27788e20454ff0ad4e55c927baf92b",
       "version_major": 2,
       "version_minor": 0
      },
      "text/plain": [
       "Text(value='0.15', description='Enter your max q:', layout=Layout(height='50px', width='250px'), placeholder='…"
      ]
     },
     "metadata": {},
     "output_type": "display_data"
    },
    {
     "data": {
      "application/vnd.jupyter.widget-view+json": {
       "model_id": "0e550803dbdd46268de8c9d45541ea87",
       "version_major": 2,
       "version_minor": 0
      },
      "text/plain": [
       "Text(value='0.34', description='Enter your max q:', layout=Layout(height='50px', width='250px'), placeholder='…"
      ]
     },
     "metadata": {},
     "output_type": "display_data"
    }
   ],
   "source": [
    "# <-- Run this cell to enter your desired q range for the fit\n",
    "working_path = 'newFitData/'+mix_name\n",
    "CDT.create_mixture(selected_directories,mix_name,SAXS_file)\n",
    "CDT.write_saxs(SAXS_file,working_path)\n",
    "minq_text = widgets.Text(\n",
    "    value=str(round(np.genfromtxt(working_path+'/Saxs.dat')[:,0].min(),2)),\n",
    "    placeholder='Enter your min q:',\n",
    "    description='Enter your min q:',\n",
    "    disabled=False,\n",
    "    layout={'width': '250px','height':'50px'},   \n",
    ")\n",
    "\n",
    "minq_text.style = {'description_width': '150px','description_height': '25px'}\n",
    "\n",
    "def minq_handler(change):\n",
    "    global minq\n",
    "    minq = change.new\n",
    "    with output:\n",
    "        clear_output(wait=True)\n",
    "\n",
    "minq = round(np.genfromtxt(working_path+'/Saxs.dat')[:,0].min(),2)\n",
    "# Output widget\n",
    "output = widgets.Output()\n",
    "minq_text.observe(minq_handler,names='value')\n",
    "display(minq_text)\n",
    "\n",
    "startq_text = widgets.Text(\n",
    "    value='0.15',\n",
    "    placeholder='Enter your max q:',\n",
    "    description='Enter your max q:',\n",
    "    disabled=False,\n",
    "    layout={'width': '250px','height':'50px'},   \n",
    ")\n",
    "\n",
    "startq_text.style = {'description_width': '150px','description_height': '25px'}\n",
    "\n",
    "def startq_handler(change):\n",
    "    global startq\n",
    "    startq = change.new\n",
    "    with output:\n",
    "        clear_output(wait=True)\n",
    "\n",
    "startq = '0.15'\n",
    "# Output widget\n",
    "output = widgets.Output()\n",
    "startq_text.observe(startq_handler,names='value')\n",
    "display(startq_text)\n",
    "\n",
    "maxq = round(np.genfromtxt(working_path+'/Saxs.dat')[:,0].max(),2)\n",
    "\n",
    "maxq_text = widgets.Text(\n",
    "    value=str(round(np.genfromtxt(working_path+'/Saxs.dat')[:,0].max(),2)),\n",
    "    placeholder='Enter your max q:',\n",
    "    description='Enter your max q:',\n",
    "    disabled=False,\n",
    "    layout={'width': '250px','height':'50px'},   \n",
    ")\n",
    "\n",
    "maxq_text.style = {'description_width': '150px','description_height': '25px'}\n",
    "\n",
    "def maxq_handler(change):\n",
    "    global maxq\n",
    "    maxq = change.new\n",
    "    with output:\n",
    "        clear_output(wait=True)\n",
    "\n",
    "# Output widget\n",
    "output = widgets.Output()\n",
    "maxq_text.observe(maxq_handler,names='value')\n",
    "display(maxq_text)"
   ]
  },
  {
   "cell_type": "markdown",
   "metadata": {},
   "source": [
    "6. Select how many distinct predictions you'd like for this run, and how many fitting steps we should take for each prediction."
   ]
  },
  {
   "cell_type": "code",
   "execution_count": 7,
   "metadata": {
    "hide_input": true,
    "jupyter": {
     "source_hidden": true
    },
    "vscode": {
     "languageId": "python"
    }
   },
   "outputs": [
    {
     "data": {
      "application/vnd.jupyter.widget-view+json": {
       "model_id": "9feb750b32ef4228b9cdeba5a95d4108",
       "version_major": 2,
       "version_minor": 0
      },
      "text/plain": [
       "Text(value='10', description='Enter the number of runs:', layout=Layout(height='50px', width='350px'), placeho…"
      ]
     },
     "metadata": {},
     "output_type": "display_data"
    },
    {
     "data": {
      "application/vnd.jupyter.widget-view+json": {
       "model_id": "717dcbf20ecc4fc3b72276f05fc57723",
       "version_major": 2,
       "version_minor": 0
      },
      "text/plain": [
       "Text(value='10000', description='Enter your number of fitting steps:', layout=Layout(height='50px', width='350…"
      ]
     },
     "metadata": {},
     "output_type": "display_data"
    }
   ],
   "source": [
    "# <-- Run this cell to select the number of runs and how many fitting steps per run\n",
    "\n",
    "no_runs_text = widgets.Text(\n",
    "    value='10',\n",
    "    placeholder='Enter the number of runs:',\n",
    "    description='Enter the number of runs:',\n",
    "    disabled=False,\n",
    "    layout={'width': '350px','height':'50px'},   \n",
    ")\n",
    "\n",
    "no_runs_text.style = {'description_width': '250px','description_height': '25px'}\n",
    "\n",
    "def no_runs_handler(change):\n",
    "    global no_runs\n",
    "    no_runs = change.new\n",
    "    with output:\n",
    "        clear_output(wait=True)\n",
    "\n",
    "no_runs = '10'\n",
    "# Output widget\n",
    "output = widgets.Output()\n",
    "no_runs_text.observe(no_runs_handler,names='value')\n",
    "display(no_runs_text)\n",
    "\n",
    "fit_steps_text = widgets.Text(\n",
    "    value='10000',\n",
    "    placeholder='Enter your number of fitting steps:',\n",
    "    description='Enter your number of fitting steps:',\n",
    "    disabled=False,\n",
    "    layout={'width': '350px','height':'50px'},   \n",
    ")\n",
    "\n",
    "fit_steps_text.style = {'description_width': '250px','description_height': '25px'}\n",
    "\n",
    "def fit_steps_handler(change):\n",
    "    global fit_steps\n",
    "    fit_steps = change.new\n",
    "    with output:\n",
    "        clear_output(wait=True)\n",
    "\n",
    "fit_steps = '10000'\n",
    "# Output widget\n",
    "output = widgets.Output()\n",
    "fit_steps_text.observe(fit_steps_handler,names='value')\n",
    "display(fit_steps_text)"
   ]
  },
  {
   "cell_type": "markdown",
   "metadata": {},
   "source": [
    "7. Would you like to allow rotations?"
   ]
  },
  {
   "cell_type": "code",
   "execution_count": 8,
   "metadata": {
    "hide_input": true
   },
   "outputs": [
    {
     "data": {
      "application/vnd.jupyter.widget-view+json": {
       "model_id": "8ce3ea6acb424811ae0c92c402372164",
       "version_major": 2,
       "version_minor": 0
      },
      "text/plain": [
       "Checkbox(value=True, description='Allow rotations?', indent=False)"
      ]
     },
     "metadata": {},
     "output_type": "display_data"
    }
   ],
   "source": [
    "rotation_checkbox = widgets.Checkbox(\n",
    "    value=True,\n",
    "    description='Allow rotations?',\n",
    "    disabled=False,\n",
    "    indent=False\n",
    ")\n",
    "rotation = True\n",
    "display(rotation_checkbox)\n",
    "\n",
    "def checkbox_handler(change):\n",
    "    global rotation\n",
    "    rotation = rotation_checkbox.value\n",
    "\n",
    "rotation_checkbox.observe(checkbox_handler, names='value')"
   ]
  },
  {
   "cell_type": "markdown",
   "metadata": {},
   "source": [
    "7. Write the _.sh_ file for this run."
   ]
  },
  {
   "cell_type": "code",
   "execution_count": 10,
   "metadata": {
    "hide_input": true,
    "jupyter": {
     "source_hidden": true
    },
    "vscode": {
     "languageId": "python"
    }
   },
   "outputs": [
    {
     "data": {
      "text/plain": [
       "'RunMe_IMPA1mix_fitdata.sh'"
      ]
     },
     "execution_count": 10,
     "metadata": {},
     "output_type": "execute_result"
    }
   ],
   "source": [
    "CDT.write_run_sh_file('newFitData/'+mix_name,\n",
    "                    mix_name,\n",
    "                    run_name,\n",
    "                    len(selected_directories),\n",
    "                    minq,\n",
    "                    maxq,\n",
    "                    startq,\n",
    "                    int(fit_steps),\n",
    "                    int(no_runs),\n",
    "                    pairedQ=bool(glob('newFitData/'+mix_name+'/fixedDistanceConstraints*.dat')),\n",
    "                    rotation=rotation\n",
    "                    )"
   ]
  },
  {
   "cell_type": "markdown",
   "metadata": {},
   "source": [
    "8. You now need to head to the terminal to set off your run!\n",
    "* First, navigate to the carbonara directory\n",
    "```shell\n",
    "cd {carbonara_directory}\n",
    "```\n",
    "* Enter _sh_ followed by the script name printed above and hit enter.\n",
    "```shell\n",
    "sh {script_name}\n",
    "```"
   ]
  },
  {
   "cell_type": "code",
   "execution_count": null,
   "metadata": {},
   "outputs": [],
   "source": []
  }
 ],
 "metadata": {
  "kernelspec": {
   "display_name": "Python 3 (ipykernel)",
   "language": "python",
   "name": "python3"
  },
  "language_info": {
   "codemirror_mode": {
    "name": "ipython",
    "version": 3
   },
   "file_extension": ".py",
   "mimetype": "text/x-python",
   "name": "python",
   "nbconvert_exporter": "python",
   "pygments_lexer": "ipython3",
   "version": "3.11.9"
  }
 },
 "nbformat": 4,
 "nbformat_minor": 2
}
