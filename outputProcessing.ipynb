{
 "cells": [
  {
   "attachments": {},
   "cell_type": "markdown",
   "id": "057baa50",
   "metadata": {},
   "source": [
    "Import Carbonara's Data Tools by running the below cell (_ctrl+enter_)"
   ]
  },
  {
   "cell_type": "code",
   "execution_count": 1,
   "id": "8f7e31cc",
   "metadata": {
    "hide_input": true,
    "jupyter": {
     "source_hidden": true
    }
   },
   "outputs": [],
   "source": [
    "import CarbonaraDataTools as CDT\n",
    "import ipywidgets as widgets\n",
    "from IPython.display import display, clear_output\n",
    "import plotly.io as pio\n",
    "pio.renderers.default='notebook'"
   ]
  },
  {
   "attachments": {},
   "cell_type": "markdown",
   "id": "67a31a64",
   "metadata": {},
   "source": [
    "1. Enter the path to your protein (it should be inside newFitData)"
   ]
  },
  {
   "cell_type": "code",
   "execution_count": 2,
   "id": "0f175c10",
   "metadata": {
    "hide_input": true,
    "jupyter": {
     "source_hidden": true
    }
   },
   "outputs": [
    {
     "data": {
      "application/vnd.jupyter.widget-view+json": {
       "model_id": "80cd4caf7ef04f888133c13e48e16d4d",
       "version_major": 2,
       "version_minor": 0
      },
      "text/plain": [
       "Text(value='newFitData/DisulfideLinkagesExample/', description='Enter the path to your protein:', layout=Layou…"
      ]
     },
     "metadata": {},
     "output_type": "display_data"
    }
   ],
   "source": [
    "# <-- Run this cell to enter a name for your prediction\n",
    "molPath_text = widgets.Text(\n",
    "    value='newFitData/DisulfideLinkagesExample/',\n",
    "    placeholder='Enter the path to your protein:',\n",
    "    description='Enter the path to your protein:',\n",
    "    disabled=False,\n",
    "    layout={'width': '550px','height':'50px'},   \n",
    ")\n",
    "\n",
    "molPath_text.style = {'description_width': '200px','description_height': '25px'}\n",
    "\n",
    "def molPath_handler(change):\n",
    "    global molPath\n",
    "    molPath = change.new\n",
    "    with output:\n",
    "        clear_output(wait=True)\n",
    "\n",
    "molPath = 'newFitData/DisulfideLinkagesExample/'\n",
    "# Output widget\n",
    "output = widgets.Output()\n",
    "molPath_text.observe(molPath_handler,names='value')\n",
    "display(molPath_text)"
   ]
  },
  {
   "attachments": {},
   "cell_type": "markdown",
   "id": "c256d785",
   "metadata": {},
   "source": [
    "2. Enter the name you gave to the specific run you'd like to analyse"
   ]
  },
  {
   "cell_type": "code",
   "execution_count": 3,
   "id": "d6fe46a1",
   "metadata": {
    "hide_input": true,
    "jupyter": {
     "source_hidden": true
    }
   },
   "outputs": [
    {
     "data": {
      "application/vnd.jupyter.widget-view+json": {
       "model_id": "9a6c40ccb301415bb9f5f44ce930e8e2",
       "version_major": 2,
       "version_minor": 0
      },
      "text/plain": [
       "Text(value='fitdata', description='Enter the name of the run you want to analyse:', layout=Layout(height='50px…"
      ]
     },
     "metadata": {},
     "output_type": "display_data"
    }
   ],
   "source": [
    "# <-- Run this cell to enter a name for this run\n",
    "runName_text = widgets.Text(\n",
    "    value='fitdata',\n",
    "    placeholder='Enter the name of the run you want to analyse:',\n",
    "    description='Enter the name of the run you want to analyse:',\n",
    "    disabled=False,\n",
    "    layout={'width': '450px','height':'50px'},   \n",
    ")\n",
    "\n",
    "runName_text.style = {'description_width': '300px','description_height': '25px'}\n",
    "\n",
    "def runName_handler(change):\n",
    "    global run_name\n",
    "    run_name = change.new\n",
    "    with output:\n",
    "        clear_output(wait=True)\n",
    "\n",
    "run_name = 'fitdata'\n",
    "# Output widget\n",
    "output = widgets.Output()\n",
    "runName_text.observe(runName_handler,names='value')\n",
    "display(runName_text)"
   ]
  },
  {
   "attachments": {},
   "cell_type": "markdown",
   "id": "dda5d781",
   "metadata": {},
   "source": [
    "3. Get the log files for this run"
   ]
  },
  {
   "cell_type": "code",
   "execution_count": 4,
   "id": "f26a6e77",
   "metadata": {
    "hide_input": true,
    "jupyter": {
     "source_hidden": true
    }
   },
   "outputs": [
    {
     "data": {
      "text/plain": [
       "['newFitData/DisulfideLinkagesExample/fitdata/fitLog1.dat']"
      ]
     },
     "execution_count": 4,
     "metadata": {},
     "output_type": "execute_result"
    }
   ],
   "source": [
    "logs = CDT.getLogs(molPath,run_name)\n",
    "logs"
   ]
  },
  {
   "attachments": {},
   "cell_type": "markdown",
   "id": "fb7ca6a2",
   "metadata": {},
   "source": [
    "4. Check the progress of your run by selecting a log file from the dropdown"
   ]
  },
  {
   "cell_type": "code",
   "execution_count": 5,
   "id": "c845ca77",
   "metadata": {
    "hide_input": true,
    "jupyter": {
     "source_hidden": true
    }
   },
   "outputs": [
    {
     "data": {
      "application/vnd.jupyter.widget-view+json": {
       "model_id": "4f4fac4d66714b16abb9b9dc5196f27e",
       "version_major": 2,
       "version_minor": 0
      },
      "text/plain": [
       "Dropdown(description='Select a logFile from the dropdown box ', layout=Layout(height='25px', width='550px'), o…"
      ]
     },
     "metadata": {},
     "output_type": "display_data"
    },
    {
     "data": {
      "application/vnd.jupyter.widget-view+json": {
       "model_id": "a39bc8451529420f8fd78f2889fbd7cb",
       "version_major": 2,
       "version_minor": 0
      },
      "text/plain": [
       "Output()"
      ]
     },
     "metadata": {},
     "output_type": "display_data"
    }
   ],
   "source": [
    "# <-- Run this cell to view the dropdown box\n",
    "logFile_Dropdown = widgets.Dropdown(\n",
    "    options = logs,\n",
    "    value = logs[0],\n",
    "    description = 'Select a logFile from the dropdown box ',\n",
    "    disabled=False,\n",
    "    layout={'width': '550px','height':'25px'}\n",
    ")\n",
    "\n",
    "# Function to display tail of DataFrame\n",
    "def display_tail(log_path):\n",
    "    df = CDT.LogFile2df(log_path)\n",
    "    display(df.tail())\n",
    "\n",
    "def dropdown_handler(change):\n",
    "    global log_path\n",
    "    log_path = change.new\n",
    "    with output:\n",
    "        clear_output(wait=True)  # Clear previous output\n",
    "        display_tail(log_path)\n",
    "        CDT.viewBestSAXSFit(molPath,log_path).show()\n",
    "        CDT.viewBestMolChange(molPath,log_path)\n",
    "\n",
    "# Apply CSS style to the dropdown box to make it more visible\n",
    "logFile_Dropdown.style = {'description_width': '250px','description_height': '25px'}\n",
    "\n",
    "# Output widget\n",
    "output = widgets.Output()\n",
    "\n",
    "# Display initial output\n",
    "log_path = logs[0]\n",
    "with output:\n",
    "    display_tail(log_path)\n",
    "    CDT.viewBestSAXSFit(molPath,log_path).show()\n",
    "    CDT.viewBestMolChange(molPath,log_path)\n",
    "\n",
    "logFile_Dropdown.observe(dropdown_handler,names='value')\n",
    "display(logFile_Dropdown)\n",
    "display(output)"
   ]
  },
  {
   "attachments": {},
   "cell_type": "markdown",
   "id": "fa377485",
   "metadata": {},
   "source": [
    "5. View the changes to your structure as we inlcuded more of the SAXs data."
   ]
  },
  {
   "cell_type": "code",
   "execution_count": 6,
   "id": "3d821007",
   "metadata": {
    "hide_input": true,
    "jupyter": {
     "source_hidden": true
    }
   },
   "outputs": [
    {
     "ename": "IndexError",
     "evalue": "index 0 is out of bounds for axis 0 with size 0",
     "output_type": "error",
     "traceback": [
      "\u001b[0;31m---------------------------------------------------------------------------\u001b[0m",
      "\u001b[0;31mIndexError\u001b[0m                                Traceback (most recent call last)",
      "Cell \u001b[0;32mIn[6], line 6\u001b[0m\n\u001b[1;32m      1\u001b[0m \u001b[39m# <-- Run this cell to view the q slider\u001b[39;00m\n\u001b[1;32m      3\u001b[0m q \u001b[39m=\u001b[39m CDT\u001b[39m.\u001b[39mgetqChanges(log_path)\n\u001b[1;32m      4\u001b[0m qrange_slider \u001b[39m=\u001b[39m widgets\u001b[39m.\u001b[39mSelectionSlider(\n\u001b[1;32m      5\u001b[0m     options\u001b[39m=\u001b[39mq,\n\u001b[0;32m----> 6\u001b[0m     value \u001b[39m=\u001b[39m q[\u001b[39m0\u001b[39;49m],\n\u001b[1;32m      7\u001b[0m     description\u001b[39m=\u001b[39m\u001b[39m'\u001b[39m\u001b[39mMax q:\u001b[39m\u001b[39m'\u001b[39m,\n\u001b[1;32m      8\u001b[0m     disabled\u001b[39m=\u001b[39m\u001b[39mFalse\u001b[39;00m,\n\u001b[1;32m      9\u001b[0m     continuous_update\u001b[39m=\u001b[39m\u001b[39mFalse\u001b[39;00m,\n\u001b[1;32m     10\u001b[0m     orientation\u001b[39m=\u001b[39m\u001b[39m'\u001b[39m\u001b[39mhorizontal\u001b[39m\u001b[39m'\u001b[39m,\n\u001b[1;32m     11\u001b[0m     readout\u001b[39m=\u001b[39m\u001b[39mTrue\u001b[39;00m,\n\u001b[1;32m     12\u001b[0m     layout\u001b[39m=\u001b[39m{\u001b[39m'\u001b[39m\u001b[39mwidth\u001b[39m\u001b[39m'\u001b[39m: \u001b[39m'\u001b[39m\u001b[39m400px\u001b[39m\u001b[39m'\u001b[39m, \u001b[39m'\u001b[39m\u001b[39mheight\u001b[39m\u001b[39m'\u001b[39m: \u001b[39m'\u001b[39m\u001b[39m100px\u001b[39m\u001b[39m'\u001b[39m}\n\u001b[1;32m     13\u001b[0m     )\n\u001b[1;32m     15\u001b[0m \u001b[39mdef\u001b[39;00m \u001b[39mslider_handler\u001b[39m(change):\n\u001b[1;32m     16\u001b[0m     \u001b[39mglobal\u001b[39;00m q_choice\n",
      "\u001b[0;31mIndexError\u001b[0m: index 0 is out of bounds for axis 0 with size 0"
     ]
    }
   ],
   "source": [
    "# <-- Run this cell to view the q slider\n",
    "\n",
    "q = CDT.getqChanges(log_path)\n",
    "qrange_slider = widgets.SelectionSlider(\n",
    "    options=q,\n",
    "    value = q[0],\n",
    "    description='Max q:',\n",
    "    disabled=False,\n",
    "    continuous_update=False,\n",
    "    orientation='horizontal',\n",
    "    readout=True,\n",
    "    layout={'width': '400px', 'height': '100px'}\n",
    "    )\n",
    "\n",
    "def slider_handler(change):\n",
    "    global q_choice\n",
    "    q_choice = change.new\n",
    "    with output:\n",
    "        clear_output(wait=False)\n",
    "        saxs_fl, mol_fl = CDT.getSAXsandMolFile(log_path,q_choice)\n",
    "        CDT.plotMolAndSAXS(MolPath,saxs_fl,mol_fl).show(\"notebook\")\n",
    "\n",
    "display(qrange_slider)\n",
    "saxs_fl, mol_fl = CDT.getSAXsandMolFile(log_path,q[0])\n",
    "# Output widget\n",
    "output = widgets.Output()\n",
    "with output:\n",
    "    CDT.plotMolAndSAXS(MolPath,saxs_fl,mol_fl).show(\"notebook\")   \n",
    "qrange_slider.observe(slider_handler,names='value')\n",
    "display(output)"
   ]
  },
  {
   "cell_type": "code",
   "execution_count": null,
   "id": "b8abedc6",
   "metadata": {
    "hide_input": true,
    "jupyter": {
     "source_hidden": true
    }
   },
   "outputs": [],
   "source": [
    "CDT.PlotBestOutputRMSD(MolPath,RunName)"
   ]
  },
  {
   "cell_type": "code",
   "execution_count": null,
   "id": "d79cd0bb",
   "metadata": {
    "hide_input": true,
    "jupyter": {
     "source_hidden": true
    }
   },
   "outputs": [],
   "source": [
    "CDT.cluster(CDT.BestOutputRMSD(MolPath,RunName))"
   ]
  },
  {
   "cell_type": "code",
   "execution_count": null,
   "id": "656984e9",
   "metadata": {
    "hide_input": true,
    "jupyter": {
     "source_hidden": true
    }
   },
   "outputs": [],
   "source": [
    "CDT.plotBestSKMTComp(MolPath,RunName)"
   ]
  },
  {
   "cell_type": "code",
   "execution_count": null,
   "id": "aac7ed3f",
   "metadata": {
    "hide_input": true,
    "jupyter": {
     "source_hidden": true
    }
   },
   "outputs": [],
   "source": [
    "CDT.overlayCluster(MolPath,RunName,0)"
   ]
  }
 ],
 "metadata": {
  "kernelspec": {
   "display_name": "Python 3 (ipykernel)",
   "language": "python",
   "name": "python3"
  },
  "language_info": {
   "codemirror_mode": {
    "name": "ipython",
    "version": 3
   },
   "file_extension": ".py",
   "mimetype": "text/x-python",
   "name": "python",
   "nbconvert_exporter": "python",
   "pygments_lexer": "ipython3",
   "version": "3.11.8"
  }
 },
 "nbformat": 4,
 "nbformat_minor": 5
}
