{
 "cells": [
  {
   "attachments": {},
   "cell_type": "markdown",
   "id": "057baa50",
   "metadata": {},
   "source": [
    "Load in Carbonara Data Tools"
   ]
  },
  {
   "cell_type": "code",
   "execution_count": 1,
   "id": "8f7e31cc",
   "metadata": {},
   "outputs": [],
   "source": [
    "import CarbonaraDataTools as CDT\n",
    "import ipywidgets as widgets\n",
    "from IPython.display import display, clear_output\n",
    "import plotly.io as pio\n",
    "pio.renderers.default='notebook'"
   ]
  },
  {
   "attachments": {},
   "cell_type": "markdown",
   "id": "67a31a64",
   "metadata": {},
   "source": [
    "* Enter the path to your protein (it should be inside newFitData)\n",
    "* Enter the name of the run you're interested in"
   ]
  },
  {
   "cell_type": "code",
   "execution_count": 2,
   "id": "783bed48",
   "metadata": {},
   "outputs": [],
   "source": [
    "MolPath = \"newFitData/LysozymeBin2/\"\n",
    "RunName = \"long/\""
   ]
  },
  {
   "attachments": {},
   "cell_type": "markdown",
   "id": "dda5d781",
   "metadata": {},
   "source": [
    "Run the below cell to view the logFiles from your run"
   ]
  },
  {
   "cell_type": "code",
   "execution_count": 3,
   "id": "f26a6e77",
   "metadata": {},
   "outputs": [
    {
     "data": {
      "text/plain": [
       "['newFitData/LysozymeBin2/long/fitLog1.dat',\n",
       " 'newFitData/LysozymeBin2/long/fitLog2.dat',\n",
       " 'newFitData/LysozymeBin2/long/fitLog3.dat',\n",
       " 'newFitData/LysozymeBin2/long/fitLog4.dat',\n",
       " 'newFitData/LysozymeBin2/long/fitLog5.dat',\n",
       " 'newFitData/LysozymeBin2/long/fitLog6.dat']"
      ]
     },
     "execution_count": 3,
     "metadata": {},
     "output_type": "execute_result"
    }
   ],
   "source": [
    "logs = CDT.getLogs(MolPath,RunName)\n",
    "logs"
   ]
  },
  {
   "attachments": {},
   "cell_type": "markdown",
   "id": "fb7ca6a2",
   "metadata": {},
   "source": [
    "Check the progress of your run with the below"
   ]
  },
  {
   "cell_type": "code",
   "execution_count": 4,
   "id": "c845ca77",
   "metadata": {},
   "outputs": [
    {
     "data": {
      "application/vnd.jupyter.widget-view+json": {
       "model_id": "645fbd07d2c64140938e957a12beff86",
       "version_major": 2,
       "version_minor": 0
      },
      "text/plain": [
       "Dropdown(description='Select a logFile from the dropdown box ', layout=Layout(height='25px', width='550px'), o…"
      ]
     },
     "metadata": {},
     "output_type": "display_data"
    },
    {
     "data": {
      "application/vnd.jupyter.widget-view+json": {
       "model_id": "4efe1dc32e49439fa518e919b0c71e07",
       "version_major": 2,
       "version_minor": 0
      },
      "text/plain": [
       "Output()"
      ]
     },
     "metadata": {},
     "output_type": "display_data"
    }
   ],
   "source": [
    "'<--- Press the play button here to view the dropdown box'\n",
    "\n",
    "logFile_Dropdown = widgets.Dropdown(\n",
    "    options = logs,\n",
    "    value = logs[0],\n",
    "    description = 'Select a logFile from the dropdown box ',\n",
    "    disabled=False,\n",
    "    layout={'width': '550px','height':'25px'}\n",
    ")\n",
    "\n",
    "# Function to display tail of DataFrame\n",
    "def display_tail(log_path):\n",
    "    df = CDT.LogFile2df(log_path)\n",
    "    display(df.tail())\n",
    "\n",
    "def dropdown_handler(change):\n",
    "    global log_path\n",
    "    log_path = change.new\n",
    "    with output:\n",
    "        clear_output(wait=True)  # Clear previous output\n",
    "        display_tail(log_path)\n",
    "        CDT.viewBestSAXSFit(MolPath,log_path).show()\n",
    "        CDT.viewBestMolChange(MolPath,log_path)\n",
    "\n",
    "# Apply CSS style to the dropdown box to make it more visible\n",
    "logFile_Dropdown.style = {'description_width': '250px','description_height': '25px'}\n",
    "\n",
    "# Output widget\n",
    "output = widgets.Output()\n",
    "\n",
    "# Display initial output\n",
    "log_path = logs[0]\n",
    "with output:\n",
    "    display_tail(log_path)\n",
    "    CDT.viewBestSAXSFit(MolPath,log_path).show()\n",
    "    CDT.viewBestMolChange(MolPath,log_path)\n",
    "\n",
    "logFile_Dropdown.observe(dropdown_handler,names='value')\n",
    "display(logFile_Dropdown)\n",
    "display(output)"
   ]
  },
  {
   "attachments": {},
   "cell_type": "markdown",
   "id": "fa377485",
   "metadata": {},
   "source": [
    "* Run the cell below to view the changes to your structure as we consider more of the SAXs data.\n",
    "* Change qMax with the slider"
   ]
  },
  {
   "cell_type": "code",
   "execution_count": null,
   "id": "3d821007",
   "metadata": {},
   "outputs": [],
   "source": [
    "'<--- press the play button here to view the slider'\n",
    "q = CDT.getqChanges(log_path)\n",
    "qrange_slider = widgets.SelectionSlider(\n",
    "    options=q,\n",
    "    value = q[0],\n",
    "    description='Max q:',\n",
    "    disabled=False,\n",
    "    continuous_update=False,\n",
    "    orientation='horizontal',\n",
    "    readout=True,\n",
    "    layout={'width': '400px', 'height': '100px'}\n",
    "    )\n",
    "\n",
    "def slider_handler(change):\n",
    "    global q_choice\n",
    "    q_choice = change.new\n",
    "    with output:\n",
    "        clear_output(wait=False)\n",
    "        saxs_fl, mol_fl = CDT.getSAXsandMolFile(log_path,q_choice)\n",
    "        CDT.plotMolAndSAXS(MolPath,saxs_fl,mol_fl).show(\"notebook\")\n",
    "\n",
    "display(qrange_slider)\n",
    "saxs_fl, mol_fl = CDT.getSAXsandMolFile(log_path,q[0])\n",
    "# Output widget\n",
    "output = widgets.Output()\n",
    "with output:\n",
    "    CDT.plotMolAndSAXS(MolPath,saxs_fl,mol_fl).show(\"notebook\")   \n",
    "qrange_slider.observe(slider_handler,names='value')\n",
    "display(output)"
   ]
  },
  {
   "cell_type": "code",
   "execution_count": null,
   "id": "b8abedc6",
   "metadata": {},
   "outputs": [],
   "source": [
    "CDT.PlotBestOutputRMSD(MolPath,RunName)"
   ]
  },
  {
   "cell_type": "code",
   "execution_count": null,
   "id": "d79cd0bb",
   "metadata": {},
   "outputs": [],
   "source": [
    "CDT.cluster(CDT.BestOutputRMSD(MolPath,RunName))"
   ]
  },
  {
   "cell_type": "code",
   "execution_count": null,
   "id": "656984e9",
   "metadata": {},
   "outputs": [],
   "source": [
    "CDT.plotBestSKMTComp(MolPath,RunName)"
   ]
  },
  {
   "cell_type": "code",
   "execution_count": null,
   "id": "aac7ed3f",
   "metadata": {},
   "outputs": [],
   "source": [
    "CDT.overlayCluster(MolPath,RunName,0)"
   ]
  }
 ],
 "metadata": {
  "kernelspec": {
   "display_name": "Python 3 (ipykernel)",
   "language": "python",
   "name": "python3"
  },
  "language_info": {
   "codemirror_mode": {
    "name": "ipython",
    "version": 3
   },
   "file_extension": ".py",
   "mimetype": "text/x-python",
   "name": "python",
   "nbconvert_exporter": "python",
   "pygments_lexer": "ipython3",
   "version": "3.11.8"
  }
 },
 "nbformat": 4,
 "nbformat_minor": 5
}
