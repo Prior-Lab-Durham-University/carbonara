{
 "cells": [
  {
   "attachments": {},
   "cell_type": "markdown",
   "id": "057baa50",
   "metadata": {},
   "source": [
    "Import Carbonara's Data Tools by running the below cell (_ctrl+enter_)"
   ]
  },
  {
   "cell_type": "code",
   "execution_count": null,
   "id": "8f7e31cc",
   "metadata": {
    "hide_input": true,
    "jupyter": {
     "source_hidden": true
    }
   },
   "outputs": [],
   "source": [
    "import CarbonaraDataTools as CDT\n",
    "import ipywidgets as widgets\n",
    "from IPython.display import display, clear_output\n",
    "import plotly.io as pio\n",
    "pio.renderers.default='notebook'\n",
    "from glob import glob\n",
    "import traitlets\n",
    "from tkinter import Tk, filedialog"
   ]
  },
  {
   "attachments": {},
   "cell_type": "markdown",
   "id": "67a31a64",
   "metadata": {},
   "source": [
    "1. Enter the path to your protein (it should be inside newFitData)"
   ]
  },
  {
   "cell_type": "code",
   "execution_count": null,
   "id": "0f175c10",
   "metadata": {
    "hide_input": true,
    "jupyter": {
     "source_hidden": true
    }
   },
   "outputs": [],
   "source": [
    "class SelectRunDirButton(widgets.Button):\n",
    "    \"\"\"A file widget that leverages tkinter.filedialog.\"\"\"\n",
    "\n",
    "    def __init__(self):\n",
    "        super(SelectRunDirButton, self).__init__()\n",
    "        # Add the selected_files trait\n",
    "        self.add_traits(files=traitlets.traitlets.List())\n",
    "        # Create the button.\n",
    "        self.description = \"Select Output Dir\"\n",
    "        self.icon = \"square-o\"\n",
    "        self.style.button_color = \"orange\"\n",
    "        # Set on click behavior.\n",
    "        self.on_click(self.select_files)\n",
    "\n",
    "    @staticmethod\n",
    "    def select_files(b):\n",
    "        \"\"\"Generate instance of tkinter.filedialog.\n",
    "\n",
    "        Parameters\n",
    "        ----------\n",
    "        b : obj:\n",
    "            An instance of ipywidgets.widgets.Button \n",
    "        \"\"\"\n",
    "        # Create Tk root\n",
    "        root = Tk()\n",
    "        # Hide the main window\n",
    "        root.withdraw()\n",
    "        # Raise the root to the top of all windows.\n",
    "        root.call('wm', 'attributes', '.', '-topmost', True)\n",
    "        # List of selected fileswill be set to b.value\n",
    "        b.files = filedialog.askdirectory()\n",
    "\n",
    "        b.description = \"Files Selected\"\n",
    "        b.icon = \"check-square-o\"\n",
    "        b.style.button_color = \"lightgreen\"\n",
    "        \n",
    "RunDirButton = SelectRunDirButton()\n",
    "RunDirButton"
   ]
  },
  {
   "attachments": {},
   "cell_type": "markdown",
   "id": "fb7ca6a2",
   "metadata": {},
   "source": [
    "2. Check the progress of your run by selecting a log file from the dropdown"
   ]
  },
  {
   "cell_type": "code",
   "execution_count": null,
   "id": "c845ca77",
   "metadata": {
    "hide_input": true,
    "jupyter": {
     "source_hidden": true
    }
   },
   "outputs": [],
   "source": [
    "# <-- Run this cell to view the dropdown box\n",
    "working_path = RunDirButton.files[0]\n",
    "logs = CDT.getLogs(working_path)\n",
    "molPath = '/'.join(working_path.split('/')[:-1])+'/'\n",
    "\n",
    "logFile_Dropdown = widgets.Dropdown(\n",
    "    options = logs,\n",
    "    value = logs[0],\n",
    "    description = 'Select a logFile from the dropdown box ',\n",
    "    disabled=False,\n",
    "    layout={'width': '550px','height':'25px'}\n",
    ")\n",
    "\n",
    "# Function to display tail of DataFrame\n",
    "def display_tail(log_path):\n",
    "    df = CDT.LogFile2df(log_path)\n",
    "    display(df.tail())\n",
    "\n",
    "def dropdown_handler(change):\n",
    "    global log_path\n",
    "    log_path = change.new\n",
    "    with output:\n",
    "        clear_output(wait=True)  # Clear previous output\n",
    "        display_tail(log_path)\n",
    "        CDT.viewBestSAXSFit(molPath,log_path).show(\"notebook\")\n",
    "\n",
    "# Apply CSS style to the dropdown box to make it more visible\n",
    "logFile_Dropdown.style = {'description_width': '250px','description_height': '25px'}\n",
    "\n",
    "# Output widget\n",
    "output = widgets.Output()\n",
    "def render_initial(change=None):\n",
    "        with output:\n",
    "            clear_output(wait=True)\n",
    "            display_tail(log_path)\n",
    "            CDT.viewBestSAXSFit(molPath,log_path).show(\"notebook\")\n",
    "# Display initial output\n",
    "log_path = logs[0]\n",
    "logFile_Dropdown.observe(dropdown_handler,names='value')\n",
    "display(logFile_Dropdown)\n",
    "display(output)\n",
    "render_initial()"
   ]
  },
  {
   "attachments": {},
   "cell_type": "markdown",
   "id": "9c3a7b97",
   "metadata": {},
   "source": [
    "3. Look at the current best fit conformation"
   ]
  },
  {
   "cell_type": "code",
   "execution_count": null,
   "id": "69152146",
   "metadata": {
    "hide_input": true
   },
   "outputs": [],
   "source": [
    "# <-- Run this cell to plot the current best fit conformation\n",
    "\n",
    "CDT.plot_best_mols(molPath,log_path).show(\"notebook\")"
   ]
  },
  {
   "attachments": {},
   "cell_type": "markdown",
   "id": "763e6d4a",
   "metadata": {},
   "source": [
    "4. Look at the changes from start to best"
   ]
  },
  {
   "cell_type": "code",
   "execution_count": null,
   "id": "e524da24",
   "metadata": {
    "hide_input": true
   },
   "outputs": [],
   "source": [
    "CDT.viewBestMolChange(molPath,log_path)"
   ]
  },
  {
   "attachments": {},
   "cell_type": "markdown",
   "id": "6812de44",
   "metadata": {},
   "source": [
    "## (Warning: Not yet fully functional) "
   ]
  },
  {
   "cell_type": "code",
   "execution_count": null,
   "id": "fe0cb1d6",
   "metadata": {},
   "outputs": [],
   "source": [
    "CDT.PlotBestOutputRMSD(working_path)"
   ]
  },
  {
   "attachments": {},
   "cell_type": "markdown",
   "id": "fa377485",
   "metadata": {},
   "source": [
    "5. View the changes to your structure as we included more of the SAXs data."
   ]
  },
  {
   "cell_type": "code",
   "execution_count": null,
   "id": "3d821007",
   "metadata": {
    "hide_input": true,
    "jupyter": {
     "source_hidden": true
    }
   },
   "outputs": [],
   "source": [
    "# <-- Run this cell to view the q slider\n",
    "\n",
    "q = CDT.getqChanges(log_path)\n",
    "qrange_slider = widgets.SelectionSlider(\n",
    "    options=q,\n",
    "    value = q[0],\n",
    "    description='Max q:',\n",
    "    disabled=False,\n",
    "    continuous_update=False,\n",
    "    orientation='horizontal',\n",
    "    readout=True,\n",
    "    layout={'width': '400px', 'height': '100px'}\n",
    "    )\n",
    "\n",
    "def slider_handler(change):\n",
    "    global q_choice\n",
    "    q_choice = change.new\n",
    "    with output:\n",
    "        clear_output(wait=False)\n",
    "        saxs_fl, mol_fl = CDT.getSAXsandMolFile(log_path,q_choice)\n",
    "        CDT.plotMolAndSAXS(molPath,saxs_fl,mol_fl).show(\"notebook\")\n",
    "\n",
    "def render_initial(change=None):\n",
    "    with output:\n",
    "        clear_output(wait=True)\n",
    "        CDT.plotMolAndSAXS(molPath,saxs_fl,mol_fl).show(\"notebook\")\n",
    "        \n",
    "        \n",
    "display(qrange_slider)\n",
    "saxs_fl, mol_fl = CDT.getSAXsandMolFile(log_path,q[0])\n",
    "# Output widget\n",
    "output = widgets.Output()\n",
    "qrange_slider.observe(slider_handler,names='value')\n",
    "display(output)\n",
    "render_initial()"
   ]
  }
 ],
 "metadata": {
  "kernelspec": {
   "display_name": "Python 3 (ipykernel)",
   "language": "python",
   "name": "python3"
  },
  "language_info": {
   "codemirror_mode": {
    "name": "ipython",
    "version": 3
   },
   "file_extension": ".py",
   "mimetype": "text/x-python",
   "name": "python",
   "nbconvert_exporter": "python",
   "pygments_lexer": "ipython3",
   "version": "3.11.9"
  }
 },
 "nbformat": 4,
 "nbformat_minor": 5
}
