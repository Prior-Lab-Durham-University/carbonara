{
 "cells": [
  {
   "attachments": {},
   "cell_type": "markdown",
   "id": "057baa50",
   "metadata": {},
   "source": [
    "Import Carbonara's Data Tools by running the below cell (_ctrl+enter_)"
   ]
  },
  {
   "cell_type": "code",
   "execution_count": null,
   "id": "8f7e31cc",
   "metadata": {
    "hide_input": true,
    "jupyter": {
     "source_hidden": true
    }
   },
   "outputs": [],
   "source": [
    "import CarbonaraDataTools as CDT\n",
    "import ipywidgets as widgets\n",
    "from IPython.display import display, clear_output\n",
    "import plotly.io as pio\n",
    "pio.renderers.default='notebook'"
   ]
  },
  {
   "attachments": {},
   "cell_type": "markdown",
   "id": "67a31a64",
   "metadata": {},
   "source": [
    "1. Enter the path to your protein (it should be inside newFitData)"
   ]
  },
  {
   "cell_type": "code",
   "execution_count": null,
   "id": "0f175c10",
   "metadata": {
    "hide_input": true,
    "jupyter": {
     "source_hidden": true
    }
   },
   "outputs": [],
   "source": [
    "# <-- Run this cell to enter a name for your prediction\n",
    "molPath_text = widgets.Text(\n",
    "    value='newFitData/CalmodulinMix/',\n",
    "    placeholder='Enter the path to your protein:',\n",
    "    description='Enter the path to your protein:',\n",
    "    disabled=False,\n",
    "    layout={'width': '550px','height':'50px'},   \n",
    ")\n",
    "\n",
    "molPath_text.style = {'description_width': '200px','description_height': '25px'}\n",
    "\n",
    "def molPath_handler(change):\n",
    "    global molPath\n",
    "    molPath = change.new\n",
    "    with output:\n",
    "        clear_output(wait=True)\n",
    "\n",
    "molPath = 'newFitData/CalmodulinMix/'\n",
    "# Output widget\n",
    "output = widgets.Output()\n",
    "molPath_text.observe(molPath_handler,names='value')\n",
    "display(molPath_text)"
   ]
  },
  {
   "attachments": {},
   "cell_type": "markdown",
   "id": "c256d785",
   "metadata": {},
   "source": [
    "2. Enter the name you gave to the specific run you'd like to analyse"
   ]
  },
  {
   "cell_type": "code",
   "execution_count": null,
   "id": "d6fe46a1",
   "metadata": {
    "hide_input": true,
    "jupyter": {
     "source_hidden": true
    }
   },
   "outputs": [],
   "source": [
    "# <-- Run this cell to enter a name for this run\n",
    "runName_text = widgets.Text(\n",
    "    value='fitdata',\n",
    "    placeholder='Enter the name of the run you want to analyse:',\n",
    "    description='Enter the name of the run you want to analyse:',\n",
    "    disabled=False,\n",
    "    layout={'width': '450px','height':'50px'},   \n",
    ")\n",
    "\n",
    "runName_text.style = {'description_width': '300px','description_height': '25px'}\n",
    "\n",
    "def runName_handler(change):\n",
    "    global run_name\n",
    "    run_name = change.new\n",
    "    with output:\n",
    "        clear_output(wait=True)\n",
    "\n",
    "run_name = 'fitdata'\n",
    "# Output widget\n",
    "output = widgets.Output()\n",
    "runName_text.observe(runName_handler,names='value')\n",
    "display(runName_text)"
   ]
  },
  {
   "attachments": {},
   "cell_type": "markdown",
   "id": "dda5d781",
   "metadata": {},
   "source": [
    "3. Get the log files for this run"
   ]
  },
  {
   "cell_type": "code",
   "execution_count": null,
   "id": "f26a6e77",
   "metadata": {
    "hide_input": true,
    "jupyter": {
     "source_hidden": true
    }
   },
   "outputs": [],
   "source": [
    "logs = CDT.getLogs(molPath,run_name)\n",
    "logs"
   ]
  },
  {
   "attachments": {},
   "cell_type": "markdown",
   "id": "fb7ca6a2",
   "metadata": {},
   "source": [
    "4. Check the progress of your run by selecting a log file from the dropdown"
   ]
  },
  {
   "cell_type": "code",
   "execution_count": null,
   "id": "c845ca77",
   "metadata": {
    "hide_input": true,
    "jupyter": {
     "source_hidden": true
    }
   },
   "outputs": [],
   "source": [
    "# <-- Run this cell to view the dropdown box\n",
    "logFile_Dropdown = widgets.Dropdown(\n",
    "    options = logs,\n",
    "    value = logs[0],\n",
    "    description = 'Select a logFile from the dropdown box ',\n",
    "    disabled=False,\n",
    "    layout={'width': '550px','height':'25px'}\n",
    ")\n",
    "\n",
    "# Function to display tail of DataFrame\n",
    "def display_tail(log_path):\n",
    "    df = CDT.LogFile2df(log_path)\n",
    "    display(df.tail())\n",
    "\n",
    "def dropdown_handler(change):\n",
    "    global log_path\n",
    "    log_path = change.new\n",
    "    with output:\n",
    "        clear_output(wait=True)  # Clear previous output\n",
    "        display_tail(log_path)\n",
    "        CDT.viewBestSAXSFit(molPath,log_path).show()\n",
    "        CDT.viewBestMolChange(molPath,log_path)\n",
    "\n",
    "# Apply CSS style to the dropdown box to make it more visible\n",
    "logFile_Dropdown.style = {'description_width': '250px','description_height': '25px'}\n",
    "\n",
    "# Output widget\n",
    "output = widgets.Output()\n",
    "\n",
    "# Display initial output\n",
    "log_path = logs[0]\n",
    "with output:\n",
    "    display_tail(log_path)\n",
    "    CDT.viewBestSAXSFit(molPath,log_path).show()\n",
    "    CDT.viewBestMolChange(molPath,log_path)\n",
    "\n",
    "logFile_Dropdown.observe(dropdown_handler,names='value')\n",
    "display(logFile_Dropdown)\n",
    "display(output)"
   ]
  },
  {
   "attachments": {},
   "cell_type": "markdown",
   "id": "fa377485",
   "metadata": {},
   "source": [
    "5. View the changes to your structure as we included more of the SAXs data."
   ]
  },
  {
   "cell_type": "code",
   "execution_count": null,
   "id": "3d821007",
   "metadata": {
    "hide_input": true,
    "jupyter": {
     "source_hidden": true
    }
   },
   "outputs": [],
   "source": [
    "# <-- Run this cell to view the q slider\n",
    "\n",
    "q = CDT.getqChanges(log_path)\n",
    "qrange_slider = widgets.SelectionSlider(\n",
    "    options=q,\n",
    "    value = q[0],\n",
    "    description='Max q:',\n",
    "    disabled=False,\n",
    "    continuous_update=False,\n",
    "    orientation='horizontal',\n",
    "    readout=True,\n",
    "    layout={'width': '400px', 'height': '100px'}\n",
    "    )\n",
    "\n",
    "def slider_handler(change):\n",
    "    global q_choice\n",
    "    q_choice = change.new\n",
    "    with output:\n",
    "        clear_output(wait=False)\n",
    "        saxs_fl, mol_fl = CDT.getSAXsandMolFile(log_path,q_choice)\n",
    "        CDT.plotMolAndSAXS(MolPath,saxs_fl,mol_fl).show(\"notebook\")\n",
    "\n",
    "display(qrange_slider)\n",
    "saxs_fl, mol_fl = CDT.getSAXsandMolFile(log_path,q[0])\n",
    "# Output widget\n",
    "output = widgets.Output()\n",
    "with output:\n",
    "    CDT.plotMolAndSAXS(MolPath,saxs_fl,mol_fl).show(\"notebook\")   \n",
    "qrange_slider.observe(slider_handler,names='value')\n",
    "display(output)"
   ]
  },
  {
   "cell_type": "code",
   "execution_count": null,
   "id": "b8abedc6",
   "metadata": {
    "hide_input": true,
    "jupyter": {
     "source_hidden": true
    }
   },
   "outputs": [],
   "source": [
    "CDT.PlotBestOutputRMSD(MolPath,RunName)"
   ]
  },
  {
   "cell_type": "code",
   "execution_count": null,
   "id": "d79cd0bb",
   "metadata": {
    "hide_input": true,
    "jupyter": {
     "source_hidden": true
    }
   },
   "outputs": [],
   "source": [
    "CDT.cluster(CDT.BestOutputRMSD(MolPath,RunName))"
   ]
  },
  {
   "cell_type": "code",
   "execution_count": null,
   "id": "656984e9",
   "metadata": {
    "hide_input": true,
    "jupyter": {
     "source_hidden": true
    }
   },
   "outputs": [],
   "source": [
    "CDT.plotBestSKMTComp(MolPath,RunName)"
   ]
  },
  {
   "cell_type": "code",
   "execution_count": null,
   "id": "aac7ed3f",
   "metadata": {
    "hide_input": true,
    "jupyter": {
     "source_hidden": true
    }
   },
   "outputs": [],
   "source": [
    "CDT.overlayCluster(MolPath,RunName,0)"
   ]
  }
 ],
 "metadata": {
  "kernelspec": {
   "display_name": "Python 3 (ipykernel)",
   "language": "python",
   "name": "python3"
  },
  "language_info": {
   "codemirror_mode": {
    "name": "ipython",
    "version": 3
   },
   "file_extension": ".py",
   "mimetype": "text/x-python",
   "name": "python",
   "nbconvert_exporter": "python",
   "pygments_lexer": "ipython3",
   "version": "3.11.8"
  }
 },
 "nbformat": 4,
 "nbformat_minor": 5
}
