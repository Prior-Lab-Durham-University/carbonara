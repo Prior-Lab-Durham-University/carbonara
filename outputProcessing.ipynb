{
 "cells": [
  {
   "attachments": {},
   "cell_type": "markdown",
   "id": "057baa50",
   "metadata": {},
   "source": [
    "Import Carbonara's Data Tools by running the below cell (_ctrl+enter_)"
   ]
  },
  {
   "cell_type": "code",
   "execution_count": 23,
   "id": "8f7e31cc",
   "metadata": {
    "hide_input": true,
    "jupyter": {
     "source_hidden": true
    }
   },
   "outputs": [],
   "source": [
    "import CarbonaraDataTools as CDT\n",
    "import ipywidgets as widgets\n",
    "from IPython.display import display, clear_output\n",
    "import plotly.io as pio\n",
    "pio.renderers.default='notebook'\n",
    "from glob import glob"
   ]
  },
  {
   "attachments": {},
   "cell_type": "markdown",
   "id": "67a31a64",
   "metadata": {},
   "source": [
    "1. Enter the path to your protein (it should be inside newFitData)"
   ]
  },
  {
   "cell_type": "code",
   "execution_count": 103,
   "id": "0f175c10",
   "metadata": {
    "hide_input": true,
    "jupyter": {
     "source_hidden": true
    }
   },
   "outputs": [
    {
     "data": {
      "application/vnd.jupyter.widget-view+json": {
       "model_id": "f069577aec894d26ba73c639a8fb8d2b",
       "version_major": 2,
       "version_minor": 0
      },
      "text/plain": [
       "Text(value='newFitData/CalmodulinMix/', description='Enter the path to your protein:', layout=Layout(height='5…"
      ]
     },
     "metadata": {},
     "output_type": "display_data"
    }
   ],
   "source": [
    "# <-- Run this cell to enter a name for your prediction\n",
    "molPath_text = widgets.Text(\n",
    "    value='newFitData/CalmodulinMix/',\n",
    "    placeholder='Enter the path to your protein:',\n",
    "    description='Enter the path to your protein:',\n",
    "    disabled=False,\n",
    "    layout={'width': '550px','height':'50px'},   \n",
    ")\n",
    "\n",
    "molPath_text.style = {'description_width': '200px','description_height': '25px'}\n",
    "\n",
    "def molPath_handler(change):\n",
    "    global molPath\n",
    "    molPath = change.new\n",
    "    with output:\n",
    "        clear_output(wait=True)\n",
    "\n",
    "molPath = 'newFitData/CalmodulinMix/'\n",
    "# Output widget\n",
    "output = widgets.Output()\n",
    "molPath_text.observe(molPath_handler,names='value')\n",
    "display(molPath_text)"
   ]
  },
  {
   "attachments": {},
   "cell_type": "markdown",
   "id": "c256d785",
   "metadata": {},
   "source": [
    "2. Enter the name you gave to the specific run you'd like to analyse"
   ]
  },
  {
   "cell_type": "code",
   "execution_count": 104,
   "id": "d6fe46a1",
   "metadata": {
    "hide_input": true,
    "jupyter": {
     "source_hidden": true
    }
   },
   "outputs": [
    {
     "data": {
      "application/vnd.jupyter.widget-view+json": {
       "model_id": "8153c121b6154c13bab0d1ed5c687abe",
       "version_major": 2,
       "version_minor": 0
      },
      "text/plain": [
       "Text(value='fitdata', description='Enter the name of the run you want to analyse:', layout=Layout(height='50px…"
      ]
     },
     "metadata": {},
     "output_type": "display_data"
    }
   ],
   "source": [
    "# <-- Run this cell to enter a name for this run\n",
    "runName_text = widgets.Text(\n",
    "    value='fitdata',\n",
    "    placeholder='Enter the name of the run you want to analyse:',\n",
    "    description='Enter the name of the run you want to analyse:',\n",
    "    disabled=False,\n",
    "    layout={'width': '450px','height':'50px'},   \n",
    ")\n",
    "\n",
    "runName_text.style = {'description_width': '300px','description_height': '25px'}\n",
    "\n",
    "def runName_handler(change):\n",
    "    global run_name\n",
    "    run_name = change.new\n",
    "    with output:\n",
    "        clear_output(wait=True)\n",
    "\n",
    "run_name = 'fitdata'\n",
    "# Output widget\n",
    "output = widgets.Output()\n",
    "runName_text.observe(runName_handler,names='value')\n",
    "display(runName_text)"
   ]
  },
  {
   "attachments": {},
   "cell_type": "markdown",
   "id": "fb7ca6a2",
   "metadata": {},
   "source": [
    "3. Check the progress of your run by selecting a log file from the dropdown"
   ]
  },
  {
   "cell_type": "code",
   "execution_count": 105,
   "id": "c845ca77",
   "metadata": {
    "hide_input": true,
    "jupyter": {
     "source_hidden": true
    }
   },
   "outputs": [
    {
     "data": {
      "application/vnd.jupyter.widget-view+json": {
       "model_id": "b7671f6eb0814ab7aa30cac931ef4f27",
       "version_major": 2,
       "version_minor": 0
      },
      "text/plain": [
       "Dropdown(description='Select a logFile from the dropdown box ', layout=Layout(height='25px', width='550px'), o…"
      ]
     },
     "metadata": {},
     "output_type": "display_data"
    },
    {
     "data": {
      "application/vnd.jupyter.widget-view+json": {
       "model_id": "e52b553ea49a439f89c58ffd23e9c8bd",
       "version_major": 2,
       "version_minor": 0
      },
      "text/plain": [
       "Output()"
      ]
     },
     "metadata": {},
     "output_type": "display_data"
    }
   ],
   "source": [
    "# <-- Run this cell to view the dropdown box\n",
    "logs = CDT.getLogs(molPath,run_name)\n",
    "\n",
    "\n",
    "logFile_Dropdown = widgets.Dropdown(\n",
    "    options = logs,\n",
    "    value = logs[0],\n",
    "    description = 'Select a logFile from the dropdown box ',\n",
    "    disabled=False,\n",
    "    layout={'width': '550px','height':'25px'}\n",
    ")\n",
    "\n",
    "# Function to display tail of DataFrame\n",
    "def display_tail(log_path):\n",
    "    df = CDT.LogFile2df(log_path)\n",
    "    display(df.tail())\n",
    "\n",
    "def dropdown_handler(change):\n",
    "    global log_path\n",
    "    log_path = change.new\n",
    "    with output:\n",
    "        clear_output(wait=True)  # Clear previous output\n",
    "        display_tail(log_path)\n",
    "        CDT.viewBestSAXSFit(molPath,log_path).show()\n",
    "\n",
    "# Apply CSS style to the dropdown box to make it more visible\n",
    "logFile_Dropdown.style = {'description_width': '250px','description_height': '25px'}\n",
    "\n",
    "# Output widget\n",
    "output = widgets.Output()\n",
    "\n",
    "# Display initial output\n",
    "log_path = logs[0]\n",
    "with output:\n",
    "    display_tail(log_path)\n",
    "    CDT.viewBestSAXSFit(molPath,log_path).show()\n",
    "\n",
    "logFile_Dropdown.observe(dropdown_handler,names='value')\n",
    "display(logFile_Dropdown)\n",
    "display(output)"
   ]
  },
  {
   "cell_type": "code",
   "execution_count": 106,
   "id": "e6c097a7",
   "metadata": {},
   "outputs": [],
   "source": [
    "from plotly.subplots import make_subplots\n",
    "import plotly.graph_objects as go#\n",
    "import numpy as np\n",
    "\n",
    "def load_any_coords(mol_fl_path):\n",
    "    flat_coords = np.genfromtxt(mol_fl_path)\n",
    "    flat_coords = flat_coords[~np.isnan(flat_coords).any(axis=1)]\n",
    "    breaking_indices = CDT.missing_ca_check(flat_coords)\n",
    "    if len(breaking_indices) > 0:\n",
    "        chains = [i+1 for i in range(len(breaking_indices)+1)]\n",
    "        coords_chains = CDT.break_into_chains(flat_coords,[0],breaking_indices)[0]\n",
    "        return coords_chains\n",
    "    else:\n",
    "        return [flat_coords]\n",
    "\n",
    "def get_best_mols(log_path):\n",
    "    df = CDT.LogFile2df(log_path)\n",
    "    best_mol_path = df['MoleculePath'].tail(1).values[0]\n",
    "    molpaths = glob('_'.join(best_mol_path.split('_')[:2])+'_*_'+'_'.join(best_mol_path.split('_')[3:]))\n",
    "    return molpaths\n",
    "\n",
    "def plot_best_mols(log_path):\n",
    "    molpaths = get_best_mols(log_path)\n",
    "    no_mols = len(molpaths)\n",
    "    fig = make_subplots(rows=1,\n",
    "                        cols=no_mols,\n",
    "                        column_widths=[round(1/no_mols, 1) for i in range(no_mols)],\n",
    "                        horizontal_spacing=0,\n",
    "                        specs=[[{'type': 'scene'} for _ in range(no_mols)]])\n",
    "    for i in range(no_mols):\n",
    "        coords_tensor = load_any_coords(molpaths[i])\n",
    "        for coords in coords_tensor:\n",
    "            fig.add_trace(go.Scatter3d( x=coords[:,0], \n",
    "                                        y=coords[:,1], \n",
    "                                        z=coords[:,2],\n",
    "                                        marker=dict(\n",
    "                                            size=1,\n",
    "                                        ),\n",
    "                                        line=dict(\n",
    "                                            width=10\n",
    "                                        )\n",
    "                                    ), \n",
    "                                    row=1,\n",
    "                                    col=i+1)\n",
    "    for i in range(no_mols):\n",
    "        scene_name = f'scene{i+1}'\n",
    "        fig.update_layout(**{\n",
    "            scene_name: dict(\n",
    "                xaxis_title='',\n",
    "                yaxis_title='',\n",
    "                zaxis_title='',\n",
    "                aspectratio=dict(x=1, y=1, z=1),\n",
    "                aspectmode='manual',\n",
    "                xaxis=dict(\n",
    "                    visible=False,\n",
    "                    showbackground=False,\n",
    "                    showticklabels=False,\n",
    "                ),\n",
    "                yaxis=dict(\n",
    "                    visible=False,\n",
    "                    showbackground=False,\n",
    "                    showticklabels=False),\n",
    "                zaxis=dict(\n",
    "                    visible=False,\n",
    "                    showbackground=False,\n",
    "                    showticklabels=False)\n",
    "            )\n",
    "        })\n",
    "    annotations = []\n",
    "    for i in range(no_mols):\n",
    "        annotations.append(dict(\n",
    "            x=(i+0.5) / no_mols,\n",
    "            y=1.05,\n",
    "            xref=\"paper\",\n",
    "            yref=\"paper\",\n",
    "            text=f'Molecule {i+1}',  # Change text as needed (e.g., molecule names)\n",
    "            showarrow=False,\n",
    "            font=dict(size=24)\n",
    "        ))\n",
    "\n",
    "    fig.update_layout(\n",
    "        showlegend=False,\n",
    "        annotations=annotations\n",
    "    )\n",
    "    return fig"
   ]
  },
  {
   "cell_type": "code",
   "execution_count": 107,
   "id": "69152146",
   "metadata": {},
   "outputs": [
    {
     "data": {
      "text/html": [
       "<div>                            <div id=\"241ad989-0986-4dcf-8f94-38d77b6dbf2c\" class=\"plotly-graph-div\" style=\"height:525px; width:100%;\"></div>            <script type=\"text/javascript\">                require([\"plotly\"], function(Plotly) {                    window.PLOTLYENV=window.PLOTLYENV || {};                                    if (document.getElementById(\"241ad989-0986-4dcf-8f94-38d77b6dbf2c\")) {                    Plotly.newPlot(                        \"241ad989-0986-4dcf-8f94-38d77b6dbf2c\",                        [{\"line\":{\"width\":10},\"marker\":{\"size\":1},\"x\":[9.675,10.06,11.345,9.093,10.941,10.587,6.872,6.375,8.313,6.406,3.144,4.068,4.862,1.723,-0.413,1.114,-0.251,-3.552,-4.83,-8.5,-7.793,-9.689,-6.734,-5.89,-3.836,-3.993,-1.443,-0.031,0.531,2.142,5.07,5.507,5.508,10.362,10.189,11.203,14.158,15.6044,16.2608,16.0041,14.7647,12.0706,11.225,12.4559,10.3591,7.25505,7.80238,4.62938,2.90438,4.56138,3.68638,0.480384,-0.989325,-3.66475,-3.38626,-0.555399,-2.88389,-2.98284,-3.31564,0.217262,1.36127,2.17227,2.39727,4.72527,6.88727,7.11827,12.1313,12.4463,14.0963,17.4333,17.9133,20.0293,22.2553,22.6463,23.6383,26.1933,27.5423,27.9543,29.6703,32.1093,32.6563,33.3363,35.9403,37.7513,38.1063,38.7633,42.1743,43.1913,39.6733,39.4683,35.9653,36.7593,37.6553,40.3743,41.3373,44.5113,42.4253,39.9513,42.9383,44.7303,41.5543,44.3733,44.4143,41.0153,42.2273,40.3263,42.4973,41.5053,43.2293,43.7253,41.4313,38.7783,39.6133,39.2483,35.9003,35.3043,34.1563,30.6683,30.4053,32.2567,33.1702,32.116,30.9229,30.0487,26.3863,26.3641,24.521,22.3082,20.2217,21.746,23.9189,20.9192,18.9331,17.4761,15.1901,14.5031],\"y\":[45.053,47.656,51.215,54.194,54.669,51.147,51.146,54.381,52.981,49.72,51.624,53.646,50.444,48.722,51.697,51.623,48.063,48.834,50.903,50.66,51.729,48.952,48.302,44.868,43.256,39.759,37.06,37.433,41.169,40.171,38.397,41.183,43.89,41.534,45.265,45.799,43.45,44.4696,47.8766,51.6822,53.2173,50.8713,51.0873,54.6787,55.6431,54.0762,55.9498,60.2368,57.2198,57.9988,61.7018,61.6648,58.4473,55.8152,55.5847,54.8165,53.5774,54.1933,50.321,48.863,45.2779,44.0609,40.4829,41.7969,43.5699,40.3539,40.9539,37.1919,37.1999,37.7709,34.5809,36.3509,37.7569,34.4199,32.6659,35.3719,35.1749,31.4179,31.7799,34.2639,31.8979,29.0789,31.0529,31.5759,27.9119,26.7739,28.5019,27.2489,27.8159,24.4019,23.9789,21.5039,22.1019,19.6529,18.6789,20.7489,23.8119,23.3519,23.2069,26.1639,28.0669,27.7299,31.2279,31.7569,30.9969,27.7539,24.8699,21.3659,18.0029,16.7409,13.7799,16.3969,18.4459,15.2019,14.4909,16.7809,13.1509,14.1879,17.0779,16.0356,15.3005,18.5607,19.3813,21.7497,21.8525,21.2371,21.5052,21.4911,20.7655,19.988,17.2518,15.6758,15.6857,12.5447,17.0697,13.7957],\"z\":[37.07,34.334,34.643,33.894,30.614,29.357,30.143,28.128,25.228,25.337,25.507,22.383,20.445,21.697,20.656,17.211,16.774,18.489,15.547,16.584,20.147,21.884,24.221,22.816,20.059,18.46,19.349,15.806,16.353,19.691,18.022,15.474,18.161,17.509,16.764,20.383,20.06,16.5985,15.3061,15.2751,11.9393,13.4146,17.1134,17.2843,14.2649,15.7987,19.0595,18.6895,20.2705,23.5815,23.7945,21.7585,22.8579,21.8076,18.0275,15.4986,12.7631,9.01202,8.9152,8.57469,7.7285,11.2515,9.9355,7.2455,9.8125,11.8425,11.3975,11.2445,7.8055,12.2115,10.1585,7.5845,10.2905,12.0625,8.8295,8.1365,11.6645,11.1775,7.8245,9.3285,12.2495,9.7995,7.8035,11.1095,12.1245,8.5535,8.3505,4.8855,3.5755,1.9555,3.3115,6.0875,9.6895,10.6755,14.2205,13.9015,12.9805,15.8005,18.1435,16.5565,17.4895,21.8225,20.2985,21.9375,25.4595,25.9155,27.0745,26.0755,25.7895,22.2435,22.9445,23.7235,20.6075,18.6825,20.3055,15.6925,16.0515,17.1365,14.6485,11.5146,7.86547,6.38665,2.97324,0.0124171,0.612443,4.42012,7.77543,4.69372,1.67746,-1.71587,-0.220917,1.4998,-1.74031,-0.173313,2.40269,4.18869],\"type\":\"scatter3d\",\"scene\":\"scene\"},{\"line\":{\"width\":10},\"marker\":{\"size\":1},\"x\":[28.422,26.585,28.171,27.666,23.987,24.443,26.108,23.096,20.515,22.579,22.386,18.65,17.944,19.865,17.944,14.628,13.1311,15.0486,17.8639,14.6178,12.7029,10.7535,9.1156,11.1232,8.71162,6.70143,7.47027,11.1864,11.1764,9.41644,11.9449,14.8453,13.3378,12.8748,16.484,18.0706,19.6475,21.6515,18.113,14.4106,13.4813,16.9078,16.2457,12.9078,14.5183,17.2145,14.6135,12.6289,13.7899,13.7419,10.0949,9.0629,5.7209,4.8459,3.9859,6.3229,8.6929,11.7699,11.6509,14.6909,14.4299,14.0829,16.9539,19.1749,18.3229,19.3919,22.5599,23.2339,22.6489,20.2619,16.9649,13.9099,13.3359,16.8789,16.4189,13.0979,14.6529,17.3589,14.6949,12.5519,15.6749,16.3109,12.7519,13.2979,16.4139,14.4309,12.3249,15.1499,17.1854,19.0102,22.5739,24.5238,23.5892,25.339,27.7687,27.6066,25.4487,25.6843,22.2197,20.7483,22.3367,20.9486,17.4572,17.6182,18.7088,15.8484,13.3278,14.4796,12.8944,9.27459,5.74623,2.52377,0.771013,-2.12482,0.208935,2.54252,-0.353435,-1.56878,1.90537,2.19201,-1.18658,-0.199887,3.04931,1.14937,-1.09155,-1.61239,-2.3577,0.771462,3.22153,6.66481,9.68631,8.51075,8.97424,6.34632,8.72387,11.4589,9.07363,7.97618,11.5852,11.9602,11.7802],\"y\":[55.412,52.466,52.666,56.436,55.468,52.827,55.456,57.675,55.099,54.604,58.351,58.418,55.62,57.433,60.663,58.802,56.4708,53.3954,50.9121,49.0552,49.5512,51.8027,54.1797,57.4813,59.8612,62.4647,65.112,64.333,64.6112,67.9759,69.2917,68.1794,69.8962,73.1321,73.0506,72.7701,71.7544,72.269,72.3481,72.1267,70.579,68.9877,66.5877,65.5617,64.9029,62.7521,60.7135,60.1309,62.6149,58.8609,58.0609,56.9149,55.4329,58.3389,56.3129,58.1349,55.2009,53.8069,50.2939,48.4899,49.6899,53.3209,52.7049,51.7999,55.2329,56.6639,54.5359,55.6069,58.9629,59.9589,61.7339,59.7829,61.6369,60.9249,57.2899,57.0739,58.5839,55.8989,53.2039,54.6109,54.7089,51.0179,50.1989,52.3339,50.4109,47.1479,48.4809,50.3559,47.2425,43.9523,44.3214,47.002,45.7443,42.6719,45.2502,48.4985,46.6543,44.9084,46.1234,44.8731,41.4541,41.1972,42.093,39.4562,36.802,37.6859,37.4503,33.9276,32.2994,33.1016,33.0376,34.5061,36.8615,38.7488,40.4653,41.5265,42.9691,44.9445,46.3672,47.4348,49.1691,51.0443,52.2075,53.837,55.0702,53.5771,53.9768,52.5506,55.2349,55.5042,54.0868,50.6028,51.6634,54.133,55.5458,55.9986,57.8167,60.1561,60.9627,59.4337,62.8277],\"z\":[128.746,130.299,133.746,133.804,133.716,136.422,138.622,137.95,138.99,142.156,142.807,142.058,144.549,147.285,146.691,146.456,149.059,148.014,148.788,148.732,145.448,147.804,145.274,145.372,147.269,145.365,147.981,147.817,144.027,144.182,146.696,144.506,141.469,143.408,144.595,141.095,137.743,134.494,133.079,132.791,129.425,129.012,131.884,130.384,127.006,128.602,130.478,127.29,122.651,121.847,122.617,119.16,120.239,122.534,125.661,128.073,128.71,126.974,125.563,124.273,120.633,121.754,124.178,121.232,119.854,123.19,123.335,119.747,121.517,118.751,118.44,117.345,114.011,112.967,113.966,112.121,108.978,108.996,109.347,106.532,104.35,105.102,103.991,100.888,99.8879,99.9569,97.0889,95.2839,94.8337,94.1175,92.6234,94.2767,97.6845,99.2539,98.1655,99.9714,102.35,105.717,106.698,103.425,103.905,107.433,106.229,103.497,105.989,108.329,105.495,104.516,101.349,102.062,103.393,101.842,104.404,105.983,108.443,105.638,103.644,106.654,107.245,103.609,103.751,106.906,105.314,102.468,99.5642,96.1172,92.4969,91.113,91.9386,90.4151,92.2325,93.3317,97.0183,98.2174,100.824,98.2245,95.8904,98.6771,99.5529,103.035,104.863],\"type\":\"scatter3d\",\"scene\":\"scene2\"}],                        {\"template\":{\"data\":{\"histogram2dcontour\":[{\"type\":\"histogram2dcontour\",\"colorbar\":{\"outlinewidth\":0,\"ticks\":\"\"},\"colorscale\":[[0.0,\"#0d0887\"],[0.1111111111111111,\"#46039f\"],[0.2222222222222222,\"#7201a8\"],[0.3333333333333333,\"#9c179e\"],[0.4444444444444444,\"#bd3786\"],[0.5555555555555556,\"#d8576b\"],[0.6666666666666666,\"#ed7953\"],[0.7777777777777778,\"#fb9f3a\"],[0.8888888888888888,\"#fdca26\"],[1.0,\"#f0f921\"]]}],\"choropleth\":[{\"type\":\"choropleth\",\"colorbar\":{\"outlinewidth\":0,\"ticks\":\"\"}}],\"histogram2d\":[{\"type\":\"histogram2d\",\"colorbar\":{\"outlinewidth\":0,\"ticks\":\"\"},\"colorscale\":[[0.0,\"#0d0887\"],[0.1111111111111111,\"#46039f\"],[0.2222222222222222,\"#7201a8\"],[0.3333333333333333,\"#9c179e\"],[0.4444444444444444,\"#bd3786\"],[0.5555555555555556,\"#d8576b\"],[0.6666666666666666,\"#ed7953\"],[0.7777777777777778,\"#fb9f3a\"],[0.8888888888888888,\"#fdca26\"],[1.0,\"#f0f921\"]]}],\"heatmap\":[{\"type\":\"heatmap\",\"colorbar\":{\"outlinewidth\":0,\"ticks\":\"\"},\"colorscale\":[[0.0,\"#0d0887\"],[0.1111111111111111,\"#46039f\"],[0.2222222222222222,\"#7201a8\"],[0.3333333333333333,\"#9c179e\"],[0.4444444444444444,\"#bd3786\"],[0.5555555555555556,\"#d8576b\"],[0.6666666666666666,\"#ed7953\"],[0.7777777777777778,\"#fb9f3a\"],[0.8888888888888888,\"#fdca26\"],[1.0,\"#f0f921\"]]}],\"heatmapgl\":[{\"type\":\"heatmapgl\",\"colorbar\":{\"outlinewidth\":0,\"ticks\":\"\"},\"colorscale\":[[0.0,\"#0d0887\"],[0.1111111111111111,\"#46039f\"],[0.2222222222222222,\"#7201a8\"],[0.3333333333333333,\"#9c179e\"],[0.4444444444444444,\"#bd3786\"],[0.5555555555555556,\"#d8576b\"],[0.6666666666666666,\"#ed7953\"],[0.7777777777777778,\"#fb9f3a\"],[0.8888888888888888,\"#fdca26\"],[1.0,\"#f0f921\"]]}],\"contourcarpet\":[{\"type\":\"contourcarpet\",\"colorbar\":{\"outlinewidth\":0,\"ticks\":\"\"}}],\"contour\":[{\"type\":\"contour\",\"colorbar\":{\"outlinewidth\":0,\"ticks\":\"\"},\"colorscale\":[[0.0,\"#0d0887\"],[0.1111111111111111,\"#46039f\"],[0.2222222222222222,\"#7201a8\"],[0.3333333333333333,\"#9c179e\"],[0.4444444444444444,\"#bd3786\"],[0.5555555555555556,\"#d8576b\"],[0.6666666666666666,\"#ed7953\"],[0.7777777777777778,\"#fb9f3a\"],[0.8888888888888888,\"#fdca26\"],[1.0,\"#f0f921\"]]}],\"surface\":[{\"type\":\"surface\",\"colorbar\":{\"outlinewidth\":0,\"ticks\":\"\"},\"colorscale\":[[0.0,\"#0d0887\"],[0.1111111111111111,\"#46039f\"],[0.2222222222222222,\"#7201a8\"],[0.3333333333333333,\"#9c179e\"],[0.4444444444444444,\"#bd3786\"],[0.5555555555555556,\"#d8576b\"],[0.6666666666666666,\"#ed7953\"],[0.7777777777777778,\"#fb9f3a\"],[0.8888888888888888,\"#fdca26\"],[1.0,\"#f0f921\"]]}],\"mesh3d\":[{\"type\":\"mesh3d\",\"colorbar\":{\"outlinewidth\":0,\"ticks\":\"\"}}],\"scatter\":[{\"fillpattern\":{\"fillmode\":\"overlay\",\"size\":10,\"solidity\":0.2},\"type\":\"scatter\"}],\"parcoords\":[{\"type\":\"parcoords\",\"line\":{\"colorbar\":{\"outlinewidth\":0,\"ticks\":\"\"}}}],\"scatterpolargl\":[{\"type\":\"scatterpolargl\",\"marker\":{\"colorbar\":{\"outlinewidth\":0,\"ticks\":\"\"}}}],\"bar\":[{\"error_x\":{\"color\":\"#2a3f5f\"},\"error_y\":{\"color\":\"#2a3f5f\"},\"marker\":{\"line\":{\"color\":\"#E5ECF6\",\"width\":0.5},\"pattern\":{\"fillmode\":\"overlay\",\"size\":10,\"solidity\":0.2}},\"type\":\"bar\"}],\"scattergeo\":[{\"type\":\"scattergeo\",\"marker\":{\"colorbar\":{\"outlinewidth\":0,\"ticks\":\"\"}}}],\"scatterpolar\":[{\"type\":\"scatterpolar\",\"marker\":{\"colorbar\":{\"outlinewidth\":0,\"ticks\":\"\"}}}],\"histogram\":[{\"marker\":{\"pattern\":{\"fillmode\":\"overlay\",\"size\":10,\"solidity\":0.2}},\"type\":\"histogram\"}],\"scattergl\":[{\"type\":\"scattergl\",\"marker\":{\"colorbar\":{\"outlinewidth\":0,\"ticks\":\"\"}}}],\"scatter3d\":[{\"type\":\"scatter3d\",\"line\":{\"colorbar\":{\"outlinewidth\":0,\"ticks\":\"\"}},\"marker\":{\"colorbar\":{\"outlinewidth\":0,\"ticks\":\"\"}}}],\"scattermapbox\":[{\"type\":\"scattermapbox\",\"marker\":{\"colorbar\":{\"outlinewidth\":0,\"ticks\":\"\"}}}],\"scatterternary\":[{\"type\":\"scatterternary\",\"marker\":{\"colorbar\":{\"outlinewidth\":0,\"ticks\":\"\"}}}],\"scattercarpet\":[{\"type\":\"scattercarpet\",\"marker\":{\"colorbar\":{\"outlinewidth\":0,\"ticks\":\"\"}}}],\"carpet\":[{\"aaxis\":{\"endlinecolor\":\"#2a3f5f\",\"gridcolor\":\"white\",\"linecolor\":\"white\",\"minorgridcolor\":\"white\",\"startlinecolor\":\"#2a3f5f\"},\"baxis\":{\"endlinecolor\":\"#2a3f5f\",\"gridcolor\":\"white\",\"linecolor\":\"white\",\"minorgridcolor\":\"white\",\"startlinecolor\":\"#2a3f5f\"},\"type\":\"carpet\"}],\"table\":[{\"cells\":{\"fill\":{\"color\":\"#EBF0F8\"},\"line\":{\"color\":\"white\"}},\"header\":{\"fill\":{\"color\":\"#C8D4E3\"},\"line\":{\"color\":\"white\"}},\"type\":\"table\"}],\"barpolar\":[{\"marker\":{\"line\":{\"color\":\"#E5ECF6\",\"width\":0.5},\"pattern\":{\"fillmode\":\"overlay\",\"size\":10,\"solidity\":0.2}},\"type\":\"barpolar\"}],\"pie\":[{\"automargin\":true,\"type\":\"pie\"}]},\"layout\":{\"autotypenumbers\":\"strict\",\"colorway\":[\"#636efa\",\"#EF553B\",\"#00cc96\",\"#ab63fa\",\"#FFA15A\",\"#19d3f3\",\"#FF6692\",\"#B6E880\",\"#FF97FF\",\"#FECB52\"],\"font\":{\"color\":\"#2a3f5f\"},\"hovermode\":\"closest\",\"hoverlabel\":{\"align\":\"left\"},\"paper_bgcolor\":\"white\",\"plot_bgcolor\":\"#E5ECF6\",\"polar\":{\"bgcolor\":\"#E5ECF6\",\"angularaxis\":{\"gridcolor\":\"white\",\"linecolor\":\"white\",\"ticks\":\"\"},\"radialaxis\":{\"gridcolor\":\"white\",\"linecolor\":\"white\",\"ticks\":\"\"}},\"ternary\":{\"bgcolor\":\"#E5ECF6\",\"aaxis\":{\"gridcolor\":\"white\",\"linecolor\":\"white\",\"ticks\":\"\"},\"baxis\":{\"gridcolor\":\"white\",\"linecolor\":\"white\",\"ticks\":\"\"},\"caxis\":{\"gridcolor\":\"white\",\"linecolor\":\"white\",\"ticks\":\"\"}},\"coloraxis\":{\"colorbar\":{\"outlinewidth\":0,\"ticks\":\"\"}},\"colorscale\":{\"sequential\":[[0.0,\"#0d0887\"],[0.1111111111111111,\"#46039f\"],[0.2222222222222222,\"#7201a8\"],[0.3333333333333333,\"#9c179e\"],[0.4444444444444444,\"#bd3786\"],[0.5555555555555556,\"#d8576b\"],[0.6666666666666666,\"#ed7953\"],[0.7777777777777778,\"#fb9f3a\"],[0.8888888888888888,\"#fdca26\"],[1.0,\"#f0f921\"]],\"sequentialminus\":[[0.0,\"#0d0887\"],[0.1111111111111111,\"#46039f\"],[0.2222222222222222,\"#7201a8\"],[0.3333333333333333,\"#9c179e\"],[0.4444444444444444,\"#bd3786\"],[0.5555555555555556,\"#d8576b\"],[0.6666666666666666,\"#ed7953\"],[0.7777777777777778,\"#fb9f3a\"],[0.8888888888888888,\"#fdca26\"],[1.0,\"#f0f921\"]],\"diverging\":[[0,\"#8e0152\"],[0.1,\"#c51b7d\"],[0.2,\"#de77ae\"],[0.3,\"#f1b6da\"],[0.4,\"#fde0ef\"],[0.5,\"#f7f7f7\"],[0.6,\"#e6f5d0\"],[0.7,\"#b8e186\"],[0.8,\"#7fbc41\"],[0.9,\"#4d9221\"],[1,\"#276419\"]]},\"xaxis\":{\"gridcolor\":\"white\",\"linecolor\":\"white\",\"ticks\":\"\",\"title\":{\"standoff\":15},\"zerolinecolor\":\"white\",\"automargin\":true,\"zerolinewidth\":2},\"yaxis\":{\"gridcolor\":\"white\",\"linecolor\":\"white\",\"ticks\":\"\",\"title\":{\"standoff\":15},\"zerolinecolor\":\"white\",\"automargin\":true,\"zerolinewidth\":2},\"scene\":{\"xaxis\":{\"backgroundcolor\":\"#E5ECF6\",\"gridcolor\":\"white\",\"linecolor\":\"white\",\"showbackground\":true,\"ticks\":\"\",\"zerolinecolor\":\"white\",\"gridwidth\":2},\"yaxis\":{\"backgroundcolor\":\"#E5ECF6\",\"gridcolor\":\"white\",\"linecolor\":\"white\",\"showbackground\":true,\"ticks\":\"\",\"zerolinecolor\":\"white\",\"gridwidth\":2},\"zaxis\":{\"backgroundcolor\":\"#E5ECF6\",\"gridcolor\":\"white\",\"linecolor\":\"white\",\"showbackground\":true,\"ticks\":\"\",\"zerolinecolor\":\"white\",\"gridwidth\":2}},\"shapedefaults\":{\"line\":{\"color\":\"#2a3f5f\"}},\"annotationdefaults\":{\"arrowcolor\":\"#2a3f5f\",\"arrowhead\":0,\"arrowwidth\":1},\"geo\":{\"bgcolor\":\"white\",\"landcolor\":\"#E5ECF6\",\"subunitcolor\":\"white\",\"showland\":true,\"showlakes\":true,\"lakecolor\":\"white\"},\"title\":{\"x\":0.05},\"mapbox\":{\"style\":\"light\"}}},\"scene\":{\"domain\":{\"x\":[0.0,0.5],\"y\":[0.0,1.0]},\"aspectratio\":{\"x\":1,\"y\":1,\"z\":1},\"xaxis\":{\"title\":{\"text\":\"\"},\"visible\":false,\"showbackground\":false,\"showticklabels\":false},\"yaxis\":{\"title\":{\"text\":\"\"},\"visible\":false,\"showbackground\":false,\"showticklabels\":false},\"zaxis\":{\"title\":{\"text\":\"\"},\"visible\":false,\"showbackground\":false,\"showticklabels\":false},\"aspectmode\":\"manual\"},\"scene2\":{\"domain\":{\"x\":[0.5,1.0],\"y\":[0.0,1.0]},\"aspectratio\":{\"x\":1,\"y\":1,\"z\":1},\"xaxis\":{\"title\":{\"text\":\"\"},\"visible\":false,\"showbackground\":false,\"showticklabels\":false},\"yaxis\":{\"title\":{\"text\":\"\"},\"visible\":false,\"showbackground\":false,\"showticklabels\":false},\"zaxis\":{\"title\":{\"text\":\"\"},\"visible\":false,\"showbackground\":false,\"showticklabels\":false},\"aspectmode\":\"manual\"},\"showlegend\":false,\"annotations\":[{\"font\":{\"size\":24},\"showarrow\":false,\"text\":\"Molecule 1\",\"x\":0.25,\"xref\":\"paper\",\"y\":1.05,\"yref\":\"paper\"},{\"font\":{\"size\":24},\"showarrow\":false,\"text\":\"Molecule 2\",\"x\":0.75,\"xref\":\"paper\",\"y\":1.05,\"yref\":\"paper\"}]},                        {\"responsive\": true}                    ).then(function(){\n",
       "                            \n",
       "var gd = document.getElementById('241ad989-0986-4dcf-8f94-38d77b6dbf2c');\n",
       "var x = new MutationObserver(function (mutations, observer) {{\n",
       "        var display = window.getComputedStyle(gd).display;\n",
       "        if (!display || display === 'none') {{\n",
       "            console.log([gd, 'removed!']);\n",
       "            Plotly.purge(gd);\n",
       "            observer.disconnect();\n",
       "        }}\n",
       "}});\n",
       "\n",
       "// Listen for the removal of the full notebook cells\n",
       "var notebookContainer = gd.closest('#notebook-container');\n",
       "if (notebookContainer) {{\n",
       "    x.observe(notebookContainer, {childList: true});\n",
       "}}\n",
       "\n",
       "// Listen for the clearing of the current output cell\n",
       "var outputEl = gd.closest('.output');\n",
       "if (outputEl) {{\n",
       "    x.observe(outputEl, {childList: true});\n",
       "}}\n",
       "\n",
       "                        })                };                });            </script>        </div>"
      ]
     },
     "metadata": {},
     "output_type": "display_data"
    }
   ],
   "source": [
    "plot_best_mols(log_path)"
   ]
  },
  {
   "attachments": {},
   "cell_type": "markdown",
   "id": "fa377485",
   "metadata": {},
   "source": [
    "5. View the changes to your structure as we included more of the SAXs data."
   ]
  },
  {
   "cell_type": "code",
   "execution_count": 6,
   "id": "3d821007",
   "metadata": {
    "hide_input": true,
    "jupyter": {
     "source_hidden": true
    }
   },
   "outputs": [
    {
     "data": {
      "application/vnd.jupyter.widget-view+json": {
       "model_id": "017fe08ea20c4487ad726b86db5a2b4c",
       "version_major": 2,
       "version_minor": 0
      },
      "text/plain": [
       "SelectionSlider(continuous_update=False, description='Max q:', layout=Layout(height='100px', width='400px'), o…"
      ]
     },
     "metadata": {},
     "output_type": "display_data"
    },
    {
     "data": {
      "application/vnd.jupyter.widget-view+json": {
       "model_id": "e40791259bc44bd485c0e49dad7e3777",
       "version_major": 2,
       "version_minor": 0
      },
      "text/plain": [
       "Output()"
      ]
     },
     "metadata": {},
     "output_type": "display_data"
    }
   ],
   "source": [
    "# <-- Run this cell to view the q slider\n",
    "\n",
    "q = CDT.getqChanges(log_path)\n",
    "qrange_slider = widgets.SelectionSlider(\n",
    "    options=q,\n",
    "    value = q[0],\n",
    "    description='Max q:',\n",
    "    disabled=False,\n",
    "    continuous_update=False,\n",
    "    orientation='horizontal',\n",
    "    readout=True,\n",
    "    layout={'width': '400px', 'height': '100px'}\n",
    "    )\n",
    "\n",
    "def slider_handler(change):\n",
    "    global q_choice\n",
    "    q_choice = change.new\n",
    "    with output:\n",
    "        clear_output(wait=False)\n",
    "        saxs_fl, mol_fl = CDT.getSAXsandMolFile(log_path,q_choice)\n",
    "        CDT.plotMolAndSAXS(molPath,saxs_fl,mol_fl).show(\"notebook\")\n",
    "\n",
    "display(qrange_slider)\n",
    "saxs_fl, mol_fl = CDT.getSAXsandMolFile(log_path,q[0])\n",
    "# Output widget\n",
    "output = widgets.Output()\n",
    "with output:\n",
    "    CDT.plotMolAndSAXS(molPath,saxs_fl,mol_fl).show(\"notebook\")   \n",
    "qrange_slider.observe(slider_handler,names='value')\n",
    "display(output)"
   ]
  }
 ],
 "metadata": {
  "kernelspec": {
   "display_name": "Python 3 (ipykernel)",
   "language": "python",
   "name": "python3"
  },
  "language_info": {
   "codemirror_mode": {
    "name": "ipython",
    "version": 3
   },
   "file_extension": ".py",
   "mimetype": "text/x-python",
   "name": "python",
   "nbconvert_exporter": "python",
   "pygments_lexer": "ipython3",
   "version": "3.11.8"
  }
 },
 "nbformat": 4,
 "nbformat_minor": 5
}
