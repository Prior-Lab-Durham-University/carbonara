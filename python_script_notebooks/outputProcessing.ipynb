{
 "cells": [
  {
   "attachments": {},
   "cell_type": "markdown",
   "id": "057baa50",
   "metadata": {},
   "source": [
    "Load in Carbonara Data Tools"
   ]
  },
  {
   "cell_type": "code",
   "execution_count": 1,
   "id": "8f7e31cc",
   "metadata": {},
   "outputs": [],
   "source": [
    "import CarbonaraDataTools as CDT\n",
    "import ipywidgets as widgets\n",
    "from IPython.display import display, clear_output"
   ]
  },
  {
   "attachments": {},
   "cell_type": "markdown",
   "id": "67a31a64",
   "metadata": {},
   "source": [
    "* Enter the path to your protein (it should be inside newFitData)\n",
    "* Enter the name of the run you're interested in"
   ]
  },
  {
   "cell_type": "code",
   "execution_count": 23,
   "id": "783bed48",
   "metadata": {},
   "outputs": [],
   "source": [
    "MolPath = \"newFitData/bsa_validation/\"\n",
    "RunName = \"bsa_validation/\""
   ]
  },
  {
   "attachments": {},
   "cell_type": "markdown",
   "id": "dda5d781",
   "metadata": {},
   "source": [
    "Run the below cell to view the logFiles from your run"
   ]
  },
  {
   "cell_type": "code",
   "execution_count": 24,
   "id": "f26a6e77",
   "metadata": {},
   "outputs": [
    {
     "data": {
      "text/plain": [
       "['newFitData/bsa_validation/bsa_validation/fitLog1.dat',\n",
       " 'newFitData/bsa_validation/bsa_validation/fitLog2.dat']"
      ]
     },
     "execution_count": 24,
     "metadata": {},
     "output_type": "execute_result"
    }
   ],
   "source": [
    "logs = CDT.getLogs(MolPath,RunName)\n",
    "logs"
   ]
  },
  {
   "attachments": {},
   "cell_type": "markdown",
   "id": "46f07ef3",
   "metadata": {},
   "source": [
    "Pick your logFile of interest by entering the index (we do the index-1 since python counts from 0)"
   ]
  },
  {
   "cell_type": "code",
   "execution_count": 25,
   "id": "b2af7ebf",
   "metadata": {},
   "outputs": [],
   "source": [
    "index = 1\n",
    "log = logs[index-1]"
   ]
  },
  {
   "attachments": {},
   "cell_type": "markdown",
   "id": "fb7ca6a2",
   "metadata": {},
   "source": [
    "Check the progress of your run with the below"
   ]
  },
  {
   "cell_type": "code",
   "execution_count": 26,
   "id": "7501893a",
   "metadata": {},
   "outputs": [
    {
     "data": {
      "text/html": [
       "<div>\n",
       "<style scoped>\n",
       "    .dataframe tbody tr th:only-of-type {\n",
       "        vertical-align: middle;\n",
       "    }\n",
       "\n",
       "    .dataframe tbody tr th {\n",
       "        vertical-align: top;\n",
       "    }\n",
       "\n",
       "    .dataframe thead th {\n",
       "        text-align: right;\n",
       "    }\n",
       "</style>\n",
       "<table border=\"1\" class=\"dataframe\">\n",
       "  <thead>\n",
       "    <tr style=\"text-align: right;\">\n",
       "      <th></th>\n",
       "      <th>ImprovementIndex</th>\n",
       "      <th>FitStep</th>\n",
       "      <th>ScatterFitFirst</th>\n",
       "      <th>WrithePenalty</th>\n",
       "      <th>OverlapPenalty</th>\n",
       "      <th>DistanceConstraints</th>\n",
       "      <th>ElapsedTime(µs)</th>\n",
       "      <th>KmaxCurr</th>\n",
       "      <th>ScatterPath</th>\n",
       "      <th>MoleculePath</th>\n",
       "    </tr>\n",
       "  </thead>\n",
       "  <tbody>\n",
       "    <tr>\n",
       "      <th>2</th>\n",
       "      <td>2</td>\n",
       "      <td>14</td>\n",
       "      <td>0.009577</td>\n",
       "      <td>2.642210e-93</td>\n",
       "      <td>0</td>\n",
       "      <td>0</td>\n",
       "      <td>24515499</td>\n",
       "      <td>0.15</td>\n",
       "      <td>/Users/josh/Documents/PhD/DevDungeon/carbonara...</td>\n",
       "      <td>/Users/josh/Documents/PhD/DevDungeon/carbonara...</td>\n",
       "    </tr>\n",
       "    <tr>\n",
       "      <th>3</th>\n",
       "      <td>3</td>\n",
       "      <td>18</td>\n",
       "      <td>0.009108</td>\n",
       "      <td>4.697380e-92</td>\n",
       "      <td>0</td>\n",
       "      <td>0</td>\n",
       "      <td>31431358</td>\n",
       "      <td>0.15</td>\n",
       "      <td>/Users/josh/Documents/PhD/DevDungeon/carbonara...</td>\n",
       "      <td>/Users/josh/Documents/PhD/DevDungeon/carbonara...</td>\n",
       "    </tr>\n",
       "    <tr>\n",
       "      <th>4</th>\n",
       "      <td>4</td>\n",
       "      <td>32</td>\n",
       "      <td>0.008816</td>\n",
       "      <td>1.213980e-93</td>\n",
       "      <td>0</td>\n",
       "      <td>0</td>\n",
       "      <td>56035282</td>\n",
       "      <td>0.15</td>\n",
       "      <td>/Users/josh/Documents/PhD/DevDungeon/carbonara...</td>\n",
       "      <td>/Users/josh/Documents/PhD/DevDungeon/carbonara...</td>\n",
       "    </tr>\n",
       "    <tr>\n",
       "      <th>5</th>\n",
       "      <td>5</td>\n",
       "      <td>38</td>\n",
       "      <td>0.008714</td>\n",
       "      <td>4.032630e-93</td>\n",
       "      <td>0</td>\n",
       "      <td>0</td>\n",
       "      <td>66298961</td>\n",
       "      <td>0.15</td>\n",
       "      <td>/Users/josh/Documents/PhD/DevDungeon/carbonara...</td>\n",
       "      <td>/Users/josh/Documents/PhD/DevDungeon/carbonara...</td>\n",
       "    </tr>\n",
       "    <tr>\n",
       "      <th>6</th>\n",
       "      <td>6</td>\n",
       "      <td>50</td>\n",
       "      <td>0.008714</td>\n",
       "      <td>4.032630e-93</td>\n",
       "      <td>0</td>\n",
       "      <td>0</td>\n",
       "      <td>85496509</td>\n",
       "      <td>0.15</td>\n",
       "      <td>/Users/josh/Documents/PhD/DevDungeon/carbonara...</td>\n",
       "      <td>/Users/josh/Documents/PhD/DevDungeon/carbonara...</td>\n",
       "    </tr>\n",
       "  </tbody>\n",
       "</table>\n",
       "</div>"
      ],
      "text/plain": [
       "   ImprovementIndex  FitStep  ScatterFitFirst  WrithePenalty  OverlapPenalty  \\\n",
       "2                 2       14         0.009577   2.642210e-93               0   \n",
       "3                 3       18         0.009108   4.697380e-92               0   \n",
       "4                 4       32         0.008816   1.213980e-93               0   \n",
       "5                 5       38         0.008714   4.032630e-93               0   \n",
       "6                 6       50         0.008714   4.032630e-93               0   \n",
       "\n",
       "   DistanceConstraints  ElapsedTime(µs)  KmaxCurr  \\\n",
       "2                    0         24515499      0.15   \n",
       "3                    0         31431358      0.15   \n",
       "4                    0         56035282      0.15   \n",
       "5                    0         66298961      0.15   \n",
       "6                    0         85496509      0.15   \n",
       "\n",
       "                                         ScatterPath  \\\n",
       "2  /Users/josh/Documents/PhD/DevDungeon/carbonara...   \n",
       "3  /Users/josh/Documents/PhD/DevDungeon/carbonara...   \n",
       "4  /Users/josh/Documents/PhD/DevDungeon/carbonara...   \n",
       "5  /Users/josh/Documents/PhD/DevDungeon/carbonara...   \n",
       "6  /Users/josh/Documents/PhD/DevDungeon/carbonara...   \n",
       "\n",
       "                                        MoleculePath  \n",
       "2  /Users/josh/Documents/PhD/DevDungeon/carbonara...  \n",
       "3  /Users/josh/Documents/PhD/DevDungeon/carbonara...  \n",
       "4  /Users/josh/Documents/PhD/DevDungeon/carbonara...  \n",
       "5  /Users/josh/Documents/PhD/DevDungeon/carbonara...  \n",
       "6  /Users/josh/Documents/PhD/DevDungeon/carbonara...  "
      ]
     },
     "execution_count": 26,
     "metadata": {},
     "output_type": "execute_result"
    }
   ],
   "source": [
    "df = CDT.LogFile2df(log)\n",
    "df.tail()"
   ]
  },
  {
   "cell_type": "code",
   "execution_count": 27,
   "id": "c845ca77",
   "metadata": {},
   "outputs": [
    {
     "data": {
      "application/vnd.jupyter.widget-view+json": {
       "model_id": "ff1810c5c5e944ffbf47114d413f077c",
       "version_major": 2,
       "version_minor": 0
      },
      "text/plain": [
       "Dropdown(description='Select a logFile from the dropdown box ', layout=Layout(width='max-content'), options=('…"
      ]
     },
     "metadata": {},
     "output_type": "display_data"
    },
    {
     "data": {
      "application/vnd.jupyter.widget-view+json": {
       "model_id": "41974f9cdc2048a78472cf5891350655",
       "version_major": 2,
       "version_minor": 0
      },
      "text/plain": [
       "Output()"
      ]
     },
     "metadata": {},
     "output_type": "display_data"
    }
   ],
   "source": [
    "### Use the dropdown box to select a logFile to view\n",
    "\n",
    "logFile_Dropdown = widgets.Dropdown(\n",
    "    options = logs,\n",
    "    value = logs[0],\n",
    "    description = 'Select a logFile from the dropdown box ',\n",
    "    disabled=False,\n",
    "    layout={'description_width': 'initial','width': 'max-content', 'font_weight': 'bold'}\n",
    ")\n",
    "\n",
    "# Function to display tail of DataFrame\n",
    "def display_tail(log_path):\n",
    "    df = CDT.LogFile2df(log_path)\n",
    "    display(df.tail())\n",
    "\n",
    "def dropdown_handler(change):\n",
    "    global log_path\n",
    "    log_path = change.new\n",
    "    with output:\n",
    "        clear_output(wait=True)  # Clear previous output\n",
    "        display_tail(log_path)\n",
    "\n",
    "# Apply CSS style to the dropdown box to make it more visible\n",
    "logFile_Dropdown.style = {'description_width': 'initial'}\n",
    "\n",
    "# Output widget\n",
    "output = widgets.Output()\n",
    "\n",
    "# Display initial output\n",
    "log_path = logs[0]\n",
    "with output:\n",
    "    display_tail(log_path)\n",
    "\n",
    "logFile_Dropdown.observe(dropdown_handler,names='value')\n",
    "display(logFile_Dropdown)\n",
    "display(output)"
   ]
  },
  {
   "attachments": {},
   "cell_type": "markdown",
   "id": "cfc704a2",
   "metadata": {},
   "source": [
    "Plot the best fit to the SAXs data from the run you selected above"
   ]
  },
  {
   "cell_type": "code",
   "execution_count": 28,
   "id": "0ef7d882",
   "metadata": {},
   "outputs": [
    {
     "ename": "IndexError",
     "evalue": "index 0 is out of bounds for axis 0 with size 0",
     "output_type": "error",
     "traceback": [
      "\u001b[0;31m---------------------------------------------------------------------------\u001b[0m",
      "\u001b[0;31mIndexError\u001b[0m                                Traceback (most recent call last)",
      "Cell \u001b[0;32mIn[28], line 1\u001b[0m\n\u001b[0;32m----> 1\u001b[0m \u001b[43mCDT\u001b[49m\u001b[38;5;241;43m.\u001b[39;49m\u001b[43mviewBestSAXSFit\u001b[49m\u001b[43m(\u001b[49m\u001b[43mMolPath\u001b[49m\u001b[43m,\u001b[49m\u001b[43mlog_path\u001b[49m\u001b[43m)\u001b[49m\n",
      "File \u001b[0;32m~/Documents/PhD/DevDungeon/carbonara/CarbonaraDataTools.py:1948\u001b[0m, in \u001b[0;36mviewBestSAXSFit\u001b[0;34m(RunPath, LogFilePath)\u001b[0m\n\u001b[1;32m   1944\u001b[0m \u001b[38;5;250m\u001b[39m\u001b[38;5;124;03m'''\u001b[39;00m\n\u001b[1;32m   1945\u001b[0m \u001b[38;5;124;03mPlots the current best scattering fit (<= cutoff and largest qMax).\u001b[39;00m\n\u001b[1;32m   1946\u001b[0m \u001b[38;5;124;03m'''\u001b[39;00m\n\u001b[1;32m   1947\u001b[0m df \u001b[38;5;241m=\u001b[39m getAcceptableFits(LogFile2df(LogFilePath))\n\u001b[0;32m-> 1948\u001b[0m \u001b[38;5;28mprint\u001b[39m(\u001b[38;5;124m'\u001b[39m\u001b[38;5;124mBest Chi^2 Fit is\u001b[39m\u001b[38;5;124m'\u001b[39m,\u001b[43mdf\u001b[49m\u001b[38;5;241;43m.\u001b[39;49m\u001b[43mtail\u001b[49m\u001b[43m(\u001b[49m\u001b[38;5;241;43m1\u001b[39;49m\u001b[43m)\u001b[49m\u001b[43m[\u001b[49m\u001b[38;5;124;43m'\u001b[39;49m\u001b[38;5;124;43mScatterFitFirst\u001b[39;49m\u001b[38;5;124;43m'\u001b[39;49m\u001b[43m]\u001b[49m\u001b[38;5;241;43m.\u001b[39;49m\u001b[43mvalues\u001b[49m\u001b[43m[\u001b[49m\u001b[38;5;241;43m0\u001b[39;49m\u001b[43m]\u001b[49m,\u001b[38;5;124m'\u001b[39m\u001b[38;5;124mfor q <=\u001b[39m\u001b[38;5;124m'\u001b[39m,df\u001b[38;5;241m.\u001b[39mtail(\u001b[38;5;241m1\u001b[39m)[\u001b[38;5;124m'\u001b[39m\u001b[38;5;124mKmaxCurr\u001b[39m\u001b[38;5;124m'\u001b[39m]\u001b[38;5;241m.\u001b[39mvalues[\u001b[38;5;241m0\u001b[39m])\n\u001b[1;32m   1949\u001b[0m \u001b[38;5;28;01mreturn\u001b[39;00m SAXS_fit_plotter(RunPath\u001b[38;5;241m+\u001b[39m\u001b[38;5;124m\"\u001b[39m\u001b[38;5;124mSaxs.dat\u001b[39m\u001b[38;5;124m\"\u001b[39m,df[\u001b[38;5;124m'\u001b[39m\u001b[38;5;124mScatterPath\u001b[39m\u001b[38;5;124m'\u001b[39m]\u001b[38;5;241m.\u001b[39mvalues[\u001b[38;5;241m-\u001b[39m\u001b[38;5;241m1\u001b[39m],full_q\u001b[38;5;241m=\u001b[39m\u001b[38;5;28;01mFalse\u001b[39;00m)\n",
      "\u001b[0;31mIndexError\u001b[0m: index 0 is out of bounds for axis 0 with size 0"
     ]
    }
   ],
   "source": [
    "CDT.viewBestSAXSFit(MolPath,log_path)"
   ]
  },
  {
   "attachments": {},
   "cell_type": "markdown",
   "id": "7be686cd",
   "metadata": {},
   "source": [
    "* Run the below cell to view the backbone of your best fit prediction\n",
    "* You can click on the Start button to toggle the initial backbone "
   ]
  },
  {
   "cell_type": "code",
   "execution_count": 29,
   "id": "c1d6a603",
   "metadata": {},
   "outputs": [
    {
     "ename": "IndexError",
     "evalue": "index 0 is out of bounds for axis 0 with size 0",
     "output_type": "error",
     "traceback": [
      "\u001b[0;31m---------------------------------------------------------------------------\u001b[0m",
      "\u001b[0;31mIndexError\u001b[0m                                Traceback (most recent call last)",
      "Cell \u001b[0;32mIn[29], line 1\u001b[0m\n\u001b[0;32m----> 1\u001b[0m \u001b[43mCDT\u001b[49m\u001b[38;5;241;43m.\u001b[39;49m\u001b[43mviewBestMolChange\u001b[49m\u001b[43m(\u001b[49m\u001b[43mMolPath\u001b[49m\u001b[43m,\u001b[49m\u001b[43mlog\u001b[49m\u001b[43m)\u001b[49m\n",
      "File \u001b[0;32m~/Documents/PhD/DevDungeon/carbonara/CarbonaraDataTools.py:1958\u001b[0m, in \u001b[0;36mviewBestMolChange\u001b[0;34m(RunPath, LogFilePath)\u001b[0m\n\u001b[1;32m   1953\u001b[0m \u001b[38;5;250m\u001b[39m\u001b[38;5;124;03m'''\u001b[39;00m\n\u001b[1;32m   1954\u001b[0m \u001b[38;5;124;03mPlots the backbone for the current best fit, aligned to the start coords.\u001b[39;00m\n\u001b[1;32m   1955\u001b[0m \u001b[38;5;124;03mHighlights with the largest change from the start.\u001b[39;00m\n\u001b[1;32m   1956\u001b[0m \u001b[38;5;124;03m'''\u001b[39;00m\n\u001b[1;32m   1957\u001b[0m df \u001b[38;5;241m=\u001b[39m getAcceptableFits(LogFile2df(LogFilePath))\n\u001b[0;32m-> 1958\u001b[0m current_coords \u001b[38;5;241m=\u001b[39m np\u001b[38;5;241m.\u001b[39mgenfromtxt(\u001b[43mdf\u001b[49m\u001b[38;5;241;43m.\u001b[39;49m\u001b[43mtail\u001b[49m\u001b[43m(\u001b[49m\u001b[38;5;241;43m1\u001b[39;49m\u001b[43m)\u001b[49m\u001b[43m[\u001b[49m\u001b[38;5;124;43m'\u001b[39;49m\u001b[38;5;124;43mMoleculePath\u001b[39;49m\u001b[38;5;124;43m'\u001b[39;49m\u001b[43m]\u001b[49m\u001b[38;5;241;43m.\u001b[39;49m\u001b[43mvalues\u001b[49m\u001b[43m[\u001b[49m\u001b[38;5;241;43m0\u001b[39;49m\u001b[43m]\u001b[49m,skip_footer\u001b[38;5;241m=\u001b[39m\u001b[38;5;241m1\u001b[39m)\n\u001b[1;32m   1959\u001b[0m start_coords \u001b[38;5;241m=\u001b[39m np\u001b[38;5;241m.\u001b[39mgenfromtxt(RunPath\u001b[38;5;241m+\u001b[39m\u001b[38;5;124m'\u001b[39m\u001b[38;5;124mcoordinates1.dat\u001b[39m\u001b[38;5;124m'\u001b[39m)\n\u001b[1;32m   1960\u001b[0m aligned \u001b[38;5;241m=\u001b[39m rmsd\u001b[38;5;241m.\u001b[39mkabsch_fit(current_coords,start_coords)\n",
      "\u001b[0;31mIndexError\u001b[0m: index 0 is out of bounds for axis 0 with size 0"
     ]
    }
   ],
   "source": [
    "CDT.viewBestMolChange(MolPath,log)"
   ]
  },
  {
   "cell_type": "code",
   "execution_count": 20,
   "id": "b8abedc6",
   "metadata": {},
   "outputs": [
    {
     "data": {
      "application/vnd.plotly.v1+json": {
       "config": {
        "plotlyServerURL": "https://plot.ly"
       },
       "data": [
        {
         "type": "heatmap",
         "x": [
          "mol1_sub_0_step_140",
          "mol2_sub_0_step_29"
         ],
         "y": [
          "mol1_sub_0_step_140",
          "mol2_sub_0_step_29"
         ],
         "z": [
          [
           0,
           14.565754541461533
          ],
          [
           14.565754541461533,
           0
          ]
         ]
        }
       ],
       "layout": {
        "autosize": false,
        "height": 750,
        "showlegend": false,
        "template": {
         "data": {
          "bar": [
           {
            "error_x": {
             "color": "rgb(36,36,36)"
            },
            "error_y": {
             "color": "rgb(36,36,36)"
            },
            "marker": {
             "line": {
              "color": "white",
              "width": 0.5
             },
             "pattern": {
              "fillmode": "overlay",
              "size": 10,
              "solidity": 0.2
             }
            },
            "type": "bar"
           }
          ],
          "barpolar": [
           {
            "marker": {
             "line": {
              "color": "white",
              "width": 0.5
             },
             "pattern": {
              "fillmode": "overlay",
              "size": 10,
              "solidity": 0.2
             }
            },
            "type": "barpolar"
           }
          ],
          "carpet": [
           {
            "aaxis": {
             "endlinecolor": "rgb(36,36,36)",
             "gridcolor": "white",
             "linecolor": "white",
             "minorgridcolor": "white",
             "startlinecolor": "rgb(36,36,36)"
            },
            "baxis": {
             "endlinecolor": "rgb(36,36,36)",
             "gridcolor": "white",
             "linecolor": "white",
             "minorgridcolor": "white",
             "startlinecolor": "rgb(36,36,36)"
            },
            "type": "carpet"
           }
          ],
          "choropleth": [
           {
            "colorbar": {
             "outlinewidth": 1,
             "tickcolor": "rgb(36,36,36)",
             "ticks": "outside"
            },
            "type": "choropleth"
           }
          ],
          "contour": [
           {
            "colorbar": {
             "outlinewidth": 1,
             "tickcolor": "rgb(36,36,36)",
             "ticks": "outside"
            },
            "colorscale": [
             [
              0,
              "#440154"
             ],
             [
              0.1111111111111111,
              "#482878"
             ],
             [
              0.2222222222222222,
              "#3e4989"
             ],
             [
              0.3333333333333333,
              "#31688e"
             ],
             [
              0.4444444444444444,
              "#26828e"
             ],
             [
              0.5555555555555556,
              "#1f9e89"
             ],
             [
              0.6666666666666666,
              "#35b779"
             ],
             [
              0.7777777777777778,
              "#6ece58"
             ],
             [
              0.8888888888888888,
              "#b5de2b"
             ],
             [
              1,
              "#fde725"
             ]
            ],
            "type": "contour"
           }
          ],
          "contourcarpet": [
           {
            "colorbar": {
             "outlinewidth": 1,
             "tickcolor": "rgb(36,36,36)",
             "ticks": "outside"
            },
            "type": "contourcarpet"
           }
          ],
          "heatmap": [
           {
            "colorbar": {
             "outlinewidth": 1,
             "tickcolor": "rgb(36,36,36)",
             "ticks": "outside"
            },
            "colorscale": [
             [
              0,
              "#440154"
             ],
             [
              0.1111111111111111,
              "#482878"
             ],
             [
              0.2222222222222222,
              "#3e4989"
             ],
             [
              0.3333333333333333,
              "#31688e"
             ],
             [
              0.4444444444444444,
              "#26828e"
             ],
             [
              0.5555555555555556,
              "#1f9e89"
             ],
             [
              0.6666666666666666,
              "#35b779"
             ],
             [
              0.7777777777777778,
              "#6ece58"
             ],
             [
              0.8888888888888888,
              "#b5de2b"
             ],
             [
              1,
              "#fde725"
             ]
            ],
            "type": "heatmap"
           }
          ],
          "heatmapgl": [
           {
            "colorbar": {
             "outlinewidth": 1,
             "tickcolor": "rgb(36,36,36)",
             "ticks": "outside"
            },
            "colorscale": [
             [
              0,
              "#440154"
             ],
             [
              0.1111111111111111,
              "#482878"
             ],
             [
              0.2222222222222222,
              "#3e4989"
             ],
             [
              0.3333333333333333,
              "#31688e"
             ],
             [
              0.4444444444444444,
              "#26828e"
             ],
             [
              0.5555555555555556,
              "#1f9e89"
             ],
             [
              0.6666666666666666,
              "#35b779"
             ],
             [
              0.7777777777777778,
              "#6ece58"
             ],
             [
              0.8888888888888888,
              "#b5de2b"
             ],
             [
              1,
              "#fde725"
             ]
            ],
            "type": "heatmapgl"
           }
          ],
          "histogram": [
           {
            "marker": {
             "line": {
              "color": "white",
              "width": 0.6
             }
            },
            "type": "histogram"
           }
          ],
          "histogram2d": [
           {
            "colorbar": {
             "outlinewidth": 1,
             "tickcolor": "rgb(36,36,36)",
             "ticks": "outside"
            },
            "colorscale": [
             [
              0,
              "#440154"
             ],
             [
              0.1111111111111111,
              "#482878"
             ],
             [
              0.2222222222222222,
              "#3e4989"
             ],
             [
              0.3333333333333333,
              "#31688e"
             ],
             [
              0.4444444444444444,
              "#26828e"
             ],
             [
              0.5555555555555556,
              "#1f9e89"
             ],
             [
              0.6666666666666666,
              "#35b779"
             ],
             [
              0.7777777777777778,
              "#6ece58"
             ],
             [
              0.8888888888888888,
              "#b5de2b"
             ],
             [
              1,
              "#fde725"
             ]
            ],
            "type": "histogram2d"
           }
          ],
          "histogram2dcontour": [
           {
            "colorbar": {
             "outlinewidth": 1,
             "tickcolor": "rgb(36,36,36)",
             "ticks": "outside"
            },
            "colorscale": [
             [
              0,
              "#440154"
             ],
             [
              0.1111111111111111,
              "#482878"
             ],
             [
              0.2222222222222222,
              "#3e4989"
             ],
             [
              0.3333333333333333,
              "#31688e"
             ],
             [
              0.4444444444444444,
              "#26828e"
             ],
             [
              0.5555555555555556,
              "#1f9e89"
             ],
             [
              0.6666666666666666,
              "#35b779"
             ],
             [
              0.7777777777777778,
              "#6ece58"
             ],
             [
              0.8888888888888888,
              "#b5de2b"
             ],
             [
              1,
              "#fde725"
             ]
            ],
            "type": "histogram2dcontour"
           }
          ],
          "mesh3d": [
           {
            "colorbar": {
             "outlinewidth": 1,
             "tickcolor": "rgb(36,36,36)",
             "ticks": "outside"
            },
            "type": "mesh3d"
           }
          ],
          "parcoords": [
           {
            "line": {
             "colorbar": {
              "outlinewidth": 1,
              "tickcolor": "rgb(36,36,36)",
              "ticks": "outside"
             }
            },
            "type": "parcoords"
           }
          ],
          "pie": [
           {
            "automargin": true,
            "type": "pie"
           }
          ],
          "scatter": [
           {
            "fillpattern": {
             "fillmode": "overlay",
             "size": 10,
             "solidity": 0.2
            },
            "type": "scatter"
           }
          ],
          "scatter3d": [
           {
            "line": {
             "colorbar": {
              "outlinewidth": 1,
              "tickcolor": "rgb(36,36,36)",
              "ticks": "outside"
             }
            },
            "marker": {
             "colorbar": {
              "outlinewidth": 1,
              "tickcolor": "rgb(36,36,36)",
              "ticks": "outside"
             }
            },
            "type": "scatter3d"
           }
          ],
          "scattercarpet": [
           {
            "marker": {
             "colorbar": {
              "outlinewidth": 1,
              "tickcolor": "rgb(36,36,36)",
              "ticks": "outside"
             }
            },
            "type": "scattercarpet"
           }
          ],
          "scattergeo": [
           {
            "marker": {
             "colorbar": {
              "outlinewidth": 1,
              "tickcolor": "rgb(36,36,36)",
              "ticks": "outside"
             }
            },
            "type": "scattergeo"
           }
          ],
          "scattergl": [
           {
            "marker": {
             "colorbar": {
              "outlinewidth": 1,
              "tickcolor": "rgb(36,36,36)",
              "ticks": "outside"
             }
            },
            "type": "scattergl"
           }
          ],
          "scattermapbox": [
           {
            "marker": {
             "colorbar": {
              "outlinewidth": 1,
              "tickcolor": "rgb(36,36,36)",
              "ticks": "outside"
             }
            },
            "type": "scattermapbox"
           }
          ],
          "scatterpolar": [
           {
            "marker": {
             "colorbar": {
              "outlinewidth": 1,
              "tickcolor": "rgb(36,36,36)",
              "ticks": "outside"
             }
            },
            "type": "scatterpolar"
           }
          ],
          "scatterpolargl": [
           {
            "marker": {
             "colorbar": {
              "outlinewidth": 1,
              "tickcolor": "rgb(36,36,36)",
              "ticks": "outside"
             }
            },
            "type": "scatterpolargl"
           }
          ],
          "scatterternary": [
           {
            "marker": {
             "colorbar": {
              "outlinewidth": 1,
              "tickcolor": "rgb(36,36,36)",
              "ticks": "outside"
             }
            },
            "type": "scatterternary"
           }
          ],
          "surface": [
           {
            "colorbar": {
             "outlinewidth": 1,
             "tickcolor": "rgb(36,36,36)",
             "ticks": "outside"
            },
            "colorscale": [
             [
              0,
              "#440154"
             ],
             [
              0.1111111111111111,
              "#482878"
             ],
             [
              0.2222222222222222,
              "#3e4989"
             ],
             [
              0.3333333333333333,
              "#31688e"
             ],
             [
              0.4444444444444444,
              "#26828e"
             ],
             [
              0.5555555555555556,
              "#1f9e89"
             ],
             [
              0.6666666666666666,
              "#35b779"
             ],
             [
              0.7777777777777778,
              "#6ece58"
             ],
             [
              0.8888888888888888,
              "#b5de2b"
             ],
             [
              1,
              "#fde725"
             ]
            ],
            "type": "surface"
           }
          ],
          "table": [
           {
            "cells": {
             "fill": {
              "color": "rgb(237,237,237)"
             },
             "line": {
              "color": "white"
             }
            },
            "header": {
             "fill": {
              "color": "rgb(217,217,217)"
             },
             "line": {
              "color": "white"
             }
            },
            "type": "table"
           }
          ]
         },
         "layout": {
          "annotationdefaults": {
           "arrowhead": 0,
           "arrowwidth": 1
          },
          "autotypenumbers": "strict",
          "coloraxis": {
           "colorbar": {
            "outlinewidth": 1,
            "tickcolor": "rgb(36,36,36)",
            "ticks": "outside"
           }
          },
          "colorscale": {
           "diverging": [
            [
             0,
             "rgb(103,0,31)"
            ],
            [
             0.1,
             "rgb(178,24,43)"
            ],
            [
             0.2,
             "rgb(214,96,77)"
            ],
            [
             0.3,
             "rgb(244,165,130)"
            ],
            [
             0.4,
             "rgb(253,219,199)"
            ],
            [
             0.5,
             "rgb(247,247,247)"
            ],
            [
             0.6,
             "rgb(209,229,240)"
            ],
            [
             0.7,
             "rgb(146,197,222)"
            ],
            [
             0.8,
             "rgb(67,147,195)"
            ],
            [
             0.9,
             "rgb(33,102,172)"
            ],
            [
             1,
             "rgb(5,48,97)"
            ]
           ],
           "sequential": [
            [
             0,
             "#440154"
            ],
            [
             0.1111111111111111,
             "#482878"
            ],
            [
             0.2222222222222222,
             "#3e4989"
            ],
            [
             0.3333333333333333,
             "#31688e"
            ],
            [
             0.4444444444444444,
             "#26828e"
            ],
            [
             0.5555555555555556,
             "#1f9e89"
            ],
            [
             0.6666666666666666,
             "#35b779"
            ],
            [
             0.7777777777777778,
             "#6ece58"
            ],
            [
             0.8888888888888888,
             "#b5de2b"
            ],
            [
             1,
             "#fde725"
            ]
           ],
           "sequentialminus": [
            [
             0,
             "#440154"
            ],
            [
             0.1111111111111111,
             "#482878"
            ],
            [
             0.2222222222222222,
             "#3e4989"
            ],
            [
             0.3333333333333333,
             "#31688e"
            ],
            [
             0.4444444444444444,
             "#26828e"
            ],
            [
             0.5555555555555556,
             "#1f9e89"
            ],
            [
             0.6666666666666666,
             "#35b779"
            ],
            [
             0.7777777777777778,
             "#6ece58"
            ],
            [
             0.8888888888888888,
             "#b5de2b"
            ],
            [
             1,
             "#fde725"
            ]
           ]
          },
          "colorway": [
           "#1F77B4",
           "#FF7F0E",
           "#2CA02C",
           "#D62728",
           "#9467BD",
           "#8C564B",
           "#E377C2",
           "#7F7F7F",
           "#BCBD22",
           "#17BECF"
          ],
          "font": {
           "color": "rgb(36,36,36)"
          },
          "geo": {
           "bgcolor": "white",
           "lakecolor": "white",
           "landcolor": "white",
           "showlakes": true,
           "showland": true,
           "subunitcolor": "white"
          },
          "hoverlabel": {
           "align": "left"
          },
          "hovermode": "closest",
          "mapbox": {
           "style": "light"
          },
          "paper_bgcolor": "white",
          "plot_bgcolor": "white",
          "polar": {
           "angularaxis": {
            "gridcolor": "rgb(232,232,232)",
            "linecolor": "rgb(36,36,36)",
            "showgrid": false,
            "showline": true,
            "ticks": "outside"
           },
           "bgcolor": "white",
           "radialaxis": {
            "gridcolor": "rgb(232,232,232)",
            "linecolor": "rgb(36,36,36)",
            "showgrid": false,
            "showline": true,
            "ticks": "outside"
           }
          },
          "scene": {
           "xaxis": {
            "backgroundcolor": "white",
            "gridcolor": "rgb(232,232,232)",
            "gridwidth": 2,
            "linecolor": "rgb(36,36,36)",
            "showbackground": true,
            "showgrid": false,
            "showline": true,
            "ticks": "outside",
            "zeroline": false,
            "zerolinecolor": "rgb(36,36,36)"
           },
           "yaxis": {
            "backgroundcolor": "white",
            "gridcolor": "rgb(232,232,232)",
            "gridwidth": 2,
            "linecolor": "rgb(36,36,36)",
            "showbackground": true,
            "showgrid": false,
            "showline": true,
            "ticks": "outside",
            "zeroline": false,
            "zerolinecolor": "rgb(36,36,36)"
           },
           "zaxis": {
            "backgroundcolor": "white",
            "gridcolor": "rgb(232,232,232)",
            "gridwidth": 2,
            "linecolor": "rgb(36,36,36)",
            "showbackground": true,
            "showgrid": false,
            "showline": true,
            "ticks": "outside",
            "zeroline": false,
            "zerolinecolor": "rgb(36,36,36)"
           }
          },
          "shapedefaults": {
           "fillcolor": "black",
           "line": {
            "width": 0
           },
           "opacity": 0.3
          },
          "ternary": {
           "aaxis": {
            "gridcolor": "rgb(232,232,232)",
            "linecolor": "rgb(36,36,36)",
            "showgrid": false,
            "showline": true,
            "ticks": "outside"
           },
           "baxis": {
            "gridcolor": "rgb(232,232,232)",
            "linecolor": "rgb(36,36,36)",
            "showgrid": false,
            "showline": true,
            "ticks": "outside"
           },
           "bgcolor": "white",
           "caxis": {
            "gridcolor": "rgb(232,232,232)",
            "linecolor": "rgb(36,36,36)",
            "showgrid": false,
            "showline": true,
            "ticks": "outside"
           }
          },
          "title": {
           "x": 0.05
          },
          "xaxis": {
           "automargin": true,
           "gridcolor": "rgb(232,232,232)",
           "linecolor": "rgb(36,36,36)",
           "showgrid": false,
           "showline": true,
           "ticks": "outside",
           "title": {
            "standoff": 15
           },
           "zeroline": false,
           "zerolinecolor": "rgb(36,36,36)"
          },
          "yaxis": {
           "automargin": true,
           "gridcolor": "rgb(232,232,232)",
           "linecolor": "rgb(36,36,36)",
           "showgrid": false,
           "showline": true,
           "ticks": "outside",
           "title": {
            "standoff": 15
           },
           "zeroline": false,
           "zerolinecolor": "rgb(36,36,36)"
          }
         }
        },
        "width": 750
       }
      }
     },
     "metadata": {},
     "output_type": "display_data"
    }
   ],
   "source": [
    "CDT.PlotBestOutputRMSD(MolPath,RunName)"
   ]
  },
  {
   "cell_type": "code",
   "execution_count": 10,
   "id": "d79cd0bb",
   "metadata": {},
   "outputs": [
    {
     "data": {
      "text/plain": [
       "(array([ 0, -1, -1,  0, -1, -1, -1, -1,  0,  0]),\n",
       " array([1., 0., 0., 1., 0., 0., 0., 0., 1., 1.]))"
      ]
     },
     "execution_count": 10,
     "metadata": {},
     "output_type": "execute_result"
    }
   ],
   "source": [
    "CDT.cluster(CDT.BestOutputRMSD(MolPath,RunName))"
   ]
  },
  {
   "cell_type": "code",
   "execution_count": 11,
   "id": "656984e9",
   "metadata": {},
   "outputs": [
    {
     "data": {
      "application/vnd.plotly.v1+json": {
       "config": {
        "plotlyServerURL": "https://plot.ly"
       },
       "data": [
        {
         "type": "heatmap",
         "x": [
          "mol1_sub_0_step_32",
          "mol2_sub_0_step_64",
          "mol3_sub_0_step_9",
          "mol4_sub_0_step_25",
          "mol5_sub_0_step_15",
          "mol6_sub_0_step_55",
          "mol7_sub_0_step_33",
          "mol8_sub_0_step_21",
          "mol9_sub_0_step_14",
          "mol10_sub_0_step_43"
         ],
         "y": [
          "mol1_sub_0_step_32",
          "mol2_sub_0_step_64",
          "mol3_sub_0_step_9",
          "mol4_sub_0_step_25",
          "mol5_sub_0_step_15",
          "mol6_sub_0_step_55",
          "mol7_sub_0_step_33",
          "mol8_sub_0_step_21",
          "mol9_sub_0_step_14",
          "mol10_sub_0_step_43"
         ],
         "z": [
          [
           0,
           0.03703699999999999,
           0,
           0.322581,
           0,
           0,
           0,
           0.166667,
           0.03125,
           0.22222200000000003
          ],
          [
           0.03703699999999999,
           0,
           0.19999999999999996,
           0.12903200000000004,
           0.03703699999999999,
           0.18518500000000004,
           0.15384600000000004,
           0.4,
           0.3125,
           0.18518500000000004
          ],
          [
           0,
           0.19999999999999996,
           0,
           0.41935500000000003,
           0.07407399999999997,
           0,
           0,
           0.06666700000000003,
           0.0625,
           0.296296
          ],
          [
           0.322581,
           0.12903200000000004,
           0.41935500000000003,
           0,
           0.22222200000000003,
           0.22222200000000003,
           0.30769199999999997,
           0.033332999999999946,
           0.25,
           0.07407399999999997
          ],
          [
           0,
           0.03703699999999999,
           0.07407399999999997,
           0.22222200000000003,
           0,
           0,
           0.038461999999999996,
           0.166667,
           0.15625,
           0
          ],
          [
           0,
           0.18518500000000004,
           0,
           0.22222200000000003,
           0,
           0,
           0,
           0.266667,
           0.15625,
           0.296296
          ],
          [
           0,
           0.15384600000000004,
           0,
           0.30769199999999997,
           0.038461999999999996,
           0,
           0,
           0.36666699999999997,
           0.1875,
           0.22222200000000003
          ],
          [
           0.166667,
           0.4,
           0.06666700000000003,
           0.033332999999999946,
           0.166667,
           0.266667,
           0.36666699999999997,
           0,
           0.1875,
           0.22222200000000003
          ],
          [
           0.03125,
           0.3125,
           0.0625,
           0.25,
           0.15625,
           0.15625,
           0.1875,
           0.1875,
           0,
           0.07407399999999997
          ],
          [
           0.22222200000000003,
           0.18518500000000004,
           0.296296,
           0.07407399999999997,
           0,
           0.296296,
           0.22222200000000003,
           0.22222200000000003,
           0.07407399999999997,
           0
          ]
         ]
        }
       ],
       "layout": {
        "autosize": false,
        "height": 750,
        "showlegend": false,
        "template": {
         "data": {
          "bar": [
           {
            "error_x": {
             "color": "rgb(36,36,36)"
            },
            "error_y": {
             "color": "rgb(36,36,36)"
            },
            "marker": {
             "line": {
              "color": "white",
              "width": 0.5
             },
             "pattern": {
              "fillmode": "overlay",
              "size": 10,
              "solidity": 0.2
             }
            },
            "type": "bar"
           }
          ],
          "barpolar": [
           {
            "marker": {
             "line": {
              "color": "white",
              "width": 0.5
             },
             "pattern": {
              "fillmode": "overlay",
              "size": 10,
              "solidity": 0.2
             }
            },
            "type": "barpolar"
           }
          ],
          "carpet": [
           {
            "aaxis": {
             "endlinecolor": "rgb(36,36,36)",
             "gridcolor": "white",
             "linecolor": "white",
             "minorgridcolor": "white",
             "startlinecolor": "rgb(36,36,36)"
            },
            "baxis": {
             "endlinecolor": "rgb(36,36,36)",
             "gridcolor": "white",
             "linecolor": "white",
             "minorgridcolor": "white",
             "startlinecolor": "rgb(36,36,36)"
            },
            "type": "carpet"
           }
          ],
          "choropleth": [
           {
            "colorbar": {
             "outlinewidth": 1,
             "tickcolor": "rgb(36,36,36)",
             "ticks": "outside"
            },
            "type": "choropleth"
           }
          ],
          "contour": [
           {
            "colorbar": {
             "outlinewidth": 1,
             "tickcolor": "rgb(36,36,36)",
             "ticks": "outside"
            },
            "colorscale": [
             [
              0,
              "#440154"
             ],
             [
              0.1111111111111111,
              "#482878"
             ],
             [
              0.2222222222222222,
              "#3e4989"
             ],
             [
              0.3333333333333333,
              "#31688e"
             ],
             [
              0.4444444444444444,
              "#26828e"
             ],
             [
              0.5555555555555556,
              "#1f9e89"
             ],
             [
              0.6666666666666666,
              "#35b779"
             ],
             [
              0.7777777777777778,
              "#6ece58"
             ],
             [
              0.8888888888888888,
              "#b5de2b"
             ],
             [
              1,
              "#fde725"
             ]
            ],
            "type": "contour"
           }
          ],
          "contourcarpet": [
           {
            "colorbar": {
             "outlinewidth": 1,
             "tickcolor": "rgb(36,36,36)",
             "ticks": "outside"
            },
            "type": "contourcarpet"
           }
          ],
          "heatmap": [
           {
            "colorbar": {
             "outlinewidth": 1,
             "tickcolor": "rgb(36,36,36)",
             "ticks": "outside"
            },
            "colorscale": [
             [
              0,
              "#440154"
             ],
             [
              0.1111111111111111,
              "#482878"
             ],
             [
              0.2222222222222222,
              "#3e4989"
             ],
             [
              0.3333333333333333,
              "#31688e"
             ],
             [
              0.4444444444444444,
              "#26828e"
             ],
             [
              0.5555555555555556,
              "#1f9e89"
             ],
             [
              0.6666666666666666,
              "#35b779"
             ],
             [
              0.7777777777777778,
              "#6ece58"
             ],
             [
              0.8888888888888888,
              "#b5de2b"
             ],
             [
              1,
              "#fde725"
             ]
            ],
            "type": "heatmap"
           }
          ],
          "heatmapgl": [
           {
            "colorbar": {
             "outlinewidth": 1,
             "tickcolor": "rgb(36,36,36)",
             "ticks": "outside"
            },
            "colorscale": [
             [
              0,
              "#440154"
             ],
             [
              0.1111111111111111,
              "#482878"
             ],
             [
              0.2222222222222222,
              "#3e4989"
             ],
             [
              0.3333333333333333,
              "#31688e"
             ],
             [
              0.4444444444444444,
              "#26828e"
             ],
             [
              0.5555555555555556,
              "#1f9e89"
             ],
             [
              0.6666666666666666,
              "#35b779"
             ],
             [
              0.7777777777777778,
              "#6ece58"
             ],
             [
              0.8888888888888888,
              "#b5de2b"
             ],
             [
              1,
              "#fde725"
             ]
            ],
            "type": "heatmapgl"
           }
          ],
          "histogram": [
           {
            "marker": {
             "line": {
              "color": "white",
              "width": 0.6
             }
            },
            "type": "histogram"
           }
          ],
          "histogram2d": [
           {
            "colorbar": {
             "outlinewidth": 1,
             "tickcolor": "rgb(36,36,36)",
             "ticks": "outside"
            },
            "colorscale": [
             [
              0,
              "#440154"
             ],
             [
              0.1111111111111111,
              "#482878"
             ],
             [
              0.2222222222222222,
              "#3e4989"
             ],
             [
              0.3333333333333333,
              "#31688e"
             ],
             [
              0.4444444444444444,
              "#26828e"
             ],
             [
              0.5555555555555556,
              "#1f9e89"
             ],
             [
              0.6666666666666666,
              "#35b779"
             ],
             [
              0.7777777777777778,
              "#6ece58"
             ],
             [
              0.8888888888888888,
              "#b5de2b"
             ],
             [
              1,
              "#fde725"
             ]
            ],
            "type": "histogram2d"
           }
          ],
          "histogram2dcontour": [
           {
            "colorbar": {
             "outlinewidth": 1,
             "tickcolor": "rgb(36,36,36)",
             "ticks": "outside"
            },
            "colorscale": [
             [
              0,
              "#440154"
             ],
             [
              0.1111111111111111,
              "#482878"
             ],
             [
              0.2222222222222222,
              "#3e4989"
             ],
             [
              0.3333333333333333,
              "#31688e"
             ],
             [
              0.4444444444444444,
              "#26828e"
             ],
             [
              0.5555555555555556,
              "#1f9e89"
             ],
             [
              0.6666666666666666,
              "#35b779"
             ],
             [
              0.7777777777777778,
              "#6ece58"
             ],
             [
              0.8888888888888888,
              "#b5de2b"
             ],
             [
              1,
              "#fde725"
             ]
            ],
            "type": "histogram2dcontour"
           }
          ],
          "mesh3d": [
           {
            "colorbar": {
             "outlinewidth": 1,
             "tickcolor": "rgb(36,36,36)",
             "ticks": "outside"
            },
            "type": "mesh3d"
           }
          ],
          "parcoords": [
           {
            "line": {
             "colorbar": {
              "outlinewidth": 1,
              "tickcolor": "rgb(36,36,36)",
              "ticks": "outside"
             }
            },
            "type": "parcoords"
           }
          ],
          "pie": [
           {
            "automargin": true,
            "type": "pie"
           }
          ],
          "scatter": [
           {
            "fillpattern": {
             "fillmode": "overlay",
             "size": 10,
             "solidity": 0.2
            },
            "type": "scatter"
           }
          ],
          "scatter3d": [
           {
            "line": {
             "colorbar": {
              "outlinewidth": 1,
              "tickcolor": "rgb(36,36,36)",
              "ticks": "outside"
             }
            },
            "marker": {
             "colorbar": {
              "outlinewidth": 1,
              "tickcolor": "rgb(36,36,36)",
              "ticks": "outside"
             }
            },
            "type": "scatter3d"
           }
          ],
          "scattercarpet": [
           {
            "marker": {
             "colorbar": {
              "outlinewidth": 1,
              "tickcolor": "rgb(36,36,36)",
              "ticks": "outside"
             }
            },
            "type": "scattercarpet"
           }
          ],
          "scattergeo": [
           {
            "marker": {
             "colorbar": {
              "outlinewidth": 1,
              "tickcolor": "rgb(36,36,36)",
              "ticks": "outside"
             }
            },
            "type": "scattergeo"
           }
          ],
          "scattergl": [
           {
            "marker": {
             "colorbar": {
              "outlinewidth": 1,
              "tickcolor": "rgb(36,36,36)",
              "ticks": "outside"
             }
            },
            "type": "scattergl"
           }
          ],
          "scattermapbox": [
           {
            "marker": {
             "colorbar": {
              "outlinewidth": 1,
              "tickcolor": "rgb(36,36,36)",
              "ticks": "outside"
             }
            },
            "type": "scattermapbox"
           }
          ],
          "scatterpolar": [
           {
            "marker": {
             "colorbar": {
              "outlinewidth": 1,
              "tickcolor": "rgb(36,36,36)",
              "ticks": "outside"
             }
            },
            "type": "scatterpolar"
           }
          ],
          "scatterpolargl": [
           {
            "marker": {
             "colorbar": {
              "outlinewidth": 1,
              "tickcolor": "rgb(36,36,36)",
              "ticks": "outside"
             }
            },
            "type": "scatterpolargl"
           }
          ],
          "scatterternary": [
           {
            "marker": {
             "colorbar": {
              "outlinewidth": 1,
              "tickcolor": "rgb(36,36,36)",
              "ticks": "outside"
             }
            },
            "type": "scatterternary"
           }
          ],
          "surface": [
           {
            "colorbar": {
             "outlinewidth": 1,
             "tickcolor": "rgb(36,36,36)",
             "ticks": "outside"
            },
            "colorscale": [
             [
              0,
              "#440154"
             ],
             [
              0.1111111111111111,
              "#482878"
             ],
             [
              0.2222222222222222,
              "#3e4989"
             ],
             [
              0.3333333333333333,
              "#31688e"
             ],
             [
              0.4444444444444444,
              "#26828e"
             ],
             [
              0.5555555555555556,
              "#1f9e89"
             ],
             [
              0.6666666666666666,
              "#35b779"
             ],
             [
              0.7777777777777778,
              "#6ece58"
             ],
             [
              0.8888888888888888,
              "#b5de2b"
             ],
             [
              1,
              "#fde725"
             ]
            ],
            "type": "surface"
           }
          ],
          "table": [
           {
            "cells": {
             "fill": {
              "color": "rgb(237,237,237)"
             },
             "line": {
              "color": "white"
             }
            },
            "header": {
             "fill": {
              "color": "rgb(217,217,217)"
             },
             "line": {
              "color": "white"
             }
            },
            "type": "table"
           }
          ]
         },
         "layout": {
          "annotationdefaults": {
           "arrowhead": 0,
           "arrowwidth": 1
          },
          "autotypenumbers": "strict",
          "coloraxis": {
           "colorbar": {
            "outlinewidth": 1,
            "tickcolor": "rgb(36,36,36)",
            "ticks": "outside"
           }
          },
          "colorscale": {
           "diverging": [
            [
             0,
             "rgb(103,0,31)"
            ],
            [
             0.1,
             "rgb(178,24,43)"
            ],
            [
             0.2,
             "rgb(214,96,77)"
            ],
            [
             0.3,
             "rgb(244,165,130)"
            ],
            [
             0.4,
             "rgb(253,219,199)"
            ],
            [
             0.5,
             "rgb(247,247,247)"
            ],
            [
             0.6,
             "rgb(209,229,240)"
            ],
            [
             0.7,
             "rgb(146,197,222)"
            ],
            [
             0.8,
             "rgb(67,147,195)"
            ],
            [
             0.9,
             "rgb(33,102,172)"
            ],
            [
             1,
             "rgb(5,48,97)"
            ]
           ],
           "sequential": [
            [
             0,
             "#440154"
            ],
            [
             0.1111111111111111,
             "#482878"
            ],
            [
             0.2222222222222222,
             "#3e4989"
            ],
            [
             0.3333333333333333,
             "#31688e"
            ],
            [
             0.4444444444444444,
             "#26828e"
            ],
            [
             0.5555555555555556,
             "#1f9e89"
            ],
            [
             0.6666666666666666,
             "#35b779"
            ],
            [
             0.7777777777777778,
             "#6ece58"
            ],
            [
             0.8888888888888888,
             "#b5de2b"
            ],
            [
             1,
             "#fde725"
            ]
           ],
           "sequentialminus": [
            [
             0,
             "#440154"
            ],
            [
             0.1111111111111111,
             "#482878"
            ],
            [
             0.2222222222222222,
             "#3e4989"
            ],
            [
             0.3333333333333333,
             "#31688e"
            ],
            [
             0.4444444444444444,
             "#26828e"
            ],
            [
             0.5555555555555556,
             "#1f9e89"
            ],
            [
             0.6666666666666666,
             "#35b779"
            ],
            [
             0.7777777777777778,
             "#6ece58"
            ],
            [
             0.8888888888888888,
             "#b5de2b"
            ],
            [
             1,
             "#fde725"
            ]
           ]
          },
          "colorway": [
           "#1F77B4",
           "#FF7F0E",
           "#2CA02C",
           "#D62728",
           "#9467BD",
           "#8C564B",
           "#E377C2",
           "#7F7F7F",
           "#BCBD22",
           "#17BECF"
          ],
          "font": {
           "color": "rgb(36,36,36)"
          },
          "geo": {
           "bgcolor": "white",
           "lakecolor": "white",
           "landcolor": "white",
           "showlakes": true,
           "showland": true,
           "subunitcolor": "white"
          },
          "hoverlabel": {
           "align": "left"
          },
          "hovermode": "closest",
          "mapbox": {
           "style": "light"
          },
          "paper_bgcolor": "white",
          "plot_bgcolor": "white",
          "polar": {
           "angularaxis": {
            "gridcolor": "rgb(232,232,232)",
            "linecolor": "rgb(36,36,36)",
            "showgrid": false,
            "showline": true,
            "ticks": "outside"
           },
           "bgcolor": "white",
           "radialaxis": {
            "gridcolor": "rgb(232,232,232)",
            "linecolor": "rgb(36,36,36)",
            "showgrid": false,
            "showline": true,
            "ticks": "outside"
           }
          },
          "scene": {
           "xaxis": {
            "backgroundcolor": "white",
            "gridcolor": "rgb(232,232,232)",
            "gridwidth": 2,
            "linecolor": "rgb(36,36,36)",
            "showbackground": true,
            "showgrid": false,
            "showline": true,
            "ticks": "outside",
            "zeroline": false,
            "zerolinecolor": "rgb(36,36,36)"
           },
           "yaxis": {
            "backgroundcolor": "white",
            "gridcolor": "rgb(232,232,232)",
            "gridwidth": 2,
            "linecolor": "rgb(36,36,36)",
            "showbackground": true,
            "showgrid": false,
            "showline": true,
            "ticks": "outside",
            "zeroline": false,
            "zerolinecolor": "rgb(36,36,36)"
           },
           "zaxis": {
            "backgroundcolor": "white",
            "gridcolor": "rgb(232,232,232)",
            "gridwidth": 2,
            "linecolor": "rgb(36,36,36)",
            "showbackground": true,
            "showgrid": false,
            "showline": true,
            "ticks": "outside",
            "zeroline": false,
            "zerolinecolor": "rgb(36,36,36)"
           }
          },
          "shapedefaults": {
           "fillcolor": "black",
           "line": {
            "width": 0
           },
           "opacity": 0.3
          },
          "ternary": {
           "aaxis": {
            "gridcolor": "rgb(232,232,232)",
            "linecolor": "rgb(36,36,36)",
            "showgrid": false,
            "showline": true,
            "ticks": "outside"
           },
           "baxis": {
            "gridcolor": "rgb(232,232,232)",
            "linecolor": "rgb(36,36,36)",
            "showgrid": false,
            "showline": true,
            "ticks": "outside"
           },
           "bgcolor": "white",
           "caxis": {
            "gridcolor": "rgb(232,232,232)",
            "linecolor": "rgb(36,36,36)",
            "showgrid": false,
            "showline": true,
            "ticks": "outside"
           }
          },
          "title": {
           "x": 0.05
          },
          "xaxis": {
           "automargin": true,
           "gridcolor": "rgb(232,232,232)",
           "linecolor": "rgb(36,36,36)",
           "showgrid": false,
           "showline": true,
           "ticks": "outside",
           "title": {
            "standoff": 15
           },
           "zeroline": false,
           "zerolinecolor": "rgb(36,36,36)"
          },
          "yaxis": {
           "automargin": true,
           "gridcolor": "rgb(232,232,232)",
           "linecolor": "rgb(36,36,36)",
           "showgrid": false,
           "showline": true,
           "ticks": "outside",
           "title": {
            "standoff": 15
           },
           "zeroline": false,
           "zerolinecolor": "rgb(36,36,36)"
          }
         }
        },
        "width": 750
       }
      }
     },
     "metadata": {},
     "output_type": "display_data"
    }
   ],
   "source": [
    "CDT.plotBestSKMTComp(MolPath,RunName)"
   ]
  },
  {
   "cell_type": "code",
   "execution_count": 12,
   "id": "aac7ed3f",
   "metadata": {},
   "outputs": [
    {
     "data": {
      "application/vnd.plotly.v1+json": {
       "config": {
        "plotlyServerURL": "https://plot.ly"
       },
       "data": [
        {
         "line": {
          "colorscale": [
           [
            0,
            "rgb(255,255,255)"
           ],
           [
            0.125,
            "rgb(240,240,240)"
           ],
           [
            0.25,
            "rgb(217,217,217)"
           ],
           [
            0.375,
            "rgb(189,189,189)"
           ],
           [
            0.5,
            "rgb(150,150,150)"
           ],
           [
            0.625,
            "rgb(115,115,115)"
           ],
           [
            0.75,
            "rgb(82,82,82)"
           ],
           [
            0.875,
            "rgb(37,37,37)"
           ],
           [
            1,
            "rgb(0,0,0)"
           ]
          ],
          "width": 12
         },
         "mode": "lines",
         "opacity": 0.4,
         "showlegend": false,
         "type": "scatter3d",
         "x": [
          0,
          0,
          -2.82948,
          -5.43775,
          -5.84536,
          -2.08712,
          -1.86818,
          -4.67778,
          -2.97491,
          0.306492,
          -1.43183,
          -3.13565,
          0.169157,
          1.83002,
          -0.989494,
          -1.99449,
          1.30951,
          1.22051,
          0.377506,
          -0.250494,
          -0.369494,
          1.10351,
          4.16454,
          4.46154,
          5.28754,
          8.77954,
          9.51354,
          8.60354,
          10.5835,
          13.5855,
          13.3365,
          13.3645,
          16.3155,
          18.5145,
          17.1815,
          17.4965,
          18.5435,
          20.7014,
          22.2287,
          24.3726,
          21.3282,
          17.5648,
          19.2539,
          21.5443,
          23.157,
          23.779,
          25.938,
          22.991,
          21.425,
          18.909,
          18.913,
          17.728,
          15.698,
          14.811,
          14.597,
          13.824,
          16.139,
          13.458,
          14.771,
          13.822,
          13.676,
          10.595,
          9.12804,
          9.29304,
          9.88204,
          12.971,
          13.015,
          16.583,
          16.351,
          16.064,
          13.162,
          10.948,
          7.79004,
          6.82904,
          4.75804,
          4.26001,
          2.87801,
          5.07504,
          8.05704,
          11.078,
          11.311,
          8.25704,
          10.42,
          12.793,
          10.117,
          10.582,
          7.09604,
          7.15404,
          3.74401,
          4.98304,
          7.76804,
          5.40504,
          2.76001,
          5.37504,
          6.84304,
          3.33701,
          3.06201,
          6.31204,
          5.08604,
          1.55601,
          3.16701,
          5.86998,
          8.14808,
          9.01904,
          11.6094,
          13.213,
          13.4143,
          15.053,
          17.6321,
          18.4716,
          18.9297,
          21.2499,
          23.3532,
          23.6642,
          24.7679,
          27.2537,
          27.1147,
          27.7763,
          25.3561,
          22.3726,
          23.9482,
          24.6222,
          21.0268,
          19.7049,
          20.5049,
          19.7149,
          17.9329,
          14.6289,
          12.1829
         ],
         "y": [
          0,
          0,
          2.57216,
          4.25594,
          7.09221,
          7.63918,
          7.76931,
          10.3227,
          12.5142,
          12.3988,
          13.3865,
          16.3267,
          17.5363,
          17.3496,
          19.3421,
          22.6861,
          24.2091,
          27.4951,
          29.9861,
          27.1651,
          28.9271,
          31.9701,
          30.3131,
          30.8861,
          28.1431,
          29.5571,
          29.0601,
          25.3681,
          24.7971,
          26.6111,
          24.4871,
          21.2921,
          22.4991,
          23.0031,
          20.1641,
          17.4021,
          18.9591,
          20.3637,
          21.6235,
          20.9864,
          21.2816,
          20.8797,
          17.6201,
          14.9026,
          11.9003,
          13.8883,
          12.8773,
          13.3773,
          10.2363,
          12.1523,
          12.4543,
          15.1703,
          13.8343,
          14.8423,
          17.9543,
          20.1273,
          18.2303,
          17.6473,
          16.2363,
          12.9573,
          14.1653,
          16.3793,
          15.7673,
          12.2623,
          8.77932,
          6.82932,
          4.48332,
          5.42332,
          8.88632,
          9.79832,
          11.9733,
          11.2003,
          13.2913,
          12.4103,
          15.5753,
          15.0993,
          11.5903,
          9.89832,
          7.66032,
          9.62432,
          7.41732,
          9.21532,
          12.3303,
          10.5843,
          10.0473,
          11.4963,
          12.9863,
          15.8513,
          15.2963,
          14.1363,
          16.7183,
          19.5693,
          18.4233,
          18.0793,
          21.5103,
          22.9313,
          21.2473,
          22.6773,
          26.1803,
          25.4963,
          24.5043,
          27.0338,
          29.8669,
          32.9411,
          34.0371,
          30.5917,
          30.5837,
          34.0126,
          32.8996,
          29.8093,
          31.8962,
          34.2969,
          31.4194,
          29.9243,
          33.2631,
          30.4402,
          28.2968,
          28.5297,
          27.6192,
          28.5983,
          31.9552,
          32.6583,
          31.8364,
          34.1583,
          36.8413,
          35.7783,
          32.6183,
          31.4023,
          31.4593
         ],
         "z": [
          0,
          3.72126,
          4.05157,
          1.85962,
          4.35608,
          4.49515,
          0.703318,
          0.53202,
          3.12822,
          1.21459,
          -2.01737,
          -0.315875,
          1.11865,
          -2.29449,
          -3.88293,
          -2.37793,
          -1.20293,
          -2.98593,
          -0.212934,
          2.25007,
          5.61207,
          3.88907,
          2.35207,
          -1.36393,
          -3.82493,
          -4.28793,
          -0.595934,
          -0.878934,
          -4.07693,
          -2.58993,
          0.555066,
          -1.50693,
          -3.60293,
          -0.574934,
          1.58807,
          -1.01293,
          -4.40993,
          -1.70652,
          1.63414,
          4.79193,
          7.04453,
          7.24322,
          8.33592,
          9.80859,
          11.2748,
          14.4448,
          17.3878,
          19.7568,
          18.1938,
          16.1258,
          12.3378,
          9.96675,
          7.05075,
          3.54175,
          1.46775,
          4.54375,
          6.93675,
          9.55275,
          12.8258,
          14.4928,
          18.1038,
          17.9298,
          14.4998,
          12.9748,
          14.4008,
          13.3998,
          16.4058,
          17.2088,
          18.7318,
          22.4308,
          23.5258,
          20.5488,
          20.2858,
          16.6728,
          16.4008,
          12.6468,
          13.2708,
          10.6098,
          10.3518,
          9.26075,
          6.17775,
          4.78175,
          4.68875,
          2.21975,
          -0.428246,
          -3.92023,
          -3.67125,
          -1.13425,
          0.540754,
          3.92475,
          4.13875,
          3.29875,
          5.74375,
          8.48775,
          7.66875,
          8.03275,
          11.4548,
          12.6658,
          11.8998,
          13.2448,
          16.4618,
          16.9161,
          18.1948,
          16.1371,
          18.6929,
          18.6886,
          14.8936,
          14.8767,
          17.4365,
          15.3901,
          12.2472,
          14.0628,
          15.3816,
          11.9016,
          10.4604,
          10.8023,
          7.73498,
          4.01644,
          1.23134,
          3.37211,
          4.20392,
          0.530471,
          -0.386315,
          2.31634,
          -0.270657,
          -3.82665,
          -2.75566,
          -4.22365,
          -1.29166
         ]
        },
        {
         "line": {
          "colorscale": [
           [
            0,
            "rgb(255,255,255)"
           ],
           [
            0.125,
            "rgb(240,240,240)"
           ],
           [
            0.25,
            "rgb(217,217,217)"
           ],
           [
            0.375,
            "rgb(189,189,189)"
           ],
           [
            0.5,
            "rgb(150,150,150)"
           ],
           [
            0.625,
            "rgb(115,115,115)"
           ],
           [
            0.75,
            "rgb(82,82,82)"
           ],
           [
            0.875,
            "rgb(37,37,37)"
           ],
           [
            1,
            "rgb(0,0,0)"
           ]
          ],
          "width": 12
         },
         "mode": "lines",
         "opacity": 0.4,
         "showlegend": false,
         "type": "scatter3d",
         "x": [
          7.101839152013686,
          10.651356481918322,
          14.118737364284872,
          17.370353914635565,
          19.322686026620012,
          16.862599253355256,
          17.119674002313992,
          20.916038074868176,
          20.857989567268415,
          18.499124742477743,
          20.734084814352748,
          23.793600082645238,
          21.994450360415634,
          20.931912036948304,
          24.49143579344926,
          26.219358974035153,
          27.30493521984954,
          28.277898860686147,
          25.190618019818945,
          21.81781926054315,
          19.89365952516331,
          17.83614514992026,
          16.83617960025765,
          16.456900282078998,
          18.278030926492473,
          16.04617506353472,
          12.91629513585675,
          14.1279540268655,
          14.842581334672916,
          11.375340743981685,
          9.74894849569255,
          11.712864209527627,
          10.682262349493236,
          7.023584000113393,
          7.2039257732963575,
          8.778729569770238,
          6.06641431663018,
          3.990404314140876,
          5.2984958440015335,
          5.7343429482174795,
          8.137016378513634,
          10.51961161515403,
          14.22912094022472,
          17.316797007246727,
          20.569710489568067,
          23.47084415714037,
          27.087703867037128,
          28.189820126676686,
          26.598785646494164,
          23.551581511105297,
          19.99935619767337,
          17.033036797464185,
          13.79047354907328,
          10.059030696144792,
          8.047559476328699,
          6.268175381513847,
          7.598055081793168,
          8.769101055431115,
          8.66036006218882,
          10.29985388811815,
          13.442519959491413,
          11.916277069932772,
          8.299985980988115,
          7.396985274560864,
          9.377403091866078,
          9.782076795363901,
          12.890417148211963,
          14.761948619460888,
          15.645088613398354,
          18.858423024445706,
          18.577232074339676,
          15.14074758026919,
          13.520928491106837,
          9.946744615213492,
          8.559712267247354,
          4.964210539191364,
          5.514325051284011,
          4.033348603649302,
          5.127250372614863,
          4.917473958320681,
          2.4245682406701192,
          -0.1720929444143593,
          0.09474796377523553,
          -1.1395186486947413,
          -4.462974479191196,
          -7.727908215930828,
          -8.909568725906091,
          -6.906689738334439,
          -6.473749003214003,
          -2.7502984151169443,
          -1.911952090423112,
          -3.8874397133205285,
          -2.395871017820067,
          1.109467515205223,
          0.41862776564543047,
          -0.6543997050618167,
          2.642512406997337,
          4.717835165416072,
          3.1243089314492725,
          3.225809167775557,
          6.902698036155369,
          7.551672425432897,
          8.521507473361641,
          5.730810436870361,
          8.225606234407465,
          10.30847702674443,
          7.23823485720985,
          6.235791501370779,
          9.722011647993382,
          9.698058994642858,
          6.313396403585728,
          7.518818416462556,
          10.60998287308496,
          8.505122475672398,
          6.184172567159773,
          9.099228212818627,
          12.107377582393452,
          15.393364073576162,
          16.68629354176568,
          19.414766368405317,
          16.89740862797813,
          14.630175346107293,
          17.52841421164925,
          18.516651942454175,
          16.04868206843115,
          12.610791795085834,
          13.390457473484036,
          11.0300758072004,
          12.88721145093482
         ],
         "y": [
          23.483091170662856,
          22.969009084140108,
          22.440117756329027,
          24.37609578050755,
          21.592439787341085,
          21.501183844534054,
          25.264397469472463,
          25.09663535610362,
          22.337553032208465,
          24.342153175577412,
          27.407326100177023,
          25.368037542645286,
          23.90840364513883,
          27.36696970025284,
          28.665415001657664,
          25.979115979856303,
          24.209841712271377,
          22.460879076570023,
          20.274878817526105,
          18.678101215330692,
          20.45477607428122,
          23.45714988638206,
          20.44290456654042,
          16.711586674830748,
          16.97505805383383,
          19.845679977771738,
          17.883826953792894,
          14.867600907805262,
          17.02268834660304,
          18.570396430898022,
          15.141885651878935,
          13.919962697385543,
          16.965054946325164,
          16.432513104194033,
          12.782528102076366,
          13.711922195046006,
          16.287260035352954,
          13.349081936617452,
          10.921521645259013,
          7.385590734162559,
          6.5474767888859216,
          9.469485781588913,
          8.664027064526993,
          10.78814935082483,
          9.124168720474422,
          10.603054369062079,
          10.81654545095519,
          8.99929299979643,
          5.827951234805409,
          5.956023385911996,
          6.696727686773745,
          8.32084871463025,
          6.4051407748246305,
          7.16449256229588,
          10.368467464142523,
          12.043592100604322,
          14.943801585332213,
          17.226727875208873,
          21.103418054734032,
          17.786592919471545,
          18.124894775782927,
          17.864460514660188,
          16.9260001933903,
          14.576632778269738,
          12.117660345586444,
          12.741391909281557,
          10.58541892334791,
          13.464852562334624,
          15.739955657991487,
          15.751969468928815,
          15.405513912971882,
          13.807910266534538,
          13.41703497141653,
          12.621571774014901,
          13.739623698216521,
          13.565489714331727,
          9.938321597875142,
          10.412349423367036,
          10.649507965827558,
          14.211777834101317,
          13.099975850994817,
          12.705315369471847,
          16.459957455926364,
          16.97938773030039,
          15.222182041906784,
          17.08723168814033,
          15.962501033609175,
          17.83240303960345,
          15.01282176926427,
          14.467627053685309,
          18.173018833557364,
          18.94305205569666,
          16.059152129940305,
          17.096111737560037,
          20.745112510526972,
          19.53981446845517,
          17.62696085829796,
          20.62067908653277,
          22.600141588836717,
          19.650536852222597,
          19.49235206358955,
          23.230122026222254,
          26.565531479140553,
          28.994387984103845,
          31.79883412015905,
          29.59137264548559,
          28.618874885330712,
          32.26144396615976,
          33.18602933413513,
          30.368922545862755,
          31.472131645441934,
          35.05730715663007,
          33.924656972640975,
          31.826028182654266,
          34.75562226585724,
          36.87583407204504,
          37.09906139951764,
          37.26582215272826,
          38.54417101351604,
          35.899546669857294,
          33.14573580761463,
          34.34997243074816,
          34.39156952009995,
          30.84868011907576,
          33.74194598336601,
          32.909703968128504,
          29.232334801467097,
          26.40110693155917,
          24.491377359913425
         ],
         "z": [
          8.157868490039423,
          9.489412479370255,
          10.81999661741692,
          11.168963450417218,
          9.47115550005217,
          6.575913696849855,
          6.112229634124283,
          6.0646325277227096,
          3.4517954625319343,
          1.2471357932472484,
          1.4765643050454083,
          0.5156181719529922,
          -2.4968769116365612,
          -3.6597592051109826,
          -3.3653629343039944,
          -5.553367651932123,
          -8.628630645398758,
          -11.968768336053223,
          -11.848594557406571,
          -12.800202095551743,
          -9.965080674445389,
          -10.717459625293476,
          -12.821286249067573,
          -12.207631618017494,
          -8.882412851782053,
          -7.777232856990202,
          -8.670282209082568,
          -6.7011643259749425,
          -3.65362499291098,
          -3.8146758489536365,
          -4.023220187251149,
          -1.0077696336632131,
          1.019051189409585,
          0.13965757562349257,
          1.182700232114251,
          4.514242868727745,
          5.187959069859139,
          6.404169549042486,
          3.769921944616029,
          5.044133930787548,
          2.2059757276414045,
          2.75210518564686,
          2.620219544568898,
          3.0704228519671926,
          2.0428695578010467,
          3.9881841033900014,
          2.8848243638314774,
          6.051827548704613,
          4.577919966630693,
          6.80863296506413,
          5.680264026596598,
          7.4023854226709105,
          6.928361510246296,
          7.52275331755281,
          8.041927493613564,
          5.23065815321328,
          7.387550308443891,
          10.14514276303473,
          10.466295867778964,
          9.604884684396966,
          11.733053572867899,
          15.201103096408492,
          14.623818188025734,
          11.742336369071882,
          9.610884787589526,
          5.8969084642740714,
          5.415324268851577,
          3.845198982508938,
          6.7452055269396025,
          8.81185835872866,
          12.57379325945794,
          12.564258538527323,
          15.97568296566207,
          14.81557069381784,
          18.163159551560764,
          16.89464046254287,
          15.820672828698235,
          12.306046193874744,
          8.740299775859015,
          7.540197687120427,
          4.898352795143312,
          7.656999165050068,
          8.128063632337726,
          4.524956068108537,
          5.097772366249804,
          4.488110565098141,
          7.9192644459847,
          10.59131826264849,
          13.161195347228777,
          12.747848712907867,
          12.558490514904621,
          15.708411112063057,
          17.643794806534395,
          16.583882762516943,
          17.481145154080778,
          20.922023192733917,
          21.226861824580634,
          20.32986259474604,
          23.141133364990733,
          25.596191531260775,
          24.976562753499657,
          25.758218809001423,
          27.518676379291687,
          26.649527139163013,
          26.054501091870762,
          23.76724068134422,
          21.74964795707965,
          21.337608901500776,
          20.13997950176623,
          17.589199987741704,
          16.258839242566122,
          15.88946127334098,
          13.990899180381202,
          11.622720303217754,
          10.93462803118053,
          9.81782875389598,
          7.422062174810069,
          5.421853440314252,
          2.084673358672007,
          2.018858495482787,
          2.7413008379611536,
          -0.0609020682683612,
          -2.5188004532866577,
          -1.5626571429299032,
          -1.2996070727007618,
          -2.6734467127487997,
          -3.094429345492842,
          -2.1131941106089167,
          0.6230123794794817
         ]
        },
        {
         "line": {
          "colorscale": [
           [
            0,
            "rgb(255,255,255)"
           ],
           [
            0.125,
            "rgb(240,240,240)"
           ],
           [
            0.25,
            "rgb(217,217,217)"
           ],
           [
            0.375,
            "rgb(189,189,189)"
           ],
           [
            0.5,
            "rgb(150,150,150)"
           ],
           [
            0.625,
            "rgb(115,115,115)"
           ],
           [
            0.75,
            "rgb(82,82,82)"
           ],
           [
            0.875,
            "rgb(37,37,37)"
           ],
           [
            1,
            "rgb(0,0,0)"
           ]
          ],
          "width": 12
         },
         "mode": "lines",
         "opacity": 0.4,
         "showlegend": false,
         "type": "scatter3d",
         "x": [
          3.408016950180759,
          0.24696416728528092,
          -1.5032743289940331,
          -5.19036212927065,
          -5.627696173578105,
          -2.6384785489197533,
          -4.000065561377866,
          -7.390165759217211,
          -5.777604580970046,
          -3.74406969596399,
          -6.84846717646381,
          -8.722787821834036,
          -5.85452371730139,
          -5.740225097520238,
          -9.483647986241191,
          -8.948774759844248,
          -10.149460421963198,
          -12.244839008957133,
          -11.990644258214886,
          -8.314410750457679,
          -5.760611448548655,
          -3.713722603926403,
          -0.4108250091137897,
          3.092599980229771,
          1.7754812599333576,
          -0.1748196139791247,
          2.8988704272257166,
          4.991372210761922,
          2.3751559588377216,
          2.2532225888705284,
          6.038495673213005,
          6.0739612560983325,
          3.4071777826793435,
          5.358519459867171,
          8.528161041034577,
          6.688158021670344,
          5.239656574385335,
          8.894127435713283,
          12.647363675085025,
          14.626283774724318,
          17.02311825664866,
          17.558692249497,
          20.537848376290324,
          23.235821587511474,
          24.49473472299668,
          25.764073796603977,
          29.02404788425602,
          31.00723406740334,
          30.08563355580399,
          31.58105266212802,
          29.19258741517121,
          25.98605322301679,
          22.27700544234018,
          19.489798936413163,
          16.555835367695455,
          14.005081874081938,
          15.173495627950318,
          15.976938741148848,
          18.148360857751875,
          15.216657605359442,
          11.99085234221557,
          11.107238599831172,
          7.751530688166099,
          7.271284344957106,
          9.409247602333952,
          8.552574208305204,
          11.875917321132771,
          14.067037077031351,
          11.1121594294034,
          11.172019097613434,
          11.250859673491377,
          13.5646773062229,
          16.28981974193505,
          14.961717562901981,
          14.79821262151745,
          18.193648710457886,
          19.92428235215975,
          22.5591621457176,
          20.673678776115704,
          17.100405653897965,
          15.738992763289076,
          17.77150395963087,
          16.501591302925334,
          12.898955070700886,
          13.348317733077966,
          17.03432304540901,
          16.31652015212733,
          15.572343692157176,
          12.773752395978988,
          9.894226012440749,
          11.860431093027708,
          13.045275045403152,
          9.607337582196037,
          8.099364806845536,
          10.849187268107878,
          9.998612911798684,
          6.327393602929522,
          7.107761497139378,
          8.921750542548633,
          6.293140123398917,
          3.7553313317143466,
          5.5963368116942585,
          5.927143248678368,
          9.628331658194165,
          9.977103928701663,
          8.268580937321644,
          10.573527934213036,
          13.646102625695502,
          12.45852906838634,
          11.87226321188998,
          15.352939436518202,
          16.92543783469622,
          15.044164610355388,
          16.180924854607234,
          19.80161811029809,
          18.090414642119555,
          20.60371590461035,
          23.671743795779648,
          25.99273667350939,
          23.76385993266009,
          25.789931699472003,
          28.218730088106604,
          25.751141897954398,
          26.05174906807605,
          29.677548249748913,
          31.83215095600368,
          28.892334267276016,
          28.402207667357985,
          25.18562266261344
         ],
         "y": [
          13.832550093952694,
          15.245794185923451,
          13.481615950485125,
          13.234440195914404,
          16.99262302287147,
          17.652128077891327,
          15.301976428141401,
          17.017624471559188,
          20.436434489369997,
          19.242158995405138,
          17.827065052122922,
          21.095998105562305,
          23.0806412448769,
          20.793903312627336,
          21.164056266151306,
          24.976354452235924,
          26.90395695909061,
          28.69890035380225,
          25.08607079688145,
          23.86254622070399,
          21.042939332533262,
          20.60142831568154,
          22.123397093831574,
          22.465872050647437,
          22.15676946396259,
          19.019645692084694,
          17.442832494158367,
          18.19267252328192,
          16.634551436205186,
          13.491419765328324,
          13.165562871657436,
          13.519426410262987,
          10.837596430936584,
          8.451525490425606,
          9.006091595791355,
          8.320003962002689,
          5.091910849504766,
          4.013205794342216,
          3.882184211350138,
          6.876836205530102,
          9.700688028915769,
          13.320302305040013,
          12.428072704100916,
          11.546147765902528,
          13.737620046402657,
          15.468716088748113,
          16.390373585302704,
          13.065099358795226,
          13.376231038825562,
          16.38443790934776,
          19.16333095905134,
          21.16131098888221,
          20.371872492263435,
          18.514010512041665,
          18.522701575721893,
          19.24485638459051,
          22.450882294113892,
          25.136057581124238,
          24.92786141538061,
          24.47375273183665,
          24.346307667794566,
          20.72678670847817,
          21.44723708071639,
          24.22389803070163,
          23.153549928044487,
          20.296849108465015,
          18.883422442466898,
          17.498695778173833,
          16.03254543258894,
          12.33015649908672,
          8.537574211065477,
          7.013915522814322,
          7.949418015228012,
          5.784823663975306,
          2.525634875881476,
          2.6347690056315507,
          5.627752275514927,
          7.907578970084597,
          8.080571224319053,
          7.072307731174975,
          10.227712368592902,
          9.601306922597193,
          6.026445482705347,
          7.180840814231013,
          9.764011322060496,
          9.61969871013933,
          12.074768453257418,
          15.508263247362734,
          16.66289957452007,
          16.50755302605162,
          18.017672599218738,
          20.932636284513677,
          21.618230902865253,
          21.531204118506672,
          23.807746867945813,
          26.25025967282249,
          26.104728931272593,
          26.825771468219656,
          29.998430683406465,
          30.9548666937283,
          30.773902573944234,
          32.82301686121434,
          36.03764155101095,
          36.61793435061698,
          38.5828082170803,
          35.82177255721283,
          33.1947377720622,
          35.25052620586841,
          35.667559854091216,
          31.928339579186492,
          31.163464146151554,
          33.59904298652945,
          32.03185570702385,
          28.550533847236423,
          29.686981420732288,
          33.087767779649006,
          35.88974621400973,
          33.76102263847288,
          33.379787653792924,
          30.781407044411658,
          31.041595707998468,
          28.74386657861507,
          25.905080469043206,
          26.23107180180694,
          27.403256372602662,
          25.403475032469323,
          23.552564674784488,
          22.942022754919126,
          24.80475889976501
         ],
         "z": [
          7.770468446406635,
          9.471314063492,
          12.27494993885949,
          11.387726723383402,
          11.744931293475458,
          9.49272976198696,
          6.834583921514866,
          6.916305134344413,
          6.523539407318045,
          3.5433826049085826,
          1.869129090765231,
          2.362660648515501,
          0.8536714840593671,
          -2.1795617069478963,
          -2.720555026151133,
          -3.309324368504865,
          -0.17604273978881224,
          2.3801482217491428,
          3.5303267636436138,
          3.596611931915717,
          3.0351930900969455,
          6.238363822084165,
          7.037471792709872,
          8.469833669819504,
          12.021254831076709,
          11.128149096248077,
          9.544173181610311,
          12.626721894740047,
          14.900614388235393,
          12.767837202363587,
          12.85974106900984,
          16.643443597941673,
          17.016154895577635,
          14.793144084558527,
          16.81525710132886,
          20.068897009189406,
          18.68174861259815,
          18.648514134481175,
          18.320644204086673,
          17.35662022170991,
          16.870583640041517,
          15.928598889919716,
          13.723401372734948,
          11.174452442584172,
          8.308725695945133,
          5.2404439600887835,
          6.953082177133449,
          7.130432963708038,
          3.4473286145480357,
          1.8751100441564699,
          2.411714306987718,
          1.8327355697635968,
          1.3469223111238549,
          -0.41141532092084,
          -2.758201623047502,
          -0.07642674730823273,
          1.7319246379695157,
          4.315302988634158,
          7.402481890641113,
          9.875040638647233,
          11.873248221938967,
          12.9525521117859,
          11.351751398636626,
          8.767096335308747,
          5.761171794685539,
          3.453462640485813,
          4.268894819129143,
          6.911804585713453,
          8.661162642141576,
          8.200481775812122,
          8.077832350690004,
          5.473686135655708,
          8.041614834705703,
          10.748027273423881,
          12.797720710259327,
          10.905034864656697,
          9.544233835447455,
          8.156655156295507,
          4.761834636528732,
          5.5732146435916485,
          3.9506223028086573,
          0.8011013986212987,
          0.5761897204952522,
          0.9384261081489029,
          -1.8126194384334058,
          -2.7625742886935596,
          -5.571789225792984,
          -4.053476710110533,
          -6.414956777645361,
          -3.9621172360556285,
          -1.0772738337525514,
          -3.202527117935653,
          -4.616039699685234,
          -1.1225248438407798,
          0.2388625152577184,
          -2.545839928954705,
          -1.4863426002888156,
          2.111598401729344,
          1.1093402955364313,
          -1.5200255981537554,
          1.2104028766837187,
          3.779787323373128,
          5.7731864256855445,
          5.134923236639448,
          8.369229007885348,
          10.34416846337913,
          8.851208390091868,
          9.731980425383092,
          13.317876454555025,
          13.660796184736906,
          12.340676617331205,
          14.79791992966559,
          17.70440769069179,
          16.689178567904897,
          16.484885291975193,
          16.82284750216395,
          17.181060591477458,
          16.36400380155349,
          13.389281302229584,
          11.67579459878178,
          8.452516382808398,
          10.203295990682832,
          9.618143918206629,
          5.809683733271729,
          5.706622459415756,
          3.3070877608014326,
          1.8105051775440666,
          -1.922742324585399,
          -2.7983739382433255
         ]
        },
        {
         "line": {
          "colorscale": [
           [
            0,
            "rgb(255,255,255)"
           ],
           [
            0.125,
            "rgb(240,240,240)"
           ],
           [
            0.25,
            "rgb(217,217,217)"
           ],
           [
            0.375,
            "rgb(189,189,189)"
           ],
           [
            0.5,
            "rgb(150,150,150)"
           ],
           [
            0.625,
            "rgb(115,115,115)"
           ],
           [
            0.75,
            "rgb(82,82,82)"
           ],
           [
            0.875,
            "rgb(37,37,37)"
           ],
           [
            1,
            "rgb(0,0,0)"
           ]
          ],
          "width": 12
         },
         "mode": "lines",
         "opacity": 0.4,
         "showlegend": false,
         "type": "scatter3d",
         "x": [
          26.549452330415676,
          26.052751015385425,
          24.76071866945238,
          23.041732826380844,
          21.1651724639856,
          19.985830795461823,
          18.740032408438164,
          16.818362576828257,
          15.180339756720539,
          14.127036105841016,
          12.602208698704025,
          10.644171876312726,
          9.296847518932363,
          8.18654301111254,
          6.3892633595079475,
          3.94224832500751,
          0.7482187817575348,
          -1.8016886691153395,
          0.5136909573552852,
          1.7276378174716527,
          -1.0584720434955663,
          -2.161053033176392,
          0.03513655833925711,
          0.649892046560339,
          2.5296601076744913,
          4.723374622462274,
          5.551122495665342,
          6.5038657751569335,
          8.782400736900538,
          10.509907173298927,
          11.088713427950633,
          12.587679094979102,
          14.939674557827093,
          16.097353255492354,
          16.78581408248468,
          18.819352096367158,
          20.889888448719454,
          21.416616342691356,
          21.403031293733918,
          23.271483849491418,
          24.693996134324443,
          27.611732545167353,
          25.917729308156133,
          23.895599539643044,
          21.14210036331044,
          17.944594945231568,
          14.325120064320538,
          14.72431022307223,
          17.810327016701898,
          17.511378972862307,
          19.289015051792347,
          18.442698466889958,
          17.054745862605422,
          18.054554624512473,
          18.155351360556224,
          15.266830063840487,
          13.454991641882135,
          10.771656601569722,
          8.480336698324695,
          5.842752391123426,
          5.827724583075479,
          4.270337122134672,
          3.1596171948046248,
          1.7957056044490418,
          0.4181017932274411,
          2.2664878947264793,
          0.7635420207899735,
          4.195090292894254,
          5.480968309982458,
          5.188348505586046,
          3.5985822798493867,
          1.7047087870984186,
          0.03269223952618994,
          -0.7481589305952205,
          -0.9573629900417817,
          -1.1225601771132894,
          -4.1079919437437695,
          -2.684198452728925,
          -1.1668093760539264,
          2.5421764059887426,
          2.075612831616752,
          0.5004613581028892,
          3.8977554591375236,
          5.421746951036589,
          3.200586896857029,
          1.6741894315327688,
          -0.34176833824232844,
          2.265725521203846,
          4.127271099979574,
          4.1630325834546875,
          5.5313950741276585,
          8.297429264217618,
          9.281606008239136,
          9.44078677887784,
          11.646918473755731,
          14.020308680398536,
          14.293005283499477,
          15.073405749224172,
          17.79141231176872,
          19.378956874444068,
          19.39235398617722,
          22.676376754485855,
          25.888681766613367,
          27.180867556394595,
          26.291976383389937,
          22.771152070506346,
          22.27712947939095,
          23.442422957900945,
          21.047727257651943,
          18.13768942108312,
          18.953226193655176,
          19.08692735485442,
          15.714162101081131,
          14.149934350313512,
          15.511051053565867,
          15.379508320697965,
          14.866785214981942,
          15.10309669067722,
          11.964761059928836,
          9.848578016298129,
          12.273149719977523,
          12.216452307773537,
          8.416338394696645,
          8.30037719078149,
          10.640614228875249,
          9.911120293117046,
          6.69138103217033,
          3.4411666278400075,
          0.9698323670643259
         ],
         "y": [
          23.9606936200223,
          20.239830472348718,
          18.427561838245623,
          15.938284747409156,
          14.389273545720744,
          17.8040294857469,
          18.683537771510828,
          15.413874055365369,
          16.012775584592205,
          19.517741037390614,
          18.22032046584577,
          15.560006538861742,
          18.14003911501094,
          20.399034695833212,
          17.52086966956058,
          16.91405669989947,
          18.909316091691274,
          16.57268116633145,
          16.665881768033014,
          20.35859111875592,
          22.71303736437124,
          20.660356593537053,
          18.922649076755476,
          16.049438344837114,
          14.092144794173967,
          17.09196278979471,
          17.582932253494306,
          13.92296504044044,
          14.10579016884737,
          17.204618422311604,
          15.523767580564883,
          12.462612492958044,
          14.624768867022091,
          16.488781056620162,
          13.225285015330936,
          11.90769178418353,
          15.092185950301477,
          16.529819871997795,
          17.24488316103339,
          17.386996379536914,
          13.89135433442337,
          12.86968317226371,
          9.742945910550343,
          7.406262571071071,
          6.294457004939044,
          5.743623538272404,
          6.975642438430121,
          10.774884636962671,
          10.30531347534009,
          8.555941359948788,
          7.96076072438548,
          10.120300519878544,
          12.00134075334157,
          14.379189267018692,
          16.169165112978668,
          18.482176669435404,
          16.022575580118247,
          13.778940348893599,
          12.352713130791784,
          11.072691230532834,
          7.409194735674239,
          7.721231682894464,
          11.325211632682201,
          13.110265075045493,
          11.924536971757519,
          12.754157277344717,
          9.96544023973197,
          8.716980918383863,
          6.944432302812293,
          3.2331159060577086,
          2.272020878024282,
          5.518880217068693,
          5.937416187605775,
          9.691963750524465,
          9.916090819430188,
          13.72812035595792,
          13.546274675628677,
          16.09317893537364,
          16.221641153019203,
          16.82251736077705,
          20.03661308052047,
          21.59136599714772,
          21.197714865204684,
          23.540353448252343,
          26.490079445681495,
          26.158889604942246,
          26.60619213684382,
          27.03040725565852,
          23.92714777159607,
          25.173208592376493,
          28.54915701468932,
          26.891366932044882,
          24.72122499283593,
          27.749454571900962,
          29.619605573468462,
          26.663516646516587,
          26.416350057105337,
          30.12495136779821,
          29.853499310759148,
          26.90522695657497,
          28.797143554356694,
          27.52736931301726,
          25.63066049270286,
          28.549906932512755,
          26.77866085395477,
          26.06673452717436,
          29.704913734072136,
          30.8859237642912,
          28.506404446054017,
          29.728175155637047,
          33.35325226618457,
          32.604770416465655,
          30.858364124863442,
          33.80619281712001,
          36.24351908583537,
          34.01939620197756,
          31.93639572310913,
          30.29738960235236,
          32.358388852582934,
          29.86706117756938,
          29.936755360710826,
          33.735844778824706,
          33.77552201455354,
          31.293836300549074,
          33.5507212179513,
          37.245894259909214,
          36.634133235344954,
          38.53676177960182,
          35.88328303714562
         ],
         "z": [
          -1.3822539771887916,
          -1.4593056191689469,
          -4.610721697453415,
          -6.9110409616698805,
          -3.9918286119928608,
          -2.8123103259796,
          -6.293313891671807,
          -6.537017690990173,
          -3.160466257101434,
          -4.184527744187776,
          -7.414761371787512,
          -5.535525768289484,
          -3.0918726798748173,
          -5.939129165044432,
          -7.650563255235785,
          -4.695884390167724,
          -5.553689613929479,
          -3.8643670706679307,
          -0.738958548063688,
          -0.6294303873140095,
          -1.7780076512493403,
          1.3271892152700806,
          3.7789230448362368,
          6.18918834355155,
          3.5286827813420705,
          2.733878884170351,
          6.410381311290769,
          6.784376720025052,
          3.7482961046534737,
          5.110502107479023,
          8.469455844310689,
          6.788475038712764,
          4.730256017954117,
          7.833223311745313,
          9.654928538143531,
          6.72717787039031,
          6.606848993771243,
          9.984567781163113,
          13.638296613153582,
          16.85684243752984,
          16.995406150433023,
          19.315375962230764,
          18.189295573622257,
          16.01384411199568,
          13.53140253299457,
          15.54250148713787,
          15.468854857152031,
          16.055912711239124,
          14.018909487479256,
          10.665034201623229,
          7.471375888193833,
          4.506573887081292,
          1.6365669858259766,
          4.330861390919339,
          7.715194943021258,
          8.161505714924887,
          10.329381416653497,
          11.937251560520568,
          14.607919931142195,
          12.19213352558746,
          13.240212051817263,
          16.690112085162266,
          16.95310023044621,
          13.856133265559329,
          10.508306716232013,
          7.30805344995095,
          5.1853431578607605,
          4.223647374799844,
          7.317239321163265,
          8.175854530239242,
          11.477398009371,
          11.960100428999649,
          15.342939814192391,
          15.12592587938327,
          18.905641572196,
          18.814885294045027,
          16.434441991771433,
          13.933106068182255,
          10.520106753118453,
          10.75758134029964,
          8.787302119098435,
          11.887331280207597,
          13.528632089747475,
          10.889485085536318,
          11.798775060081654,
          15.30350807700431,
          18.61145644499297,
          21.343448401120323,
          20.18274672712913,
          16.592602992845546,
          17.675843153199104,
          19.686753161502594,
          16.726252335667613,
          14.435521809932542,
          16.90098238189294,
          17.168317627351794,
          13.385812240080543,
          13.102809381395714,
          15.745169635996522,
          13.947985404713258,
          10.651987156695636,
          11.854795886985432,
          12.324661813822035,
          10.26284693446339,
          7.020085193624668,
          8.260992924056204,
          9.242059799994998,
          5.822967997708306,
          4.077642897205535,
          6.194615525238977,
          5.3967511277583196,
          1.6732263060422978,
          1.8046526542065857,
          3.623039119960621,
          1.0443755947101012,
          -1.964426245197207,
          -5.197188994116282,
          -8.567225758111086,
          -9.155355264533078,
          -7.216870044558102,
          -4.2912564697411115,
          -4.209497863928026,
          -4.201004748813623,
          -1.3251221338599626,
          0.6650585300840186,
          0.2042069377253668,
          -1.6844659939497797,
          -1.0794369442648373,
          0.11808271626243805
         ]
        },
        {
         "line": {
          "colorscale": [
           [
            0,
            "rgb(255,255,255)"
           ],
           [
            0.125,
            "rgb(240,240,240)"
           ],
           [
            0.25,
            "rgb(217,217,217)"
           ],
           [
            0.375,
            "rgb(189,189,189)"
           ],
           [
            0.5,
            "rgb(150,150,150)"
           ],
           [
            0.625,
            "rgb(115,115,115)"
           ],
           [
            0.75,
            "rgb(82,82,82)"
           ],
           [
            0.875,
            "rgb(37,37,37)"
           ],
           [
            1,
            "rgb(0,0,0)"
           ]
          ],
          "width": 12
         },
         "mode": "lines",
         "opacity": 0.4,
         "showlegend": false,
         "type": "scatter3d",
         "x": [
          14.343979571830344,
          12.995538834119772,
          9.274189168079031,
          5.5258816560658985,
          5.287482081158487,
          7.195306048276903,
          4.903577844040305,
          1.815079290879158,
          3.182161839073464,
          3.9143036620829204,
          0.39485921550985026,
          -1.1234388676683693,
          0.966826915450925,
          -0.1036373627438465,
          -3.766956789321439,
          -6.696517024815723,
          -5.759573708269976,
          -2.3045995655275995,
          1.1904489031036238,
          4.918001185839499,
          5.54290717462184,
          4.217125115580629,
          4.648538859597068,
          6.507960951055248,
          5.787291334034771,
          7.057023855914091,
          10.267257552902262,
          10.863564475435865,
          10.359292272952365,
          12.82263064504643,
          15.432920238494706,
          15.028395952272813,
          15.44567141552797,
          18.613707401253468,
          20.076005456484136,
          19.335659539936557,
          21.00884857742819,
          24.12212848554767,
          27.163062874891914,
          25.927291537162297,
          22.354362389180814,
          21.58153212320186,
          24.746068385706636,
          25.571719340043995,
          23.558180189497932,
          24.74544156119717,
          26.258107928984096,
          26.868588325854134,
          24.252488973294,
          22.410953431004035,
          18.903903877855818,
          15.74247701436864,
          11.874435252494969,
          10.015776499592572,
          12.638491052631908,
          15.882058571515707,
          14.07448206514802,
          12.593909073799459,
          12.02211903708452,
          11.842211053959424,
          9.970244904272331,
          6.5685126090532036,
          6.773091839107509,
          8.774531916403971,
          10.07246472559034,
          13.803262704795047,
          13.6427049191914,
          16.05318850835778,
          14.010922512859514,
          12.097803271146473,
          8.408861246952013,
          7.872722236637462,
          4.483169199195826,
          5.2868011523550615,
          2.427298070996052,
          3.525536027478645,
          3.435480575336224,
          6.90194094940947,
          10.38287350165163,
          12.620759885228846,
          14.752291635783955,
          11.967592133709983,
          12.68274353838822,
          16.25109909863603,
          15.113563577751549,
          16.21973322329785,
          12.591478542181637,
          10.657836114714268,
          7.3499028140066605,
          7.631046154779828,
          8.96774172788537,
          6.179869334466831,
          3.4715230258235055,
          4.8527054390076945,
          5.115422657913453,
          1.454698622476414,
          0.6241452809304295,
          2.432831455093451,
          0.34619032565566954,
          -2.8977038101001487,
          -2.301608139066227,
          -2.0706680566152897,
          -0.40715195076056965,
          1.4713140685454302,
          3.3065526260690383,
          4.326551738530902,
          5.651699197403146,
          7.6940757009431415,
          9.200818524032,
          10.162448967612093,
          11.834843141995846,
          13.82398994120533,
          15.000535692867803,
          16.121514727657853,
          18.072925937604964,
          20.474991412159852,
          20.076434039604813,
          21.09388050928314,
          23.94219002625335,
          21.521495368648207,
          19.86234666098981,
          23.22757269826414,
          24.216672314113033,
          20.94495216736433,
          21.550628119126273,
          22.548246342191327,
          21.825154442004806,
          19.98220732985618,
          16.818515043974585
         ],
         "y": [
          16.226430300228504,
          17.300554298301876,
          16.741658708246007,
          16.372828309754805,
          19.858154858779542,
          21.35089618231898,
          19.629764886044097,
          20.933950208783067,
          24.47989553027416,
          24.280095935012497,
          23.04227489547793,
          25.88368664036324,
          28.45231203977039,
          27.029369623161145,
          27.16183949591067,
          28.897685456173445,
          32.35465995108689,
          32.678421686588386,
          32.46462921283568,
          32.7377823268868,
          30.023007161259518,
          32.15634708587525,
          35.56009185237427,
          37.83336690803587,
          35.49706494896037,
          32.50188140169791,
          34.327997528508206,
          35.2637016115245,
          31.66424891482658,
          30.4124907834534,
          32.941526590721665,
          31.907954825195507,
          28.238407395449574,
          28.978447353967766,
          30.937549898161528,
          28.095303480630164,
          25.57686312103452,
          27.802963256286105,
          27.1403659000887,
          28.270934301995744,
          27.121707541817806,
          23.37427953997476,
          21.66741824698557,
          18.244406123606915,
          16.41204549164881,
          15.25559996082336,
          13.6239341856374,
          14.608056517577282,
          12.251276748268255,
          9.393883285465593,
          10.134439733141429,
          11.706543490007128,
          11.962644699960086,
          12.815814799241181,
          15.163147088838281,
          17.14802515331273,
          20.376179399914975,
          19.463116210067337,
          16.778354770864723,
          14.081419040175788,
          16.042163027875546,
          16.33848613460096,
          14.144347303402974,
          10.886574157190278,
          8.694260073596666,
          8.284882350410975,
          7.22203622914072,
          9.95173732311613,
          13.141826840091838,
          14.814567122359097,
          15.52733579020027,
          12.968691132706564,
          13.100600166024456,
          10.875717325441174,
          12.418934040299233,
          10.712586974389215,
          7.318425315298107,
          6.218143257187716,
          5.730817208991775,
          8.503525454742478,
          5.908405389728141,
          5.524415366133523,
          9.120942140297265,
          8.115727434266542,
          5.623428072182184,
          6.050507688331418,
          5.672692766093842,
          8.797163684882372,
          7.170025720840535,
          7.773846952915672,
          11.316947890557836,
          12.297068787322033,
          10.769704219771855,
          12.530543626597172,
          15.84595914100461,
          15.434196325095996,
          14.884272145701102,
          17.98267967581977,
          20.07254488317228,
          18.18645669054539,
          19.061241977043668,
          22.84432929007603,
          23.904411468703138,
          25.156857971476363,
          27.759425017550598,
          25.141581749234525,
          22.851145020338393,
          25.675856936161548,
          26.52951109883447,
          22.901387423798106,
          22.68455376828063,
          25.853256122905897,
          24.522866240417414,
          21.252536178013372,
          23.10472355152992,
          24.855159373657845,
          25.677614434154208,
          29.011227970855714,
          28.156120574518944,
          26.703076533751332,
          24.556144732924544,
          23.23020279719449,
          22.334277936142183,
          20.479201868268202,
          22.3480733947796,
          20.07131653748488,
          16.90067355845525,
          13.880007005306464,
          13.583756746443143
         ],
         "z": [
          15.080507457149572,
          18.42411424444461,
          18.84210773580012,
          19.34911656650797,
          20.845287659748074,
          17.917017996075295,
          15.421312504838472,
          17.211048175733414,
          17.191145645291115,
          13.467328222707987,
          12.743309728074355,
          14.759295803434288,
          12.895019061010796,
          9.537601052983915,
          10.540269243200875,
          12.101981402611203,
          10.792190588512188,
          9.064174750793487,
          10.409507871282697,
          10.559126581274914,
          7.917944087810422,
          5.147475023943979,
          3.464686871248213,
          5.876667952461955,
          8.786179406851083,
          6.821615917708607,
          5.925734109640798,
          9.560543941718006,
          10.670789858682586,
          8.061582037367831,
          9.172124092146316,
          12.806829093717255,
          11.910670939700228,
          9.946302845781554,
          12.856028427530823,
          15.267756304540463,
          12.965413966186414,
          12.256373553422474,
          14.461325359078042,
          17.92362948662884,
          17.78845527682825,
          17.735854307354728,
          19.120545629342253,
          17.53659103529463,
          20.080153707034476,
          16.581835611434148,
          13.613347810995498,
          9.923966396907952,
          8.742627076174857,
          7.143045338527349,
          5.8870472292494584,
          4.388543042762022,
          4.572779297909722,
          1.3861596445227677,
          0.1363779629917392,
          -0.26009132082501996,
          -0.11602655389200223,
          3.179500335200914,
          5.783905667764229,
          8.453269221524039,
          11.13116517714385,
          9.468323330159055,
          6.396607990473504,
          6.534545457490164,
          9.366649866178989,
          9.876530556263813,
          13.535255377835231,
          14.533921390028,
          14.399012245366968,
          17.251840441222402,
          16.767135408968773,
          14.0234625924145,
          12.318216473692829,
          9.292075324383935,
          7.337088291516188,
          4.104542996922281,
          5.860649364859975,
          4.618216508084069,
          5.888316460643159,
          4.672604842435234,
          2.897231291732327,
          0.3269129564032607,
          -0.6446819340269458,
          -1.6605431560667023,
          -4.2979103713933755,
          -7.91783878460016,
          -8.979554007062806,
          -7.908728885792832,
          -6.835533039712794,
          -3.108800510856695,
          -3.4671658140310546,
          -5.851426820242609,
          -3.702151651668255,
          -0.6235356111588564,
          -2.5041061707808288,
          -3.438624185486039,
          0.25318653882847286,
          1.3497475725586812,
          -1.024959401372219,
          -0.21403205219569088,
          3.364779853102036,
          2.71862670686569,
          -0.43575954210876766,
          -3.4928103216843693,
          -1.4188394878086656,
          1.1403455156073088,
          -1.5874481661926945,
          -3.101533979677,
          0.2813691219387424,
          0.8769590133242211,
          -2.528798290686475,
          -1.8614450133918057,
          1.498380287951444,
          -0.07998835472919641,
          -2.764098942555008,
          -0.49374692576053114,
          3.277771210951256,
          4.787887521657014,
          7.1540554986119576,
          9.697966909634683,
          7.036957122228006,
          5.870743943892512,
          9.429101550833664,
          9.974495974310697,
          6.707764601997966,
          3.8406632829180136,
          5.772586211871124,
          4.3480842678474385,
          6.466142085150289
         ]
        },
        {
         "line": {
          "color": "black",
          "colorscale": [
           [
            0,
            "rgb(255,255,255)"
           ],
           [
            0.125,
            "rgb(240,240,240)"
           ],
           [
            0.25,
            "rgb(217,217,217)"
           ],
           [
            0.375,
            "rgb(189,189,189)"
           ],
           [
            0.5,
            "rgb(150,150,150)"
           ],
           [
            0.625,
            "rgb(115,115,115)"
           ],
           [
            0.75,
            "rgb(82,82,82)"
           ],
           [
            0.875,
            "rgb(37,37,37)"
           ],
           [
            1,
            "rgb(0,0,0)"
           ]
          ],
          "width": 12
         },
         "mode": "lines",
         "opacity": 0.7,
         "showlegend": false,
         "type": "scatter3d",
         "x": [
          10.280657600888095,
          9.98932209974176,
          8.764178174564451,
          7.061971253562331,
          6.860456879637198,
          7.863627509634846,
          6.9790077386829195,
          5.4963068366716765,
          6.093595316418474,
          6.620577362887538,
          5.090171110420562,
          4.291179053891112,
          5.314551615499506,
          5.020922517559352,
          3.3281200754789153,
          2.504365102876539,
          2.6907259742747796,
          2.629456323417215,
          3.056323924412594,
          3.9797107026793244,
          3.649597841548186,
          3.456400925679618,
          5.054714001816037,
          6.233778651984871,
          6.731600725627018,
          7.2862587855863925,
          8.229417122330014,
          9.018059297644044,
          9.38858606067271,
          10.109320230239515,
          11.129115567070178,
          11.753480102575574,
          12.158057221105528,
          13.121532823345277,
          13.955081270659951,
          14.223679845548862,
          14.349661583432631,
          15.824935315618637,
          17.748130737542475,
          18.786400421919105,
          18.707338631733506,
          18.96727370660405,
          20.936933402075564,
          22.31284749488905,
          22.584345153074622,
          23.14079089203462,
          24.526595948919557,
          24.756190548601275,
          24.034447038458808,
          22.79279331541993,
          21.259572508498547,
          18.986453100347916,
          16.13893202130277,
          14.4860321513326,
          13.998847451442458,
          13.049229178190396,
          13.288004883354727,
          12.31392109438983,
          12.416435331069982,
          11.404694987712087,
          10.981468357810959,
          8.891473080190362,
          7.02245314061327,
          6.906309428074197,
          7.831851442603562,
          9.475080320638126,
          10.437516281865223,
          13.132052899548857,
          12.520027773128746,
          12.676118779758333,
          10.999507054926491,
          9.846171182045595,
          8.423329934352783,
          7.255228879975062,
          5.917179993943814,
          5.964169020002921,
          5.528821207007243,
          7.177058649209489,
          8.614806654865655,
          9.651763180687245,
          9.26049309427198,
          7.664900901405876,
          8.719367652845262,
          9.245056494335753,
          7.463298745699069,
          7.556467496861761,
          5.35054032603211,
          5.74865111794817,
          4.304237461350244,
          4.784209267111664,
          6.443131160923525,
          5.808034786153414,
          4.544921119687722,
          5.775472907987259,
          6.9746392330845,
          5.631246101922363,
          5.389813314871352,
          7.128774773374614,
          7.053940422284458,
          5.511242471103678,
          6.183157042996141,
          7.924739586999545,
          9.61565210757856,
          10.60607274400091,
          11.88212783451362,
          11.777552354620664,
          11.830978293643398,
          13.214278557182075,
          14.012237299612732,
          13.668412119045609,
          14.276821035150991,
          15.721014709443704,
          15.944409055477857,
          15.724339281650199,
          16.86753353372574,
          18.0595685175592,
          18.953802548318112,
          20.60767701386323,
          20.78841626029145,
          19.38425993720235,
          19.754207341683493,
          20.583026088050314,
          19.387873363682665,
          18.703726073735208,
          19.68447453323632,
          19.323441877279578,
          17.746445442987035,
          15.496911486450916,
          13.608816304917434
         ],
         "y": [
          15.500553036973269,
          15.151037608142829,
          14.732622850661155,
          14.835517806717183,
          15.984940242942567,
          17.18948351809825,
          17.329797311033758,
          17.756956818362248,
          19.156171727288967,
          19.956189828677132,
          19.97669730272473,
          20.846885765486512,
          22.223539208959412,
          22.587775466374904,
          22.770856086656046,
          23.890662517633025,
          25.31737494282803,
          25.58119645665842,
          24.89551211905525,
          24.56042417633548,
          24.63217198648905,
          25.76907637629518,
          25.472428517900347,
          24.789272795670236,
          23.37282745218615,
          23.603253972269812,
          23.259537845990756,
          21.523008016610426,
          20.844875773296433,
          21.25800508039827,
          20.251968538964583,
          18.62041128516042,
          18.63298552794668,
          18.67087340104151,
          17.223110922272035,
          15.887404284372476,
          16.201463991238743,
          16.411754171848713,
          16.162490983546245,
          16.181351524245066,
          15.708565338808574,
          15.98269015977348,
          14.024512785232764,
          12.577513162281068,
          11.49371825269299,
          12.19185879138119,
          12.136759132065084,
          12.164926702626321,
          10.399414499447863,
          10.488517188134827,
          11.281911820670398,
          13.295860742679627,
          12.915059744077942,
          13.543161428119484,
          15.635556248336272,
          17.409190061588593,
          18.404747771895863,
          18.65042840305881,
          18.27972947435423,
          16.074351184403362,
          16.017572041425456,
          15.806053008126757,
          15.922019242038374,
          15.011934008241429,
          12.933865463797023,
          12.181320129100452,
          10.227927566937499,
          11.01111731640169,
          12.14901604669691,
          11.185625799286466,
          10.743148958452384,
          10.101939427824822,
          10.739153868054954,
          10.276875302791169,
          10.835116686765485,
          11.148053210062082,
          9.60421477286337,
          10.105914117202598,
          9.668571510431518,
          11.246889676159164,
          11.338005337967266,
          11.727544731070058,
          13.02707198882673,
          13.28012188541006,
          13.429400176366192,
          14.082525538310668,
          14.66049087796085,
          17.00390744550142,
          15.613838967244186,
          15.611707125005822,
          18.555019267604653,
          19.72668481191545,
          18.318322449082668,
          19.39732281091297,
          22.305744818589172,
          22.16381742257805,
          21.2559223984754,
          23.646276319674083,
          25.740983293234923,
          24.238677438614253,
          24.52578803378683,
          26.691727498105973,
          28.4010289983115,
          30.452037447741986,
          31.791365641748946,
          29.44263229582146,
          28.990674282360693,
          31.617270174496184,
          31.35782094662296,
          28.947224940896877,
          30.113920365211737,
          32.28225533650621,
          30.551428608989134,
          29.071918205004813,
          31.410789264790964,
          31.855671485465894,
          31.77992355415814,
          31.773032472881845,
          32.01153361888217,
          30.36987828511793,
          30.127086321849692,
          30.543637317076485,
          29.64856998796777,
          28.602218017939993,
          30.77705939373991,
          30.28173795959838,
          27.78760125401036,
          26.632439694277316,
          26.044495208653437
         ],
         "z": [
          5.925318083281367,
          7.929359033627582,
          8.275580518924624,
          7.370877155727742,
          8.485125168256568,
          7.133700225786501,
          4.555626033761163,
          4.837397629362073,
          5.426846851607932,
          3.0575817753352084,
          1.3313743504194964,
          2.357234771122659,
          1.8557181907117566,
          -0.9070678048238794,
          -1.4158283944980077,
          -0.7669050015987015,
          -0.9538204821209725,
          -1.474948486835705,
          0.22786950589121027,
          0.5952352060649758,
          0.9644237704425278,
          1.17692768720095,
          0.7623730919453497,
          1.392825669563103,
          2.3257548334975615,
          1.7236962082273664,
          2.522814478691862,
          4.278308846101632,
          4.317829071732095,
          3.9070630996513613,
          5.406633363643139,
          6.744809619341696,
          6.214640608528313,
          6.427478763541778,
          8.419396859823493,
          9.113028810569585,
          7.806408128482988,
          9.117421003621848,
          10.364865624186866,
          12.394631215331227,
          12.180990158988838,
          12.595030869030413,
          12.39787642405367,
          11.520780088368335,
          11.047590298755045,
          11.159553032410159,
          11.261581841822492,
          11.783787924111945,
          9.796117028966567,
          8.523524509874237,
          6.757640290205522,
          5.619397584455564,
          4.307076021021169,
          3.274021806414815,
          2.920609755315812,
          3.5198791600009827,
          5.253915961834981,
          7.825989529478074,
          10.2172806714653,
          10.92362561403114,
          13.216295804753594,
          14.44837812470314,
          12.765015561516416,
          10.774982285486024,
          9.929562632937214,
          7.98695102219493,
          8.962123524735343,
          9.344674466610048,
          11.170883947122283,
          12.974167021200486,
          14.484391805697545,
          12.914061539119439,
          14.3928508176506,
          13.330879834201784,
          14.720882025106453,
          12.673180723633376,
          12.186159604155419,
          9.924764785287314,
          8.052471525229873,
          7.56086970268939,
          5.342251701756545,
          5.0908189600564455,
          5.255390701710701,
          3.3824148211454115,
          2.0715543233009357,
          1.0381951137617464,
          1.661625531624376,
          3.7676622135730895,
          4.12684125139995,
          5.238856791768217,
          5.965728804064024,
          5.927992067077478,
          6.359121158169703,
          7.5522188234899685,
          7.957126776090121,
          8.027725341128992,
          8.966863600640167,
          9.911963590085957,
          10.174096779030295,
          10.210983857124917,
          11.333106527996211,
          12.205505745245134,
          12.6751130153381,
          10.938317397716299,
          11.743575161114421,
          12.440269516877372,
          10.629813596194765,
          9.733544668983033,
          11.050673595093107,
          10.74233414220836,
          8.742933739393836,
          8.91239249913141,
          10.075987962646204,
          8.751309927270816,
          7.2320379950621625,
          6.996960617020439,
          6.0837369966245,
          4.404591801082733,
          2.9407989789960944,
          3.909571991868229,
          3.628687574651289,
          2.4668222004757916,
          2.3882250533880027,
          3.0425480861585124,
          2.3018363037593956,
          0.17037225373920267,
          0.009707209994513733,
          -0.9981878223223429,
          0.6234406485297767
         ]
        }
       ],
       "layout": {
        "height": 800,
        "margin": {
         "b": 0,
         "l": 0,
         "r": 0,
         "t": 0
        },
        "scene": {
         "aspectmode": "manual",
         "aspectratio": {
          "x": 1,
          "y": 1,
          "z": 1
         },
         "xaxis": {
          "gridcolor": "white",
          "nticks": 0,
          "showbackground": false,
          "showticklabels": false,
          "title": {
           "text": ""
          },
          "zerolinecolor": "white"
         },
         "yaxis": {
          "gridcolor": "white",
          "nticks": 0,
          "showbackground": false,
          "showticklabels": false,
          "title": {
           "text": ""
          },
          "zerolinecolor": "white"
         },
         "zaxis": {
          "gridcolor": "white",
          "nticks": 0,
          "showbackground": false,
          "showticklabels": false,
          "title": {
           "text": ""
          },
          "zerolinecolor": "white"
         }
        },
        "showlegend": false,
        "template": {
         "data": {
          "bar": [
           {
            "error_x": {
             "color": "#2a3f5f"
            },
            "error_y": {
             "color": "#2a3f5f"
            },
            "marker": {
             "line": {
              "color": "#E5ECF6",
              "width": 0.5
             },
             "pattern": {
              "fillmode": "overlay",
              "size": 10,
              "solidity": 0.2
             }
            },
            "type": "bar"
           }
          ],
          "barpolar": [
           {
            "marker": {
             "line": {
              "color": "#E5ECF6",
              "width": 0.5
             },
             "pattern": {
              "fillmode": "overlay",
              "size": 10,
              "solidity": 0.2
             }
            },
            "type": "barpolar"
           }
          ],
          "carpet": [
           {
            "aaxis": {
             "endlinecolor": "#2a3f5f",
             "gridcolor": "white",
             "linecolor": "white",
             "minorgridcolor": "white",
             "startlinecolor": "#2a3f5f"
            },
            "baxis": {
             "endlinecolor": "#2a3f5f",
             "gridcolor": "white",
             "linecolor": "white",
             "minorgridcolor": "white",
             "startlinecolor": "#2a3f5f"
            },
            "type": "carpet"
           }
          ],
          "choropleth": [
           {
            "colorbar": {
             "outlinewidth": 0,
             "ticks": ""
            },
            "type": "choropleth"
           }
          ],
          "contour": [
           {
            "colorbar": {
             "outlinewidth": 0,
             "ticks": ""
            },
            "colorscale": [
             [
              0,
              "#0d0887"
             ],
             [
              0.1111111111111111,
              "#46039f"
             ],
             [
              0.2222222222222222,
              "#7201a8"
             ],
             [
              0.3333333333333333,
              "#9c179e"
             ],
             [
              0.4444444444444444,
              "#bd3786"
             ],
             [
              0.5555555555555556,
              "#d8576b"
             ],
             [
              0.6666666666666666,
              "#ed7953"
             ],
             [
              0.7777777777777778,
              "#fb9f3a"
             ],
             [
              0.8888888888888888,
              "#fdca26"
             ],
             [
              1,
              "#f0f921"
             ]
            ],
            "type": "contour"
           }
          ],
          "contourcarpet": [
           {
            "colorbar": {
             "outlinewidth": 0,
             "ticks": ""
            },
            "type": "contourcarpet"
           }
          ],
          "heatmap": [
           {
            "colorbar": {
             "outlinewidth": 0,
             "ticks": ""
            },
            "colorscale": [
             [
              0,
              "#0d0887"
             ],
             [
              0.1111111111111111,
              "#46039f"
             ],
             [
              0.2222222222222222,
              "#7201a8"
             ],
             [
              0.3333333333333333,
              "#9c179e"
             ],
             [
              0.4444444444444444,
              "#bd3786"
             ],
             [
              0.5555555555555556,
              "#d8576b"
             ],
             [
              0.6666666666666666,
              "#ed7953"
             ],
             [
              0.7777777777777778,
              "#fb9f3a"
             ],
             [
              0.8888888888888888,
              "#fdca26"
             ],
             [
              1,
              "#f0f921"
             ]
            ],
            "type": "heatmap"
           }
          ],
          "heatmapgl": [
           {
            "colorbar": {
             "outlinewidth": 0,
             "ticks": ""
            },
            "colorscale": [
             [
              0,
              "#0d0887"
             ],
             [
              0.1111111111111111,
              "#46039f"
             ],
             [
              0.2222222222222222,
              "#7201a8"
             ],
             [
              0.3333333333333333,
              "#9c179e"
             ],
             [
              0.4444444444444444,
              "#bd3786"
             ],
             [
              0.5555555555555556,
              "#d8576b"
             ],
             [
              0.6666666666666666,
              "#ed7953"
             ],
             [
              0.7777777777777778,
              "#fb9f3a"
             ],
             [
              0.8888888888888888,
              "#fdca26"
             ],
             [
              1,
              "#f0f921"
             ]
            ],
            "type": "heatmapgl"
           }
          ],
          "histogram": [
           {
            "marker": {
             "pattern": {
              "fillmode": "overlay",
              "size": 10,
              "solidity": 0.2
             }
            },
            "type": "histogram"
           }
          ],
          "histogram2d": [
           {
            "colorbar": {
             "outlinewidth": 0,
             "ticks": ""
            },
            "colorscale": [
             [
              0,
              "#0d0887"
             ],
             [
              0.1111111111111111,
              "#46039f"
             ],
             [
              0.2222222222222222,
              "#7201a8"
             ],
             [
              0.3333333333333333,
              "#9c179e"
             ],
             [
              0.4444444444444444,
              "#bd3786"
             ],
             [
              0.5555555555555556,
              "#d8576b"
             ],
             [
              0.6666666666666666,
              "#ed7953"
             ],
             [
              0.7777777777777778,
              "#fb9f3a"
             ],
             [
              0.8888888888888888,
              "#fdca26"
             ],
             [
              1,
              "#f0f921"
             ]
            ],
            "type": "histogram2d"
           }
          ],
          "histogram2dcontour": [
           {
            "colorbar": {
             "outlinewidth": 0,
             "ticks": ""
            },
            "colorscale": [
             [
              0,
              "#0d0887"
             ],
             [
              0.1111111111111111,
              "#46039f"
             ],
             [
              0.2222222222222222,
              "#7201a8"
             ],
             [
              0.3333333333333333,
              "#9c179e"
             ],
             [
              0.4444444444444444,
              "#bd3786"
             ],
             [
              0.5555555555555556,
              "#d8576b"
             ],
             [
              0.6666666666666666,
              "#ed7953"
             ],
             [
              0.7777777777777778,
              "#fb9f3a"
             ],
             [
              0.8888888888888888,
              "#fdca26"
             ],
             [
              1,
              "#f0f921"
             ]
            ],
            "type": "histogram2dcontour"
           }
          ],
          "mesh3d": [
           {
            "colorbar": {
             "outlinewidth": 0,
             "ticks": ""
            },
            "type": "mesh3d"
           }
          ],
          "parcoords": [
           {
            "line": {
             "colorbar": {
              "outlinewidth": 0,
              "ticks": ""
             }
            },
            "type": "parcoords"
           }
          ],
          "pie": [
           {
            "automargin": true,
            "type": "pie"
           }
          ],
          "scatter": [
           {
            "fillpattern": {
             "fillmode": "overlay",
             "size": 10,
             "solidity": 0.2
            },
            "type": "scatter"
           }
          ],
          "scatter3d": [
           {
            "line": {
             "colorbar": {
              "outlinewidth": 0,
              "ticks": ""
             }
            },
            "marker": {
             "colorbar": {
              "outlinewidth": 0,
              "ticks": ""
             }
            },
            "type": "scatter3d"
           }
          ],
          "scattercarpet": [
           {
            "marker": {
             "colorbar": {
              "outlinewidth": 0,
              "ticks": ""
             }
            },
            "type": "scattercarpet"
           }
          ],
          "scattergeo": [
           {
            "marker": {
             "colorbar": {
              "outlinewidth": 0,
              "ticks": ""
             }
            },
            "type": "scattergeo"
           }
          ],
          "scattergl": [
           {
            "marker": {
             "colorbar": {
              "outlinewidth": 0,
              "ticks": ""
             }
            },
            "type": "scattergl"
           }
          ],
          "scattermapbox": [
           {
            "marker": {
             "colorbar": {
              "outlinewidth": 0,
              "ticks": ""
             }
            },
            "type": "scattermapbox"
           }
          ],
          "scatterpolar": [
           {
            "marker": {
             "colorbar": {
              "outlinewidth": 0,
              "ticks": ""
             }
            },
            "type": "scatterpolar"
           }
          ],
          "scatterpolargl": [
           {
            "marker": {
             "colorbar": {
              "outlinewidth": 0,
              "ticks": ""
             }
            },
            "type": "scatterpolargl"
           }
          ],
          "scatterternary": [
           {
            "marker": {
             "colorbar": {
              "outlinewidth": 0,
              "ticks": ""
             }
            },
            "type": "scatterternary"
           }
          ],
          "surface": [
           {
            "colorbar": {
             "outlinewidth": 0,
             "ticks": ""
            },
            "colorscale": [
             [
              0,
              "#0d0887"
             ],
             [
              0.1111111111111111,
              "#46039f"
             ],
             [
              0.2222222222222222,
              "#7201a8"
             ],
             [
              0.3333333333333333,
              "#9c179e"
             ],
             [
              0.4444444444444444,
              "#bd3786"
             ],
             [
              0.5555555555555556,
              "#d8576b"
             ],
             [
              0.6666666666666666,
              "#ed7953"
             ],
             [
              0.7777777777777778,
              "#fb9f3a"
             ],
             [
              0.8888888888888888,
              "#fdca26"
             ],
             [
              1,
              "#f0f921"
             ]
            ],
            "type": "surface"
           }
          ],
          "table": [
           {
            "cells": {
             "fill": {
              "color": "#EBF0F8"
             },
             "line": {
              "color": "white"
             }
            },
            "header": {
             "fill": {
              "color": "#C8D4E3"
             },
             "line": {
              "color": "white"
             }
            },
            "type": "table"
           }
          ]
         },
         "layout": {
          "annotationdefaults": {
           "arrowcolor": "#2a3f5f",
           "arrowhead": 0,
           "arrowwidth": 1
          },
          "autotypenumbers": "strict",
          "coloraxis": {
           "colorbar": {
            "outlinewidth": 0,
            "ticks": ""
           }
          },
          "colorscale": {
           "diverging": [
            [
             0,
             "#8e0152"
            ],
            [
             0.1,
             "#c51b7d"
            ],
            [
             0.2,
             "#de77ae"
            ],
            [
             0.3,
             "#f1b6da"
            ],
            [
             0.4,
             "#fde0ef"
            ],
            [
             0.5,
             "#f7f7f7"
            ],
            [
             0.6,
             "#e6f5d0"
            ],
            [
             0.7,
             "#b8e186"
            ],
            [
             0.8,
             "#7fbc41"
            ],
            [
             0.9,
             "#4d9221"
            ],
            [
             1,
             "#276419"
            ]
           ],
           "sequential": [
            [
             0,
             "#0d0887"
            ],
            [
             0.1111111111111111,
             "#46039f"
            ],
            [
             0.2222222222222222,
             "#7201a8"
            ],
            [
             0.3333333333333333,
             "#9c179e"
            ],
            [
             0.4444444444444444,
             "#bd3786"
            ],
            [
             0.5555555555555556,
             "#d8576b"
            ],
            [
             0.6666666666666666,
             "#ed7953"
            ],
            [
             0.7777777777777778,
             "#fb9f3a"
            ],
            [
             0.8888888888888888,
             "#fdca26"
            ],
            [
             1,
             "#f0f921"
            ]
           ],
           "sequentialminus": [
            [
             0,
             "#0d0887"
            ],
            [
             0.1111111111111111,
             "#46039f"
            ],
            [
             0.2222222222222222,
             "#7201a8"
            ],
            [
             0.3333333333333333,
             "#9c179e"
            ],
            [
             0.4444444444444444,
             "#bd3786"
            ],
            [
             0.5555555555555556,
             "#d8576b"
            ],
            [
             0.6666666666666666,
             "#ed7953"
            ],
            [
             0.7777777777777778,
             "#fb9f3a"
            ],
            [
             0.8888888888888888,
             "#fdca26"
            ],
            [
             1,
             "#f0f921"
            ]
           ]
          },
          "colorway": [
           "#636efa",
           "#EF553B",
           "#00cc96",
           "#ab63fa",
           "#FFA15A",
           "#19d3f3",
           "#FF6692",
           "#B6E880",
           "#FF97FF",
           "#FECB52"
          ],
          "font": {
           "color": "#2a3f5f"
          },
          "geo": {
           "bgcolor": "white",
           "lakecolor": "white",
           "landcolor": "#E5ECF6",
           "showlakes": true,
           "showland": true,
           "subunitcolor": "white"
          },
          "hoverlabel": {
           "align": "left"
          },
          "hovermode": "closest",
          "mapbox": {
           "style": "light"
          },
          "paper_bgcolor": "white",
          "plot_bgcolor": "#E5ECF6",
          "polar": {
           "angularaxis": {
            "gridcolor": "white",
            "linecolor": "white",
            "ticks": ""
           },
           "bgcolor": "#E5ECF6",
           "radialaxis": {
            "gridcolor": "white",
            "linecolor": "white",
            "ticks": ""
           }
          },
          "scene": {
           "xaxis": {
            "backgroundcolor": "#E5ECF6",
            "gridcolor": "white",
            "gridwidth": 2,
            "linecolor": "white",
            "showbackground": true,
            "ticks": "",
            "zerolinecolor": "white"
           },
           "yaxis": {
            "backgroundcolor": "#E5ECF6",
            "gridcolor": "white",
            "gridwidth": 2,
            "linecolor": "white",
            "showbackground": true,
            "ticks": "",
            "zerolinecolor": "white"
           },
           "zaxis": {
            "backgroundcolor": "#E5ECF6",
            "gridcolor": "white",
            "gridwidth": 2,
            "linecolor": "white",
            "showbackground": true,
            "ticks": "",
            "zerolinecolor": "white"
           }
          },
          "shapedefaults": {
           "line": {
            "color": "#2a3f5f"
           }
          },
          "ternary": {
           "aaxis": {
            "gridcolor": "white",
            "linecolor": "white",
            "ticks": ""
           },
           "baxis": {
            "gridcolor": "white",
            "linecolor": "white",
            "ticks": ""
           },
           "bgcolor": "#E5ECF6",
           "caxis": {
            "gridcolor": "white",
            "linecolor": "white",
            "ticks": ""
           }
          },
          "title": {
           "x": 0.05
          },
          "xaxis": {
           "automargin": true,
           "gridcolor": "white",
           "linecolor": "white",
           "ticks": "",
           "title": {
            "standoff": 15
           },
           "zerolinecolor": "white",
           "zerolinewidth": 2
          },
          "yaxis": {
           "automargin": true,
           "gridcolor": "white",
           "linecolor": "white",
           "ticks": "",
           "title": {
            "standoff": 15
           },
           "zerolinecolor": "white",
           "zerolinewidth": 2
          }
         }
        },
        "width": 800
       }
      }
     },
     "metadata": {},
     "output_type": "display_data"
    }
   ],
   "source": [
    "CDT.overlayCluster(MolPath,RunName,0)"
   ]
  }
 ],
 "metadata": {
  "kernelspec": {
   "display_name": "Python 3 (ipykernel)",
   "language": "python",
   "name": "python3"
  },
  "language_info": {
   "codemirror_mode": {
    "name": "ipython",
    "version": 3
   },
   "file_extension": ".py",
   "mimetype": "text/x-python",
   "name": "python",
   "nbconvert_exporter": "python",
   "pygments_lexer": "ipython3",
   "version": "3.11.7"
  }
 },
 "nbformat": 4,
 "nbformat_minor": 5
}
