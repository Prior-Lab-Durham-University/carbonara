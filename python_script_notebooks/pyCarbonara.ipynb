{
 "cells": [
  {
   "cell_type": "code",
   "execution_count": 53,
   "metadata": {},
   "outputs": [
    {
     "name": "stdout",
     "output_type": "stream",
     "text": [
      "number of chains 1\n"
     ]
    },
    {
     "data": {
      "text/plain": [
       "True"
      ]
     },
     "execution_count": 53,
     "metadata": {},
     "output_type": "execute_result"
    }
   ],
   "source": [
    "from molecule_wrapper import init_molecule, try_update, accept_update, get_current_coords, clear_state\n",
    "\n",
    "from wiggle.geometry import get_pair_rmsd \n",
    "\n",
    "import os\n",
    "from glob import glob\n",
    "from tqdm import tqdm\n",
    "\n",
    "import pandas as pd\n",
    "import numpy as np\n",
    "from scipy.spatial.distance import pdist, cdist\n",
    "\n",
    "from typing import List, Tuple\n",
    "import ast\n",
    "\n",
    "\n",
    "\n",
    "# # Initialize - use \n",
    "coords = '/Users/josh/Documents/PhD/DevDungeon/carbonara/newFitData/SASDCP8/SAS_8_3segs/mol1_sub_0_end_xyz.dat'\n",
    "fp =  '/Users/josh/Documents/PhD/DevDungeon/carbonara/newFitData/SASDCP8/fingerPrint1.dat'\n",
    "init_molecule(fp, coords)\n",
    "\n",
    "# # Try update\n",
    "# coords = try_update(1)\n",
    "# if coords is not None:\n",
    "#     print(\"Update successful\")"
   ]
  },
  {
   "cell_type": "code",
   "execution_count": 56,
   "metadata": {},
   "outputs": [
    {
     "data": {
      "text/plain": [
       "array([[  0.        ,   0.        ,   0.        ],\n",
       "       [  0.        ,   0.        ,   0.        ],\n",
       "       [  0.        ,   0.        ,   0.        ],\n",
       "       [  0.        ,   0.        ,   0.        ],\n",
       "       [  0.        ,   0.        ,   0.        ],\n",
       "       [  0.        ,   0.        ,   0.        ],\n",
       "       [  0.        ,   0.        ,   0.        ],\n",
       "       [  0.        ,   0.        ,   0.        ],\n",
       "       [  0.        ,   0.        ,   0.        ],\n",
       "       [ -1.75173069,  -2.86196935,  -4.7769417 ],\n",
       "       [ -4.31278488,  -3.99993951,  -7.63786203],\n",
       "       [-10.32569813,  -2.94148997,  -7.70753835],\n",
       "       [-11.74843428,  -3.92837402, -11.8091137 ],\n",
       "       [-15.13914255,  -3.11672513, -12.23852357],\n",
       "       [-16.2764694 ,  -2.72648939, -13.27144462],\n",
       "       [-15.09735505,  -2.93054228,  -8.74100274],\n",
       "       [-14.75831311,  -3.11420922, -10.74404463],\n",
       "       [-13.99561644,  -3.75105142,  -8.31279394],\n",
       "       [-11.15071738,  -6.5841568 ,  -6.98712515],\n",
       "       [ -4.95796143,  -8.7145224 ,  -5.35017783],\n",
       "       [ -2.96410319,  -6.73053499,   1.03316342],\n",
       "       [ -1.79735564,  -1.45643407,   4.19629965],\n",
       "       [  1.80049723,   1.09722764,   8.79313542],\n",
       "       [  1.80049723,   1.09722764,   8.79313542],\n",
       "       [  1.80049723,   1.09722764,   8.79313542],\n",
       "       [  1.80049723,   1.09722764,   8.79313542],\n",
       "       [  1.80049723,   1.09722764,   8.79313542],\n",
       "       [  1.80049723,   1.09722764,   8.79313542],\n",
       "       [  1.80049723,   1.09722764,   8.79313542],\n",
       "       [  1.80049723,   1.09722764,   8.79313542],\n",
       "       [  1.80049723,   1.09722764,   8.79313542],\n",
       "       [  1.80049723,   1.09722764,   8.79313542],\n",
       "       [  1.80049723,   1.09722764,   8.79313542],\n",
       "       [  1.80049723,   1.09722764,   8.79313542],\n",
       "       [  1.80049723,   1.09722764,   8.79313542],\n",
       "       [  1.80049723,   1.09722764,   8.79313542],\n",
       "       [  1.80049723,   1.09722764,   8.79313542],\n",
       "       [  1.80049723,   1.09722764,   8.79313542],\n",
       "       [  1.80049723,   1.09722764,   8.79313542],\n",
       "       [  1.80049723,   1.09722764,   8.79313542],\n",
       "       [  1.80049723,   1.09722764,   8.79313542],\n",
       "       [  1.80049723,   1.09722764,   8.79313542],\n",
       "       [  1.80049723,   1.09722764,   8.79313542],\n",
       "       [  1.80049723,   1.09722764,   8.79313542],\n",
       "       [  1.80049723,   1.09722764,   8.79313542],\n",
       "       [  1.80049723,   1.09722764,   8.79313542],\n",
       "       [  1.80049723,   1.09722764,   8.79313542],\n",
       "       [  1.80049723,   1.09722764,   8.79313542],\n",
       "       [  1.80049723,   1.09722764,   8.79313542],\n",
       "       [  1.80049723,   1.09722764,   8.79313542],\n",
       "       [  1.80049723,   1.09722764,   8.79313542],\n",
       "       [  1.80049723,   1.09722764,   8.79313542],\n",
       "       [  1.80049723,   1.09722764,   8.79313542],\n",
       "       [  1.80049723,   1.09722764,   8.79313542],\n",
       "       [  1.80049723,   1.09722764,   8.79313542],\n",
       "       [  1.80049723,   1.09722764,   8.79313542],\n",
       "       [  1.80049723,   1.09722764,   8.79313542],\n",
       "       [  1.80049723,   1.09722764,   8.79313542],\n",
       "       [  1.80049723,   1.09722764,   8.79313542],\n",
       "       [  1.80049723,   1.09722764,   8.79313542],\n",
       "       [  1.80049723,   1.09722764,   8.79313542],\n",
       "       [  1.80049723,   1.09722764,   8.79313542],\n",
       "       [  1.80049723,   1.09722764,   8.79313542],\n",
       "       [  1.80049723,   1.09722764,   8.79313542],\n",
       "       [  1.80049723,   1.09722764,   8.79313542],\n",
       "       [  1.80049723,   1.09722764,   8.79313542],\n",
       "       [  1.80049723,   1.09722764,   8.79313542],\n",
       "       [  1.80049723,   1.09722764,   8.79313542],\n",
       "       [  1.80049723,   1.09722764,   8.79313542],\n",
       "       [  1.80049723,   1.09722764,   8.79313542],\n",
       "       [  1.80049723,   1.09722764,   8.79313542],\n",
       "       [  1.80049723,   1.09722764,   8.79313542],\n",
       "       [  1.80049723,   1.09722764,   8.79313542],\n",
       "       [  1.80049723,   1.09722764,   8.79313542],\n",
       "       [  1.80049723,   1.09722764,   8.79313542],\n",
       "       [  1.80049723,   1.09722764,   8.79313542],\n",
       "       [  1.80049723,   1.09722764,   8.79313542],\n",
       "       [  1.80049723,   1.09722764,   8.79313542],\n",
       "       [  1.80049723,   1.09722764,   8.79313542],\n",
       "       [  1.80049723,   1.09722764,   8.79313542],\n",
       "       [  1.80049723,   1.09722764,   8.79313542],\n",
       "       [  1.80049723,   1.09722764,   8.79313542],\n",
       "       [  1.80049723,   1.09722764,   8.79313542],\n",
       "       [  1.80049723,   1.09722764,   8.79313542],\n",
       "       [  1.80049723,   1.09722764,   8.79313542],\n",
       "       [  1.80049723,   1.09722764,   8.79313542],\n",
       "       [  1.80049723,   1.09722764,   8.79313542],\n",
       "       [  1.80049723,   1.09722764,   8.79313542],\n",
       "       [  1.80049723,   1.09722764,   8.79313542],\n",
       "       [  1.80049723,   1.09722764,   8.79313542],\n",
       "       [  1.80049723,   1.09722764,   8.79313542],\n",
       "       [  1.80049723,   1.09722764,   8.79313542],\n",
       "       [  1.80049723,   1.09722764,   8.79313542],\n",
       "       [  1.80049723,   1.09722764,   8.79313542],\n",
       "       [  1.80049723,   1.09722764,   8.79313542],\n",
       "       [  1.80049723,   1.09722764,   8.79313542],\n",
       "       [  1.80049723,   1.09722764,   8.79313542],\n",
       "       [  1.80049723,   1.09722764,   8.79313542],\n",
       "       [  1.80049723,   1.09722764,   8.79313542],\n",
       "       [  1.80049723,   1.09722764,   8.79313542],\n",
       "       [  1.80049723,   1.09722764,   8.79313542],\n",
       "       [  1.80049723,   1.09722764,   8.79313542],\n",
       "       [  1.80049723,   1.09722764,   8.79313542],\n",
       "       [  1.80049723,   1.09722764,   8.79313542],\n",
       "       [  1.80049723,   1.09722764,   8.79313542],\n",
       "       [  1.80049723,   1.09722764,   8.79313542],\n",
       "       [  1.80049723,   1.09722764,   8.79313542],\n",
       "       [  1.80049723,   1.09722764,   8.79313542],\n",
       "       [  1.80049723,   1.09722764,   8.79313542],\n",
       "       [  1.80049723,   1.09722764,   8.79313542],\n",
       "       [  1.80049723,   1.09722764,   8.79313542],\n",
       "       [  1.80049723,   1.09722764,   8.79313542],\n",
       "       [  1.80049723,   1.09722764,   8.79313542],\n",
       "       [  1.80049723,   1.09722764,   8.79313542],\n",
       "       [  1.80049723,   1.09722764,   8.79313542],\n",
       "       [  1.80049723,   1.09722764,   8.79313542],\n",
       "       [  1.80049723,   1.09722764,   8.79313542],\n",
       "       [  1.80049723,   1.09722764,   8.79313542],\n",
       "       [  1.80049723,   1.09722764,   8.79313542],\n",
       "       [  1.80049723,   1.09722764,   8.79313542],\n",
       "       [  1.80049723,   1.09722764,   8.79313542],\n",
       "       [  1.80049723,   1.09722764,   8.79313542],\n",
       "       [  1.80049723,   1.09722764,   8.79313542],\n",
       "       [  1.80049723,   1.09722764,   8.79313542],\n",
       "       [  1.80049723,   1.09722764,   8.79313542],\n",
       "       [  1.80049723,   1.09722764,   8.79313542],\n",
       "       [  1.80049723,   1.09722764,   8.79313542],\n",
       "       [  1.80049723,   1.09722764,   8.79313542],\n",
       "       [  1.80049723,   1.09722764,   8.79313542],\n",
       "       [  1.80049723,   1.09722764,   8.79313542],\n",
       "       [  1.80049723,   1.09722764,   8.79313542],\n",
       "       [  1.80049723,   1.09722764,   8.79313542],\n",
       "       [  1.80049723,   1.09722764,   8.79313542],\n",
       "       [  1.80049723,   1.09722764,   8.79313542],\n",
       "       [  1.80049723,   1.09722764,   8.79313542],\n",
       "       [  1.80049723,   1.09722764,   8.79313542],\n",
       "       [  1.80049723,   1.09722764,   8.79313542],\n",
       "       [  1.80049723,   1.09722764,   8.79313542],\n",
       "       [  1.80049723,   1.09722764,   8.79313542],\n",
       "       [  1.80049723,   1.09722764,   8.79313542],\n",
       "       [  1.80049723,   1.09722764,   8.79313542],\n",
       "       [  1.80049723,   1.09722764,   8.79313542],\n",
       "       [  1.80049723,   1.09722764,   8.79313542],\n",
       "       [  1.80049723,   1.09722764,   8.79313542],\n",
       "       [  1.80049723,   1.09722764,   8.79313542],\n",
       "       [  1.80049723,   1.09722764,   8.79313542],\n",
       "       [  1.80049723,   1.09722764,   8.79313542],\n",
       "       [  1.80049723,   1.09722764,   8.79313542],\n",
       "       [  1.80049723,   1.09722764,   8.79313542],\n",
       "       [  1.80049723,   1.09722764,   8.79313542],\n",
       "       [  1.80049723,   1.09722764,   8.79313542],\n",
       "       [  1.80049723,   1.09722764,   8.79313542],\n",
       "       [  1.80049723,   1.09722764,   8.79313542],\n",
       "       [  1.80049723,   1.09722764,   8.79313542],\n",
       "       [  1.80049723,   1.09722764,   8.79313542],\n",
       "       [  1.80049723,   1.09722764,   8.79313542],\n",
       "       [  1.80049723,   1.09722764,   8.79313542],\n",
       "       [  1.80049723,   1.09722764,   8.79313542],\n",
       "       [  1.80049723,   1.09722764,   8.79313542],\n",
       "       [  1.80049723,   1.09722764,   8.79313542],\n",
       "       [  1.80049723,   1.09722764,   8.79313542],\n",
       "       [  1.80049723,   1.09722764,   8.79313542],\n",
       "       [  1.80049723,   1.09722764,   8.79313542],\n",
       "       [  1.80049723,   1.09722764,   8.79313542],\n",
       "       [  1.80049723,   1.09722764,   8.79313542],\n",
       "       [  1.80049723,   1.09722764,   8.79313542],\n",
       "       [  1.80049723,   1.09722764,   8.79313542],\n",
       "       [  1.80049723,   1.09722764,   8.79313542],\n",
       "       [  1.80049723,   1.09722764,   8.79313542],\n",
       "       [  1.80049723,   1.09722764,   8.79313542],\n",
       "       [  1.80049723,   1.09722764,   8.79313542],\n",
       "       [  1.80049723,   1.09722764,   8.79313542],\n",
       "       [  1.80049723,   1.09722764,   8.79313542],\n",
       "       [  1.80049723,   1.09722764,   8.79313542],\n",
       "       [  1.80049723,   1.09722764,   8.79313542],\n",
       "       [  1.80049723,   1.09722764,   8.79313542],\n",
       "       [  1.80049723,   1.09722764,   8.79313542],\n",
       "       [  1.80049723,   1.09722764,   8.79313542],\n",
       "       [  1.80049723,   1.09722764,   8.79313542],\n",
       "       [  1.80049723,   1.09722764,   8.79313542],\n",
       "       [  1.80049723,   1.09722764,   8.79313542],\n",
       "       [  1.80049723,   1.09722764,   8.79313542],\n",
       "       [  1.80049723,   1.09722764,   8.79313542],\n",
       "       [  1.80049723,   1.09722764,   8.79313542],\n",
       "       [  1.80049723,   1.09722764,   8.79313542],\n",
       "       [  1.80049723,   1.09722764,   8.79313542],\n",
       "       [  1.80049723,   1.09722764,   8.79313542],\n",
       "       [  1.80049723,   1.09722764,   8.79313542],\n",
       "       [  1.80049723,   1.09722764,   8.79313542],\n",
       "       [  1.80049723,   1.09722764,   8.79313542],\n",
       "       [  1.80049723,   1.09722764,   8.79313542],\n",
       "       [  1.80049723,   1.09722764,   8.79313542],\n",
       "       [  1.80049723,   1.09722764,   8.79313542],\n",
       "       [  1.80049723,   1.09722764,   8.79313542],\n",
       "       [  1.80049723,   1.09722764,   8.79313542],\n",
       "       [  1.80049723,   1.09722764,   8.79313542],\n",
       "       [  1.80049723,   1.09722764,   8.79313542],\n",
       "       [  1.80049723,   1.09722764,   8.79313542],\n",
       "       [  1.80049723,   1.09722764,   8.79313542],\n",
       "       [  1.80049723,   1.09722764,   8.79313542],\n",
       "       [  1.80049723,   1.09722764,   8.79313542],\n",
       "       [  1.80049723,   1.09722764,   8.79313542],\n",
       "       [  1.80049723,   1.09722764,   8.79313542],\n",
       "       [  1.80049723,   1.09722764,   8.79313542],\n",
       "       [  1.80049723,   1.09722764,   8.79313542],\n",
       "       [  1.80049723,   1.09722764,   8.79313542],\n",
       "       [  1.80049723,   1.09722764,   8.79313542],\n",
       "       [  1.80049723,   1.09722764,   8.79313542],\n",
       "       [  1.80049723,   1.09722764,   8.79313542],\n",
       "       [  1.80049723,   1.09722764,   8.79313542]])"
      ]
     },
     "execution_count": 56,
     "metadata": {},
     "output_type": "execute_result"
    }
   ],
   "source": [
    "try_update(1) - get_current_coords()"
   ]
  },
  {
   "cell_type": "code",
   "execution_count": 54,
   "metadata": {},
   "outputs": [
    {
     "data": {
      "text/plain": [
       "array([[-28.439   , -19.476   ,   7.402   ],\n",
       "       [-26.527   , -20.488   ,   4.245   ],\n",
       "       [-22.815   , -19.993   ,   4.96    ],\n",
       "       [-22.032   , -17.477   ,   2.201   ],\n",
       "       [-18.904   , -19.078   ,   0.776   ],\n",
       "       [-16.292   , -16.309   ,   0.827   ],\n",
       "       [-16.398   , -14.586   ,  -2.597   ],\n",
       "       [-12.636   , -15.312   ,  -2.806   ],\n",
       "       [-10.202   , -18.094   ,  -1.765   ],\n",
       "       [ -7.494   , -15.603   ,  -0.658   ],\n",
       "       [ -7.206   , -11.955   ,   0.454   ],\n",
       "       [ -3.761   , -10.422   ,  -0.147   ],\n",
       "       [ -2.872   ,  -6.941   ,   1.07    ],\n",
       "       [ -0.304   ,  -5.313   ,  -1.224   ],\n",
       "       [  1.546   ,  -2.055   ,  -0.572   ],\n",
       "       [  3.009   ,   0.222   ,  -3.262   ],\n",
       "       [  5.973   ,   2.269   ,  -1.99    ],\n",
       "       [  8.63    ,   4.46    ,  -3.641   ],\n",
       "       [  9.38    ,   8.121   ,  -4.292   ],\n",
       "       [  6.897   ,  10.803   ,  -5.309   ],\n",
       "       [  6.567   ,  11.082   ,  -9.123   ],\n",
       "       [  7.848   ,   7.516   ,  -9.974   ],\n",
       "       [  4.334   ,   6.648   , -11.269   ],\n",
       "       [  2.976   ,   4.428   ,  -8.378   ],\n",
       "       [ -0.561   ,   5.81    ,  -8.863   ],\n",
       "       [ -0.262   ,   5.342   , -12.667   ],\n",
       "       [  0.715   ,   1.645   , -12.137   ],\n",
       "       [ -2.25    ,   1.181   ,  -9.758   ],\n",
       "       [ -4.695   ,   2.961   , -12.126   ],\n",
       "       [ -3.424   ,   0.921   , -15.119   ],\n",
       "       [ -3.823   ,  -2.349   , -13.176   ],\n",
       "       [ -7.186   ,  -1.414   , -11.635   ],\n",
       "       [ -9.012   ,   0.543   , -14.43    ],\n",
       "       [ -9.066   ,  -2.469   , -16.838   ],\n",
       "       [-11.521   ,  -4.068   , -14.319   ],\n",
       "       [-14.551   ,  -2.888   , -12.29    ],\n",
       "       [-12.566   ,  -1.474   ,  -9.364   ],\n",
       "       [-14.384   ,  -0.18    ,  -6.341   ],\n",
       "       [-12.082   ,   2.757   ,  -5.622   ],\n",
       "       [-12.361   ,   3.467   ,  -1.92    ],\n",
       "       [-10.74    ,   6.896   ,  -1.597   ],\n",
       "       [ -9.38    ,   6.754   ,   1.933   ],\n",
       "       [ -9.108   ,  10.415   ,   3.04    ],\n",
       "       [ -5.972   ,   9.464   ,   5.117   ],\n",
       "       [ -3.415   ,  10.06    ,   2.291   ],\n",
       "       [ -3.357   ,   6.329   ,   1.347   ],\n",
       "       [ -5.595   ,   5.385   ,  -1.557   ],\n",
       "       [ -6.491   ,   1.729   ,  -2.015   ],\n",
       "       [ -7.987   ,  -0.223   ,  -4.906   ],\n",
       "       [ -9.427   ,  -3.732   ,  -4.88    ],\n",
       "       [ -8.946   ,  -6.09    ,  -7.849   ],\n",
       "       [ -9.985   ,  -9.745   ,  -7.962   ],\n",
       "       [ -7.761   , -12.06    , -10.051   ],\n",
       "       [ -7.767   , -15.765   , -10.911   ],\n",
       "       [ -4.533   , -17.7     , -10.273   ],\n",
       "       [ -4.289   , -21.517   , -10.719   ],\n",
       "       [ -8.099   , -21.912   , -10.382   ],\n",
       "       [ -8.141   , -19.787   ,  -7.175   ],\n",
       "       [ -9.958   , -16.472   ,  -6.8     ],\n",
       "       [ -7.617   , -13.958   ,  -5.134   ],\n",
       "       [ -8.855   , -10.588   ,  -3.857   ],\n",
       "       [ -5.981   ,  -8.073   ,  -4.013   ],\n",
       "       [ -6.248   ,  -5.041   ,  -1.721   ],\n",
       "       [ -3.598   ,  -2.694   ,  -3.156   ],\n",
       "       [ -2.589   ,   0.324   ,  -1.069   ],\n",
       "       [ -0.883   ,   3.258   ,  -2.802   ],\n",
       "       [  1.348   ,   5.428   ,  -0.592   ],\n",
       "       [  1.922   ,   9.113   ,  -1.313   ],\n",
       "       [  5.773   ,   8.541   ,  -1.231   ],\n",
       "       [  6.228   ,  11.864   ,   0.605   ],\n",
       "       [  8.388   ,  11.768   ,   3.778   ],\n",
       "       [  5.61    ,  13.442   ,   5.857   ],\n",
       "       [  3.446   ,  10.322   ,   5.291   ],\n",
       "       [  6.178   ,   7.701   ,   6.111   ],\n",
       "       [  5.052   ,   7.527   ,   9.787   ],\n",
       "       [  1.458   ,   6.734   ,   8.672   ],\n",
       "       [  2.69    ,   4.385   ,   5.896   ],\n",
       "       [  4.838   ,   2.324   ,   8.347   ],\n",
       "       [  1.6     ,   1.231   ,  10.11    ],\n",
       "       [  0.504   ,  -0.422   ,   6.823   ],\n",
       "       [  3.792   ,  -2.394   ,   6.414   ],\n",
       "       [  3.001   ,  -4.889   ,   9.239   ],\n",
       "       [ -0.343   ,  -5.904   ,   7.653   ],\n",
       "       [  1.07    ,  -6.278   ,   4.101   ],\n",
       "       [  1.497   ,  -9.743   ,   2.543   ],\n",
       "       [  3.574   ,  -8.21    ,  -0.283   ],\n",
       "       [  5.353   ,  -4.874   ,  -0.829   ],\n",
       "       [  6.168   ,  -3.495   ,  -4.284   ],\n",
       "       [  8.979   ,  -0.915   ,  -4.351   ],\n",
       "       [  8.635   ,   1.31    ,  -7.429   ],\n",
       "       [ 11.373   ,   3.517   ,  -8.862   ],\n",
       "       [ 11.724   ,   5.473   , -12.119   ],\n",
       "       [ 14.51    ,   4.082   , -14.379   ],\n",
       "       [ 14.903   ,   7.598   , -15.874   ],\n",
       "       [ 15.559   ,   9.141   , -12.436   ],\n",
       "       [ 19.051   ,   9.003   , -10.827   ],\n",
       "       [ 17.497   ,   8.719   ,  -7.322   ],\n",
       "       [ 18.029   ,   4.899   ,  -7.224   ],\n",
       "       [ 19.672   ,   5.535   ,  -3.804   ],\n",
       "       [ 16.131   ,   6.108   ,  -2.415   ],\n",
       "       [ 15.289   ,   2.455   ,  -3.348   ],\n",
       "       [ 17.873   ,   1.365   ,  -0.703   ],\n",
       "       [ 16.112   ,   3.544   ,   1.909   ],\n",
       "       [ 12.691   ,   2.084   ,   0.961   ],\n",
       "       [ 14.078   ,  -1.492   ,   1.249   ],\n",
       "       [ 15.568   ,  -0.633   ,   4.691   ],\n",
       "       [ 12.092   ,   0.669   ,   5.735   ],\n",
       "       [ 10.599   ,  -2.712   ,   4.674   ],\n",
       "       [ 13.205   ,  -4.573   ,   6.775   ],\n",
       "       [ 12.491   ,  -2.278   ,   9.781   ],\n",
       "       [  8.657   ,  -2.119   ,   9.691   ],\n",
       "       [  7.294   ,  -5.039   ,   7.638   ],\n",
       "       [  6.704   ,  -8.625   ,   8.745   ],\n",
       "       [  9.869   , -10.792   ,   8.408   ],\n",
       "       [  8.127   , -13.1     ,   5.883   ],\n",
       "       [  6.774   , -10.272   ,   3.621   ],\n",
       "       [  7.098   , -10.881   ,  -0.126   ],\n",
       "       [  9.076   ,  -8.095   ,  -1.845   ],\n",
       "       [  9.186   ,  -7.011   ,  -5.502   ],\n",
       "       [ 11.384   ,  -4.317   ,  -7.034   ],\n",
       "       [  9.769   ,  -2.609   , -10.059   ],\n",
       "       [ 11.652   ,  -0.299   , -12.411   ],\n",
       "       [  8.972   ,   1.829   , -14.083   ],\n",
       "       [  9.812   ,   3.314   , -17.493   ],\n",
       "       [  7.531   ,   6.392   , -17.55    ],\n",
       "       [  8.651   ,   7.017   , -21.137   ],\n",
       "       [ 10.578   ,   4.966   , -23.727   ],\n",
       "       [ 12.97    ,   7.949   , -23.531   ],\n",
       "       [ 16.477   ,   6.796   , -24.502   ],\n",
       "       [ 17.975   ,   8.083   , -21.202   ],\n",
       "       [ 17.883   ,   5.052   , -18.935   ],\n",
       "       [ 20.004   ,   6.389   , -16.075   ],\n",
       "       [ 19.591   ,   3.226   , -13.984   ],\n",
       "       [ 20.93    ,   0.212   , -15.875   ],\n",
       "       [ 18.889   ,  -3.022   , -15.668   ],\n",
       "       [ 22.068   ,  -4.89    , -14.625   ],\n",
       "       [ 22.746   ,  -2.63    , -11.597   ],\n",
       "       [ 19.128   ,  -2.847   , -10.365   ],\n",
       "       [ 19.032   ,  -6.639   , -10.998   ],\n",
       "       [ 22.315   ,  -7.314   ,  -9.132   ],\n",
       "       [ 21.05    ,  -5.165   ,  -6.23    ],\n",
       "       [ 17.695   ,  -7.022   ,  -6.101   ],\n",
       "       [ 19.442   , -10.442   ,  -6.369   ],\n",
       "       [ 21.841   ,  -9.495   ,  -3.499   ],\n",
       "       [ 18.724   ,  -9.087   ,  -1.287   ],\n",
       "       [ 16.855   , -12.159   ,  -2.673   ],\n",
       "       [ 14.171   ,  -9.797   ,  -4.084   ],\n",
       "       [ 12.532   , -10.489   ,  -7.492   ],\n",
       "       [ 13.052   ,  -7.642   ,  -9.989   ],\n",
       "       [ 10.893   ,  -6.604   , -12.962   ],\n",
       "       [ 11.114   ,  -3.715   , -15.401   ],\n",
       "       [  7.681   ,  -2.287   , -16.315   ],\n",
       "       [  6.596   ,   0.341   , -18.818   ],\n",
       "       [  3.682   ,   2.62    , -17.887   ],\n",
       "       [  2.717   ,   2.439   , -21.629   ],\n",
       "       [  2.504   ,  -1.396   , -21.549   ],\n",
       "       [ -0.44    ,  -2.476   , -19.331   ],\n",
       "       [  0.755   ,  -6.136   , -19.7     ],\n",
       "       [  4.024   ,  -5.479   , -17.775   ],\n",
       "       [  2.093   ,  -3.764   , -14.942   ],\n",
       "       [ -0.331   ,  -6.693   , -14.717   ],\n",
       "       [  2.579   ,  -9.209   , -14.785   ],\n",
       "       [  4.164   ,  -7.434   , -11.75    ],\n",
       "       [  0.986   ,  -7.82    ,  -9.632   ],\n",
       "       [  0.414   , -11.416   , -10.888   ],\n",
       "       [  4.049   , -12.338   ,  -9.991   ],\n",
       "       [  3.617   , -10.825   ,  -6.505   ],\n",
       "       [  0.292   , -12.702   ,  -5.997   ],\n",
       "       [  1.893   , -16.013   ,  -7.131   ],\n",
       "       [  4.852   , -15.589   ,  -4.699   ],\n",
       "       [  2.476   , -14.758   ,  -1.783   ],\n",
       "       [  0.208   , -17.741   ,  -2.653   ],\n",
       "       [  3.286   , -20.059   ,  -2.789   ],\n",
       "       [  4.456   , -18.803   ,   0.66    ],\n",
       "       [  0.979   , -18.992   ,   2.289   ],\n",
       "       [  1.11954 , -22.6607  ,   1.62419 ],\n",
       "       [  0.741603, -25.8397  ,  -0.367018],\n",
       "       [ -0.410148, -26.9392  ,  -3.87412 ],\n",
       "       [  1.98137 , -23.9991  ,  -3.72642 ],\n",
       "       [  5.47666 , -24.4465  ,  -2.36566 ],\n",
       "       [  4.60348 , -27.2804  ,  -4.70688 ],\n",
       "       [  3.06977 , -26.4656  ,  -8.15955 ],\n",
       "       [  5.97316 , -24.0712  ,  -8.02769 ],\n",
       "       [  8.97682 , -26.2915  ,  -7.88077 ],\n",
       "       [  7.80444 , -28.9741  , -10.2317  ],\n",
       "       [  8.3753  , -27.2983  , -13.6048  ],\n",
       "       [  7.75428 , -28.0872  , -17.2702  ],\n",
       "       [  5.23036 , -30.7797  , -16.3632  ],\n",
       "       [  3.37434 , -28.3986  , -14.0549  ],\n",
       "       [  0.382394, -28.3737  , -16.2352  ],\n",
       "       [ -0.457946, -27.8724  , -19.979   ],\n",
       "       [ -3.58212 , -28.1759  , -21.9868  ],\n",
       "       [ -7.17481 , -29.5775  , -21.4759  ],\n",
       "       [ -8.04509 , -31.2865  , -24.6698  ],\n",
       "       [ -8.14695 , -35.0188  , -23.847   ],\n",
       "       [ -7.60896 , -35.6251  , -20.0497  ],\n",
       "       [-11.2929  , -35.6848  , -19.0763  ],\n",
       "       [-12.5088  , -39.1083  , -20.1919  ],\n",
       "       [-15.0568  , -39.2284  , -17.3748  ],\n",
       "       [-16.3712  , -35.7811  , -18.2865  ],\n",
       "       [-14.9782  , -32.4151  , -17.1965  ],\n",
       "       [-18.3022  , -30.7081  , -16.5985  ],\n",
       "       [-17.6542  , -27.2441  , -18.0215  ],\n",
       "       [-19.6012  , -25.3391  , -15.3715  ],\n",
       "       [-21.0972  , -22.6911  , -17.6275  ],\n",
       "       [-21.3652  , -19.9901  , -14.9995  ],\n",
       "       [-24.3902  , -18.1991  , -16.3765  ],\n",
       "       [-23.3882  , -14.8071  , -14.9965  ],\n",
       "       [-26.8602  , -13.2471  , -14.5845  ],\n",
       "       [-25.6682  ,  -9.66112 , -15.2625  ]])"
      ]
     },
     "execution_count": 54,
     "metadata": {},
     "output_type": "execute_result"
    }
   ],
   "source": [
    "get_current_coords()"
   ]
  },
  {
   "cell_type": "code",
   "execution_count": null,
   "metadata": {},
   "outputs": [],
   "source": [
    "# RIGHT! Lets take her for a spin\n",
    "\n",
    "# load the data\n",
    "df_vary = pd.read_csv('/Users/josh/Documents/PhD/NoLooseEnds_Lab/FoXS-carbonara-comparison/Improving_Carbonara/pdb_diversity_varying_sections.csv')\n",
    "\n",
    "can_change = df_vary['varying_length'] > 0\n",
    "df_vary = df_vary[can_change].reset_index(drop=True)\n",
    "\n",
    "# If you have that string in your dataframe\n",
    "df_vary['varying_sections'] = df_vary['varying_sections'].apply(ast.literal_eval)"
   ]
  },
  {
   "cell_type": "code",
   "execution_count": null,
   "metadata": {},
   "outputs": [],
   "source": [
    "class WritheCalculator:\n",
    "    def __init__(self):\n",
    "        self.PI = np.pi\n",
    "        \n",
    "    def dbold(self, points: np.ndarray, size: int, i: int, j: int) -> np.ndarray:\n",
    "        \"\"\"Calculate difference vector between points[i+1] and points[j+1].\"\"\"\n",
    "        i = i % (size - 1)\n",
    "        j = j % (size - 1)\n",
    "        diff = points[i + 1] - points[j + 1]\n",
    "        return diff.reshape(3)\n",
    "    \n",
    "    def te(self, points: np.ndarray, size: int, i: int) -> np.ndarray:\n",
    "        \"\"\"Calculate normalized tangent vector.\"\"\"\n",
    "        temp = self.dbold(points, size, i, i-1)\n",
    "        norm = np.linalg.norm(temp)\n",
    "        return (temp / norm if norm > 0 else np.zeros(3)).reshape(3)\n",
    "    \n",
    "    def acos_clip(self, temp: float) -> float:\n",
    "        \"\"\"Calculate arccos with clipping to valid domain.\"\"\"\n",
    "        if temp < -1.0:\n",
    "            return self.PI\n",
    "        elif temp > 1.0:\n",
    "            return 0\n",
    "        else:\n",
    "            return np.arccos(temp)\n",
    "            \n",
    "    def mu(self, points: np.ndarray, size: int, i: int, k: int, m: int, j: int) -> float:\n",
    "        \"\"\"Calculate local writhing contribution.\"\"\"\n",
    "        ti = self.te(points, size, i)\n",
    "        tj = self.te(points, size, j)\n",
    "        dkm = self.dbold(points, size, k, m)\n",
    "        \n",
    "        ti = ti.reshape(3)\n",
    "        tj = tj.reshape(3)\n",
    "        dkm = dkm.reshape(3)\n",
    "        \n",
    "        un = np.cross(ti, dkm)\n",
    "        deux = np.cross(dkm, tj)\n",
    "        \n",
    "        un_norm = np.linalg.norm(un)\n",
    "        deux_norm = np.linalg.norm(deux)\n",
    "        \n",
    "        if un_norm < 1e-10 or deux_norm < 1e-10:\n",
    "            return 0\n",
    "        \n",
    "        un = un / un_norm\n",
    "        deux = deux / deux_norm\n",
    "        temp = np.dot(un, deux)\n",
    "        \n",
    "        cp = np.cross(ti, tj)\n",
    "        sign_prod = np.dot(dkm, cp)\n",
    "        \n",
    "        if abs(sign_prod) < 1e-9:\n",
    "            return 0.0\n",
    "        else:\n",
    "            if sign_prod >= 0:\n",
    "                return self.acos_clip(temp)\n",
    "            else:\n",
    "                return -self.acos_clip(temp)\n",
    "    \n",
    "    def wij(self, points: np.ndarray, size: int, i: int, j: int) -> float:\n",
    "        \"\"\"Calculate pairwise writhing contribution.\"\"\"\n",
    "        if j > i:\n",
    "            t1 = self.mu(points, size, i, i-1, j-1, j)\n",
    "            t2 = self.mu(points, size, i, i, j-1, j)\n",
    "            t3 = self.mu(points, size, i, i-1, j, j)\n",
    "            t4 = self.mu(points, size, i, i, j, j)\n",
    "            return t1 - t2 - t3 + t4\n",
    "        return 0\n",
    "    \n",
    "    def calculate_writhe(self, points: np.ndarray) -> float:\n",
    "        \"\"\"Calculate total writhe of a curve.\"\"\"\n",
    "        points = np.asarray(points).reshape(-1, 3)\n",
    "        list_size = len(points)\n",
    "        sig_sum = 0.0\n",
    "        \n",
    "        for i in range(list_size - 1):\n",
    "            for j in range(i + 1, list_size - 1):\n",
    "                sig_sum += self.wij(points, list_size, i, j)\n",
    "        \n",
    "        return sig_sum / (2 * self.PI)\n",
    "\n",
    "def downsample_coordinates(coordinates: np.ndarray, section_breaks: List[int]) -> np.ndarray:\n",
    "    \"\"\"\n",
    "    Downsample coordinates based on secondary structure sections.\n",
    "    Takes first point of each section plus last point of final section.\n",
    "    \n",
    "    Args:\n",
    "        coordinates: (N, 3) array of coordinates\n",
    "        section_breaks: List of indices where sections end\n",
    "        \n",
    "    Returns:\n",
    "        (M, 3) array of downsampled coordinates where M is number of sections + 1\n",
    "    \"\"\"\n",
    "    # Convert to array and ensure proper shape\n",
    "    coords = np.asarray(coordinates).reshape(-1, 3)\n",
    "    \n",
    "    # Get start indices of each section\n",
    "    section_starts = [0] + [i+1 for i in section_breaks[:-1]]\n",
    "    \n",
    "    # Take first point of each section\n",
    "    downsampled_points = coords[section_starts]\n",
    "    \n",
    "    # Add last point of final section\n",
    "    last_point = coords[section_breaks[-1]].reshape(1, 3)\n",
    "    \n",
    "    return np.vstack([downsampled_points, last_point])\n",
    "\n",
    "def calculate_writhe_penalty(coordinates: np.ndarray, section_breaks: List[int]) -> float:\n",
    "    \"\"\"\n",
    "    Calculate writhe penalty for a molecule using downsampled coordinates\n",
    "    \n",
    "    Args:\n",
    "        coordinates: (N, 3) array of coordinates\n",
    "        section_breaks: List of indices where sections end\n",
    "        \n",
    "    Returns:\n",
    "        float: The writhe penalty\n",
    "    \"\"\"\n",
    "    writhe_calculator = WritheCalculator()\n",
    "    \n",
    "    # Downsample coordinates\n",
    "    downsampled_coords = downsample_coordinates(coordinates, section_breaks)\n",
    "    \n",
    "    # Calculate writhe\n",
    "    chain_writhe = abs(writhe_calculator.calculate_writhe(downsampled_coords))\n",
    "    \n",
    "    # Calculate length and lower bound based on downsampled points\n",
    "    sec_len = float(len(downsampled_coords))\n",
    "    lower_bound = pow((sec_len/7.5), 1.6) - 3.0\n",
    "    \n",
    "    # Calculate penalty using sigmoid function\n",
    "    writhe_penalty = 1.0/(1.0 + np.exp(20.0 * (chain_writhe - lower_bound)))\n",
    "    \n",
    "    return writhe_penalty, chain_writhe\n",
    "\n",
    "\n",
    "def find_section_breaks(ss_string: str) -> list:\n",
    "    \"\"\"\n",
    "    Find indices where secondary structure changes.\n",
    "    Returns list of indices where each section ends (0-based indexing)\n",
    "    \n",
    "    Args:\n",
    "        ss_string: String of secondary structure assignments ('-', 'H', 'S', etc.)\n",
    "        \n",
    "    Returns:\n",
    "        List of indices where sections end\n",
    "    \"\"\"\n",
    "    breaks = []\n",
    "    current_char = ss_string[0]\n",
    "    \n",
    "    # Find all positions where character changes\n",
    "    for i in range(len(ss_string)):\n",
    "        if ss_string[i] != current_char:\n",
    "            breaks.append(i-1)  # End of previous section\n",
    "            current_char = ss_string[i]\n",
    "    \n",
    "    # Add the last position\n",
    "    breaks.append(len(ss_string)-1)\n",
    "    \n",
    "    return breaks"
   ]
  },
  {
   "cell_type": "code",
   "execution_count": null,
   "metadata": {},
   "outputs": [],
   "source": [
    "\n",
    "def check_adjacent_distances(coords: np.ndarray, min_dist: float = 3.65, max_dist: float = 4) -> Tuple[bool, np.ndarray]:\n",
    "    \"\"\"\n",
    "    Check distances between adjacent C-alpha atoms.\n",
    "    \n",
    "    Sequential CA-CA distances in proteins are highly conserved:\n",
    "    - Mean distance ~3.78Å\n",
    "    - Typical range 3.7-3.9Å\n",
    "    - Values outside this range usually indicate backbone geometry issues\n",
    "    \n",
    "    Args:\n",
    "        coords: (N,3) numpy array of C-alpha coordinates\n",
    "        min_dist: Minimum allowed CA-CA distance (default 3.7 Angstroms)\n",
    "        max_dist: Maximum allowed CA-CA distance (default 3.9 Angstroms)\n",
    "    \n",
    "    Returns:\n",
    "        Tuple[bool, np.ndarray]: \n",
    "            - Boolean indicating if any violations found (True = violations present)\n",
    "    \"\"\"\n",
    "    # Calculate distances between adjacent residues\n",
    "    diffs = coords[1:] - coords[:-1]  # Get coordinate differences\n",
    "    distances = np.sqrt(np.sum(diffs * diffs, axis=1))  # Calculate distances\n",
    "    \n",
    "    # Check for violations\n",
    "    violations = (distances < min_dist) | (distances > max_dist)\n",
    "    has_violations = np.any(violations)\n",
    "    \n",
    "    # if has_violations:\n",
    "    #     violation_indices = np.where(violations)[0]\n",
    "    #     print(\"\\nViolations found:\")\n",
    "    #     for idx in violation_indices:\n",
    "    #         print(f\"Residues {idx}-{idx+1}: {distances[idx]:.3f}Å\")\n",
    "\n",
    "    return has_violations\n",
    "\n",
    "\n",
    "def check_overlap(coords: np.ndarray, section_breaks: list[int], min_dist: float = 4.0) -> np.ndarray:\n",
    "    \"\"\"\n",
    "    Check for overlapping sections in protein CA backbone using physical constraints.\n",
    "    Only checks non-sequential sections since sequential ones are handled by CA distance checks.\n",
    "    \n",
    "    Args:\n",
    "        coords: (N,3) numpy array of coordinates\n",
    "        section_breaks: List of indices where sections end\n",
    "        min_dist: Minimum allowed distance between non-sequential CAs (default 4.0 Angstroms)\n",
    "    \n",
    "    Returns:\n",
    "        np.ndarray: Indices of sections that overlap with any non-sequential section\n",
    "    \"\"\"\n",
    "    overlapped_secs = []\n",
    "    \n",
    "    # Convert section breaks to start and end indices\n",
    "    section_starts = [0] + [b + 1 for b in section_breaks[:-1]]\n",
    "    section_ends = section_breaks\n",
    "    \n",
    "    # Only need to check sections that are not sequential\n",
    "    for i in range(len(section_breaks) - 2):  # -2 because we skip next section\n",
    "        # Get current section coordinates\n",
    "        curr_section = coords[section_starts[i]:section_ends[i]+1]\n",
    "        \n",
    "        # Check against non-sequential later sections\n",
    "        for j in range(i + 2, len(section_breaks)):\n",
    "            # Get coordinates for comparison section\n",
    "            comp_section = coords[section_starts[j]:section_ends[j]+1]\n",
    "            \n",
    "            # Calculate minimum distance between sections\n",
    "            min_dist_sections = np.min(cdist(curr_section, comp_section))\n",
    "            \n",
    "            # If minimum distance is less than threshold, section overlaps\n",
    "            if min_dist_sections < min_dist:\n",
    "                overlapped_secs.append(i)\n",
    "                break\n",
    "                \n",
    "    return len(np.array(overlapped_secs)) != 0\n",
    "\n",
    "def mangle_the_shit_out_of_it(breaks, varying_sections, max_attempts_per_section=100):\n",
    "    \"\"\"Try to find valid conformation by modifying varying sections.\"\"\"\n",
    "    \n",
    "    # For each varying section\n",
    "    for section in varying_sections:\n",
    "        # Try up to max attempts for this section\n",
    "        for attempt in range(max_attempts_per_section):\n",
    "            new_coords = try_update(section)\n",
    "\n",
    "            if new_coords is None:\n",
    "                return None  # Skip to next attempt if update failed\n",
    "\n",
    "            # Check both constraints\n",
    "            adj_valid = check_adjacent_distances(new_coords)\n",
    "            overlap_valid = check_overlap(new_coords, breaks)\n",
    "            \n",
    "            # If both valid, update current coords and move to next section\n",
    "            if adj_valid or overlap_valid:\n",
    "                accept_update()\n",
    "                break\n",
    "                \n",
    "    # Return final coordinates regardless of validity\n",
    "    return get_current_coords()"
   ]
  },
  {
   "cell_type": "code",
   "execution_count": null,
   "metadata": {},
   "outputs": [
    {
     "name": "stderr",
     "output_type": "stream",
     "text": [
      "  0%|          | 0/302 [00:00<?, ?it/s]"
     ]
    },
    {
     "name": "stdout",
     "output_type": "stream",
     "text": [
      "number of chains 1\n"
     ]
    },
    {
     "name": "stderr",
     "output_type": "stream",
     "text": [
      "  0%|          | 1/302 [00:00<01:04,  4.70it/s]"
     ]
    },
    {
     "name": "stdout",
     "output_type": "stream",
     "text": [
      "completed: Failed to find valid conformation for section 7) after 100 attempts - CA distance check failed\n",
      " /Users/josh/Documents/PhD/NoLooseEnds_Lab/FoXS-carbonara-comparison/Improving_Carbonara/PDB_modifications/7UVG\n",
      "number of chains 1\n"
     ]
    },
    {
     "name": "stderr",
     "output_type": "stream",
     "text": [
      "  1%|          | 3/302 [00:00<01:06,  4.51it/s]"
     ]
    },
    {
     "name": "stdout",
     "output_type": "stream",
     "text": [
      "completed:  /Users/josh/Documents/PhD/NoLooseEnds_Lab/FoXS-carbonara-comparison/Improving_Carbonara/PDB_modifications/2VQR\n",
      "number of chains 1\n",
      "completed:  /Users/josh/Documents/PhD/NoLooseEnds_Lab/FoXS-carbonara-comparison/Improving_Carbonara/PDB_modifications/5A7L\n",
      "number of chains 1\n"
     ]
    },
    {
     "name": "stderr",
     "output_type": "stream",
     "text": [
      "  2%|▏         | 5/302 [00:01<00:58,  5.10it/s]"
     ]
    },
    {
     "name": "stdout",
     "output_type": "stream",
     "text": [
      "completed:  /Users/josh/Documents/PhD/NoLooseEnds_Lab/FoXS-carbonara-comparison/Improving_Carbonara/PDB_modifications/1WFY\n",
      "number of chains 1\n",
      "completed:  /Users/josh/Documents/PhD/NoLooseEnds_Lab/FoXS-carbonara-comparison/Improving_Carbonara/PDB_modifications/2DL5\n",
      "number of chains 1\n"
     ]
    },
    {
     "name": "stderr",
     "output_type": "stream",
     "text": [
      "  2%|▏         | 6/302 [00:01<00:57,  5.17it/s]"
     ]
    },
    {
     "name": "stdout",
     "output_type": "stream",
     "text": [
      "completed:  /Users/josh/Documents/PhD/NoLooseEnds_Lab/FoXS-carbonara-comparison/Improving_Carbonara/PDB_modifications/4CLN\n",
      "number of chains 1\n"
     ]
    },
    {
     "name": "stderr",
     "output_type": "stream",
     "text": [
      "  2%|▏         | 7/302 [00:01<00:59,  4.93it/s]"
     ]
    },
    {
     "name": "stdout",
     "output_type": "stream",
     "text": [
      "completed:  /Users/josh/Documents/PhD/NoLooseEnds_Lab/FoXS-carbonara-comparison/Improving_Carbonara/PDB_modifications/2KUD\n",
      "number of chains 1\n"
     ]
    },
    {
     "name": "stderr",
     "output_type": "stream",
     "text": [
      "  3%|▎         | 9/302 [00:01<01:01,  4.79it/s]"
     ]
    },
    {
     "name": "stdout",
     "output_type": "stream",
     "text": [
      "completed:  /Users/josh/Documents/PhD/NoLooseEnds_Lab/FoXS-carbonara-comparison/Improving_Carbonara/PDB_modifications/6MVT\n",
      "number of chains 1\n",
      "completed:  /Users/josh/Documents/PhD/NoLooseEnds_Lab/FoXS-carbonara-comparison/Improving_Carbonara/PDB_modifications/4AFV\n",
      "Failed to find valid conformation for section 5) after 100 attempts - CA distance check failed\n",
      "number of chains 1\n"
     ]
    },
    {
     "name": "stderr",
     "output_type": "stream",
     "text": [
      "  4%|▎         | 11/302 [00:02<00:56,  5.16it/s]"
     ]
    },
    {
     "name": "stdout",
     "output_type": "stream",
     "text": [
      "completed:  /Users/josh/Documents/PhD/NoLooseEnds_Lab/FoXS-carbonara-comparison/Improving_Carbonara/PDB_modifications/1T3K\n",
      "number of chains 1\n",
      "completed:  /Users/josh/Documents/PhD/NoLooseEnds_Lab/FoXS-carbonara-comparison/Improving_Carbonara/PDB_modifications/4W8R\n",
      "number of chains 1\n"
     ]
    },
    {
     "name": "stderr",
     "output_type": "stream",
     "text": [
      "  4%|▍         | 12/302 [00:02<00:55,  5.26it/s]"
     ]
    },
    {
     "name": "stdout",
     "output_type": "stream",
     "text": [
      "completed:  /Users/josh/Documents/PhD/NoLooseEnds_Lab/FoXS-carbonara-comparison/Improving_Carbonara/PDB_modifications/4U77\n",
      "number of chains 1\n"
     ]
    },
    {
     "name": "stderr",
     "output_type": "stream",
     "text": [
      "  4%|▍         | 13/302 [00:02<00:56,  5.15it/s]"
     ]
    },
    {
     "name": "stdout",
     "output_type": "stream",
     "text": [
      "completed:  /Users/josh/Documents/PhD/NoLooseEnds_Lab/FoXS-carbonara-comparison/Improving_Carbonara/PDB_modifications/8EOZ\n",
      "number of chains 1\n"
     ]
    },
    {
     "name": "stderr",
     "output_type": "stream",
     "text": [
      "  5%|▍         | 14/302 [00:02<00:57,  5.03it/s]"
     ]
    },
    {
     "name": "stdout",
     "output_type": "stream",
     "text": [
      "completed:  /Users/josh/Documents/PhD/NoLooseEnds_Lab/FoXS-carbonara-comparison/Improving_Carbonara/PDB_modifications/6EZF\n",
      "number of chains 1\n"
     ]
    },
    {
     "name": "stderr",
     "output_type": "stream",
     "text": [
      "  5%|▌         | 16/302 [00:03<01:06,  4.30it/s]"
     ]
    },
    {
     "name": "stdout",
     "output_type": "stream",
     "text": [
      "completed:  /Users/josh/Documents/PhD/NoLooseEnds_Lab/FoXS-carbonara-comparison/Improving_Carbonara/PDB_modifications/1E18\n",
      "number of chains 1\n",
      "completed:  /Users/josh/Documents/PhD/NoLooseEnds_Lab/FoXS-carbonara-comparison/Improving_Carbonara/PDB_modifications/5ZUN\n",
      "number of chains 1\n"
     ]
    },
    {
     "name": "stderr",
     "output_type": "stream",
     "text": [
      "  6%|▌         | 17/302 [00:03<01:01,  4.61it/s]"
     ]
    },
    {
     "name": "stdout",
     "output_type": "stream",
     "text": [
      "completed:  /Users/josh/Documents/PhD/NoLooseEnds_Lab/FoXS-carbonara-comparison/Improving_Carbonara/PDB_modifications/5WOX\n",
      "number of chains 1\n"
     ]
    },
    {
     "name": "stderr",
     "output_type": "stream",
     "text": [
      "  6%|▋         | 19/302 [00:04<01:21,  3.46it/s]"
     ]
    },
    {
     "name": "stdout",
     "output_type": "stream",
     "text": [
      "completed:  /Users/josh/Documents/PhD/NoLooseEnds_Lab/FoXS-carbonara-comparison/Improving_Carbonara/PDB_modifications/4PAE\n",
      "number of chains 1\n",
      "completed:  /Users/josh/Documents/PhD/NoLooseEnds_Lab/FoXS-carbonara-comparison/Improving_Carbonara/PDB_modifications/5LG0\n",
      "number of chains 1\n"
     ]
    },
    {
     "name": "stderr",
     "output_type": "stream",
     "text": [
      "  7%|▋         | 20/302 [00:04<01:12,  3.87it/s]"
     ]
    },
    {
     "name": "stdout",
     "output_type": "stream",
     "text": [
      "completed:  /Users/josh/Documents/PhD/NoLooseEnds_Lab/FoXS-carbonara-comparison/Improving_Carbonara/PDB_modifications/160L\n",
      "number of chains 1\n"
     ]
    },
    {
     "name": "stderr",
     "output_type": "stream",
     "text": [
      "  7%|▋         | 22/302 [00:04<01:03,  4.40it/s]"
     ]
    },
    {
     "name": "stdout",
     "output_type": "stream",
     "text": [
      "completed: Failed to find valid conformation for section 2) after  /Users/josh/Documents/PhD/NoLooseEnds_Lab/FoXS-carbonara-comparison/Improving_Carbonara/PDB_modifications/8F91\n",
      "100 attempts - CA distance check failed\n",
      "number of chains 1\n",
      "completed:  /Users/josh/Documents/PhD/NoLooseEnds_Lab/FoXS-carbonara-comparison/Improving_Carbonara/PDB_modifications/1EWC\n",
      "number of chains 1\n"
     ]
    },
    {
     "name": "stderr",
     "output_type": "stream",
     "text": [
      "  8%|▊         | 24/302 [00:05<00:57,  4.81it/s]"
     ]
    },
    {
     "name": "stdout",
     "output_type": "stream",
     "text": [
      "completed:  /Users/josh/Documents/PhD/NoLooseEnds_Lab/FoXS-carbonara-comparison/Improving_Carbonara/PDB_modifications/1XYN\n",
      "number of chains 1\n",
      "completed:  /Users/josh/Documents/PhD/NoLooseEnds_Lab/FoXS-carbonara-comparison/Improving_Carbonara/PDB_modifications/2DI9\n",
      "number of chains 1\n"
     ]
    },
    {
     "name": "stderr",
     "output_type": "stream",
     "text": [
      "  8%|▊         | 25/302 [00:15<14:52,  3.22s/it]"
     ]
    },
    {
     "name": "stdout",
     "output_type": "stream",
     "text": [
      "completed:  /Users/josh/Documents/PhD/NoLooseEnds_Lab/FoXS-carbonara-comparison/Improving_Carbonara/PDB_modifications/7POG\n",
      "number of chains 1\n"
     ]
    },
    {
     "name": "stderr",
     "output_type": "stream",
     "text": [
      "  9%|▊         | 26/302 [00:15<10:40,  2.32s/it]"
     ]
    },
    {
     "name": "stdout",
     "output_type": "stream",
     "text": [
      "completed:  /Users/josh/Documents/PhD/NoLooseEnds_Lab/FoXS-carbonara-comparison/Improving_Carbonara/PDB_modifications/7XJR\n",
      "number of chains 1\n"
     ]
    },
    {
     "name": "stderr",
     "output_type": "stream",
     "text": [
      "  9%|▉         | 27/302 [00:16<07:46,  1.70s/it]"
     ]
    },
    {
     "name": "stdout",
     "output_type": "stream",
     "text": [
      "completed:  /Users/josh/Documents/PhD/NoLooseEnds_Lab/FoXS-carbonara-comparison/Improving_Carbonara/PDB_modifications/2KSI\n",
      "number of chains 1\n"
     ]
    },
    {
     "name": "stderr",
     "output_type": "stream",
     "text": [
      " 10%|▉         | 29/302 [00:16<04:39,  1.02s/it]"
     ]
    },
    {
     "name": "stdout",
     "output_type": "stream",
     "text": [
      "completed:  /Users/josh/Documents/PhD/NoLooseEnds_Lab/FoXS-carbonara-comparison/Improving_Carbonara/PDB_modifications/5A42\n",
      "number of chains 1\n",
      "completed:  /Users/josh/Documents/PhD/NoLooseEnds_Lab/FoXS-carbonara-comparison/Improving_Carbonara/PDB_modifications/2A55\n",
      "number of chains 1\n"
     ]
    },
    {
     "name": "stderr",
     "output_type": "stream",
     "text": [
      " 10%|▉         | 30/302 [00:17<03:34,  1.27it/s]"
     ]
    },
    {
     "name": "stdout",
     "output_type": "stream",
     "text": [
      "completed:  /Users/josh/Documents/PhD/NoLooseEnds_Lab/FoXS-carbonara-comparison/Improving_Carbonara/PDB_modifications/7KHG\n",
      "number of chains 1\n"
     ]
    },
    {
     "name": "stderr",
     "output_type": "stream",
     "text": [
      " 11%|█         | 32/302 [00:17<02:11,  2.05it/s]"
     ]
    },
    {
     "name": "stdout",
     "output_type": "stream",
     "text": [
      "completed:  /Users/josh/Documents/PhD/NoLooseEnds_Lab/FoXS-carbonara-comparison/Improving_Carbonara/PDB_modifications/5M8K\n",
      "number of chains 1\n",
      "completed:  /Users/josh/Documents/PhD/NoLooseEnds_Lab/FoXS-carbonara-comparison/Improving_Carbonara/PDB_modifications/2Z1V\n",
      "Failed to find valid conformation for section 2) after 100 attempts - CA distance check failed\n",
      "number of chains 1\n"
     ]
    },
    {
     "name": "stderr",
     "output_type": "stream",
     "text": [
      " 11%|█▏        | 34/302 [00:17<01:28,  3.01it/s]"
     ]
    },
    {
     "name": "stdout",
     "output_type": "stream",
     "text": [
      "completed:  /Users/josh/Documents/PhD/NoLooseEnds_Lab/FoXS-carbonara-comparison/Improving_Carbonara/PDB_modifications/2FO8\n",
      "number of chains 1\n",
      "completed:  /Users/josh/Documents/PhD/NoLooseEnds_Lab/FoXS-carbonara-comparison/Improving_Carbonara/PDB_modifications/1ZU1\n",
      "number of chains 1\n"
     ]
    },
    {
     "name": "stderr",
     "output_type": "stream",
     "text": [
      " 12%|█▏        | 35/302 [00:18<01:18,  3.41it/s]"
     ]
    },
    {
     "name": "stdout",
     "output_type": "stream",
     "text": [
      "completed:  /Users/josh/Documents/PhD/NoLooseEnds_Lab/FoXS-carbonara-comparison/Improving_Carbonara/PDB_modifications/2EYZ\n",
      "number of chains 1\n"
     ]
    },
    {
     "name": "stderr",
     "output_type": "stream",
     "text": [
      " 12%|█▏        | 37/302 [00:18<01:06,  4.00it/s]"
     ]
    },
    {
     "name": "stdout",
     "output_type": "stream",
     "text": [
      "completed:  /Users/josh/Documents/PhD/NoLooseEnds_Lab/FoXS-carbonara-comparison/Improving_Carbonara/PDB_modifications/3SZ7\n",
      "number of chains 1\n",
      "completed:  /Users/josh/Documents/PhD/NoLooseEnds_Lab/FoXS-carbonara-comparison/Improving_Carbonara/PDB_modifications/7LT8\n",
      "number of chains 1\n"
     ]
    },
    {
     "name": "stderr",
     "output_type": "stream",
     "text": [
      " 13%|█▎        | 39/302 [00:19<01:06,  3.94it/s]"
     ]
    },
    {
     "name": "stdout",
     "output_type": "stream",
     "text": [
      "completed:  /Users/josh/Documents/PhD/NoLooseEnds_Lab/FoXS-carbonara-comparison/Improving_Carbonara/PDB_modifications/5Z66\n",
      "number of chains 1\n",
      "completed:  /Users/josh/Documents/PhD/NoLooseEnds_Lab/FoXS-carbonara-comparison/Improving_Carbonara/PDB_modifications/7MN7\n"
     ]
    },
    {
     "name": "stderr",
     "output_type": "stream",
     "text": [
      " 13%|█▎        | 40/302 [00:19<01:01,  4.24it/s]"
     ]
    },
    {
     "name": "stdout",
     "output_type": "stream",
     "text": [
      "number of chains 1\n",
      "completed:  /Users/josh/Documents/PhD/NoLooseEnds_Lab/FoXS-carbonara-comparison/Improving_Carbonara/PDB_modifications/7N1O\n",
      "number of chains 1\n"
     ]
    },
    {
     "name": "stderr",
     "output_type": "stream",
     "text": [
      " 14%|█▎        | 41/302 [00:19<00:59,  4.38it/s]"
     ]
    },
    {
     "name": "stdout",
     "output_type": "stream",
     "text": [
      "completed:  /Users/josh/Documents/PhD/NoLooseEnds_Lab/FoXS-carbonara-comparison/Improving_Carbonara/PDB_modifications/2E0G\n",
      "number of chains 1\n"
     ]
    },
    {
     "name": "stderr",
     "output_type": "stream",
     "text": [
      " 14%|█▍        | 42/302 [00:19<01:19,  3.28it/s]"
     ]
    },
    {
     "name": "stdout",
     "output_type": "stream",
     "text": [
      "completed:  /Users/josh/Documents/PhD/NoLooseEnds_Lab/FoXS-carbonara-comparison/Improving_Carbonara/PDB_modifications/6JCI\n",
      "number of chains 1\n"
     ]
    },
    {
     "name": "stderr",
     "output_type": "stream",
     "text": [
      " 15%|█▍        | 44/302 [00:20<01:08,  3.79it/s]"
     ]
    },
    {
     "name": "stdout",
     "output_type": "stream",
     "text": [
      "completed:  /Users/josh/Documents/PhD/NoLooseEnds_Lab/FoXS-carbonara-comparison/Improving_Carbonara/PDB_modifications/4MOS\n",
      "number of chains 1\n",
      "completed:  /Users/josh/Documents/PhD/NoLooseEnds_Lab/FoXS-carbonara-comparison/Improving_Carbonara/PDB_modifications/3PO8\n",
      "number of chains 1\n"
     ]
    },
    {
     "name": "stderr",
     "output_type": "stream",
     "text": [
      " 15%|█▍        | 45/302 [00:20<01:01,  4.15it/s]"
     ]
    },
    {
     "name": "stdout",
     "output_type": "stream",
     "text": [
      "completed:  /Users/josh/Documents/PhD/NoLooseEnds_Lab/FoXS-carbonara-comparison/Improving_Carbonara/PDB_modifications/2O5V\n",
      "number of chains 1\n"
     ]
    },
    {
     "name": "stderr",
     "output_type": "stream",
     "text": [
      " 16%|█▌        | 47/302 [00:20<00:55,  4.58it/s]"
     ]
    },
    {
     "name": "stdout",
     "output_type": "stream",
     "text": [
      "completed:  /Users/josh/Documents/PhD/NoLooseEnds_Lab/FoXS-carbonara-comparison/Improving_Carbonara/PDB_modifications/7Q58\n",
      "number of chains 1\n",
      "completed:  /Users/josh/Documents/PhD/NoLooseEnds_Lab/FoXS-carbonara-comparison/Improving_Carbonara/PDB_modifications/5NB9\n",
      "number of chains 1\n"
     ]
    },
    {
     "name": "stderr",
     "output_type": "stream",
     "text": [
      " 16%|█▌        | 48/302 [00:21<01:03,  3.99it/s]"
     ]
    },
    {
     "name": "stdout",
     "output_type": "stream",
     "text": [
      "completed:  /Users/josh/Documents/PhD/NoLooseEnds_Lab/FoXS-carbonara-comparison/Improving_Carbonara/PDB_modifications/2BER\n",
      "number of chains 1\n"
     ]
    },
    {
     "name": "stderr",
     "output_type": "stream",
     "text": [
      " 17%|█▋        | 50/302 [00:21<00:57,  4.38it/s]"
     ]
    },
    {
     "name": "stdout",
     "output_type": "stream",
     "text": [
      "completed:  /Users/josh/Documents/PhD/NoLooseEnds_Lab/FoXS-carbonara-comparison/Improving_Carbonara/PDB_modifications/2LEA\n",
      "number of chains 1\n",
      "completed:  /Users/josh/Documents/PhD/NoLooseEnds_Lab/FoXS-carbonara-comparison/Improving_Carbonara/PDB_modifications/4ZNZ\n",
      "number of chains 1\n"
     ]
    },
    {
     "name": "stderr",
     "output_type": "stream",
     "text": [
      " 17%|█▋        | 51/302 [00:21<00:53,  4.68it/s]"
     ]
    },
    {
     "name": "stdout",
     "output_type": "stream",
     "text": [
      "completed:  /Users/josh/Documents/PhD/NoLooseEnds_Lab/FoXS-carbonara-comparison/Improving_Carbonara/PDB_modifications/1FKC\n",
      "number of chains 1\n"
     ]
    },
    {
     "name": "stderr",
     "output_type": "stream",
     "text": [
      " 18%|█▊        | 53/302 [00:22<00:51,  4.85it/s]"
     ]
    },
    {
     "name": "stdout",
     "output_type": "stream",
     "text": [
      "completed:  /Users/josh/Documents/PhD/NoLooseEnds_Lab/FoXS-carbonara-comparison/Improving_Carbonara/PDB_modifications/3SY1\n",
      "number of chains 1\n",
      "completed:  /Users/josh/Documents/PhD/NoLooseEnds_Lab/FoXS-carbonara-comparison/Improving_Carbonara/PDB_modifications/2Q3W\n",
      "number of chains 1\n"
     ]
    },
    {
     "name": "stderr",
     "output_type": "stream",
     "text": [
      " 18%|█▊        | 55/302 [00:22<00:47,  5.18it/s]"
     ]
    },
    {
     "name": "stdout",
     "output_type": "stream",
     "text": [
      "completed:  /Users/josh/Documents/PhD/NoLooseEnds_Lab/FoXS-carbonara-comparison/Improving_Carbonara/PDB_modifications/2MHQ\n",
      "number of chains 1\n",
      "completed:  /Users/josh/Documents/PhD/NoLooseEnds_Lab/FoXS-carbonara-comparison/Improving_Carbonara/PDB_modifications/5HV9\n",
      "number of chains 1\n"
     ]
    },
    {
     "name": "stderr",
     "output_type": "stream",
     "text": [
      " 19%|█▉        | 57/302 [00:23<00:47,  5.21it/s]"
     ]
    },
    {
     "name": "stdout",
     "output_type": "stream",
     "text": [
      "completed:  /Users/josh/Documents/PhD/NoLooseEnds_Lab/FoXS-carbonara-comparison/Improving_Carbonara/PDB_modifications/3GUG\n",
      "number of chains 1\n",
      "completed:  /Users/josh/Documents/PhD/NoLooseEnds_Lab/FoXS-carbonara-comparison/Improving_Carbonara/PDB_modifications/4WJI\n",
      "Failed to find valid conformation for section 2) after 100 attempts - CA distance check failed\n",
      "number of chains 1\n"
     ]
    },
    {
     "name": "stderr",
     "output_type": "stream",
     "text": [
      " 19%|█▉        | 58/302 [00:23<00:46,  5.29it/s]"
     ]
    },
    {
     "name": "stdout",
     "output_type": "stream",
     "text": [
      "completed:  /Users/josh/Documents/PhD/NoLooseEnds_Lab/FoXS-carbonara-comparison/Improving_Carbonara/PDB_modifications/1NZA\n",
      "number of chains 1\n"
     ]
    },
    {
     "name": "stderr",
     "output_type": "stream",
     "text": [
      " 20%|█▉        | 59/302 [00:23<00:57,  4.26it/s]"
     ]
    },
    {
     "name": "stdout",
     "output_type": "stream",
     "text": [
      "completed:  /Users/josh/Documents/PhD/NoLooseEnds_Lab/FoXS-carbonara-comparison/Improving_Carbonara/PDB_modifications/1JU3\n",
      "number of chains 1\n"
     ]
    },
    {
     "name": "stderr",
     "output_type": "stream",
     "text": [
      " 20%|██        | 61/302 [00:23<00:51,  4.69it/s]"
     ]
    },
    {
     "name": "stdout",
     "output_type": "stream",
     "text": [
      "completed:  /Users/josh/Documents/PhD/NoLooseEnds_Lab/FoXS-carbonara-comparison/Improving_Carbonara/PDB_modifications/2N2T\n",
      "number of chains 1\n",
      "completed:  /Users/josh/Documents/PhD/NoLooseEnds_Lab/FoXS-carbonara-comparison/Improving_Carbonara/PDB_modifications/2IKD\n",
      "number of chains 1\n"
     ]
    },
    {
     "name": "stderr",
     "output_type": "stream",
     "text": [
      " 21%|██        | 62/302 [00:24<00:49,  4.83it/s]"
     ]
    },
    {
     "name": "stdout",
     "output_type": "stream",
     "text": [
      "completed:  /Users/josh/Documents/PhD/NoLooseEnds_Lab/FoXS-carbonara-comparison/Improving_Carbonara/PDB_modifications/4M4G\n",
      "number of chains 1\n"
     ]
    },
    {
     "name": "stderr",
     "output_type": "stream",
     "text": [
      " 21%|██        | 63/302 [00:24<00:58,  4.05it/s]"
     ]
    },
    {
     "name": "stdout",
     "output_type": "stream",
     "text": [
      "completed:  /Users/josh/Documents/PhD/NoLooseEnds_Lab/FoXS-carbonara-comparison/Improving_Carbonara/PDB_modifications/2EDW\n",
      "number of chains 1\n"
     ]
    },
    {
     "name": "stderr",
     "output_type": "stream",
     "text": [
      " 22%|██▏       | 65/302 [00:24<00:52,  4.52it/s]"
     ]
    },
    {
     "name": "stdout",
     "output_type": "stream",
     "text": [
      "completed:  /Users/josh/Documents/PhD/NoLooseEnds_Lab/FoXS-carbonara-comparison/Improving_Carbonara/PDB_modifications/3EPR\n",
      "number of chains 1\n",
      "completed:  /Users/josh/Documents/PhD/NoLooseEnds_Lab/FoXS-carbonara-comparison/Improving_Carbonara/PDB_modifications/1URK\n",
      "number of chains 1\n"
     ]
    },
    {
     "name": "stderr",
     "output_type": "stream",
     "text": [
      " 22%|██▏       | 67/302 [00:25<00:48,  4.82it/s]"
     ]
    },
    {
     "name": "stdout",
     "output_type": "stream",
     "text": [
      "completed:  /Users/josh/Documents/PhD/NoLooseEnds_Lab/FoXS-carbonara-comparison/Improving_Carbonara/PDB_modifications/6QSQ\n",
      "number of chains 1\n",
      "completed:  /Users/josh/Documents/PhD/NoLooseEnds_Lab/FoXS-carbonara-comparison/Improving_Carbonara/PDB_modifications/138L\n",
      "number of chains 1\n"
     ]
    },
    {
     "name": "stderr",
     "output_type": "stream",
     "text": [
      " 23%|██▎       | 69/302 [00:25<00:46,  5.02it/s]"
     ]
    },
    {
     "name": "stdout",
     "output_type": "stream",
     "text": [
      "completed: Failed to find valid conformation for section 2) after 100 attempts - CA distance check failed\n",
      " /Users/josh/Documents/PhD/NoLooseEnds_Lab/FoXS-carbonara-comparison/Improving_Carbonara/PDB_modifications/4K73\n",
      "number of chains 1\n",
      "completed:  /Users/josh/Documents/PhD/NoLooseEnds_Lab/FoXS-carbonara-comparison/Improving_Carbonara/PDB_modifications/2L8E\n",
      "number of chains 1\n"
     ]
    },
    {
     "name": "stderr",
     "output_type": "stream",
     "text": [
      " 23%|██▎       | 70/302 [00:25<00:44,  5.16it/s]"
     ]
    },
    {
     "name": "stdout",
     "output_type": "stream",
     "text": [
      "completed:  /Users/josh/Documents/PhD/NoLooseEnds_Lab/FoXS-carbonara-comparison/Improving_Carbonara/PDB_modifications/1EJ0\n",
      "number of chains 1\n"
     ]
    },
    {
     "name": "stderr",
     "output_type": "stream",
     "text": [
      " 24%|██▍       | 72/302 [00:26<00:44,  5.12it/s]"
     ]
    },
    {
     "name": "stdout",
     "output_type": "stream",
     "text": [
      "completed:  /Users/josh/Documents/PhD/NoLooseEnds_Lab/FoXS-carbonara-comparison/Improving_Carbonara/PDB_modifications/2KGL\n",
      "number of chains 1\n",
      "completed:  /Users/josh/Documents/PhD/NoLooseEnds_Lab/FoXS-carbonara-comparison/Improving_Carbonara/PDB_modifications/4HNR\n",
      "number of chains 1\n"
     ]
    },
    {
     "name": "stderr",
     "output_type": "stream",
     "text": [
      " 24%|██▍       | 73/302 [00:26<00:43,  5.24it/s]"
     ]
    },
    {
     "name": "stdout",
     "output_type": "stream",
     "text": [
      "completed:  /Users/josh/Documents/PhD/NoLooseEnds_Lab/FoXS-carbonara-comparison/Improving_Carbonara/PDB_modifications/1VA8\n",
      "number of chains 1\n"
     ]
    },
    {
     "name": "stderr",
     "output_type": "stream",
     "text": [
      " 25%|██▍       | 75/302 [00:26<00:43,  5.20it/s]"
     ]
    },
    {
     "name": "stdout",
     "output_type": "stream",
     "text": [
      "completed:  /Users/josh/Documents/PhD/NoLooseEnds_Lab/FoXS-carbonara-comparison/Improving_Carbonara/PDB_modifications/1AIN\n",
      "number of chains 1\n",
      "completed:  /Users/josh/Documents/PhD/NoLooseEnds_Lab/FoXS-carbonara-comparison/Improving_Carbonara/PDB_modifications/5J5K\n",
      "number of chains 1\n"
     ]
    },
    {
     "name": "stderr",
     "output_type": "stream",
     "text": [
      " 25%|██▌       | 77/302 [00:27<00:45,  4.95it/s]"
     ]
    },
    {
     "name": "stdout",
     "output_type": "stream",
     "text": [
      "completed:  /Users/josh/Documents/PhD/NoLooseEnds_Lab/FoXS-carbonara-comparison/Improving_Carbonara/PDB_modifications/1VH7\n",
      "number of chains 1\n",
      "completed:  /Users/josh/Documents/PhD/NoLooseEnds_Lab/FoXS-carbonara-comparison/Improving_Carbonara/PDB_modifications/6U9L\n",
      "number of chains 1\n"
     ]
    },
    {
     "name": "stderr",
     "output_type": "stream",
     "text": [
      " 26%|██▌       | 79/302 [00:27<00:42,  5.20it/s]"
     ]
    },
    {
     "name": "stdout",
     "output_type": "stream",
     "text": [
      "completed:  /Users/josh/Documents/PhD/NoLooseEnds_Lab/FoXS-carbonara-comparison/Improving_Carbonara/PDB_modifications/1YXR\n",
      "number of chains 1\n",
      "completed:  /Users/josh/Documents/PhD/NoLooseEnds_Lab/FoXS-carbonara-comparison/Improving_Carbonara/PDB_modifications/2N72\n",
      "number of chains 1\n"
     ]
    },
    {
     "name": "stderr",
     "output_type": "stream",
     "text": [
      " 27%|██▋       | 81/302 [00:28<00:41,  5.33it/s]"
     ]
    },
    {
     "name": "stdout",
     "output_type": "stream",
     "text": [
      "completed:  /Users/josh/Documents/PhD/NoLooseEnds_Lab/FoXS-carbonara-comparison/Improving_Carbonara/PDB_modifications/2D7P\n",
      "number of chains 1\n",
      "completed:  /Users/josh/Documents/PhD/NoLooseEnds_Lab/FoXS-carbonara-comparison/Improving_Carbonara/PDB_modifications/2YUQ\n",
      "number of chains 1\n"
     ]
    },
    {
     "name": "stderr",
     "output_type": "stream",
     "text": [
      " 27%|██▋       | 82/302 [00:28<00:43,  5.05it/s]"
     ]
    },
    {
     "name": "stdout",
     "output_type": "stream",
     "text": [
      "completed:  /Users/josh/Documents/PhD/NoLooseEnds_Lab/FoXS-carbonara-comparison/Improving_Carbonara/PDB_modifications/1CIV\n",
      "number of chains 1\n"
     ]
    },
    {
     "name": "stderr",
     "output_type": "stream",
     "text": [
      " 28%|██▊       | 84/302 [00:28<00:43,  4.98it/s]"
     ]
    },
    {
     "name": "stdout",
     "output_type": "stream",
     "text": [
      "completed: Failed to find valid conformation for section 2) after 100 attempts - CA distance check failed\n",
      " /Users/josh/Documents/PhD/NoLooseEnds_Lab/FoXS-carbonara-comparison/Improving_Carbonara/PDB_modifications/4X9T\n",
      "number of chains 1\n",
      "completed:  /Users/josh/Documents/PhD/NoLooseEnds_Lab/FoXS-carbonara-comparison/Improving_Carbonara/PDB_modifications/2JQ6\n",
      "number of chains 1\n"
     ]
    },
    {
     "name": "stderr",
     "output_type": "stream",
     "text": [
      " 28%|██▊       | 86/302 [00:29<00:42,  5.13it/s]"
     ]
    },
    {
     "name": "stdout",
     "output_type": "stream",
     "text": [
      "completed:  /Users/josh/Documents/PhD/NoLooseEnds_Lab/FoXS-carbonara-comparison/Improving_Carbonara/PDB_modifications/2FX5\n",
      "number of chains 1\n",
      "completed:  /Users/josh/Documents/PhD/NoLooseEnds_Lab/FoXS-carbonara-comparison/Improving_Carbonara/PDB_modifications/3UBB\n",
      "number of chains 1\n"
     ]
    },
    {
     "name": "stderr",
     "output_type": "stream",
     "text": [
      " 29%|██▉       | 87/302 [00:29<00:41,  5.20it/s]"
     ]
    },
    {
     "name": "stdout",
     "output_type": "stream",
     "text": [
      "completed:  /Users/josh/Documents/PhD/NoLooseEnds_Lab/FoXS-carbonara-comparison/Improving_Carbonara/PDB_modifications/4R5Q\n",
      "number of chains 1\n"
     ]
    },
    {
     "name": "stderr",
     "output_type": "stream",
     "text": [
      " 29%|██▉       | 88/302 [00:29<00:42,  5.08it/s]"
     ]
    },
    {
     "name": "stdout",
     "output_type": "stream",
     "text": [
      "completed:  /Users/josh/Documents/PhD/NoLooseEnds_Lab/FoXS-carbonara-comparison/Improving_Carbonara/PDB_modifications/3TTA\n",
      "number of chains 1\n"
     ]
    },
    {
     "name": "stderr",
     "output_type": "stream",
     "text": [
      " 29%|██▉       | 89/302 [00:29<00:46,  4.61it/s]"
     ]
    },
    {
     "name": "stdout",
     "output_type": "stream",
     "text": [
      "completed:  /Users/josh/Documents/PhD/NoLooseEnds_Lab/FoXS-carbonara-comparison/Improving_Carbonara/PDB_modifications/7JJT\n",
      "number of chains 1\n"
     ]
    },
    {
     "name": "stderr",
     "output_type": "stream",
     "text": [
      " 30%|██▉       | 90/302 [00:29<00:49,  4.28it/s]"
     ]
    },
    {
     "name": "stdout",
     "output_type": "stream",
     "text": [
      "completed:  /Users/josh/Documents/PhD/NoLooseEnds_Lab/FoXS-carbonara-comparison/Improving_Carbonara/PDB_modifications/2EDL\n",
      "number of chains 1\n"
     ]
    },
    {
     "name": "stderr",
     "output_type": "stream",
     "text": [
      " 30%|███       | 92/302 [00:30<00:45,  4.62it/s]"
     ]
    },
    {
     "name": "stdout",
     "output_type": "stream",
     "text": [
      "completed:  /Users/josh/Documents/PhD/NoLooseEnds_Lab/FoXS-carbonara-comparison/Improving_Carbonara/PDB_modifications/4DGM\n",
      "number of chains 1\n",
      "completed:  /Users/josh/Documents/PhD/NoLooseEnds_Lab/FoXS-carbonara-comparison/Improving_Carbonara/PDB_modifications/1JYF\n",
      "number of chains 1\n"
     ]
    },
    {
     "name": "stderr",
     "output_type": "stream",
     "text": [
      " 31%|███       | 94/302 [00:30<00:41,  5.01it/s]"
     ]
    },
    {
     "name": "stdout",
     "output_type": "stream",
     "text": [
      "completed:  /Users/josh/Documents/PhD/NoLooseEnds_Lab/FoXS-carbonara-comparison/Improving_Carbonara/PDB_modifications/4AR0\n",
      "number of chains 1\n",
      "completed:  /Users/josh/Documents/PhD/NoLooseEnds_Lab/FoXS-carbonara-comparison/Improving_Carbonara/PDB_modifications/2MA2\n",
      "number of chains 1\n"
     ]
    },
    {
     "name": "stderr",
     "output_type": "stream",
     "text": [
      " 31%|███▏      | 95/302 [00:30<00:40,  5.06it/s]"
     ]
    },
    {
     "name": "stdout",
     "output_type": "stream",
     "text": [
      "completed:  /Users/josh/Documents/PhD/NoLooseEnds_Lab/FoXS-carbonara-comparison/Improving_Carbonara/PDB_modifications/6J7E\n",
      "number of chains 1\n"
     ]
    },
    {
     "name": "stderr",
     "output_type": "stream",
     "text": [
      " 32%|███▏      | 96/302 [00:31<00:49,  4.13it/s]"
     ]
    },
    {
     "name": "stdout",
     "output_type": "stream",
     "text": [
      "completed:  /Users/josh/Documents/PhD/NoLooseEnds_Lab/FoXS-carbonara-comparison/Improving_Carbonara/PDB_modifications/5XH8\n",
      "number of chains 1\n"
     ]
    },
    {
     "name": "stderr",
     "output_type": "stream",
     "text": [
      " 32%|███▏      | 97/302 [00:31<00:47,  4.28it/s]"
     ]
    },
    {
     "name": "stdout",
     "output_type": "stream",
     "text": [
      "completed:  /Users/josh/Documents/PhD/NoLooseEnds_Lab/FoXS-carbonara-comparison/Improving_Carbonara/PDB_modifications/7X4C\n",
      "number of chains 1\n"
     ]
    },
    {
     "name": "stderr",
     "output_type": "stream",
     "text": [
      " 32%|███▏      | 98/302 [00:31<00:45,  4.44it/s]"
     ]
    },
    {
     "name": "stdout",
     "output_type": "stream",
     "text": [
      "completed:  /Users/josh/Documents/PhD/NoLooseEnds_Lab/FoXS-carbonara-comparison/Improving_Carbonara/PDB_modifications/4WFJ\n",
      "number of chains 1\n"
     ]
    },
    {
     "name": "stderr",
     "output_type": "stream",
     "text": [
      " 33%|███▎      | 100/302 [00:32<00:48,  4.16it/s]"
     ]
    },
    {
     "name": "stdout",
     "output_type": "stream",
     "text": [
      "completed:  /Users/josh/Documents/PhD/NoLooseEnds_Lab/FoXS-carbonara-comparison/Improving_Carbonara/PDB_modifications/7QNO\n",
      "number of chains 1\n",
      "completed:  /Users/josh/Documents/PhD/NoLooseEnds_Lab/FoXS-carbonara-comparison/Improving_Carbonara/PDB_modifications/8GQO\n",
      "number of chains 1\n"
     ]
    },
    {
     "name": "stderr",
     "output_type": "stream",
     "text": [
      " 34%|███▍      | 102/302 [00:32<00:43,  4.60it/s]"
     ]
    },
    {
     "name": "stdout",
     "output_type": "stream",
     "text": [
      "completed:  /Users/josh/Documents/PhD/NoLooseEnds_Lab/FoXS-carbonara-comparison/Improving_Carbonara/PDB_modifications/3V1N\n",
      "number of chains 1\n",
      "completed:  /Users/josh/Documents/PhD/NoLooseEnds_Lab/FoXS-carbonara-comparison/Improving_Carbonara/PDB_modifications/1KLP\n",
      "number of chains 1\n"
     ]
    },
    {
     "name": "stderr",
     "output_type": "stream",
     "text": [
      " 34%|███▍      | 104/302 [00:33<00:40,  4.91it/s]"
     ]
    },
    {
     "name": "stdout",
     "output_type": "stream",
     "text": [
      "completed:  /Users/josh/Documents/PhD/NoLooseEnds_Lab/FoXS-carbonara-comparison/Improving_Carbonara/PDB_modifications/2HW1\n",
      "number of chains 1\n",
      "completed:  /Users/josh/Documents/PhD/NoLooseEnds_Lab/FoXS-carbonara-comparison/Improving_Carbonara/PDB_modifications/4RVC\n",
      "number of chains 1\n"
     ]
    },
    {
     "name": "stderr",
     "output_type": "stream",
     "text": [
      " 35%|███▌      | 106/302 [00:33<00:37,  5.20it/s]"
     ]
    },
    {
     "name": "stdout",
     "output_type": "stream",
     "text": [
      "completed:  /Users/josh/Documents/PhD/NoLooseEnds_Lab/FoXS-carbonara-comparison/Improving_Carbonara/PDB_modifications/5ECA\n",
      "number of chains 1\n",
      "completed:  /Users/josh/Documents/PhD/NoLooseEnds_Lab/FoXS-carbonara-comparison/Improving_Carbonara/PDB_modifications/2F2Q\n",
      "number of chains 1\n"
     ]
    },
    {
     "name": "stderr",
     "output_type": "stream",
     "text": [
      " 36%|███▌      | 108/302 [00:33<00:36,  5.28it/s]"
     ]
    },
    {
     "name": "stdout",
     "output_type": "stream",
     "text": [
      "completed:  /Users/josh/Documents/PhD/NoLooseEnds_Lab/FoXS-carbonara-comparison/Improving_Carbonara/PDB_modifications/8I2Z\n",
      "number of chains 1\n",
      "completed:  /Users/josh/Documents/PhD/NoLooseEnds_Lab/FoXS-carbonara-comparison/Improving_Carbonara/PDB_modifications/2RLP\n",
      "number of chains 1\n"
     ]
    },
    {
     "name": "stderr",
     "output_type": "stream",
     "text": [
      " 36%|███▌      | 109/302 [00:34<00:59,  3.22it/s]"
     ]
    },
    {
     "name": "stdout",
     "output_type": "stream",
     "text": [
      "completed:  /Users/josh/Documents/PhD/NoLooseEnds_Lab/FoXS-carbonara-comparison/Improving_Carbonara/PDB_modifications/1Q2L\n",
      "number of chains 1\n"
     ]
    },
    {
     "name": "stderr",
     "output_type": "stream",
     "text": [
      " 36%|███▋      | 110/302 [00:34<00:53,  3.58it/s]"
     ]
    },
    {
     "name": "stdout",
     "output_type": "stream",
     "text": [
      "completed:  /Users/josh/Documents/PhD/NoLooseEnds_Lab/FoXS-carbonara-comparison/Improving_Carbonara/PDB_modifications/7MU9\n",
      "number of chains 1\n"
     ]
    },
    {
     "name": "stderr",
     "output_type": "stream",
     "text": [
      " 37%|███▋      | 112/302 [00:34<00:45,  4.22it/s]"
     ]
    },
    {
     "name": "stdout",
     "output_type": "stream",
     "text": [
      "completed:  /Users/josh/Documents/PhD/NoLooseEnds_Lab/FoXS-carbonara-comparison/Improving_Carbonara/PDB_modifications/4LBY\n",
      "number of chains 1\n",
      "completed:  /Users/josh/Documents/PhD/NoLooseEnds_Lab/FoXS-carbonara-comparison/Improving_Carbonara/PDB_modifications/1CEU\n",
      "number of chains 1\n"
     ]
    },
    {
     "name": "stderr",
     "output_type": "stream",
     "text": [
      " 38%|███▊      | 114/302 [00:35<00:39,  4.81it/s]"
     ]
    },
    {
     "name": "stdout",
     "output_type": "stream",
     "text": [
      "completed:  /Users/josh/Documents/PhD/NoLooseEnds_Lab/FoXS-carbonara-comparison/Improving_Carbonara/PDB_modifications/1PMR\n",
      "number of chains 1\n",
      "completed:  /Users/josh/Documents/PhD/NoLooseEnds_Lab/FoXS-carbonara-comparison/Improving_Carbonara/PDB_modifications/2YSG\n",
      "number of chains 1\n"
     ]
    },
    {
     "name": "stderr",
     "output_type": "stream",
     "text": [
      " 38%|███▊      | 116/302 [00:35<00:38,  4.80it/s]"
     ]
    },
    {
     "name": "stdout",
     "output_type": "stream",
     "text": [
      "completed:  /Users/josh/Documents/PhD/NoLooseEnds_Lab/FoXS-carbonara-comparison/Improving_Carbonara/PDB_modifications/5OC1\n",
      "number of chains 1\n",
      "completed:  /Users/josh/Documents/PhD/NoLooseEnds_Lab/FoXS-carbonara-comparison/Improving_Carbonara/PDB_modifications/4K7B\n",
      "number of chains 1\n"
     ]
    },
    {
     "name": "stderr",
     "output_type": "stream",
     "text": [
      " 39%|███▊      | 117/302 [00:36<00:54,  3.38it/s]"
     ]
    },
    {
     "name": "stdout",
     "output_type": "stream",
     "text": [
      "completed:  /Users/josh/Documents/PhD/NoLooseEnds_Lab/FoXS-carbonara-comparison/Improving_Carbonara/PDB_modifications/6KBH\n",
      "number of chains 1\n"
     ]
    },
    {
     "name": "stderr",
     "output_type": "stream",
     "text": [
      " 39%|███▉      | 119/302 [00:36<00:45,  4.03it/s]"
     ]
    },
    {
     "name": "stdout",
     "output_type": "stream",
     "text": [
      "completed:  /Users/josh/Documents/PhD/NoLooseEnds_Lab/FoXS-carbonara-comparison/Improving_Carbonara/PDB_modifications/3V7L\n",
      "number of chains 1\n",
      "completed:  /Users/josh/Documents/PhD/NoLooseEnds_Lab/FoXS-carbonara-comparison/Improving_Carbonara/PDB_modifications/2KAA\n",
      "number of chains 1\n"
     ]
    },
    {
     "name": "stderr",
     "output_type": "stream",
     "text": [
      " 40%|████      | 121/302 [00:37<00:39,  4.58it/s]"
     ]
    },
    {
     "name": "stdout",
     "output_type": "stream",
     "text": [
      "completed:  /Users/josh/Documents/PhD/NoLooseEnds_Lab/FoXS-carbonara-comparison/Improving_Carbonara/PDB_modifications/2D8R\n",
      "number of chains 1\n",
      "completed:  /Users/josh/Documents/PhD/NoLooseEnds_Lab/FoXS-carbonara-comparison/Improving_Carbonara/PDB_modifications/5HPQ\n",
      "number of chains 1\n"
     ]
    },
    {
     "name": "stderr",
     "output_type": "stream",
     "text": [
      " 41%|████      | 123/302 [00:37<00:38,  4.70it/s]"
     ]
    },
    {
     "name": "stdout",
     "output_type": "stream",
     "text": [
      "completed:  /Users/josh/Documents/PhD/NoLooseEnds_Lab/FoXS-carbonara-comparison/Improving_Carbonara/PDB_modifications/5U4N\n",
      "number of chains 1\n",
      "completed:  /Users/josh/Documents/PhD/NoLooseEnds_Lab/FoXS-carbonara-comparison/Improving_Carbonara/PDB_modifications/2JRS\n",
      "number of chains 1\n"
     ]
    },
    {
     "name": "stderr",
     "output_type": "stream",
     "text": [
      " 41%|████▏     | 125/302 [00:37<00:35,  4.94it/s]"
     ]
    },
    {
     "name": "stdout",
     "output_type": "stream",
     "text": [
      "completed:  /Users/josh/Documents/PhD/NoLooseEnds_Lab/FoXS-carbonara-comparison/Improving_Carbonara/PDB_modifications/3GW3\n",
      "number of chains 1\n",
      "completed:  /Users/josh/Documents/PhD/NoLooseEnds_Lab/FoXS-carbonara-comparison/Improving_Carbonara/PDB_modifications/6TG5\n",
      "number of chains 1\n"
     ]
    },
    {
     "name": "stderr",
     "output_type": "stream",
     "text": [
      " 42%|████▏     | 127/302 [00:38<00:34,  5.00it/s]"
     ]
    },
    {
     "name": "stdout",
     "output_type": "stream",
     "text": [
      "completed:  /Users/josh/Documents/PhD/NoLooseEnds_Lab/FoXS-carbonara-comparison/Improving_Carbonara/PDB_modifications/5L1A\n",
      "number of chains 1\n",
      "completed:  /Users/josh/Documents/PhD/NoLooseEnds_Lab/FoXS-carbonara-comparison/Improving_Carbonara/PDB_modifications/3FA0\n",
      "number of chains 1\n"
     ]
    },
    {
     "name": "stderr",
     "output_type": "stream",
     "text": [
      " 42%|████▏     | 128/302 [00:38<00:34,  5.02it/s]"
     ]
    },
    {
     "name": "stdout",
     "output_type": "stream",
     "text": [
      "completed: Failed to find valid conformation for section 8) after 100 attempts - CA distance check failed\n",
      " /Users/josh/Documents/PhD/NoLooseEnds_Lab/FoXS-carbonara-comparison/Improving_Carbonara/PDB_modifications/8HO6\n",
      "number of chains 1\n"
     ]
    },
    {
     "name": "stderr",
     "output_type": "stream",
     "text": [
      " 43%|████▎     | 130/302 [00:38<00:34,  5.00it/s]"
     ]
    },
    {
     "name": "stdout",
     "output_type": "stream",
     "text": [
      "completed:  /Users/josh/Documents/PhD/NoLooseEnds_Lab/FoXS-carbonara-comparison/Improving_Carbonara/PDB_modifications/1CBO\n",
      "number of chains 1\n",
      "completed:  /Users/josh/Documents/PhD/NoLooseEnds_Lab/FoXS-carbonara-comparison/Improving_Carbonara/PDB_modifications/5L87\n",
      "number of chains 1\n"
     ]
    },
    {
     "name": "stderr",
     "output_type": "stream",
     "text": [
      " 44%|████▎     | 132/302 [00:39<00:32,  5.20it/s]"
     ]
    },
    {
     "name": "stdout",
     "output_type": "stream",
     "text": [
      "completed:  /Users/josh/Documents/PhD/NoLooseEnds_Lab/FoXS-carbonara-comparison/Improving_Carbonara/PDB_modifications/1VIP\n",
      "number of chains 1\n",
      "completed:  /Users/josh/Documents/PhD/NoLooseEnds_Lab/FoXS-carbonara-comparison/Improving_Carbonara/PDB_modifications/5LW4\n",
      "number of chains 1\n"
     ]
    },
    {
     "name": "stderr",
     "output_type": "stream",
     "text": [
      " 44%|████▍     | 133/302 [00:39<00:32,  5.24it/s]"
     ]
    },
    {
     "name": "stdout",
     "output_type": "stream",
     "text": [
      "completed:  /Users/josh/Documents/PhD/NoLooseEnds_Lab/FoXS-carbonara-comparison/Improving_Carbonara/PDB_modifications/3G87\n",
      "number of chains 1\n"
     ]
    },
    {
     "name": "stderr",
     "output_type": "stream",
     "text": [
      " 44%|████▍     | 134/302 [00:39<00:34,  4.89it/s]"
     ]
    },
    {
     "name": "stdout",
     "output_type": "stream",
     "text": [
      "completed:  /Users/josh/Documents/PhD/NoLooseEnds_Lab/FoXS-carbonara-comparison/Improving_Carbonara/PDB_modifications/2EEI\n",
      "number of chains 1\n"
     ]
    },
    {
     "name": "stderr",
     "output_type": "stream",
     "text": [
      " 45%|████▍     | 135/302 [00:39<00:35,  4.68it/s]"
     ]
    },
    {
     "name": "stdout",
     "output_type": "stream",
     "text": [
      "completed:  /Users/josh/Documents/PhD/NoLooseEnds_Lab/FoXS-carbonara-comparison/Improving_Carbonara/PDB_modifications/5CGX\n",
      "number of chains 1\n"
     ]
    },
    {
     "name": "stderr",
     "output_type": "stream",
     "text": [
      " 45%|████▌     | 137/302 [00:40<00:33,  4.90it/s]"
     ]
    },
    {
     "name": "stdout",
     "output_type": "stream",
     "text": [
      "completed:  /Users/josh/Documents/PhD/NoLooseEnds_Lab/FoXS-carbonara-comparison/Improving_Carbonara/PDB_modifications/4WAB\n",
      "number of chains 1\n",
      "completed:  /Users/josh/Documents/PhD/NoLooseEnds_Lab/FoXS-carbonara-comparison/Improving_Carbonara/PDB_modifications/1VLO\n",
      "Failed to find valid conformation for section 2) after 100 attempts - CA distance check failed\n",
      "number of chains 1\n"
     ]
    },
    {
     "name": "stderr",
     "output_type": "stream",
     "text": [
      " 46%|████▌     | 138/302 [00:40<00:33,  4.92it/s]"
     ]
    },
    {
     "name": "stdout",
     "output_type": "stream",
     "text": [
      "completed:  /Users/josh/Documents/PhD/NoLooseEnds_Lab/FoXS-carbonara-comparison/Improving_Carbonara/PDB_modifications/1SYY\n",
      "number of chains 1\n"
     ]
    },
    {
     "name": "stderr",
     "output_type": "stream",
     "text": [
      " 46%|████▋     | 140/302 [00:40<00:32,  4.95it/s]"
     ]
    },
    {
     "name": "stdout",
     "output_type": "stream",
     "text": [
      "completed:  /Users/josh/Documents/PhD/NoLooseEnds_Lab/FoXS-carbonara-comparison/Improving_Carbonara/PDB_modifications/4UBG\n",
      "number of chains 1\n",
      "completed:  /Users/josh/Documents/PhD/NoLooseEnds_Lab/FoXS-carbonara-comparison/Improving_Carbonara/PDB_modifications/7LAT\n",
      "number of chains 1\n"
     ]
    },
    {
     "name": "stderr",
     "output_type": "stream",
     "text": [
      " 47%|████▋     | 142/302 [00:41<00:33,  4.74it/s]"
     ]
    },
    {
     "name": "stdout",
     "output_type": "stream",
     "text": [
      "completed:  /Users/josh/Documents/PhD/NoLooseEnds_Lab/FoXS-carbonara-comparison/Improving_Carbonara/PDB_modifications/8CU9\n",
      "number of chains 1\n",
      "completed:  /Users/josh/Documents/PhD/NoLooseEnds_Lab/FoXS-carbonara-comparison/Improving_Carbonara/PDB_modifications/2EL6\n",
      "number of chains 1\n"
     ]
    },
    {
     "name": "stderr",
     "output_type": "stream",
     "text": [
      " 48%|████▊     | 144/302 [00:41<00:30,  5.14it/s]"
     ]
    },
    {
     "name": "stdout",
     "output_type": "stream",
     "text": [
      "completed:  /Users/josh/Documents/PhD/NoLooseEnds_Lab/FoXS-carbonara-comparison/Improving_Carbonara/PDB_modifications/1SUR\n",
      "number of chains 1\n",
      "completed:  /Users/josh/Documents/PhD/NoLooseEnds_Lab/FoXS-carbonara-comparison/Improving_Carbonara/PDB_modifications/4YKD\n",
      "number of chains 1\n"
     ]
    },
    {
     "name": "stderr",
     "output_type": "stream",
     "text": [
      " 48%|████▊     | 145/302 [00:41<00:30,  5.22it/s]"
     ]
    },
    {
     "name": "stdout",
     "output_type": "stream",
     "text": [
      "completed:  /Users/josh/Documents/PhD/NoLooseEnds_Lab/FoXS-carbonara-comparison/Improving_Carbonara/PDB_modifications/2AIQ\n",
      "number of chains 1\n"
     ]
    },
    {
     "name": "stderr",
     "output_type": "stream",
     "text": [
      " 48%|████▊     | 146/302 [00:42<00:30,  5.06it/s]"
     ]
    },
    {
     "name": "stdout",
     "output_type": "stream",
     "text": [
      "completed:  /Users/josh/Documents/PhD/NoLooseEnds_Lab/FoXS-carbonara-comparison/Improving_Carbonara/PDB_modifications/5FTW\n",
      "number of chains 1\n"
     ]
    },
    {
     "name": "stderr",
     "output_type": "stream",
     "text": [
      " 49%|████▉     | 148/302 [00:42<00:30,  5.09it/s]"
     ]
    },
    {
     "name": "stdout",
     "output_type": "stream",
     "text": [
      "completed:  /Users/josh/Documents/PhD/NoLooseEnds_Lab/FoXS-carbonara-comparison/Improving_Carbonara/PDB_modifications/2HYZ\n",
      "number of chains 1\n",
      "completed:  /Users/josh/Documents/PhD/NoLooseEnds_Lab/FoXS-carbonara-comparison/Improving_Carbonara/PDB_modifications/2EE9\n",
      "number of chains 1\n"
     ]
    },
    {
     "name": "stderr",
     "output_type": "stream",
     "text": [
      " 49%|████▉     | 149/302 [00:42<00:29,  5.23it/s]"
     ]
    },
    {
     "name": "stdout",
     "output_type": "stream",
     "text": [
      "completed:  /Users/josh/Documents/PhD/NoLooseEnds_Lab/FoXS-carbonara-comparison/Improving_Carbonara/PDB_modifications/8EV4\n",
      "number of chains 1\n",
      "completed:  /Users/josh/Documents/PhD/NoLooseEnds_Lab/FoXS-carbonara-comparison/Improving_Carbonara/PDB_modifications/8OZ1\n"
     ]
    },
    {
     "name": "stderr",
     "output_type": "stream",
     "text": [
      " 50%|█████     | 151/302 [00:43<00:29,  5.11it/s]"
     ]
    },
    {
     "name": "stdout",
     "output_type": "stream",
     "text": [
      "number of chains 1\n",
      "completed:  /Users/josh/Documents/PhD/NoLooseEnds_Lab/FoXS-carbonara-comparison/Improving_Carbonara/PDB_modifications/6EJ2\n",
      "Failed to find valid conformation for section 2) after 100 attempts - CA distance check failed\n"
     ]
    },
    {
     "name": "stderr",
     "output_type": "stream",
     "text": [
      " 50%|█████     | 152/302 [00:43<00:29,  5.17it/s]"
     ]
    },
    {
     "name": "stdout",
     "output_type": "stream",
     "text": [
      "number of chains 1\n",
      "completed:  /Users/josh/Documents/PhD/NoLooseEnds_Lab/FoXS-carbonara-comparison/Improving_Carbonara/PDB_modifications/2LP1\n",
      "number of chains 1\n"
     ]
    },
    {
     "name": "stderr",
     "output_type": "stream",
     "text": [
      " 51%|█████     | 154/302 [00:43<00:28,  5.27it/s]"
     ]
    },
    {
     "name": "stdout",
     "output_type": "stream",
     "text": [
      "completed:  /Users/josh/Documents/PhD/NoLooseEnds_Lab/FoXS-carbonara-comparison/Improving_Carbonara/PDB_modifications/3DAM\n",
      "number of chains 1\n",
      "completed:  /Users/josh/Documents/PhD/NoLooseEnds_Lab/FoXS-carbonara-comparison/Improving_Carbonara/PDB_modifications/2DZL\n",
      "number of chains 1\n"
     ]
    },
    {
     "name": "stderr",
     "output_type": "stream",
     "text": [
      " 51%|█████▏    | 155/302 [00:43<00:27,  5.36it/s]"
     ]
    },
    {
     "name": "stdout",
     "output_type": "stream",
     "text": [
      "completed:  /Users/josh/Documents/PhD/NoLooseEnds_Lab/FoXS-carbonara-comparison/Improving_Carbonara/PDB_modifications/1WUZ\n",
      "number of chains 1\n"
     ]
    },
    {
     "name": "stderr",
     "output_type": "stream",
     "text": [
      " 52%|█████▏    | 156/302 [00:43<00:28,  5.21it/s]"
     ]
    },
    {
     "name": "stdout",
     "output_type": "stream",
     "text": [
      "completed:  /Users/josh/Documents/PhD/NoLooseEnds_Lab/FoXS-carbonara-comparison/Improving_Carbonara/PDB_modifications/1U5P\n",
      "number of chains 1\n"
     ]
    },
    {
     "name": "stderr",
     "output_type": "stream",
     "text": [
      " 52%|█████▏    | 158/302 [00:44<00:30,  4.68it/s]"
     ]
    },
    {
     "name": "stdout",
     "output_type": "stream",
     "text": [
      "completed:  /Users/josh/Documents/PhD/NoLooseEnds_Lab/FoXS-carbonara-comparison/Improving_Carbonara/PDB_modifications/2WQD\n",
      "number of chains 1\n",
      "completed:  /Users/josh/Documents/PhD/NoLooseEnds_Lab/FoXS-carbonara-comparison/Improving_Carbonara/PDB_modifications/1WZW\n",
      "number of chains 1\n"
     ]
    },
    {
     "name": "stderr",
     "output_type": "stream",
     "text": [
      " 53%|█████▎    | 159/302 [00:44<00:29,  4.86it/s]"
     ]
    },
    {
     "name": "stdout",
     "output_type": "stream",
     "text": [
      "completed:  /Users/josh/Documents/PhD/NoLooseEnds_Lab/FoXS-carbonara-comparison/Improving_Carbonara/PDB_modifications/6VDN\n",
      "number of chains 1\n"
     ]
    },
    {
     "name": "stderr",
     "output_type": "stream",
     "text": [
      " 53%|█████▎    | 160/302 [00:44<00:32,  4.36it/s]"
     ]
    },
    {
     "name": "stdout",
     "output_type": "stream",
     "text": [
      "completed:  /Users/josh/Documents/PhD/NoLooseEnds_Lab/FoXS-carbonara-comparison/Improving_Carbonara/PDB_modifications/7FH7\n",
      "number of chains 1\n"
     ]
    },
    {
     "name": "stderr",
     "output_type": "stream",
     "text": [
      " 54%|█████▎    | 162/302 [00:45<00:39,  3.56it/s]"
     ]
    },
    {
     "name": "stdout",
     "output_type": "stream",
     "text": [
      "completed:  /Users/josh/Documents/PhD/NoLooseEnds_Lab/FoXS-carbonara-comparison/Improving_Carbonara/PDB_modifications/7V9Q\n",
      "number of chains 1\n",
      "completed:  /Users/josh/Documents/PhD/NoLooseEnds_Lab/FoXS-carbonara-comparison/Improving_Carbonara/PDB_modifications/1S3P\n",
      "number of chains 1\n"
     ]
    },
    {
     "name": "stderr",
     "output_type": "stream",
     "text": [
      " 54%|█████▍    | 164/302 [00:46<00:31,  4.34it/s]"
     ]
    },
    {
     "name": "stdout",
     "output_type": "stream",
     "text": [
      "completed: Failed to find valid conformation for section 2) after 100 attempts - CA distance check failed\n",
      " /Users/josh/Documents/PhD/NoLooseEnds_Lab/FoXS-carbonara-comparison/Improving_Carbonara/PDB_modifications/3HMQ\n",
      "number of chains 1\n",
      "completed:  /Users/josh/Documents/PhD/NoLooseEnds_Lab/FoXS-carbonara-comparison/Improving_Carbonara/PDB_modifications/1YZC\n",
      "number of chains 1\n"
     ]
    },
    {
     "name": "stderr",
     "output_type": "stream",
     "text": [
      " 55%|█████▍    | 165/302 [00:46<00:33,  4.04it/s]"
     ]
    },
    {
     "name": "stdout",
     "output_type": "stream",
     "text": [
      "completed:  /Users/josh/Documents/PhD/NoLooseEnds_Lab/FoXS-carbonara-comparison/Improving_Carbonara/PDB_modifications/2F6C\n",
      "number of chains 1\n"
     ]
    },
    {
     "name": "stderr",
     "output_type": "stream",
     "text": [
      " 55%|█████▌    | 167/302 [00:46<00:29,  4.61it/s]"
     ]
    },
    {
     "name": "stdout",
     "output_type": "stream",
     "text": [
      "completed:  /Users/josh/Documents/PhD/NoLooseEnds_Lab/FoXS-carbonara-comparison/Improving_Carbonara/PDB_modifications/6ZG4\n",
      "number of chains 1\n",
      "completed:  /Users/josh/Documents/PhD/NoLooseEnds_Lab/FoXS-carbonara-comparison/Improving_Carbonara/PDB_modifications/2JV6\n",
      "number of chains 1\n"
     ]
    },
    {
     "name": "stderr",
     "output_type": "stream",
     "text": [
      " 56%|█████▌    | 169/302 [00:47<00:29,  4.46it/s]"
     ]
    },
    {
     "name": "stdout",
     "output_type": "stream",
     "text": [
      "completed:  /Users/josh/Documents/PhD/NoLooseEnds_Lab/FoXS-carbonara-comparison/Improving_Carbonara/PDB_modifications/7R9K\n",
      "number of chains 1\n",
      "completed:  /Users/josh/Documents/PhD/NoLooseEnds_Lab/FoXS-carbonara-comparison/Improving_Carbonara/PDB_modifications/5YUH\n",
      "number of chains 1\n"
     ]
    },
    {
     "name": "stderr",
     "output_type": "stream",
     "text": [
      " 57%|█████▋    | 171/302 [00:47<00:26,  5.00it/s]"
     ]
    },
    {
     "name": "stdout",
     "output_type": "stream",
     "text": [
      "completed:  /Users/josh/Documents/PhD/NoLooseEnds_Lab/FoXS-carbonara-comparison/Improving_Carbonara/PDB_modifications/5FWC\n",
      "number of chains 1\n",
      "completed:  /Users/josh/Documents/PhD/NoLooseEnds_Lab/FoXS-carbonara-comparison/Improving_Carbonara/PDB_modifications/1D2J\n",
      "number of chains 1\n"
     ]
    },
    {
     "name": "stderr",
     "output_type": "stream",
     "text": [
      " 57%|█████▋    | 173/302 [00:47<00:24,  5.29it/s]"
     ]
    },
    {
     "name": "stdout",
     "output_type": "stream",
     "text": [
      "completed:  /Users/josh/Documents/PhD/NoLooseEnds_Lab/FoXS-carbonara-comparison/Improving_Carbonara/PDB_modifications/7BAF\n",
      "number of chains 1\n",
      "completed:  /Users/josh/Documents/PhD/NoLooseEnds_Lab/FoXS-carbonara-comparison/Improving_Carbonara/PDB_modifications/1DQB\n",
      "number of chains 1\n"
     ]
    },
    {
     "name": "stderr",
     "output_type": "stream",
     "text": [
      " 58%|█████▊    | 175/302 [00:48<00:24,  5.22it/s]"
     ]
    },
    {
     "name": "stdout",
     "output_type": "stream",
     "text": [
      "completed:  /Users/josh/Documents/PhD/NoLooseEnds_Lab/FoXS-carbonara-comparison/Improving_Carbonara/PDB_modifications/2KOG\n",
      "number of chains 1\n",
      "completed:  /Users/josh/Documents/PhD/NoLooseEnds_Lab/FoXS-carbonara-comparison/Improving_Carbonara/PDB_modifications/8PQ4\n",
      "number of chains 1\n"
     ]
    },
    {
     "name": "stderr",
     "output_type": "stream",
     "text": [
      " 59%|█████▊    | 177/302 [00:48<00:24,  5.20it/s]"
     ]
    },
    {
     "name": "stdout",
     "output_type": "stream",
     "text": [
      "completed:  /Users/josh/Documents/PhD/NoLooseEnds_Lab/FoXS-carbonara-comparison/Improving_Carbonara/PDB_modifications/2YTR\n",
      "number of chains 1\n",
      "completed:  /Users/josh/Documents/PhD/NoLooseEnds_Lab/FoXS-carbonara-comparison/Improving_Carbonara/PDB_modifications/2JUH\n",
      "number of chains 1\n"
     ]
    },
    {
     "name": "stderr",
     "output_type": "stream",
     "text": [
      " 59%|█████▉    | 179/302 [00:49<00:23,  5.28it/s]"
     ]
    },
    {
     "name": "stdout",
     "output_type": "stream",
     "text": [
      "completed:  /Users/josh/Documents/PhD/NoLooseEnds_Lab/FoXS-carbonara-comparison/Improving_Carbonara/PDB_modifications/1DRJ\n",
      "number of chains 1\n",
      "completed:  /Users/josh/Documents/PhD/NoLooseEnds_Lab/FoXS-carbonara-comparison/Improving_Carbonara/PDB_modifications/1TOL\n",
      "Failed to find valid conformation for section 16) after 100 attempts - CA distance check failed\n",
      "number of chains 1\n"
     ]
    },
    {
     "name": "stderr",
     "output_type": "stream",
     "text": [
      " 60%|█████▉    | 181/302 [00:49<00:22,  5.43it/s]"
     ]
    },
    {
     "name": "stdout",
     "output_type": "stream",
     "text": [
      "completed:  /Users/josh/Documents/PhD/NoLooseEnds_Lab/FoXS-carbonara-comparison/Improving_Carbonara/PDB_modifications/6VBD\n",
      "number of chains 1\n",
      "completed:  /Users/josh/Documents/PhD/NoLooseEnds_Lab/FoXS-carbonara-comparison/Improving_Carbonara/PDB_modifications/1J8E\n",
      "number of chains 1\n"
     ]
    },
    {
     "name": "stderr",
     "output_type": "stream",
     "text": [
      " 61%|██████    | 183/302 [00:49<00:24,  4.92it/s]"
     ]
    },
    {
     "name": "stdout",
     "output_type": "stream",
     "text": [
      "completed:  /Users/josh/Documents/PhD/NoLooseEnds_Lab/FoXS-carbonara-comparison/Improving_Carbonara/PDB_modifications/2HZH\n",
      "number of chains 1\n",
      "completed:  /Users/josh/Documents/PhD/NoLooseEnds_Lab/FoXS-carbonara-comparison/Improving_Carbonara/PDB_modifications/5H1Z\n"
     ]
    },
    {
     "name": "stderr",
     "output_type": "stream",
     "text": [
      " 61%|██████    | 184/302 [00:50<00:23,  5.05it/s]"
     ]
    },
    {
     "name": "stdout",
     "output_type": "stream",
     "text": [
      "number of chains 1\n",
      "completed:  /Users/josh/Documents/PhD/NoLooseEnds_Lab/FoXS-carbonara-comparison/Improving_Carbonara/PDB_modifications/6MFK\n",
      "number of chains 1\n"
     ]
    },
    {
     "name": "stderr",
     "output_type": "stream",
     "text": [
      " 62%|██████▏   | 186/302 [00:50<00:23,  4.84it/s]"
     ]
    },
    {
     "name": "stdout",
     "output_type": "stream",
     "text": [
      "completed:  /Users/josh/Documents/PhD/NoLooseEnds_Lab/FoXS-carbonara-comparison/Improving_Carbonara/PDB_modifications/2AEU\n",
      "number of chains 1\n",
      "completed:  /Users/josh/Documents/PhD/NoLooseEnds_Lab/FoXS-carbonara-comparison/Improving_Carbonara/PDB_modifications/2JUA\n",
      "number of chains 1\n"
     ]
    },
    {
     "name": "stderr",
     "output_type": "stream",
     "text": [
      " 62%|██████▏   | 188/302 [00:50<00:21,  5.22it/s]"
     ]
    },
    {
     "name": "stdout",
     "output_type": "stream",
     "text": [
      "completed:  /Users/josh/Documents/PhD/NoLooseEnds_Lab/FoXS-carbonara-comparison/Improving_Carbonara/PDB_modifications/2JSX\n",
      "number of chains 1\n",
      "completed:  /Users/josh/Documents/PhD/NoLooseEnds_Lab/FoXS-carbonara-comparison/Improving_Carbonara/PDB_modifications/1EGO\n",
      "number of chains 1\n"
     ]
    },
    {
     "name": "stderr",
     "output_type": "stream",
     "text": [
      " 63%|██████▎   | 190/302 [00:51<00:21,  5.22it/s]"
     ]
    },
    {
     "name": "stdout",
     "output_type": "stream",
     "text": [
      "completed:  /Users/josh/Documents/PhD/NoLooseEnds_Lab/FoXS-carbonara-comparison/Improving_Carbonara/PDB_modifications/8GPV\n",
      "number of chains 1\n",
      "completed:  /Users/josh/Documents/PhD/NoLooseEnds_Lab/FoXS-carbonara-comparison/Improving_Carbonara/PDB_modifications/6OJJ\n",
      "Failed to find valid conformation for section 30) after 100 attempts - CA distance check failed\n",
      "number of chains 1\n"
     ]
    },
    {
     "name": "stderr",
     "output_type": "stream",
     "text": [
      " 64%|██████▎   | 192/302 [00:51<00:22,  4.80it/s]"
     ]
    },
    {
     "name": "stdout",
     "output_type": "stream",
     "text": [
      "completed:  /Users/josh/Documents/PhD/NoLooseEnds_Lab/FoXS-carbonara-comparison/Improving_Carbonara/PDB_modifications/3X0D\n",
      "number of chains 1\n",
      "completed:  /Users/josh/Documents/PhD/NoLooseEnds_Lab/FoXS-carbonara-comparison/Improving_Carbonara/PDB_modifications/2XM7\n",
      "number of chains 1\n"
     ]
    },
    {
     "name": "stderr",
     "output_type": "stream",
     "text": [
      " 64%|██████▍   | 193/302 [00:51<00:21,  5.02it/s]"
     ]
    },
    {
     "name": "stdout",
     "output_type": "stream",
     "text": [
      "completed:  /Users/josh/Documents/PhD/NoLooseEnds_Lab/FoXS-carbonara-comparison/Improving_Carbonara/PDB_modifications/1JQ4\n",
      "number of chains 1\n"
     ]
    },
    {
     "name": "stderr",
     "output_type": "stream",
     "text": [
      " 65%|██████▍   | 195/302 [00:52<00:21,  4.90it/s]"
     ]
    },
    {
     "name": "stdout",
     "output_type": "stream",
     "text": [
      "completed:  /Users/josh/Documents/PhD/NoLooseEnds_Lab/FoXS-carbonara-comparison/Improving_Carbonara/PDB_modifications/4BLL\n",
      "number of chains 1\n",
      "completed:  /Users/josh/Documents/PhD/NoLooseEnds_Lab/FoXS-carbonara-comparison/Improving_Carbonara/PDB_modifications/1S05\n",
      "number of chains 1\n"
     ]
    },
    {
     "name": "stderr",
     "output_type": "stream",
     "text": [
      " 65%|██████▌   | 197/302 [00:52<00:21,  4.94it/s]"
     ]
    },
    {
     "name": "stdout",
     "output_type": "stream",
     "text": [
      "completed: Failed to find valid conformation for section 2) after 100 attempts - CA distance check failed\n",
      " /Users/josh/Documents/PhD/NoLooseEnds_Lab/FoXS-carbonara-comparison/Improving_Carbonara/PDB_modifications/8CUO\n",
      "number of chains 1\n",
      "completed:  /Users/josh/Documents/PhD/NoLooseEnds_Lab/FoXS-carbonara-comparison/Improving_Carbonara/PDB_modifications/4EVF\n",
      "number of chains 1\n"
     ]
    },
    {
     "name": "stderr",
     "output_type": "stream",
     "text": [
      " 66%|██████▌   | 199/302 [00:53<00:20,  5.11it/s]"
     ]
    },
    {
     "name": "stdout",
     "output_type": "stream",
     "text": [
      "completed:  /Users/josh/Documents/PhD/NoLooseEnds_Lab/FoXS-carbonara-comparison/Improving_Carbonara/PDB_modifications/7O4O\n",
      "number of chains 1\n",
      "completed:  /Users/josh/Documents/PhD/NoLooseEnds_Lab/FoXS-carbonara-comparison/Improving_Carbonara/PDB_modifications/4GP9\n",
      "number of chains 1\n"
     ]
    },
    {
     "name": "stderr",
     "output_type": "stream",
     "text": [
      " 66%|██████▌   | 200/302 [00:53<00:20,  5.01it/s]"
     ]
    },
    {
     "name": "stdout",
     "output_type": "stream",
     "text": [
      "completed:  /Users/josh/Documents/PhD/NoLooseEnds_Lab/FoXS-carbonara-comparison/Improving_Carbonara/PDB_modifications/2N5I\n",
      "number of chains 1\n"
     ]
    },
    {
     "name": "stderr",
     "output_type": "stream",
     "text": [
      " 67%|██████▋   | 201/302 [00:53<00:20,  4.98it/s]"
     ]
    },
    {
     "name": "stdout",
     "output_type": "stream",
     "text": [
      "completed:  /Users/josh/Documents/PhD/NoLooseEnds_Lab/FoXS-carbonara-comparison/Improving_Carbonara/PDB_modifications/1YUA\n",
      "number of chains 1\n"
     ]
    },
    {
     "name": "stderr",
     "output_type": "stream",
     "text": [
      " 67%|██████▋   | 203/302 [00:53<00:19,  4.96it/s]"
     ]
    },
    {
     "name": "stdout",
     "output_type": "stream",
     "text": [
      "completed:  /Users/josh/Documents/PhD/NoLooseEnds_Lab/FoXS-carbonara-comparison/Improving_Carbonara/PDB_modifications/7LK7\n",
      "number of chains 1\n",
      "completed:  /Users/josh/Documents/PhD/NoLooseEnds_Lab/FoXS-carbonara-comparison/Improving_Carbonara/PDB_modifications/2N6F\n",
      "number of chains 1\n"
     ]
    },
    {
     "name": "stderr",
     "output_type": "stream",
     "text": [
      " 68%|██████▊   | 204/302 [00:54<00:25,  3.79it/s]"
     ]
    },
    {
     "name": "stdout",
     "output_type": "stream",
     "text": [
      "completed:  /Users/josh/Documents/PhD/NoLooseEnds_Lab/FoXS-carbonara-comparison/Improving_Carbonara/PDB_modifications/8WNJ\n",
      "number of chains 1\n"
     ]
    },
    {
     "name": "stderr",
     "output_type": "stream",
     "text": [
      " 68%|██████▊   | 206/302 [00:54<00:22,  4.35it/s]"
     ]
    },
    {
     "name": "stdout",
     "output_type": "stream",
     "text": [
      "completed:  /Users/josh/Documents/PhD/NoLooseEnds_Lab/FoXS-carbonara-comparison/Improving_Carbonara/PDB_modifications/2W8V\n",
      "number of chains 1\n",
      "completed:  /Users/josh/Documents/PhD/NoLooseEnds_Lab/FoXS-carbonara-comparison/Improving_Carbonara/PDB_modifications/5IGL\n",
      "number of chains 1\n"
     ]
    },
    {
     "name": "stderr",
     "output_type": "stream",
     "text": [
      " 69%|██████▊   | 207/302 [00:54<00:20,  4.68it/s]"
     ]
    },
    {
     "name": "stdout",
     "output_type": "stream",
     "text": [
      "completed:  /Users/josh/Documents/PhD/NoLooseEnds_Lab/FoXS-carbonara-comparison/Improving_Carbonara/PDB_modifications/4DF7\n",
      "number of chains 1\n"
     ]
    },
    {
     "name": "stderr",
     "output_type": "stream",
     "text": [
      " 69%|██████▉   | 209/302 [00:55<00:18,  4.98it/s]"
     ]
    },
    {
     "name": "stdout",
     "output_type": "stream",
     "text": [
      "completed:  /Users/josh/Documents/PhD/NoLooseEnds_Lab/FoXS-carbonara-comparison/Improving_Carbonara/PDB_modifications/7O23\n",
      "number of chains 1\n",
      "completed:  /Users/josh/Documents/PhD/NoLooseEnds_Lab/FoXS-carbonara-comparison/Improving_Carbonara/PDB_modifications/2KLZ\n",
      "number of chains 1\n"
     ]
    },
    {
     "name": "stderr",
     "output_type": "stream",
     "text": [
      " 70%|██████▉   | 211/302 [00:55<00:17,  5.26it/s]"
     ]
    },
    {
     "name": "stdout",
     "output_type": "stream",
     "text": [
      "completed:  /Users/josh/Documents/PhD/NoLooseEnds_Lab/FoXS-carbonara-comparison/Improving_Carbonara/PDB_modifications/5J1K\n",
      "number of chains 1\n",
      "completed:  /Users/josh/Documents/PhD/NoLooseEnds_Lab/FoXS-carbonara-comparison/Improving_Carbonara/PDB_modifications/7SLH\n",
      "number of chains 1\n"
     ]
    },
    {
     "name": "stderr",
     "output_type": "stream",
     "text": [
      " 70%|███████   | 212/302 [00:55<00:17,  5.26it/s]"
     ]
    },
    {
     "name": "stdout",
     "output_type": "stream",
     "text": [
      "completed:  /Users/josh/Documents/PhD/NoLooseEnds_Lab/FoXS-carbonara-comparison/Improving_Carbonara/PDB_modifications/7CRA\n",
      "number of chains 1\n"
     ]
    },
    {
     "name": "stderr",
     "output_type": "stream",
     "text": [
      " 71%|███████   | 214/302 [00:56<00:17,  4.98it/s]"
     ]
    },
    {
     "name": "stdout",
     "output_type": "stream",
     "text": [
      "completed:  /Users/josh/Documents/PhD/NoLooseEnds_Lab/FoXS-carbonara-comparison/Improving_Carbonara/PDB_modifications/3I2G\n",
      "number of chains 1\n",
      "completed:  /Users/josh/Documents/PhD/NoLooseEnds_Lab/FoXS-carbonara-comparison/Improving_Carbonara/PDB_modifications/4DCC\n",
      "number of chains 1\n"
     ]
    },
    {
     "name": "stderr",
     "output_type": "stream",
     "text": [
      " 72%|███████▏  | 216/302 [00:56<00:17,  4.79it/s]"
     ]
    },
    {
     "name": "stdout",
     "output_type": "stream",
     "text": [
      "completed:  /Users/josh/Documents/PhD/NoLooseEnds_Lab/FoXS-carbonara-comparison/Improving_Carbonara/PDB_modifications/3N92\n",
      "number of chains 1\n",
      "completed:  /Users/josh/Documents/PhD/NoLooseEnds_Lab/FoXS-carbonara-comparison/Improving_Carbonara/PDB_modifications/1JLI\n",
      "number of chains 1\n"
     ]
    },
    {
     "name": "stderr",
     "output_type": "stream",
     "text": [
      " 72%|███████▏  | 218/302 [00:57<00:16,  5.20it/s]"
     ]
    },
    {
     "name": "stdout",
     "output_type": "stream",
     "text": [
      "completed:  /Users/josh/Documents/PhD/NoLooseEnds_Lab/FoXS-carbonara-comparison/Improving_Carbonara/PDB_modifications/1BOE\n",
      "number of chains 1\n",
      "completed:  /Users/josh/Documents/PhD/NoLooseEnds_Lab/FoXS-carbonara-comparison/Improving_Carbonara/PDB_modifications/4N1D\n",
      "number of chains 1\n"
     ]
    },
    {
     "name": "stderr",
     "output_type": "stream",
     "text": [
      " 73%|███████▎  | 219/302 [00:57<00:16,  5.17it/s]"
     ]
    },
    {
     "name": "stdout",
     "output_type": "stream",
     "text": [
      "completed:  /Users/josh/Documents/PhD/NoLooseEnds_Lab/FoXS-carbonara-comparison/Improving_Carbonara/PDB_modifications/1K03\n",
      "number of chains 1\n"
     ]
    },
    {
     "name": "stderr",
     "output_type": "stream",
     "text": [
      " 73%|███████▎  | 221/302 [00:57<00:15,  5.09it/s]"
     ]
    },
    {
     "name": "stdout",
     "output_type": "stream",
     "text": [
      "completed:  /Users/josh/Documents/PhD/NoLooseEnds_Lab/FoXS-carbonara-comparison/Improving_Carbonara/PDB_modifications/6BAF\n",
      "number of chains 1\n",
      "completed:  /Users/josh/Documents/PhD/NoLooseEnds_Lab/FoXS-carbonara-comparison/Improving_Carbonara/PDB_modifications/5K9M\n",
      "Failed to find valid conformation for section 2) after 100 attempts - CA distance check failed\n",
      "number of chains 1\n"
     ]
    },
    {
     "name": "stderr",
     "output_type": "stream",
     "text": [
      " 74%|███████▎  | 222/302 [00:57<00:15,  5.12it/s]"
     ]
    },
    {
     "name": "stdout",
     "output_type": "stream",
     "text": [
      "completed:  /Users/josh/Documents/PhD/NoLooseEnds_Lab/FoXS-carbonara-comparison/Improving_Carbonara/PDB_modifications/3H6J\n",
      "number of chains 1\n"
     ]
    },
    {
     "name": "stderr",
     "output_type": "stream",
     "text": [
      " 74%|███████▍  | 224/302 [00:58<00:15,  5.09it/s]"
     ]
    },
    {
     "name": "stdout",
     "output_type": "stream",
     "text": [
      "completed:  /Users/josh/Documents/PhD/NoLooseEnds_Lab/FoXS-carbonara-comparison/Improving_Carbonara/PDB_modifications/7ZGB\n",
      "number of chains 1\n",
      "completed:  /Users/josh/Documents/PhD/NoLooseEnds_Lab/FoXS-carbonara-comparison/Improving_Carbonara/PDB_modifications/6C10\n",
      "number of chains 1\n"
     ]
    },
    {
     "name": "stderr",
     "output_type": "stream",
     "text": [
      " 75%|███████▍  | 225/302 [00:58<00:14,  5.21it/s]"
     ]
    },
    {
     "name": "stdout",
     "output_type": "stream",
     "text": [
      "completed:  /Users/josh/Documents/PhD/NoLooseEnds_Lab/FoXS-carbonara-comparison/Improving_Carbonara/PDB_modifications/6GTP\n",
      "number of chains 1\n"
     ]
    },
    {
     "name": "stderr",
     "output_type": "stream",
     "text": [
      " 75%|███████▌  | 227/302 [00:58<00:15,  4.97it/s]"
     ]
    },
    {
     "name": "stdout",
     "output_type": "stream",
     "text": [
      "completed:  /Users/josh/Documents/PhD/NoLooseEnds_Lab/FoXS-carbonara-comparison/Improving_Carbonara/PDB_modifications/5HIS\n",
      "number of chains 1\n",
      "completed:  /Users/josh/Documents/PhD/NoLooseEnds_Lab/FoXS-carbonara-comparison/Improving_Carbonara/PDB_modifications/1X8V\n",
      "Failed to find valid conformation for section 4) after 100 attempts - CA distance check failed\n",
      "number of chains 1\n"
     ]
    },
    {
     "name": "stderr",
     "output_type": "stream",
     "text": [
      " 76%|███████▌  | 229/302 [00:59<00:15,  4.82it/s]"
     ]
    },
    {
     "name": "stdout",
     "output_type": "stream",
     "text": [
      "completed:  /Users/josh/Documents/PhD/NoLooseEnds_Lab/FoXS-carbonara-comparison/Improving_Carbonara/PDB_modifications/8H1K\n",
      "number of chains 1\n",
      "completed:  /Users/josh/Documents/PhD/NoLooseEnds_Lab/FoXS-carbonara-comparison/Improving_Carbonara/PDB_modifications/4BR7\n",
      "number of chains 1\n"
     ]
    },
    {
     "name": "stderr",
     "output_type": "stream",
     "text": [
      " 76%|███████▋  | 231/302 [01:00<00:20,  3.40it/s]"
     ]
    },
    {
     "name": "stdout",
     "output_type": "stream",
     "text": [
      "completed:  /Users/josh/Documents/PhD/NoLooseEnds_Lab/FoXS-carbonara-comparison/Improving_Carbonara/PDB_modifications/7MFL\n",
      "number of chains 1\n",
      "completed:  /Users/josh/Documents/PhD/NoLooseEnds_Lab/FoXS-carbonara-comparison/Improving_Carbonara/PDB_modifications/6SO0\n",
      "number of chains 1\n"
     ]
    },
    {
     "name": "stderr",
     "output_type": "stream",
     "text": [
      " 77%|███████▋  | 233/302 [01:00<00:16,  4.19it/s]"
     ]
    },
    {
     "name": "stdout",
     "output_type": "stream",
     "text": [
      "completed:  /Users/josh/Documents/PhD/NoLooseEnds_Lab/FoXS-carbonara-comparison/Improving_Carbonara/PDB_modifications/4H7D\n",
      "number of chains 1\n",
      "completed:  /Users/josh/Documents/PhD/NoLooseEnds_Lab/FoXS-carbonara-comparison/Improving_Carbonara/PDB_modifications/5G0G\n",
      "number of chains 1\n"
     ]
    },
    {
     "name": "stderr",
     "output_type": "stream",
     "text": [
      " 77%|███████▋  | 234/302 [01:00<00:15,  4.49it/s]"
     ]
    },
    {
     "name": "stdout",
     "output_type": "stream",
     "text": [
      "completed:  /Users/josh/Documents/PhD/NoLooseEnds_Lab/FoXS-carbonara-comparison/Improving_Carbonara/PDB_modifications/6MWM\n",
      "number of chains 1\n"
     ]
    },
    {
     "name": "stderr",
     "output_type": "stream",
     "text": [
      " 78%|███████▊  | 235/302 [01:00<00:14,  4.50it/s]"
     ]
    },
    {
     "name": "stdout",
     "output_type": "stream",
     "text": [
      "completed:  /Users/josh/Documents/PhD/NoLooseEnds_Lab/FoXS-carbonara-comparison/Improving_Carbonara/PDB_modifications/5FJ6\n",
      "number of chains 1\n"
     ]
    },
    {
     "name": "stderr",
     "output_type": "stream",
     "text": [
      " 78%|███████▊  | 237/302 [01:01<00:13,  4.74it/s]"
     ]
    },
    {
     "name": "stdout",
     "output_type": "stream",
     "text": [
      "completed:  /Users/josh/Documents/PhD/NoLooseEnds_Lab/FoXS-carbonara-comparison/Improving_Carbonara/PDB_modifications/2YFR\n",
      "number of chains 1\n",
      "completed:  /Users/josh/Documents/PhD/NoLooseEnds_Lab/FoXS-carbonara-comparison/Improving_Carbonara/PDB_modifications/1WHJ\n",
      "number of chains 1\n"
     ]
    },
    {
     "name": "stderr",
     "output_type": "stream",
     "text": [
      " 79%|███████▉  | 238/302 [01:01<00:13,  4.78it/s]"
     ]
    },
    {
     "name": "stdout",
     "output_type": "stream",
     "text": [
      "completed:  /Users/josh/Documents/PhD/NoLooseEnds_Lab/FoXS-carbonara-comparison/Improving_Carbonara/PDB_modifications/7B3A\n",
      "number of chains 1\n"
     ]
    },
    {
     "name": "stderr",
     "output_type": "stream",
     "text": [
      " 79%|███████▉  | 240/302 [01:01<00:12,  4.99it/s]"
     ]
    },
    {
     "name": "stdout",
     "output_type": "stream",
     "text": [
      "completed:  /Users/josh/Documents/PhD/NoLooseEnds_Lab/FoXS-carbonara-comparison/Improving_Carbonara/PDB_modifications/3JV0\n",
      "number of chains 1\n",
      "completed:  /Users/josh/Documents/PhD/NoLooseEnds_Lab/FoXS-carbonara-comparison/Improving_Carbonara/PDB_modifications/2K7R\n",
      "number of chains 1\n"
     ]
    },
    {
     "name": "stderr",
     "output_type": "stream",
     "text": [
      " 80%|███████▉  | 241/302 [01:02<00:11,  5.09it/s]"
     ]
    },
    {
     "name": "stdout",
     "output_type": "stream",
     "text": [
      "completed:  /Users/josh/Documents/PhD/NoLooseEnds_Lab/FoXS-carbonara-comparison/Improving_Carbonara/PDB_modifications/1EZE\n",
      "number of chains 1\n"
     ]
    },
    {
     "name": "stderr",
     "output_type": "stream",
     "text": [
      " 80%|████████  | 242/302 [01:02<00:12,  4.95it/s]"
     ]
    },
    {
     "name": "stdout",
     "output_type": "stream",
     "text": [
      "completed:  /Users/josh/Documents/PhD/NoLooseEnds_Lab/FoXS-carbonara-comparison/Improving_Carbonara/PDB_modifications/3ZH9\n",
      "number of chains 1\n"
     ]
    },
    {
     "name": "stderr",
     "output_type": "stream",
     "text": [
      " 80%|████████  | 243/302 [01:02<00:12,  4.76it/s]"
     ]
    },
    {
     "name": "stdout",
     "output_type": "stream",
     "text": [
      "completed:  /Users/josh/Documents/PhD/NoLooseEnds_Lab/FoXS-carbonara-comparison/Improving_Carbonara/PDB_modifications/4H2G\n",
      "number of chains 1\n"
     ]
    },
    {
     "name": "stderr",
     "output_type": "stream",
     "text": [
      " 81%|████████  | 245/302 [01:02<00:11,  4.93it/s]"
     ]
    },
    {
     "name": "stdout",
     "output_type": "stream",
     "text": [
      "completed:  /Users/josh/Documents/PhD/NoLooseEnds_Lab/FoXS-carbonara-comparison/Improving_Carbonara/PDB_modifications/5UM2\n",
      "number of chains 1\n",
      "completed:  /Users/josh/Documents/PhD/NoLooseEnds_Lab/FoXS-carbonara-comparison/Improving_Carbonara/PDB_modifications/6FHZ\n",
      "number of chains 1\n"
     ]
    },
    {
     "name": "stderr",
     "output_type": "stream",
     "text": [
      " 82%|████████▏ | 247/302 [01:03<00:10,  5.26it/s]"
     ]
    },
    {
     "name": "stdout",
     "output_type": "stream",
     "text": [
      "completed:  /Users/josh/Documents/PhD/NoLooseEnds_Lab/FoXS-carbonara-comparison/Improving_Carbonara/PDB_modifications/5OP3\n",
      "number of chains 1\n",
      "completed:  /Users/josh/Documents/PhD/NoLooseEnds_Lab/FoXS-carbonara-comparison/Improving_Carbonara/PDB_modifications/2K48\n",
      "number of chains 1\n"
     ]
    },
    {
     "name": "stderr",
     "output_type": "stream",
     "text": [
      " 82%|████████▏ | 248/302 [01:03<00:10,  5.37it/s]"
     ]
    },
    {
     "name": "stdout",
     "output_type": "stream",
     "text": [
      "completed:  /Users/josh/Documents/PhD/NoLooseEnds_Lab/FoXS-carbonara-comparison/Improving_Carbonara/PDB_modifications/1JFN\n",
      "number of chains 1\n"
     ]
    },
    {
     "name": "stderr",
     "output_type": "stream",
     "text": [
      " 83%|████████▎ | 250/302 [01:03<00:09,  5.28it/s]"
     ]
    },
    {
     "name": "stdout",
     "output_type": "stream",
     "text": [
      "completed:  /Users/josh/Documents/PhD/NoLooseEnds_Lab/FoXS-carbonara-comparison/Improving_Carbonara/PDB_modifications/5YKP\n",
      "number of chains 1\n",
      "completed:  /Users/josh/Documents/PhD/NoLooseEnds_Lab/FoXS-carbonara-comparison/Improving_Carbonara/PDB_modifications/2M7L\n",
      "number of chains 1\n"
     ]
    },
    {
     "name": "stderr",
     "output_type": "stream",
     "text": [
      " 83%|████████▎ | 251/302 [01:04<00:09,  5.34it/s]"
     ]
    },
    {
     "name": "stdout",
     "output_type": "stream",
     "text": [
      "completed:  /Users/josh/Documents/PhD/NoLooseEnds_Lab/FoXS-carbonara-comparison/Improving_Carbonara/PDB_modifications/3LVB\n",
      "number of chains 1\n"
     ]
    },
    {
     "name": "stderr",
     "output_type": "stream",
     "text": [
      " 84%|████████▍ | 253/302 [01:04<00:09,  5.18it/s]"
     ]
    },
    {
     "name": "stdout",
     "output_type": "stream",
     "text": [
      "completed:  /Users/josh/Documents/PhD/NoLooseEnds_Lab/FoXS-carbonara-comparison/Improving_Carbonara/PDB_modifications/8AME\n",
      "number of chains 1\n",
      "completed:  /Users/josh/Documents/PhD/NoLooseEnds_Lab/FoXS-carbonara-comparison/Improving_Carbonara/PDB_modifications/5JEI\n",
      "number of chains 1\n"
     ]
    },
    {
     "name": "stderr",
     "output_type": "stream",
     "text": [
      " 84%|████████▍ | 254/302 [01:04<00:09,  5.30it/s]"
     ]
    },
    {
     "name": "stdout",
     "output_type": "stream",
     "text": [
      "completed:  /Users/josh/Documents/PhD/NoLooseEnds_Lab/FoXS-carbonara-comparison/Improving_Carbonara/PDB_modifications/2PY0\n",
      "number of chains 1\n"
     ]
    },
    {
     "name": "stderr",
     "output_type": "stream",
     "text": [
      " 85%|████████▍ | 256/302 [01:05<00:08,  5.15it/s]"
     ]
    },
    {
     "name": "stdout",
     "output_type": "stream",
     "text": [
      "completed:  /Users/josh/Documents/PhD/NoLooseEnds_Lab/FoXS-carbonara-comparison/Improving_Carbonara/PDB_modifications/4CD5\n",
      "number of chains 1\n",
      "completed:  /Users/josh/Documents/PhD/NoLooseEnds_Lab/FoXS-carbonara-comparison/Improving_Carbonara/PDB_modifications/6XPM\n",
      "number of chains 1\n"
     ]
    },
    {
     "name": "stderr",
     "output_type": "stream",
     "text": [
      " 85%|████████▌ | 258/302 [01:05<00:08,  5.17it/s]"
     ]
    },
    {
     "name": "stdout",
     "output_type": "stream",
     "text": [
      "completed:  /Users/josh/Documents/PhD/NoLooseEnds_Lab/FoXS-carbonara-comparison/Improving_Carbonara/PDB_modifications/4F1O\n",
      "number of chains 1\n",
      "completed:  /Users/josh/Documents/PhD/NoLooseEnds_Lab/FoXS-carbonara-comparison/Improving_Carbonara/PDB_modifications/1V4H\n",
      "number of chains 1\n"
     ]
    },
    {
     "name": "stderr",
     "output_type": "stream",
     "text": [
      " 86%|████████▌ | 260/302 [01:05<00:07,  5.35it/s]"
     ]
    },
    {
     "name": "stdout",
     "output_type": "stream",
     "text": [
      "completed:  /Users/josh/Documents/PhD/NoLooseEnds_Lab/FoXS-carbonara-comparison/Improving_Carbonara/PDB_modifications/7RM7\n",
      "number of chains 1\n",
      "completed:  /Users/josh/Documents/PhD/NoLooseEnds_Lab/FoXS-carbonara-comparison/Improving_Carbonara/PDB_modifications/2CTM\n",
      "number of chains 1\n"
     ]
    },
    {
     "name": "stderr",
     "output_type": "stream",
     "text": [
      " 87%|████████▋ | 262/302 [01:06<00:07,  5.38it/s]"
     ]
    },
    {
     "name": "stdout",
     "output_type": "stream",
     "text": [
      "completed:  /Users/josh/Documents/PhD/NoLooseEnds_Lab/FoXS-carbonara-comparison/Improving_Carbonara/PDB_modifications/6G2A\n",
      "number of chains 1\n",
      "completed:  /Users/josh/Documents/PhD/NoLooseEnds_Lab/FoXS-carbonara-comparison/Improving_Carbonara/PDB_modifications/1BLE\n",
      "number of chains 1\n"
     ]
    },
    {
     "name": "stderr",
     "output_type": "stream",
     "text": [
      " 87%|████████▋ | 263/302 [01:06<00:07,  5.33it/s]"
     ]
    },
    {
     "name": "stdout",
     "output_type": "stream",
     "text": [
      "completed:  /Users/josh/Documents/PhD/NoLooseEnds_Lab/FoXS-carbonara-comparison/Improving_Carbonara/PDB_modifications/4GBZ\n",
      "number of chains 1\n"
     ]
    },
    {
     "name": "stderr",
     "output_type": "stream",
     "text": [
      " 87%|████████▋ | 264/302 [01:06<00:07,  4.99it/s]"
     ]
    },
    {
     "name": "stdout",
     "output_type": "stream",
     "text": [
      "completed:  /Users/josh/Documents/PhD/NoLooseEnds_Lab/FoXS-carbonara-comparison/Improving_Carbonara/PDB_modifications/8HT0\n",
      "number of chains 1\n"
     ]
    },
    {
     "name": "stderr",
     "output_type": "stream",
     "text": [
      " 88%|████████▊ | 266/302 [01:07<00:07,  5.02it/s]"
     ]
    },
    {
     "name": "stdout",
     "output_type": "stream",
     "text": [
      "completed:  /Users/josh/Documents/PhD/NoLooseEnds_Lab/FoXS-carbonara-comparison/Improving_Carbonara/PDB_modifications/2M1H\n",
      "number of chains 1\n",
      "completed:  /Users/josh/Documents/PhD/NoLooseEnds_Lab/FoXS-carbonara-comparison/Improving_Carbonara/PDB_modifications/2M7Q\n",
      "number of chains 1\n"
     ]
    },
    {
     "name": "stderr",
     "output_type": "stream",
     "text": [
      " 88%|████████▊ | 267/302 [01:07<00:06,  5.16it/s]"
     ]
    },
    {
     "name": "stdout",
     "output_type": "stream",
     "text": [
      "completed:  /Users/josh/Documents/PhD/NoLooseEnds_Lab/FoXS-carbonara-comparison/Improving_Carbonara/PDB_modifications/7ZKF\n",
      "number of chains 1\n"
     ]
    },
    {
     "name": "stderr",
     "output_type": "stream",
     "text": [
      " 89%|████████▉ | 269/302 [01:07<00:07,  4.66it/s]"
     ]
    },
    {
     "name": "stdout",
     "output_type": "stream",
     "text": [
      "completed:  /Users/josh/Documents/PhD/NoLooseEnds_Lab/FoXS-carbonara-comparison/Improving_Carbonara/PDB_modifications/4OMT\n",
      "number of chains 1\n",
      "completed:  /Users/josh/Documents/PhD/NoLooseEnds_Lab/FoXS-carbonara-comparison/Improving_Carbonara/PDB_modifications/1GV5\n",
      "number of chains 1\n"
     ]
    },
    {
     "name": "stderr",
     "output_type": "stream",
     "text": [
      " 89%|████████▉ | 270/302 [01:07<00:06,  4.90it/s]"
     ]
    },
    {
     "name": "stdout",
     "output_type": "stream",
     "text": [
      "completed:  /Users/josh/Documents/PhD/NoLooseEnds_Lab/FoXS-carbonara-comparison/Improving_Carbonara/PDB_modifications/6R0J\n",
      "number of chains 1\n",
      "completed:  /Users/josh/Documents/PhD/NoLooseEnds_Lab/FoXS-carbonara-comparison/Improving_Carbonara/PDB_modifications/1X1C\n"
     ]
    },
    {
     "name": "stderr",
     "output_type": "stream",
     "text": [
      " 90%|█████████ | 272/302 [01:08<00:05,  5.06it/s]"
     ]
    },
    {
     "name": "stdout",
     "output_type": "stream",
     "text": [
      "number of chains 1\n",
      "completed:  /Users/josh/Documents/PhD/NoLooseEnds_Lab/FoXS-carbonara-comparison/Improving_Carbonara/PDB_modifications/1KZL\n",
      "number of chains 1\n"
     ]
    },
    {
     "name": "stderr",
     "output_type": "stream",
     "text": [
      " 90%|█████████ | 273/302 [01:08<00:06,  4.44it/s]"
     ]
    },
    {
     "name": "stdout",
     "output_type": "stream",
     "text": [
      "completed:  /Users/josh/Documents/PhD/NoLooseEnds_Lab/FoXS-carbonara-comparison/Improving_Carbonara/PDB_modifications/1M53\n",
      "number of chains 1\n"
     ]
    },
    {
     "name": "stderr",
     "output_type": "stream",
     "text": [
      " 91%|█████████ | 275/302 [01:09<00:06,  4.32it/s]"
     ]
    },
    {
     "name": "stdout",
     "output_type": "stream",
     "text": [
      "completed:  /Users/josh/Documents/PhD/NoLooseEnds_Lab/FoXS-carbonara-comparison/Improving_Carbonara/PDB_modifications/2DN7\n",
      "number of chains 1\n",
      "completed:  /Users/josh/Documents/PhD/NoLooseEnds_Lab/FoXS-carbonara-comparison/Improving_Carbonara/PDB_modifications/3U10\n",
      "number of chains 1\n"
     ]
    },
    {
     "name": "stderr",
     "output_type": "stream",
     "text": [
      " 92%|█████████▏| 277/302 [01:09<00:05,  4.68it/s]"
     ]
    },
    {
     "name": "stdout",
     "output_type": "stream",
     "text": [
      "completed:  /Users/josh/Documents/PhD/NoLooseEnds_Lab/FoXS-carbonara-comparison/Improving_Carbonara/PDB_modifications/4GMW\n",
      "number of chains 1\n",
      "completed:  /Users/josh/Documents/PhD/NoLooseEnds_Lab/FoXS-carbonara-comparison/Improving_Carbonara/PDB_modifications/2CQU\n",
      "number of chains 1\n"
     ]
    },
    {
     "name": "stderr",
     "output_type": "stream",
     "text": [
      " 92%|█████████▏| 278/302 [01:09<00:05,  4.72it/s]"
     ]
    },
    {
     "name": "stdout",
     "output_type": "stream",
     "text": [
      "completed:  /Users/josh/Documents/PhD/NoLooseEnds_Lab/FoXS-carbonara-comparison/Improving_Carbonara/PDB_modifications/1UH6\n",
      "number of chains 1\n"
     ]
    },
    {
     "name": "stderr",
     "output_type": "stream",
     "text": [
      " 93%|█████████▎| 280/302 [01:10<00:05,  3.67it/s]"
     ]
    },
    {
     "name": "stdout",
     "output_type": "stream",
     "text": [
      "completed:  /Users/josh/Documents/PhD/NoLooseEnds_Lab/FoXS-carbonara-comparison/Improving_Carbonara/PDB_modifications/7FSF\n",
      "number of chains 1\n",
      "completed:  /Users/josh/Documents/PhD/NoLooseEnds_Lab/FoXS-carbonara-comparison/Improving_Carbonara/PDB_modifications/5HLJ\n",
      "number of chains 1\n"
     ]
    },
    {
     "name": "stderr",
     "output_type": "stream",
     "text": [
      " 93%|█████████▎| 281/302 [01:10<00:05,  4.10it/s]"
     ]
    },
    {
     "name": "stdout",
     "output_type": "stream",
     "text": [
      "completed:  /Users/josh/Documents/PhD/NoLooseEnds_Lab/FoXS-carbonara-comparison/Improving_Carbonara/PDB_modifications/1CPZ\n",
      "number of chains 1\n"
     ]
    },
    {
     "name": "stderr",
     "output_type": "stream",
     "text": [
      " 93%|█████████▎| 282/302 [01:10<00:05,  3.77it/s]"
     ]
    },
    {
     "name": "stdout",
     "output_type": "stream",
     "text": [
      "completed:  /Users/josh/Documents/PhD/NoLooseEnds_Lab/FoXS-carbonara-comparison/Improving_Carbonara/PDB_modifications/1P2H\n",
      "number of chains 1\n"
     ]
    },
    {
     "name": "stderr",
     "output_type": "stream",
     "text": [
      " 94%|█████████▍| 284/302 [01:11<00:04,  4.32it/s]"
     ]
    },
    {
     "name": "stdout",
     "output_type": "stream",
     "text": [
      "completed:  /Users/josh/Documents/PhD/NoLooseEnds_Lab/FoXS-carbonara-comparison/Improving_Carbonara/PDB_modifications/2LHF\n",
      "number of chains 1\n",
      "completed:  /Users/josh/Documents/PhD/NoLooseEnds_Lab/FoXS-carbonara-comparison/Improving_Carbonara/PDB_modifications/3NPE\n",
      "number of chains 1\n"
     ]
    },
    {
     "name": "stderr",
     "output_type": "stream",
     "text": [
      " 94%|█████████▍| 285/302 [01:11<00:03,  4.65it/s]"
     ]
    },
    {
     "name": "stdout",
     "output_type": "stream",
     "text": [
      "completed:  /Users/josh/Documents/PhD/NoLooseEnds_Lab/FoXS-carbonara-comparison/Improving_Carbonara/PDB_modifications/1PWK\n",
      "number of chains 1\n"
     ]
    },
    {
     "name": "stderr",
     "output_type": "stream",
     "text": [
      " 95%|█████████▍| 286/302 [01:11<00:03,  4.71it/s]"
     ]
    },
    {
     "name": "stdout",
     "output_type": "stream",
     "text": [
      "completed:  /Users/josh/Documents/PhD/NoLooseEnds_Lab/FoXS-carbonara-comparison/Improving_Carbonara/PDB_modifications/1K0L\n",
      "number of chains 1\n"
     ]
    },
    {
     "name": "stderr",
     "output_type": "stream",
     "text": [
      " 95%|█████████▌| 287/302 [01:11<00:03,  4.71it/s]"
     ]
    },
    {
     "name": "stdout",
     "output_type": "stream",
     "text": [
      "completed:  /Users/josh/Documents/PhD/NoLooseEnds_Lab/FoXS-carbonara-comparison/Improving_Carbonara/PDB_modifications/8H1Q\n",
      "number of chains 1\n"
     ]
    },
    {
     "name": "stderr",
     "output_type": "stream",
     "text": [
      " 96%|█████████▌| 289/302 [01:12<00:02,  4.87it/s]"
     ]
    },
    {
     "name": "stdout",
     "output_type": "stream",
     "text": [
      "completed:  /Users/josh/Documents/PhD/NoLooseEnds_Lab/FoXS-carbonara-comparison/Improving_Carbonara/PDB_modifications/2G29\n",
      "number of chains 1\n",
      "completed:  /Users/josh/Documents/PhD/NoLooseEnds_Lab/FoXS-carbonara-comparison/Improving_Carbonara/PDB_modifications/3IO2\n",
      "number of chains 1\n"
     ]
    },
    {
     "name": "stderr",
     "output_type": "stream",
     "text": [
      " 96%|█████████▋| 291/302 [01:12<00:02,  4.52it/s]"
     ]
    },
    {
     "name": "stdout",
     "output_type": "stream",
     "text": [
      "completed:  /Users/josh/Documents/PhD/NoLooseEnds_Lab/FoXS-carbonara-comparison/Improving_Carbonara/PDB_modifications/6TPO\n",
      "number of chains 1\n",
      "completed:  /Users/josh/Documents/PhD/NoLooseEnds_Lab/FoXS-carbonara-comparison/Improving_Carbonara/PDB_modifications/4WY2\n",
      "Failed to find valid conformation for section 7) after 100 attempts - CA distance check failed\n",
      "number of chains 1\n"
     ]
    },
    {
     "name": "stderr",
     "output_type": "stream",
     "text": [
      " 97%|█████████▋| 293/302 [01:13<00:01,  4.65it/s]"
     ]
    },
    {
     "name": "stdout",
     "output_type": "stream",
     "text": [
      "completed:  /Users/josh/Documents/PhD/NoLooseEnds_Lab/FoXS-carbonara-comparison/Improving_Carbonara/PDB_modifications/7D9B\n",
      "number of chains 1\n",
      "completed:  /Users/josh/Documents/PhD/NoLooseEnds_Lab/FoXS-carbonara-comparison/Improving_Carbonara/PDB_modifications/2CQN\n",
      "number of chains 1\n"
     ]
    },
    {
     "name": "stderr",
     "output_type": "stream",
     "text": [
      " 97%|█████████▋| 294/302 [01:13<00:01,  4.89it/s]"
     ]
    },
    {
     "name": "stdout",
     "output_type": "stream",
     "text": [
      "completed:  /Users/josh/Documents/PhD/NoLooseEnds_Lab/FoXS-carbonara-comparison/Improving_Carbonara/PDB_modifications/2CRA\n",
      "number of chains 1\n"
     ]
    },
    {
     "name": "stderr",
     "output_type": "stream",
     "text": [
      " 98%|█████████▊| 296/302 [01:13<00:01,  5.02it/s]"
     ]
    },
    {
     "name": "stdout",
     "output_type": "stream",
     "text": [
      "completed:  /Users/josh/Documents/PhD/NoLooseEnds_Lab/FoXS-carbonara-comparison/Improving_Carbonara/PDB_modifications/6M4C\n",
      "number of chains 1\n",
      "completed:  /Users/josh/Documents/PhD/NoLooseEnds_Lab/FoXS-carbonara-comparison/Improving_Carbonara/PDB_modifications/4H1N\n",
      "Failed to find valid conformation for section 2) after 100 attempts - CA distance check failed\n",
      "number of chains 1\n"
     ]
    },
    {
     "name": "stderr",
     "output_type": "stream",
     "text": [
      " 99%|█████████▊| 298/302 [01:14<00:00,  5.32it/s]"
     ]
    },
    {
     "name": "stdout",
     "output_type": "stream",
     "text": [
      "completed:  /Users/josh/Documents/PhD/NoLooseEnds_Lab/FoXS-carbonara-comparison/Improving_Carbonara/PDB_modifications/1IUY\n",
      "number of chains 1\n",
      "completed:  /Users/josh/Documents/PhD/NoLooseEnds_Lab/FoXS-carbonara-comparison/Improving_Carbonara/PDB_modifications/1WGH\n",
      "number of chains 1\n"
     ]
    },
    {
     "name": "stderr",
     "output_type": "stream",
     "text": [
      " 99%|█████████▉| 300/302 [01:14<00:00,  5.48it/s]"
     ]
    },
    {
     "name": "stdout",
     "output_type": "stream",
     "text": [
      "completed:  /Users/josh/Documents/PhD/NoLooseEnds_Lab/FoXS-carbonara-comparison/Improving_Carbonara/PDB_modifications/2LMK\n",
      "number of chains 1\n",
      "completed:  /Users/josh/Documents/PhD/NoLooseEnds_Lab/FoXS-carbonara-comparison/Improving_Carbonara/PDB_modifications/5DI5\n",
      "number of chains 1\n"
     ]
    },
    {
     "name": "stderr",
     "output_type": "stream",
     "text": [
      "100%|██████████| 302/302 [01:14<00:00,  4.03it/s]"
     ]
    },
    {
     "name": "stdout",
     "output_type": "stream",
     "text": [
      "completed: Failed to find valid conformation for section 2) after 100 attempts - CA distance check failed\n",
      " /Users/josh/Documents/PhD/NoLooseEnds_Lab/FoXS-carbonara-comparison/Improving_Carbonara/PDB_modifications/4XJV\n",
      "number of chains 1\n",
      "completed:  /Users/josh/Documents/PhD/NoLooseEnds_Lab/FoXS-carbonara-comparison/Improving_Carbonara/PDB_modifications/4RJX\n"
     ]
    },
    {
     "name": "stderr",
     "output_type": "stream",
     "text": [
      "\n"
     ]
    }
   ],
   "source": [
    "import os\n",
    "\n",
    "rmsd_lst = []\n",
    "\n",
    "failed_paths = []\n",
    "\n",
    "# index 363 fucks the shit out of the kernal - not sure at all what the issue is\n",
    "\n",
    "for i in tqdm(range(df_vary.shape[0])[364:]):\n",
    "\n",
    "    path = df_vary['pdb_path'][i]\n",
    "    varying_sections = df_vary['varying_sections'][i]\n",
    "\n",
    "    coords_file = path + '/Crystal_structure/coordinates1.dat'\n",
    "    fp_file = path + '/Crystal_structure/fingerPrint1.dat'\n",
    "\n",
    "    ss = np.genfromtxt(fp_file, str)[-1]\n",
    "    breaks = find_section_breaks(ss)\n",
    "\n",
    "    init_molecule(fp_file, coords_file)\n",
    "    \n",
    "    ca_coords = get_current_coords()\n",
    "\n",
    "\n",
    "    mangled_coords = mangle_the_shit_out_of_it(breaks, varying_sections, max_attempts_per_section=100)\n",
    "\n",
    "    if mangled_coords is None:\n",
    "        failed_paths.append(path)\n",
    "\n",
    "    print('completed: ', path)\n",
    "    if mangled_coords is not None:\n",
    "        write_dir = path + '/Mangled'\n",
    "        os.makedirs(write_dir, exist_ok=True)\n",
    "        np.savetxt(write_dir+'/mangled_coords1.dat', mangled_coords, fmt='%.4f')\n",
    "        \n",
    "        rmsd = get_pair_rmsd(ca_coords, mangled_coords)\n",
    "        rmsd_lst.append(rmsd)"
   ]
  },
  {
   "cell_type": "code",
   "execution_count": null,
   "metadata": {},
   "outputs": [],
   "source": [
    "mangled_coord_files = glob('/Users/josh/Documents/PhD/NoLooseEnds_Lab/FoXS-carbonara-comparison/Improving_Carbonara/PDB_modifications/*/Mangled/*')\n",
    "\n",
    "rmsd_val = []\n",
    "for f in mangled_coord_files:\n",
    "\n",
    "    coords_m = np.genfromtxt(f)\n",
    "\n",
    "    og_coords_file = '/'.join(f.split('/')[:-2]) + '/Crystal_structure/coordinates1.dat'\n",
    "    coords_og = np.genfromtxt(og_coords_file)\n",
    "\n",
    "    rmsd_val.append(get_pair_rmsd(coords_og, coords_m))\n"
   ]
  },
  {
   "cell_type": "code",
   "execution_count": null,
   "metadata": {},
   "outputs": [],
   "source": [
    "diff_cond = np.array(rmsd_val) > 6\n",
    "high_rsmd_mangled_files = np.array(mangled_coord_files)[diff_cond]\n",
    "\n",
    "path_ = []\n",
    "fingerP_ = []\n",
    "og_coord_ = []\n",
    "\n",
    "for f in high_rsmd_mangled_files:\n",
    "    path_.append('/'.join(f.split('/')[:-2]))\n",
    "    fingerP_.append('/'.join(f.split('/')[:-2]) + '/Crystal_structure/fingerPrint1.dat')\n",
    "    og_coord_.append('/'.join(f.split('/')[:-2]) + '/Crystal_structure/coordinates1.dat')\n",
    "\n",
    "df_mang = pd.DataFrame(data={'path': path_, 'fingerP': fingerP_, 'og_coord': og_coord_, 'mangled_coord': high_rsmd_mangled_files})\n",
    "\n",
    "df_mang.to_csv('high_rmsd_mangled_files.csv', index=False)\n"
   ]
  }
 ],
 "metadata": {
  "kernelspec": {
   "display_name": "NLE_lab",
   "language": "python",
   "name": "python3"
  },
  "language_info": {
   "codemirror_mode": {
    "name": "ipython",
    "version": 3
   },
   "file_extension": ".py",
   "mimetype": "text/x-python",
   "name": "python",
   "nbconvert_exporter": "python",
   "pygments_lexer": "ipython3",
   "version": "3.11.7"
  }
 },
 "nbformat": 4,
 "nbformat_minor": 2
}
