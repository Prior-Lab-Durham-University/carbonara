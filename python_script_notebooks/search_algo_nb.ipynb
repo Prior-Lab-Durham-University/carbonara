{
 "cells": [
  {
   "cell_type": "code",
   "execution_count": 46,
   "metadata": {},
   "outputs": [],
   "source": [
    "import numpy as np\n",
    "from glob import glob\n",
    "import pandas as pd"
   ]
  },
  {
   "cell_type": "code",
   "execution_count": 47,
   "metadata": {},
   "outputs": [],
   "source": [
    "logfile = 'newFitData/test_simple/fitdata/searchLog1.dat'\n",
    "xyz_files = glob('newFitData/test_simple/fitdata/mol1_xyz*')\n",
    "scatter_files = glob('newFitData/test_simple/fitdata/mol1_scatter*')"
   ]
  },
  {
   "cell_type": "code",
   "execution_count": 48,
   "metadata": {},
   "outputs": [],
   "source": [
    "log_arr = np.genfromtxt(logfile, dtype=str)\n",
    "log_df = pd.DataFrame({'repeat_number':log_arr[:,0], 'varying_index':log_arr[:,1], 'first_fit':log_arr[:,4], 'second_fit':log_arr[:,5], 'xyz_file':log_arr[:,2], 'scatter_file':log_arr[:,3]})"
   ]
  },
  {
   "cell_type": "code",
   "execution_count": 49,
   "metadata": {},
   "outputs": [],
   "source": [
    "cols_fl = ['first_fit', 'second_fit']\n",
    "for c in cols_fl:\n",
    "    log_df[c] = log_df[c].astype(float)\n",
    "\n",
    "cols_int = ['repeat_number', 'varying_index']\n",
    "for c in cols_int:\n",
    "    log_df[c] = log_df[c].astype(int)"
   ]
  },
  {
   "cell_type": "code",
   "execution_count": 50,
   "metadata": {},
   "outputs": [
    {
     "data": {
      "text/html": [
       "<div>\n",
       "<style scoped>\n",
       "    .dataframe tbody tr th:only-of-type {\n",
       "        vertical-align: middle;\n",
       "    }\n",
       "\n",
       "    .dataframe tbody tr th {\n",
       "        vertical-align: top;\n",
       "    }\n",
       "\n",
       "    .dataframe thead th {\n",
       "        text-align: right;\n",
       "    }\n",
       "</style>\n",
       "<table border=\"1\" class=\"dataframe\">\n",
       "  <thead>\n",
       "    <tr style=\"text-align: right;\">\n",
       "      <th></th>\n",
       "      <th>repeat_number</th>\n",
       "      <th>varying_index</th>\n",
       "      <th>first_fit</th>\n",
       "      <th>second_fit</th>\n",
       "      <th>xyz_file</th>\n",
       "      <th>scatter_file</th>\n",
       "    </tr>\n",
       "  </thead>\n",
       "  <tbody>\n",
       "    <tr>\n",
       "      <th>0</th>\n",
       "      <td>0</td>\n",
       "      <td>2</td>\n",
       "      <td>0.320790</td>\n",
       "      <td>0.011351</td>\n",
       "      <td>/Users/josh/Documents/PhD/DevDungeon/carbonara...</td>\n",
       "      <td>/Users/josh/Documents/PhD/DevDungeon/carbonara...</td>\n",
       "    </tr>\n",
       "    <tr>\n",
       "      <th>1</th>\n",
       "      <td>1</td>\n",
       "      <td>2</td>\n",
       "      <td>0.237396</td>\n",
       "      <td>0.012164</td>\n",
       "      <td>/Users/josh/Documents/PhD/DevDungeon/carbonara...</td>\n",
       "      <td>/Users/josh/Documents/PhD/DevDungeon/carbonara...</td>\n",
       "    </tr>\n",
       "    <tr>\n",
       "      <th>2</th>\n",
       "      <td>2</td>\n",
       "      <td>2</td>\n",
       "      <td>0.205359</td>\n",
       "      <td>0.009090</td>\n",
       "      <td>/Users/josh/Documents/PhD/DevDungeon/carbonara...</td>\n",
       "      <td>/Users/josh/Documents/PhD/DevDungeon/carbonara...</td>\n",
       "    </tr>\n",
       "    <tr>\n",
       "      <th>3</th>\n",
       "      <td>3</td>\n",
       "      <td>2</td>\n",
       "      <td>0.473371</td>\n",
       "      <td>0.046393</td>\n",
       "      <td>/Users/josh/Documents/PhD/DevDungeon/carbonara...</td>\n",
       "      <td>/Users/josh/Documents/PhD/DevDungeon/carbonara...</td>\n",
       "    </tr>\n",
       "    <tr>\n",
       "      <th>4</th>\n",
       "      <td>4</td>\n",
       "      <td>2</td>\n",
       "      <td>0.267293</td>\n",
       "      <td>0.006525</td>\n",
       "      <td>/Users/josh/Documents/PhD/DevDungeon/carbonara...</td>\n",
       "      <td>/Users/josh/Documents/PhD/DevDungeon/carbonara...</td>\n",
       "    </tr>\n",
       "    <tr>\n",
       "      <th>...</th>\n",
       "      <td>...</td>\n",
       "      <td>...</td>\n",
       "      <td>...</td>\n",
       "      <td>...</td>\n",
       "      <td>...</td>\n",
       "      <td>...</td>\n",
       "    </tr>\n",
       "    <tr>\n",
       "      <th>2195</th>\n",
       "      <td>195</td>\n",
       "      <td>22</td>\n",
       "      <td>0.194519</td>\n",
       "      <td>0.002657</td>\n",
       "      <td>/Users/josh/Documents/PhD/DevDungeon/carbonara...</td>\n",
       "      <td>/Users/josh/Documents/PhD/DevDungeon/carbonara...</td>\n",
       "    </tr>\n",
       "    <tr>\n",
       "      <th>2196</th>\n",
       "      <td>196</td>\n",
       "      <td>22</td>\n",
       "      <td>0.382025</td>\n",
       "      <td>0.003611</td>\n",
       "      <td>/Users/josh/Documents/PhD/DevDungeon/carbonara...</td>\n",
       "      <td>/Users/josh/Documents/PhD/DevDungeon/carbonara...</td>\n",
       "    </tr>\n",
       "    <tr>\n",
       "      <th>2197</th>\n",
       "      <td>197</td>\n",
       "      <td>22</td>\n",
       "      <td>0.254575</td>\n",
       "      <td>0.002264</td>\n",
       "      <td>/Users/josh/Documents/PhD/DevDungeon/carbonara...</td>\n",
       "      <td>/Users/josh/Documents/PhD/DevDungeon/carbonara...</td>\n",
       "    </tr>\n",
       "    <tr>\n",
       "      <th>2198</th>\n",
       "      <td>198</td>\n",
       "      <td>22</td>\n",
       "      <td>0.393790</td>\n",
       "      <td>0.003399</td>\n",
       "      <td>/Users/josh/Documents/PhD/DevDungeon/carbonara...</td>\n",
       "      <td>/Users/josh/Documents/PhD/DevDungeon/carbonara...</td>\n",
       "    </tr>\n",
       "    <tr>\n",
       "      <th>2199</th>\n",
       "      <td>199</td>\n",
       "      <td>22</td>\n",
       "      <td>0.185225</td>\n",
       "      <td>0.004329</td>\n",
       "      <td>/Users/josh/Documents/PhD/DevDungeon/carbonara...</td>\n",
       "      <td>/Users/josh/Documents/PhD/DevDungeon/carbonara...</td>\n",
       "    </tr>\n",
       "  </tbody>\n",
       "</table>\n",
       "<p>2200 rows × 6 columns</p>\n",
       "</div>"
      ],
      "text/plain": [
       "      repeat_number  varying_index  first_fit  second_fit  \\\n",
       "0                 0              2   0.320790    0.011351   \n",
       "1                 1              2   0.237396    0.012164   \n",
       "2                 2              2   0.205359    0.009090   \n",
       "3                 3              2   0.473371    0.046393   \n",
       "4                 4              2   0.267293    0.006525   \n",
       "...             ...            ...        ...         ...   \n",
       "2195            195             22   0.194519    0.002657   \n",
       "2196            196             22   0.382025    0.003611   \n",
       "2197            197             22   0.254575    0.002264   \n",
       "2198            198             22   0.393790    0.003399   \n",
       "2199            199             22   0.185225    0.004329   \n",
       "\n",
       "                                               xyz_file  \\\n",
       "0     /Users/josh/Documents/PhD/DevDungeon/carbonara...   \n",
       "1     /Users/josh/Documents/PhD/DevDungeon/carbonara...   \n",
       "2     /Users/josh/Documents/PhD/DevDungeon/carbonara...   \n",
       "3     /Users/josh/Documents/PhD/DevDungeon/carbonara...   \n",
       "4     /Users/josh/Documents/PhD/DevDungeon/carbonara...   \n",
       "...                                                 ...   \n",
       "2195  /Users/josh/Documents/PhD/DevDungeon/carbonara...   \n",
       "2196  /Users/josh/Documents/PhD/DevDungeon/carbonara...   \n",
       "2197  /Users/josh/Documents/PhD/DevDungeon/carbonara...   \n",
       "2198  /Users/josh/Documents/PhD/DevDungeon/carbonara...   \n",
       "2199  /Users/josh/Documents/PhD/DevDungeon/carbonara...   \n",
       "\n",
       "                                           scatter_file  \n",
       "0     /Users/josh/Documents/PhD/DevDungeon/carbonara...  \n",
       "1     /Users/josh/Documents/PhD/DevDungeon/carbonara...  \n",
       "2     /Users/josh/Documents/PhD/DevDungeon/carbonara...  \n",
       "3     /Users/josh/Documents/PhD/DevDungeon/carbonara...  \n",
       "4     /Users/josh/Documents/PhD/DevDungeon/carbonara...  \n",
       "...                                                 ...  \n",
       "2195  /Users/josh/Documents/PhD/DevDungeon/carbonara...  \n",
       "2196  /Users/josh/Documents/PhD/DevDungeon/carbonara...  \n",
       "2197  /Users/josh/Documents/PhD/DevDungeon/carbonara...  \n",
       "2198  /Users/josh/Documents/PhD/DevDungeon/carbonara...  \n",
       "2199  /Users/josh/Documents/PhD/DevDungeon/carbonara...  \n",
       "\n",
       "[2200 rows x 6 columns]"
      ]
     },
     "execution_count": 50,
     "metadata": {},
     "output_type": "execute_result"
    }
   ],
   "source": [
    "log_df\n"
   ]
  },
  {
   "cell_type": "code",
   "execution_count": 51,
   "metadata": {},
   "outputs": [
    {
     "data": {
      "text/plain": [
       "array([ 2,  4,  6,  8, 10, 12, 14, 16, 18, 20, 22])"
      ]
     },
     "execution_count": 51,
     "metadata": {},
     "output_type": "execute_result"
    }
   ],
   "source": [
    "log_df['varying_index'].unique()"
   ]
  },
  {
   "cell_type": "code",
   "execution_count": 63,
   "metadata": {},
   "outputs": [
    {
     "data": {
      "text/plain": [
       "<Axes: >"
      ]
     },
     "execution_count": 63,
     "metadata": {},
     "output_type": "execute_result"
    },
    {
     "data": {
      "image/png": "[encoded data removed]",
      "text/plain": [
       "<Figure size 640x480 with 1 Axes>"
      ]
     },
     "metadata": {},
     "output_type": "display_data"
    }
   ],
   "source": [
    "log_df[log_df['varying_index']==20]['second_fit'].hist()"
   ]
  },
  {
   "cell_type": "code",
   "execution_count": null,
   "metadata": {},
   "outputs": [],
   "source": []
  }
 ],
 "metadata": {
  "kernelspec": {
   "display_name": "NLE_lab",
   "language": "python",
   "name": "python3"
  },
  "language_info": {
   "codemirror_mode": {
    "name": "ipython",
    "version": 3
   },
   "file_extension": ".py",
   "mimetype": "text/x-python",
   "name": "python",
   "nbconvert_exporter": "python",
   "pygments_lexer": "ipython3",
   "version": "3.11.7"
  }
 },
 "nbformat": 4,
 "nbformat_minor": 2
}
