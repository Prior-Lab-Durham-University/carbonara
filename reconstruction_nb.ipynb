{
 "cells": [
  {
   "cell_type": "code",
   "execution_count": 7,
   "metadata": {},
   "outputs": [],
   "source": [
    "from backmapping_funcs import CA2AA, CA2AA_secondary\n",
    "import CarbonaraDataTools as cdt\n",
    "import numpy as np\n",
    "import os\n",
    "import json\n",
    "\n",
    "def backmap_ca_chain(coords_file, fingerprint_file, write_directory, name, ss_constraint=False):\n",
    "\n",
    "    # write the CA chain into pdb format - note this won't work if non-standard residues are present!\n",
    "    ca_pdb_output_name = os.path.join(write_directory, name+'_CA.pdb')\n",
    "    cdt.Carbonara_2_PDB(coords_file, fingerprint_file, ca_pdb_output_name)\n",
    "    print('Alpha Coordinates pdb written to: ', ca_pdb_output_name)\n",
    "\n",
    "    aa_pdb_output_name = os.path.join(write_directory, name+'_AA.pdb')\n",
    "\n",
    "    ss_list = list(np.genfromtxt(fingerprint_file, dtype=str)[2])\n",
    "\n",
    "    if ss_constraint:\n",
    "        CA2AA_secondary(ca_pdb_output_name, aa_pdb_output_name, ss_list, iterations=3, stout=False)\n",
    "\n",
    "    else:\n",
    "        CA2AA(ca_pdb_output_name, aa_pdb_output_name, iterations=3, stout=False)\n",
    "\n",
    "    print('All Atomistic pdb written to: ', aa_pdb_output_name)\n",
    "\n",
    "def read_json_from_file(file_path):\n",
    "    with open(file_path, 'r') as f:\n",
    "        log_data = f.read()\n",
    "    return log_data\n"
   ]
  },
  {
   "cell_type": "code",
   "execution_count": 8,
   "metadata": {},
   "outputs": [],
   "source": [
    "def getFitFiles(directory,threshold=\"last\"):\n",
    "    # List all files in the directory that contain \"fitlog\" in their filename\n",
    "    fitlog_files = [f for f in os.listdir(directory) if 'fitLog' in f]\n",
    "    # Optionally, get full paths\n",
    "    fitlog_paths = [os.path.join(directory, f) for f in fitlog_files]\n",
    "    molecule_paths = []\n",
    "    for fitlog in fitlog_paths:\n",
    "        log_data = read_json_from_file(fitlog)\n",
    "        if threshold==\"last\":\n",
    "            # find the last fit\n",
    "            data=json.loads(log_data.strip().split('\\n')[-1])\n",
    "            molecule_paths.append([data.get(\"MoleculePath\"),data.get(\"ScatterPath\")])\n",
    "        else:\n",
    "            # use a numerical fit threshold\n",
    "            for line in log_data.strip().split('\\n'):\n",
    "                if not line or line.startswith('{\"Run\"'):\n",
    "                    continue\n",
    "                data = json.loads(line)\n",
    "                if data.get(\"ScatterFitFirst\", float('inf')) < threshold:\n",
    "                    molecule_path = [data.get(\"MoleculePath\"),data.get(\"ScatterPath\")]\n",
    "                    molecule_paths.append(molecule_path)\n",
    "    return molecule_paths\n",
    "\n",
    "def generateAllAtomisticFits(directory,run,threshold=\"last\"):\n",
    "    moleculePaths =getFitFiles(directory+run,threshold)\n",
    "    [backmap_ca_chain(moleculePaths[i][0], directory+\"fingerPrint1.dat\", directory+run,moleculePaths[i][0].strip().split('/')[-1].strip().split('xyz.dat')[0], ss_constraint=True) for i in range(len(moleculePaths)) ]\n",
    "    "
   ]
  },
  {
   "cell_type": "code",
   "execution_count": 9,
   "metadata": {},
   "outputs": [],
   "source": [
    "# Specify the directory to search\n",
    "directory = 'carbonara_runs/C239S/'\n",
    "run = \"fitdata\"\n",
    "moleculePaths =getFitFiles(directory+run)"
   ]
  },
  {
   "cell_type": "code",
   "execution_count": 10,
   "metadata": {},
   "outputs": [
    {
     "name": "stdout",
     "output_type": "stream",
     "text": [
      "Alpha Coordinates pdb written to:  carbonara_runs/C239S/fitdata/mol1_sub_0_step_1__CA.pdb\n",
      "All Atomistic pdb written to:  carbonara_runs/C239S/fitdata/mol1_sub_0_step_1__AA.pdb\n"
     ]
    }
   ],
   "source": [
    "generateAllAtomisticFits(directory,run)"
   ]
  },
  {
   "cell_type": "code",
   "execution_count": 5,
   "metadata": {},
   "outputs": [],
   "source": [
    "# Specify the directory to search\n",
    "directory = 'carbonara_runs/smarcalTestWax/'\n",
    "run = \"fitdataChiSq\"\n",
    "moleculePaths =getFitFiles(directory+run)"
   ]
  },
  {
   "cell_type": "code",
   "execution_count": 6,
   "metadata": {},
   "outputs": [
    {
     "name": "stdout",
     "output_type": "stream",
     "text": [
      "Alpha Coordinates pdb written to:  carbonara_runs/smarcalTestWax/fitdataChiSq/mol1_sub_0_end__CA.pdb\n",
      "All Atomistic pdb written to:  carbonara_runs/smarcalTestWax/fitdataChiSq/mol1_sub_0_end__AA.pdb\n",
      "Alpha Coordinates pdb written to:  carbonara_runs/smarcalTestWax/fitdataChiSq/mol5_sub_0_end__CA.pdb\n",
      "All Atomistic pdb written to:  carbonara_runs/smarcalTestWax/fitdataChiSq/mol5_sub_0_end__AA.pdb\n",
      "Alpha Coordinates pdb written to:  carbonara_runs/smarcalTestWax/fitdataChiSq/mol4_sub_0_end__CA.pdb\n",
      "All Atomistic pdb written to:  carbonara_runs/smarcalTestWax/fitdataChiSq/mol4_sub_0_end__AA.pdb\n",
      "Alpha Coordinates pdb written to:  carbonara_runs/smarcalTestWax/fitdataChiSq/mol9_sub_0_end__CA.pdb\n",
      "All Atomistic pdb written to:  carbonara_runs/smarcalTestWax/fitdataChiSq/mol9_sub_0_end__AA.pdb\n",
      "Alpha Coordinates pdb written to:  carbonara_runs/smarcalTestWax/fitdataChiSq/mol6_sub_0_end__CA.pdb\n",
      "All Atomistic pdb written to:  carbonara_runs/smarcalTestWax/fitdataChiSq/mol6_sub_0_end__AA.pdb\n",
      "Alpha Coordinates pdb written to:  carbonara_runs/smarcalTestWax/fitdataChiSq/mol2_sub_0_end__CA.pdb\n",
      "All Atomistic pdb written to:  carbonara_runs/smarcalTestWax/fitdataChiSq/mol2_sub_0_end__AA.pdb\n",
      "Alpha Coordinates pdb written to:  carbonara_runs/smarcalTestWax/fitdataChiSq/mol3_sub_0_end__CA.pdb\n",
      "All Atomistic pdb written to:  carbonara_runs/smarcalTestWax/fitdataChiSq/mol3_sub_0_end__AA.pdb\n",
      "Alpha Coordinates pdb written to:  carbonara_runs/smarcalTestWax/fitdataChiSq/mol7_sub_0_end__CA.pdb\n",
      "All Atomistic pdb written to:  carbonara_runs/smarcalTestWax/fitdataChiSq/mol7_sub_0_end__AA.pdb\n",
      "Alpha Coordinates pdb written to:  carbonara_runs/smarcalTestWax/fitdataChiSq/mol11_sub_0_end__CA.pdb\n",
      "All Atomistic pdb written to:  carbonara_runs/smarcalTestWax/fitdataChiSq/mol11_sub_0_end__AA.pdb\n",
      "Alpha Coordinates pdb written to:  carbonara_runs/smarcalTestWax/fitdataChiSq/mol10_sub_0_end__CA.pdb\n",
      "All Atomistic pdb written to:  carbonara_runs/smarcalTestWax/fitdataChiSq/mol10_sub_0_end__AA.pdb\n",
      "Alpha Coordinates pdb written to:  carbonara_runs/smarcalTestWax/fitdataChiSq/mol8_sub_0_end__CA.pdb\n",
      "All Atomistic pdb written to:  carbonara_runs/smarcalTestWax/fitdataChiSq/mol8_sub_0_end__AA.pdb\n",
      "Alpha Coordinates pdb written to:  carbonara_runs/smarcalTestWax/fitdataChiSq/mol13_sub_0_end__CA.pdb\n",
      "All Atomistic pdb written to:  carbonara_runs/smarcalTestWax/fitdataChiSq/mol13_sub_0_end__AA.pdb\n",
      "Alpha Coordinates pdb written to:  carbonara_runs/smarcalTestWax/fitdataChiSq/mol12_sub_0_end__CA.pdb\n",
      "All Atomistic pdb written to:  carbonara_runs/smarcalTestWax/fitdataChiSq/mol12_sub_0_end__AA.pdb\n",
      "Alpha Coordinates pdb written to:  carbonara_runs/smarcalTestWax/fitdataChiSq/mol17_sub_0_end__CA.pdb\n",
      "All Atomistic pdb written to:  carbonara_runs/smarcalTestWax/fitdataChiSq/mol17_sub_0_end__AA.pdb\n",
      "Alpha Coordinates pdb written to:  carbonara_runs/smarcalTestWax/fitdataChiSq/mol16_sub_0_end__CA.pdb\n",
      "All Atomistic pdb written to:  carbonara_runs/smarcalTestWax/fitdataChiSq/mol16_sub_0_end__AA.pdb\n",
      "Alpha Coordinates pdb written to:  carbonara_runs/smarcalTestWax/fitdataChiSq/mol19_sub_0_end__CA.pdb\n",
      "All Atomistic pdb written to:  carbonara_runs/smarcalTestWax/fitdataChiSq/mol19_sub_0_end__AA.pdb\n",
      "Alpha Coordinates pdb written to:  carbonara_runs/smarcalTestWax/fitdataChiSq/mol18_sub_0_end__CA.pdb\n",
      "All Atomistic pdb written to:  carbonara_runs/smarcalTestWax/fitdataChiSq/mol18_sub_0_end__AA.pdb\n",
      "Alpha Coordinates pdb written to:  carbonara_runs/smarcalTestWax/fitdataChiSq/mol20_sub_0_end__CA.pdb\n",
      "All Atomistic pdb written to:  carbonara_runs/smarcalTestWax/fitdataChiSq/mol20_sub_0_end__AA.pdb\n",
      "Alpha Coordinates pdb written to:  carbonara_runs/smarcalTestWax/fitdataChiSq/mol14_sub_0_end__CA.pdb\n",
      "All Atomistic pdb written to:  carbonara_runs/smarcalTestWax/fitdataChiSq/mol14_sub_0_end__AA.pdb\n",
      "Alpha Coordinates pdb written to:  carbonara_runs/smarcalTestWax/fitdataChiSq/mol15_sub_0_end__CA.pdb\n",
      "All Atomistic pdb written to:  carbonara_runs/smarcalTestWax/fitdataChiSq/mol15_sub_0_end__AA.pdb\n"
     ]
    }
   ],
   "source": [
    "generateAllAtomisticFits(directory,run)"
   ]
  },
  {
   "cell_type": "code",
   "execution_count": null,
   "metadata": {},
   "outputs": [],
   "source": []
  },
  {
   "cell_type": "code",
   "execution_count": null,
   "metadata": {},
   "outputs": [],
   "source": []
  }
 ],
 "metadata": {
  "kernelspec": {
   "display_name": "Python 3 (ipykernel)",
   "language": "python",
   "name": "python3"
  },
  "language_info": {
   "codemirror_mode": {
    "name": "ipython",
    "version": 3
   },
   "file_extension": ".py",
   "mimetype": "text/x-python",
   "name": "python",
   "nbconvert_exporter": "python",
   "pygments_lexer": "ipython3",
   "version": "3.13.3"
  }
 },
 "nbformat": 4,
 "nbformat_minor": 4
}
