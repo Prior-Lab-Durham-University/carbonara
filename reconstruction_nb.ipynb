{
 "cells": [
  {
   "cell_type": "code",
   "execution_count": 11,
   "metadata": {},
   "outputs": [],
   "source": [
    "from backmapping_funcs import CA2AA, CA2AA_secondary\n",
    "import CarbonaraDataTools as cdt\n",
    "import numpy as np\n",
    "import os\n",
    "import json\n",
    "\n",
    "def backmap_ca_chain(coords_file, fingerprint_file, write_directory, name, ss_constraint=False):\n",
    "\n",
    "    # write the CA chain into pdb format - note this won't work if non-standard residues are present!\n",
    "    ca_pdb_output_name = os.path.join(write_directory, name+'_CA.pdb')\n",
    "    cdt.Carbonara_2_PDB(coords_file, fingerprint_file, ca_pdb_output_name)\n",
    "    print('Alpha Coordinates pdb written to: ', ca_pdb_output_name)\n",
    "\n",
    "    aa_pdb_output_name = os.path.join(write_directory, name+'_AA.pdb')\n",
    "\n",
    "    ss_list = list(np.genfromtxt(fingerprint_file, dtype=str)[2])\n",
    "\n",
    "    if ss_constraint:\n",
    "        CA2AA_secondary(ca_pdb_output_name, aa_pdb_output_name, ss_list, iterations=3, stout=False)\n",
    "\n",
    "    else:\n",
    "        CA2AA(ca_pdb_output_name, aa_pdb_output_name, iterations=3, stout=False)\n",
    "\n",
    "    print('All Atomistic pdb written to: ', aa_pdb_output_name)\n",
    "\n"
   ]
  },
  {
   "cell_type": "code",
   "execution_count": 9,
   "metadata": {},
   "outputs": [],
   "source": [
    "def read_json_from_file(file_path):\n",
    "    with open(file_path, 'r') as f:\n",
    "        log_data = f.read()\n",
    "    return log_data\n",
    "\n",
    "log_data = read_json_from_file(\"/Users/josh/Documents/PhD/DevDungeon/carbonara/carbonara_runs/C239S/fitdata/fitLog1.dat\")\n",
    "\n",
    "threshold = 0.001\n",
    "molecule_paths = []\n",
    "for line in log_data.strip().split('\\n'):\n",
    "\n",
    "    if not line or line.startswith('{\"Run\"'):\n",
    "        continue\n",
    "    data = json.loads(line)\n",
    "    if data.get(\"ScatterFitFirst\", float('inf')) < threshold:\n",
    "        molecule_path = data.get(\"MoleculePath\")\n",
    "        if molecule_path:\n",
    "            molecule_paths.append(molecule_path)"
   ]
  },
  {
   "cell_type": "code",
   "execution_count": 10,
   "metadata": {},
   "outputs": [
    {
     "data": {
      "text/plain": [
       "['/Users/josh/Documents/PhD/DevDungeon/carbonara/carbonara_runs/C239S/fitdata/mol1_sub_0_step_4_xyz.dat']"
      ]
     },
     "execution_count": 10,
     "metadata": {},
     "output_type": "execute_result"
    }
   ],
   "source": [
    "molecule_paths"
   ]
  },
  {
   "cell_type": "code",
   "execution_count": null,
   "metadata": {},
   "outputs": [],
   "source": []
  }
 ],
 "metadata": {
  "kernelspec": {
   "display_name": "NLE_lab",
   "language": "python",
   "name": "python3"
  },
  "language_info": {
   "codemirror_mode": {
    "name": "ipython",
    "version": 3
   },
   "file_extension": ".py",
   "mimetype": "text/x-python",
   "name": "python",
   "nbconvert_exporter": "python",
   "pygments_lexer": "ipython3",
   "version": "3.11.7"
  }
 },
 "nbformat": 4,
 "nbformat_minor": 2
}
