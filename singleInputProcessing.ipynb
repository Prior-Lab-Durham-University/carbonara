{
 "cells": [
  {
   "attachments": {},
   "cell_type": "markdown",
   "metadata": {},
   "source": [
    "Import Carbonara's Data Tools by running the below cell (_ctrl+enter_)"
   ]
  },
  {
   "cell_type": "code",
   "execution_count": null,
   "metadata": {
    "hide_input": true,
    "jupyter": {
     "source_hidden": true
    }
   },
   "outputs": [],
   "source": [
    "# <-- Imports\n",
    "\n",
    "import CarbonaraDataTools as CDT\n",
    "import ipywidgets as widgets\n",
    "from IPython.display import display, clear_output\n",
    "import plotly.io as pio\n",
    "pio.renderers.default='notebook'\n",
    "import numpy as np\n",
    "import os, subprocess, shutil"
   ]
  },
  {
   "attachments": {},
   "cell_type": "markdown",
   "metadata": {},
   "source": [
    "1) Enter the location of your PDB file below"
   ]
  },
  {
   "cell_type": "code",
   "execution_count": null,
   "metadata": {
    "hide_input": true,
    "jupyter": {
     "source_hidden": true
    }
   },
   "outputs": [],
   "source": [
    "# <-- Run this cell to enter your PDB file location\n",
    "pdbFile_text = widgets.Text(\n",
    "    value='Examples/Lysozyme/Lysozyme.pdb',\n",
    "    placeholder='Enter your PDB file location:',\n",
    "    description='Enter your PDB file location:',\n",
    "    disabled=False,\n",
    "    layout={'width': '550px','height':'50px'},   \n",
    ")\n",
    "\n",
    "pdbFile_text.style = {'description_width': '200px','description_height': '25px'}\n",
    "\n",
    "def pdbFile_handler(change):\n",
    "    global pdb_file\n",
    "    pdb_file = change.new\n",
    "    with output:\n",
    "        clear_output(wait=True)\n",
    "\n",
    "pdb_file = 'Examples/Lysozyme/Lysozyme.pdb'\n",
    "# Output widget\n",
    "output = widgets.Output()\n",
    "pdbFile_text.observe(pdbFile_handler,names='value')\n",
    "display(pdbFile_text)"
   ]
  },
  {
   "attachments": {},
   "cell_type": "markdown",
   "metadata": {},
   "source": [
    "2. Enter the location of your corresponding SAXS data file below"
   ]
  },
  {
   "cell_type": "code",
   "execution_count": null,
   "metadata": {
    "hide_input": true,
    "jupyter": {
     "source_hidden": true
    }
   },
   "outputs": [],
   "source": [
    "# <-- Run this cell to enter your SAXS file location\n",
    "saxsFile_text = widgets.Text(\n",
    "    value='Examples/Lysozyme/LysozymeSaxs.dat',\n",
    "    placeholder='Enter your SAXS file location:',\n",
    "    description='Enter your SAXS file location:',\n",
    "    disabled=False,\n",
    "    layout={'width': '550px','height':'50px'},   \n",
    ")\n",
    "\n",
    "saxsFile_text.style = {'description_width': '200px','description_height': '25px'}\n",
    "\n",
    "def saxsFile_handler(change):\n",
    "    global SAXS_file\n",
    "    global working_path\n",
    "    SAXS_file = change.new\n",
    "    working_path = os.path.dirname(SAXS_file)\n",
    "    with output:\n",
    "        clear_output(wait=True)\n",
    "\n",
    "SAXS_file = 'Examples/Lysozyme/LysozymeSaxs.dat'\n",
    "# Output widget\n",
    "output = widgets.Output()\n",
    "saxsFile_text.observe(saxsFile_handler,names='value')\n",
    "display(saxsFile_text)"
   ]
  },
  {
   "attachments": {},
   "cell_type": "markdown",
   "metadata": {},
   "source": [
    "3. Enter a name for your prediction below (the name of your protein should work!)"
   ]
  },
  {
   "cell_type": "code",
   "execution_count": null,
   "metadata": {
    "hide_input": true,
    "jupyter": {
     "source_hidden": true
    }
   },
   "outputs": [],
   "source": [
    "# <-- Run this cell to enter a name for your prediction\n",
    "molName_text = widgets.Text(\n",
    "    value='Lysozyme',\n",
    "    placeholder='Enter a name for your prediction:',\n",
    "    description='Enter a name for your prediction:',\n",
    "    disabled=False,\n",
    "    layout={'width': '550px','height':'50px'},   \n",
    ")\n",
    "\n",
    "molName_text.style = {'description_width': '200px','description_height': '25px'}\n",
    "\n",
    "def molName_handler(change):\n",
    "    global mol_name\n",
    "    mol_name = change.new\n",
    "    with output:\n",
    "        clear_output(wait=True)\n",
    "\n",
    "mol_name = 'Lysozyme'\n",
    "# Output widget\n",
    "output = widgets.Output()\n",
    "molName_text.observe(molName_handler,names='value')\n",
    "display(molName_text)"
   ]
  },
  {
   "attachments": {},
   "cell_type": "markdown",
   "metadata": {},
   "source": [
    "4. Confirm your file locations and write them to newFitData"
   ]
  },
  {
   "cell_type": "code",
   "execution_count": null,
   "metadata": {
    "hide_input": true,
    "jupyter": {
     "source_hidden": true
    }
   },
   "outputs": [],
   "source": [
    "# <-- Run this cell and click the button to confirm file locations\n",
    "\n",
    "working_path = 'newFitData/'+mol_name\n",
    "confirm_filelocs_text = 'Confirm file locations'\n",
    "\n",
    "confirm_filelocs_button = widgets.Button(\n",
    "    description=confirm_filelocs_text,\n",
    "    disabled=False,\n",
    "    button_style='success', # 'success', 'info', 'warning', 'danger' or ''\n",
    "    tooltip=confirm_filelocs_text,\n",
    "    layout=widgets.Layout(width=f'{len(confirm_filelocs_text) + 4}ch'), \n",
    "    icon='check' # (FontAwesome names without the `fa-` prefix)\n",
    ")\n",
    "output = widgets.Output()\n",
    "confirm_filelocs_button.style = {'description_width': '300px','description_height': '25px'}\n",
    "\n",
    "def confirm_filelocs_button_clicked(b):\n",
    "    global working_path\n",
    "    working_path = 'newFitData/'+mol_name\n",
    "    if not os.path.isdir(working_path):\n",
    "        os.makedirs(working_path)\n",
    "    with output:\n",
    "        clear_output(wait=True)\n",
    "        print(\"File locations confirmed.\")     \n",
    "\n",
    "\n",
    "confirm_filelocs_button.on_click(confirm_filelocs_button_clicked)\n",
    "display(confirm_filelocs_button)\n",
    "display(output)"
   ]
  },
  {
   "attachments": {},
   "cell_type": "markdown",
   "metadata": {},
   "source": [
    "5. Check how many chains are in your PDB file. (Make sure you've confirmed your file locations above)"
   ]
  },
  {
   "cell_type": "code",
   "execution_count": null,
   "metadata": {
    "hide_input": true,
    "jupyter": {
     "source_hidden": true
    }
   },
   "outputs": [],
   "source": [
    "# <-- Run this cell to check for any breaks in your backbone\n",
    "\n",
    "coords_chains, sequence_chains, secondary_structure_chains, missing_residues_chains = CDT.pull_structure_from_pdb(pdb_file)\n",
    "chains=[1]\n",
    "# >> check for missing residues geometrically in the chain(s)\n",
    "for coords in coords_chains:\n",
    "    breaking_indices = CDT.missing_ca_check(coords)\n",
    "    if len(breaking_indices) > 0:\n",
    "        chains = [i+1 for i in range(len(breaking_indices)+1)]\n",
    "        print(\"We think your PDB file has\", len(breaking_indices)+1, 'chains')\n",
    "        coords_chains, sequence_chains = CDT.break_into_chains(coords_chains[0],sequence_chains[0],breaking_indices)\n",
    "    else:\n",
    "        print(\"We think you've got a monomer\")\n",
    "\n",
    "\n",
    "# use kappa tau method to identify secondary structure\n",
    "secondarysplit= [CDT.findSimilar(CDT.getKapTauList(coords_chains[i-1]),0.2) for i in chains]\n",
    "# Writes all the coords, fingerprint, mixture & SAXS in Carbonara's expected input / file struct\n",
    "CDT.write_fingerprint_file(len(coords_chains), sequence_chains, secondarysplit, working_path)    \n",
    "CDT.write_coordinates_file(coords,working_path)\n",
    "CDT.write_mixture_file(working_path)\n",
    "CDT.write_saxs(SAXS_file, working_path)\n",
    "\n",
    "varyingSection_tensor = [[] for i in range(len(breaking_indices)+1)]"
   ]
  },
  {
   "attachments": {},
   "cell_type": "markdown",
   "metadata": {},
   "source": [
    "6. Select the range of _q_ you'd like to fit to in this run."
   ]
  },
  {
   "cell_type": "code",
   "execution_count": null,
   "metadata": {
    "hide_input": true,
    "jupyter": {
     "source_hidden": true
    }
   },
   "outputs": [],
   "source": [
    "# <-- Run this cell to enter your desired q range for the fit\n",
    "\n",
    "minq_text = widgets.Text(\n",
    "    value=str(round(np.genfromtxt(working_path+'/Saxs.dat')[:,0].min(),2)\n",
    "),\n",
    "    placeholder='Enter your min q:',\n",
    "    description='Enter your min q:',\n",
    "    disabled=False,\n",
    "    layout={'width': '250px','height':'50px'},   \n",
    ")\n",
    "\n",
    "minq_text.style = {'description_width': '150px','description_height': '25px'}\n",
    "\n",
    "def minq_handler(change):\n",
    "    global minq\n",
    "    minq = change.new\n",
    "    with output:\n",
    "        clear_output(wait=True)\n",
    "\n",
    "minq = round(np.genfromtxt(working_path+'/Saxs.dat')[:,0].min(),2)\n",
    "\n",
    "# Output widget\n",
    "output = widgets.Output()\n",
    "minq_text.observe(minq_handler,names='value')\n",
    "display(minq_text)\n",
    "\n",
    "startq_text = widgets.Text(\n",
    "    value='0.15',\n",
    "    placeholder='Enter your start q:',\n",
    "    description='Enter your start q:',\n",
    "    disabled=False,\n",
    "    layout={'width': '250px','height':'50px'},   \n",
    ")\n",
    "\n",
    "startq_text.style = {'description_width': '150px','description_height': '25px'}\n",
    "\n",
    "def startq_handler(change):\n",
    "    global startq\n",
    "    startq = change.new\n",
    "    with output:\n",
    "        clear_output(wait=True)\n",
    "\n",
    "startq = '0.15'\n",
    "# Output widget\n",
    "output = widgets.Output()\n",
    "startq_text.observe(startq_handler,names='value')\n",
    "display(startq_text)\n",
    "\n",
    "maxq = round(np.genfromtxt(working_path+'/Saxs.dat')[:,0].max(),2)\n",
    "\n",
    "maxq_text = widgets.Text(\n",
    "    value=str(round(np.genfromtxt(working_path+'/Saxs.dat')[:,0].max(),2)),\n",
    "    placeholder='Enter your max q:',\n",
    "    description='Enter your max q:',\n",
    "    disabled=False,\n",
    "    layout={'width': '250px','height':'50px'},   \n",
    ")\n",
    "\n",
    "maxq_text.style = {'description_width': '150px','description_height': '25px'}\n",
    "\n",
    "def maxq_handler(change):\n",
    "    global maxq\n",
    "    maxq = change.new\n",
    "    with output:\n",
    "        clear_output(wait=True)\n",
    "\n",
    "# Output widget\n",
    "output = widgets.Output()\n",
    "maxq_text.observe(maxq_handler,names='value')\n",
    "display(maxq_text)"
   ]
  },
  {
   "attachments": {},
   "cell_type": "markdown",
   "metadata": {},
   "source": [
    "7. View the initial fit to the SAXS data for this _q_ range. If you change q<sub>max</sub> above, rerun this cell to update the fit"
   ]
  },
  {
   "cell_type": "code",
   "execution_count": null,
   "metadata": {
    "hide_input": true,
    "jupyter": {
     "source_hidden": true
    }
   },
   "outputs": [],
   "source": [
    "# <-- Run this cell to view the initial fit to the scattering\n",
    "\n",
    "initial_test_script_name = CDT.write_initial_saxs_check_sh(working_path,mol_name,1,1,float(startq))\n",
    "subprocess.call(['sh', initial_test_script_name],stdout=subprocess.DEVNULL,stderr=subprocess.STDOUT)\n",
    "CDT.SAXS_fit_plotter(working_path+'/Saxs.dat',working_path+'/tmp/mol1_initial_scatter.dat',False)"
   ]
  },
  {
   "attachments": {},
   "cell_type": "markdown",
   "metadata": {},
   "source": [
    "8. Let us predict which subsections to change during the prediction."
   ]
  },
  {
   "cell_type": "code",
   "execution_count": null,
   "metadata": {
    "hide_input": true,
    "jupyter": {
     "source_hidden": true
    }
   },
   "outputs": [],
   "source": [
    "# Run this cell to predict the subsections we think you should vary\n",
    "allowed_linker, linker_indices = CDT.find_non_varying_linkers(working_path+'/coordinates1.dat',working_path+'/fingerPrint1.dat')\n",
    "ss_len_tensor = [len(i) for i in CDT.get_sses(working_path+'/fingerPrint1.dat')]\n",
    "# Calculate cumulative lengths\n",
    "cumulative_lengths = np.cumsum(ss_len_tensor)\n",
    "\n",
    "# Initialize an empty list to hold the chunked groups\n",
    "chunked_groups = [[] for _ in range(len(cumulative_lengths))]\n",
    "\n",
    "# Group the indices based on the cumulative lengths\n",
    "for index in allowed_linker:\n",
    "    for i, cum_length in enumerate(cumulative_lengths):\n",
    "        if index < cum_length:\n",
    "            chunked_groups[i].append(index)\n",
    "            break"
   ]
  },
  {
   "attachments": {},
   "cell_type": "markdown",
   "metadata": {},
   "source": [
    "9. View the recommended varying subsections and change them if you'd like. If you select a different chain from the dropdown, you'll need to rerun the following cell."
   ]
  },
  {
   "cell_type": "code",
   "execution_count": null,
   "metadata": {
    "hide_input": true,
    "jupyter": {
     "source_hidden": true
    }
   },
   "outputs": [],
   "source": [
    "# <-- Run this cell to select which chain to process\n",
    "\n",
    "chains_Dropdown = widgets.Dropdown(\n",
    "    options = chains,\n",
    "    value = chains[0],\n",
    "    description = 'Select which chain to process from the dropdown box ',\n",
    "    disabled=False,\n",
    "    layout={'width': '400px','height':'25px'}\n",
    ")\n",
    "chains_Dropdown.style = {'description_width': '350px','description_height': '25px'}\n",
    "\n",
    "def chains_handler(change):\n",
    "    global chain\n",
    "    chain = change.new\n",
    "    with output:\n",
    "        clear_output(wait=True)  # Clear previous output\n",
    "\n",
    "chain = chains[0]\n",
    "chains_Dropdown.observe(chains_handler,names='value')\n",
    "display(chains_Dropdown)\n"
   ]
  },
  {
   "cell_type": "code",
   "execution_count": null,
   "metadata": {
    "hide_input": true,
    "jupyter": {
     "source_hidden": true
    }
   },
   "outputs": [],
   "source": [
    "#<--- Run this cell to view the recommended varying sections for the selected chain\n",
    "fullPoss = CDT.possibleLinkerList(pdb_file,working_path+'/fingerPrint1.dat',chain)\n",
    "possLinkers = [i[1] for i in fullPoss]\n",
    "if chain==1:\n",
    "    recs = [i[1] for i in fullPoss if i[0] in allowed_linker.astype(str) and CDT.linkerLengthCheck(i[1])]\n",
    "    chunked_groups[chain-1] = [int(i[0]) for i in fullPoss if i[0] in allowed_linker.astype(str) and CDT.linkerLengthCheck(i[1])]\n",
    "    linker_SelectMultiple = widgets.SelectMultiple(\n",
    "    options=possLinkers,\n",
    "    value=recs,\n",
    "    #rows=10,\n",
    "    description='Varying Subsections',\n",
    "    layout={'width': '300px','height':'150px'},\n",
    "    disabled=False\n",
    "    )\n",
    "\n",
    "    def SelectMultiple_handler(change):\n",
    "        global varyingLinkers\n",
    "        varyingLinkers = change.new\n",
    "        with output:\n",
    "            clear_output(wait=True)\n",
    "            selectedLinkers = [int(i[0]) for i in fullPoss if i[1] in varyingLinkers]\n",
    "            chunked_groups[chain-1] = [i for i in selectedLinkers]\n",
    "            CDT.highlightVaryingSections(working_path,pdb_file,selectedLinkers)\n",
    "\n",
    "    linker_SelectMultiple.style = {'description_width': '150px','description_height': '25px'}\n",
    "\n",
    "    # Output widget\n",
    "    output = widgets.Output()\n",
    "    recLinkers = [int(i[0]) for i in fullPoss if i[1] in recs]\n",
    "    with output:\n",
    "        CDT.highlightVaryingSections(working_path,pdb_file,recLinkers)\n",
    "    linker_SelectMultiple.observe(SelectMultiple_handler,names='value')\n",
    "    display(linker_SelectMultiple)\n",
    "    display(output)\n",
    "else:\n",
    "    recs = [i[1] for i in fullPoss if int(i[0])+cumulative_lengths[chain-2] in allowed_linker and CDT.linkerLengthCheck(i[1])]\n",
    "    chunked_groups[chain-1] = [int(i[0])+cumulative_lengths[chain-2] for i in fullPoss if int(i[0])+cumulative_lengths[chain-2] in allowed_linker and CDT.linkerLengthCheck(i[1])]\n",
    "    linker_SelectMultiple = widgets.SelectMultiple(\n",
    "    options=possLinkers,\n",
    "    value=recs,\n",
    "    #rows=10,\n",
    "    description='Varying Subsections',\n",
    "    layout={'width': '300px','height':'150px'},\n",
    "    disabled=False\n",
    "    )\n",
    "\n",
    "    def SelectMultiple_handler(change):\n",
    "        global varyingLinkers\n",
    "        varyingLinkers = change.new\n",
    "        with output:\n",
    "            clear_output(wait=True)\n",
    "            selectedLinkers = [int(i[0]) for i in fullPoss if i[1] in varyingLinkers]\n",
    "            chunked_groups[chain-1] = [i+cumulative_lengths[chain-2] for i in selectedLinkers]\n",
    "            CDT.highlightVaryingSections(working_path,pdb_file,selectedLinkers)\n",
    "\n",
    "    linker_SelectMultiple.style = {'description_width': '150px','description_height': '25px'}\n",
    "\n",
    "    # Output widget\n",
    "    output = widgets.Output()\n",
    "    recLinkers = [int(i[0]) for i in fullPoss if i[1] in recs]\n",
    "    with output:\n",
    "        CDT.highlightVaryingSections(working_path,pdb_file,recLinkers)\n",
    "    linker_SelectMultiple.observe(SelectMultiple_handler,names='value')\n",
    "    display(linker_SelectMultiple)\n",
    "    display(output)\n",
    "\n"
   ]
  },
  {
   "attachments": {},
   "cell_type": "markdown",
   "metadata": {},
   "source": [
    "10. Confirm the varying subsections. (Make sure you've checked them for <b>all</b> chains!)"
   ]
  },
  {
   "cell_type": "code",
   "execution_count": null,
   "metadata": {
    "hide_input": true,
    "jupyter": {
     "source_hidden": true
    }
   },
   "outputs": [],
   "source": [
    "# <-- Run this cell to confirm you are happy with your selected varying sections\n",
    "varSec_text = 'Confirm varying sections'\n",
    "\n",
    "varSec_button = widgets.Button(\n",
    "    description='Confirm varying sections',\n",
    "    disabled=False,\n",
    "    button_style='success', # 'success', 'info', 'warning', 'danger' or ''\n",
    "    tooltip='Confirm varying sections',\n",
    "    layout=widgets.Layout(width=f'{len(varSec_text) + 4}ch'), \n",
    "    icon='check' # (FontAwesome names without the `fa-` prefix)\n",
    ")\n",
    "output = widgets.Output()\n",
    "varSec_button.style = {'description_width': '300px','description_height': '25px'}\n",
    "\n",
    "def on_varSec_button_clicked(b):\n",
    "    \n",
    "    with output:\n",
    "        clear_output(wait=True)\n",
    "        flattened = [item for sublist in chunked_groups for item in sublist]\n",
    "        CDT.write_varysections_file(flattened,working_path)\n",
    "        print(\"Varying sections confirmed.\")\n",
    "        \n",
    "        \n",
    "        \n",
    "varSec_button.on_click(on_varSec_button_clicked)\n",
    "display(varSec_button)\n",
    "display(output)"
   ]
  },
  {
   "attachments": {},
   "cell_type": "markdown",
   "metadata": {},
   "source": [
    "11. Add any distance constraints. If you specify ResIDs alone, we will keep these fixed to their initial relative distance."
   ]
  },
  {
   "cell_type": "code",
   "execution_count": null,
   "metadata": {
    "hide_input": true,
    "jupyter": {
     "source_hidden": true
    }
   },
   "outputs": [],
   "source": [
    "# <-- Run this cell to add distance constraints\n",
    "\n",
    "resA_text = widgets.Text(\n",
    "    value='',\n",
    "    placeholder=' ',\n",
    "    description='From resID:',\n",
    "    disabled=False   \n",
    ")\n",
    "\n",
    "resB_text = widgets.Text(\n",
    "    value='',\n",
    "    placeholder=' ',\n",
    "    description='To resID:',\n",
    "    disabled=False   \n",
    ")\n",
    "\n",
    "dist_text = widgets.Text(\n",
    "    value='',\n",
    "    placeholder=' ',\n",
    "    description=\"Distance (Angstroms):\",\n",
    "    disabled=False   \n",
    ")\n",
    "\n",
    "resA_text.style = {'description_width': '150px','description_height': '25px'}\n",
    "resB_text.style = {'description_width': '150px','description_height': '25px'}\n",
    "dist_text.style = {'description_width': '150px','description_height': '25px'}\n",
    "\n",
    "contactPreds = []\n",
    "fixedDistSet=[]\n",
    "\n",
    "def resA_handler(change):\n",
    "    global resA\n",
    "    resA = change.new\n",
    "    with output:\n",
    "        clear_output(wait=True)\n",
    "\n",
    "def resB_handler(change):\n",
    "    global resB\n",
    "    resB = change.new\n",
    "    with output:\n",
    "        clear_output(wait=True)\n",
    "\n",
    "def dist_handler(change):\n",
    "    global dist\n",
    "    dist = change.new\n",
    "    with output:\n",
    "        clear_output(wait=True)\n",
    "\n",
    "resA = ''\n",
    "resB = ''\n",
    "dist = ''\n",
    "\n",
    "output = widgets.Output()\n",
    "\n",
    "resA_text.observe(resA_handler,names='value')\n",
    "resB_text.observe(resB_handler,names='value')\n",
    "dist_text.observe(dist_handler,names='value')\n",
    "display(resA_text)\n",
    "display(resB_text)\n",
    "display(dist_text)\n",
    "### Add distance constraint button\n",
    "distCons_text = 'Add distance constraint'\n",
    "distCons_button = widgets.Button(\n",
    "    description=distCons_text,\n",
    "    disabled=False,\n",
    "    button_style='success', # 'success', 'info', 'warning', 'danger' or ''\n",
    "    tooltip=distCons_text,\n",
    "    layout=widgets.Layout(width=f'{len(distCons_text) + 4}ch'), \n",
    "    icon='check' # (FontAwesome names without the `fa-` prefix)\n",
    ")\n",
    "\n",
    "distCons_button.style = {'description_width': '300px','description_height': '25px'}\n",
    "\n",
    "def on_distCons_button_clicked(b):\n",
    "    with output:\n",
    "        print('Distance constraint added')\n",
    "        clear_output(wait=True)\n",
    "        if dist!='':\n",
    "            contactPreds.append([int(resA),int(resB)])\n",
    "            fixedDistSet.append(float(dist))\n",
    "        else:\n",
    "            contactPreds.append([int(resA),int(resB)])\n",
    "\n",
    "\n",
    "### Check distance constraint button\n",
    "\n",
    "check_distCons_text = 'Check distance constraints'\n",
    "check_distCons_button = widgets.Button(\n",
    "    description=check_distCons_text,\n",
    "    disabled=False,\n",
    "    button_style='info', # 'success', 'info', 'warning', 'danger' or ''\n",
    "    tooltip=check_distCons_text,\n",
    "    layout=widgets.Layout(width=f'{len(check_distCons_text) + 4}ch'), \n",
    "    icon='check' # (FontAwesome names without the `fa-` prefix)\n",
    ")\n",
    "\n",
    "check_distCons_button.style = {'description_width': '300px','description_height': '25px'}\n",
    "\n",
    "def check_distCons_button_clicked(b):\n",
    "    with output:\n",
    "        clear_output(wait=True)\n",
    "        print(\"Distance constraints are: \")\n",
    "        print(contactPreds)\n",
    "        print(fixedDistSet)\n",
    "\n",
    "### Reset distance constraint button\n",
    "\n",
    "reset_distCons_text = 'Reset distance constraints'\n",
    "reset_distCons_button = widgets.Button(\n",
    "    description=reset_distCons_text,\n",
    "    disabled=False,\n",
    "    button_style='danger', # 'success', 'info', 'warning', 'danger' or ''\n",
    "    tooltip=reset_distCons_text,\n",
    "    layout=widgets.Layout(width=f'{len(reset_distCons_text) + 4}ch'), \n",
    "    icon='check' # (FontAwesome names without the `fa-` prefix)\n",
    ")\n",
    "\n",
    "reset_distCons_button.style = {'description_width': '300px','description_height': '25px'}\n",
    "\n",
    "def reset_distCons_button_clicked(b):\n",
    "    print(\"Distance constraints reset.\")\n",
    "    global contactPreds\n",
    "    global fixedDistSet\n",
    "    with output:\n",
    "        clear_output(wait=True)\n",
    "        contactPreds = []\n",
    "        fixedDistSet=[]\n",
    "               \n",
    "### Confirm distance constraint button   \n",
    "\n",
    "confirm_distCons_text = 'Confirm distance constraints'\n",
    "confirm_distCons_button = widgets.Button(\n",
    "    description=confirm_distCons_text,\n",
    "    disabled=False,\n",
    "    button_style='success', # 'success', 'info', 'warning', 'danger' or ''\n",
    "    tooltip=confirm_distCons_text,\n",
    "    layout=widgets.Layout(width=f'{len(confirm_distCons_text) + 4}ch'), \n",
    "    icon='check' # (FontAwesome names without the `fa-` prefix)\n",
    ")\n",
    "\n",
    "confirm_distCons_button.style = {'description_width': '300px','description_height': '25px'}\n",
    "\n",
    "def confirm_distCons_button_clicked(b):\n",
    "    print(\"Distance constraints confirmed.\")\n",
    "    with output:\n",
    "        clear_output(wait=True)\n",
    "        CDT.translate_distance_constraints(contactPreds,np.genfromtxt(working_path+'/coordinates1.dat'),working_path,fixedDistSet)\n",
    "        \n",
    "### Set on click actions               \n",
    "distCons_button.on_click(on_distCons_button_clicked)\n",
    "check_distCons_button.on_click(check_distCons_button_clicked)\n",
    "reset_distCons_button.on_click(reset_distCons_button_clicked)   \n",
    "confirm_distCons_button.on_click(confirm_distCons_button_clicked)\n",
    "\n",
    "### Display all\n",
    "display(distCons_button)\n",
    "display(output)\n",
    "display(check_distCons_button)\n",
    "display(output)\n",
    "display(reset_distCons_button)\n",
    "display(output)\n",
    "print('Once you have added all your distance constraints, confirm below')\n",
    "display(confirm_distCons_button)\n",
    "display(output)"
   ]
  },
  {
   "attachments": {},
   "cell_type": "markdown",
   "metadata": {},
   "source": [
    "12. Select how many distinct predictions you'd like for this run, and how many fitting steps we should take for each prediction."
   ]
  },
  {
   "cell_type": "code",
   "execution_count": null,
   "metadata": {
    "hide_input": true,
    "jupyter": {
     "source_hidden": true
    }
   },
   "outputs": [],
   "source": [
    "# <-- Run this cell to select the number of runs and how mny fitting steps per run\n",
    "\n",
    "no_runs_text = widgets.Text(\n",
    "    value='10',\n",
    "    placeholder='Enter the number of runs:',\n",
    "    description='Enter the number of runs:',\n",
    "    disabled=False,\n",
    "    layout={'width': '350px','height':'50px'},   \n",
    ")\n",
    "\n",
    "no_runs_text.style = {'description_width': '250px','description_height': '25px'}\n",
    "\n",
    "def no_runs_handler(change):\n",
    "    global no_runs\n",
    "    no_runs = change.new\n",
    "    with output:\n",
    "        clear_output(wait=True)\n",
    "\n",
    "no_runs = '10'\n",
    "# Output widget\n",
    "output = widgets.Output()\n",
    "no_runs_text.observe(no_runs_handler,names='value')\n",
    "display(no_runs_text)\n",
    "\n",
    "fit_steps_text = widgets.Text(\n",
    "    value='10000',\n",
    "    placeholder='Enter your number of fitting steps:',\n",
    "    description='Enter your number of fitting steps:',\n",
    "    disabled=False,\n",
    "    layout={'width': '350px','height':'50px'},   \n",
    ")\n",
    "\n",
    "fit_steps_text.style = {'description_width': '250px','description_height': '25px'}\n",
    "\n",
    "def fit_steps_handler(change):\n",
    "    global fit_steps\n",
    "    fit_steps = change.new\n",
    "    with output:\n",
    "        clear_output(wait=True)\n",
    "\n",
    "fit_steps = '10000'\n",
    "# Output widget\n",
    "output = widgets.Output()\n",
    "fit_steps_text.observe(fit_steps_handler,names='value')\n",
    "display(fit_steps_text)"
   ]
  },
  {
   "attachments": {},
   "cell_type": "markdown",
   "metadata": {},
   "source": [
    "13. Enter a unique name for the run with these parameters."
   ]
  },
  {
   "cell_type": "code",
   "execution_count": null,
   "metadata": {
    "hide_input": true,
    "jupyter": {
     "source_hidden": true
    }
   },
   "outputs": [],
   "source": [
    "# <-- Run this cell to enter a name for this run\n",
    "runName_text = widgets.Text(\n",
    "    value='TestRun',\n",
    "    placeholder='Enter a name for this run:',\n",
    "    description='Enter a name for this run:',\n",
    "    disabled=False,\n",
    "    layout={'width': '550px','height':'50px'},   \n",
    ")\n",
    "\n",
    "runName_text.style = {'description_width': '200px','description_height': '25px'}\n",
    "\n",
    "def runName_handler(change):\n",
    "    global run_name\n",
    "    run_name = change.new\n",
    "    with output:\n",
    "        clear_output(wait=True)\n",
    "\n",
    "run_name = 'TestRun'\n",
    "# Output widget\n",
    "output = widgets.Output()\n",
    "runName_text.observe(runName_handler,names='value')\n",
    "display(runName_text)"
   ]
  },
  {
   "attachments": {},
   "cell_type": "markdown",
   "metadata": {},
   "source": [
    "13. Write the _.sh_ file for this run."
   ]
  },
  {
   "cell_type": "code",
   "execution_count": null,
   "metadata": {
    "hide_input": true,
    "jupyter": {
     "source_hidden": true
    }
   },
   "outputs": [],
   "source": [
    "# <-- Press play to write your sh file\n",
    "\n",
    "run_sh_file = CDT.write_run_sh_file(working_path,\n",
    "                                    mol_name,\n",
    "                                    run_name,\n",
    "                                    1,\n",
    "                                    minq,\n",
    "                                    maxq,\n",
    "                                    startq,\n",
    "                                    int(fit_steps),\n",
    "                                    int(no_runs),\n",
    "                                    pairedQ=(len(fixedDistSet)>0))\n",
    "#os.remove(initial_test_script_name)\n",
    "#shutil.rmtree(working_path+'/tmp')\n",
    "print(run_sh_file)"
   ]
  },
  {
   "attachments": {},
   "cell_type": "markdown",
   "metadata": {},
   "source": [
    "14. You now need to head to the terminal to set off your run!\n",
    "* First, navigate to the carbonara directory\n",
    "```shell\n",
    "cd {carbonara_directory}\n",
    "```\n",
    "* Enter _sh_ followed by the script name printed above and hit enter.\n",
    "```shell\n",
    "sh {script_name}\n",
    "```"
   ]
  }
 ],
 "metadata": {
  "kernelspec": {
   "display_name": "Python 3 (ipykernel)",
   "language": "python",
   "name": "python3"
  },
  "language_info": {
   "codemirror_mode": {
    "name": "ipython",
    "version": 3
   },
   "file_extension": ".py",
   "mimetype": "text/x-python",
   "name": "python",
   "nbconvert_exporter": "python",
   "pygments_lexer": "ipython3",
   "version": "3.11.8"
  }
 },
 "nbformat": 4,
 "nbformat_minor": 2
}
