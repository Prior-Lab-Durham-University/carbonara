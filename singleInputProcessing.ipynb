{
 "cells": [
  {
   "cell_type": "code",
   "execution_count": 1,
   "metadata": {},
   "outputs": [],
   "source": [
    "import CarbonaraDataTools as CDT\n",
    "import ipywidgets as widgets\n",
    "from IPython.display import display, clear_output\n",
    "import plotly.io as pio\n",
    "pio.renderers.default='notebook'\n",
    "import numpy as np\n",
    "import os\n",
    "import subprocess\n",
    "import shutil"
   ]
  },
  {
   "cell_type": "code",
   "execution_count": 2,
   "metadata": {},
   "outputs": [
    {
     "data": {
      "application/vnd.jupyter.widget-view+json": {
       "model_id": "6c11b2acd73d47c190d4a9902b979b3c",
       "version_major": 2,
       "version_minor": 0
      },
      "text/plain": [
       "Text(value='Examples/Lysozyme/Lysozyme.pdb', description='Enter your PDB file location:', layout=Layout(height…"
      ]
     },
     "metadata": {},
     "output_type": "display_data"
    },
    {
     "data": {
      "application/vnd.jupyter.widget-view+json": {
       "model_id": "348b6304465849a6863496481b339ced",
       "version_major": 2,
       "version_minor": 0
      },
      "text/plain": [
       "Text(value='Examples/Lysozyme/LysozymeSaxs.dat', description='Enter your SAXS file location:', layout=Layout(h…"
      ]
     },
     "metadata": {},
     "output_type": "display_data"
    },
    {
     "data": {
      "application/vnd.jupyter.widget-view+json": {
       "model_id": "6b749b112c4c423bbc7d8238e93b3dfe",
       "version_major": 2,
       "version_minor": 0
      },
      "text/plain": [
       "Text(value='EasyExample', description='Enter a name for your prediction:', layout=Layout(height='50px', width=…"
      ]
     },
     "metadata": {},
     "output_type": "display_data"
    },
    {
     "data": {
      "application/vnd.jupyter.widget-view+json": {
       "model_id": "a470f118b8964ba58f6b33099c66aa16",
       "version_major": 2,
       "version_minor": 0
      },
      "text/plain": [
       "Button(button_style='success', description='Confirm file locations', icon='check', layout=Layout(width='26ch')…"
      ]
     },
     "metadata": {},
     "output_type": "display_data"
    },
    {
     "data": {
      "application/vnd.jupyter.widget-view+json": {
       "model_id": "b34ef66470014aeb971b3b4b8a0e8190",
       "version_major": 2,
       "version_minor": 0
      },
      "text/plain": [
       "Output()"
      ]
     },
     "metadata": {},
     "output_type": "display_data"
    }
   ],
   "source": [
    "# <-- Press play to enter your file locations\n",
    "pdbFile_text = widgets.Text(\n",
    "    value='Examples/Lysozyme/Lysozyme.pdb',\n",
    "    placeholder='Enter your PDB file location:',\n",
    "    description='Enter your PDB file location:',\n",
    "    disabled=False,\n",
    "    layout={'width': '550px','height':'50px'},   \n",
    ")\n",
    "\n",
    "pdbFile_text.style = {'description_width': '200px','description_height': '25px'}\n",
    "\n",
    "def pdbFile_handler(change):\n",
    "    global pdb_file\n",
    "    pdb_file = change.new\n",
    "    with output:\n",
    "        clear_output(wait=True)\n",
    "\n",
    "pdb_file = 'Examples/Lysozyme/Lysozyme.pdb'\n",
    "# Output widget\n",
    "output = widgets.Output()\n",
    "pdbFile_text.observe(pdbFile_handler,names='value')\n",
    "display(pdbFile_text)\n",
    "\n",
    "# your SAXS file location\n",
    "saxsFile_text = widgets.Text(\n",
    "    value='Examples/Lysozyme/LysozymeSaxs.dat',\n",
    "    placeholder='Enter your SAXS file location:',\n",
    "    description='Enter your SAXS file location:',\n",
    "    disabled=False,\n",
    "    layout={'width': '550px','height':'50px'},   \n",
    ")\n",
    "\n",
    "saxsFile_text.style = {'description_width': '200px','description_height': '25px'}\n",
    "\n",
    "def saxsFile_handler(change):\n",
    "    global SAXS_file\n",
    "    global working_path\n",
    "    SAXS_file = change.new\n",
    "    working_path = os.path.dirname(SAXS_file)\n",
    "    with output:\n",
    "        clear_output(wait=True)\n",
    "\n",
    "SAXS_file = 'Examples/Lysozyme/LysozymeSaxs.dat'\n",
    "# Output widget\n",
    "output = widgets.Output()\n",
    "saxsFile_text.observe(saxsFile_handler,names='value')\n",
    "display(saxsFile_text)\n",
    "\n",
    "# a name for your prediction\n",
    "molName_text = widgets.Text(\n",
    "    value='EasyExample',\n",
    "    placeholder='Enter a name for your prediction:',\n",
    "    description='Enter a name for your prediction:',\n",
    "    disabled=False,\n",
    "    layout={'width': '550px','height':'50px'},   \n",
    ")\n",
    "\n",
    "molName_text.style = {'description_width': '200px','description_height': '25px'}\n",
    "\n",
    "def molName_handler(change):\n",
    "    global mol_name\n",
    "    mol_name = change.new\n",
    "    with output:\n",
    "        clear_output(wait=True)\n",
    "\n",
    "mol_name = 'EasyExample'\n",
    "# Output widget\n",
    "output = widgets.Output()\n",
    "molName_text.observe(molName_handler,names='value')\n",
    "display(molName_text)\n",
    "working_path = 'newFitData/'+mol_name\n",
    "confirm_filelocs_text = 'Confirm file locations'\n",
    "\n",
    "confirm_filelocs_button = widgets.Button(\n",
    "    description=confirm_filelocs_text,\n",
    "    disabled=False,\n",
    "    button_style='success', # 'success', 'info', 'warning', 'danger' or ''\n",
    "    tooltip=confirm_filelocs_text,\n",
    "    layout=widgets.Layout(width=f'{len(confirm_filelocs_text) + 4}ch'), \n",
    "    icon='check' # (FontAwesome names without the `fa-` prefix)\n",
    ")\n",
    "output = widgets.Output()\n",
    "confirm_filelocs_button.style = {'description_width': '300px','description_height': '25px'}\n",
    "\n",
    "def confirm_filelocs_button_clicked(b):\n",
    "    global working_path\n",
    "    working_path = 'newFitData/'+mol_name\n",
    "    if not os.path.isdir(working_path):\n",
    "        os.makedirs(working_path)\n",
    "    with output:\n",
    "        clear_output(wait=True)\n",
    "        print(\"File locations confirmed.\")     \n",
    "\n",
    "\n",
    "confirm_filelocs_button.on_click(confirm_filelocs_button_clicked)\n",
    "display(confirm_filelocs_button)\n",
    "display(output)"
   ]
  },
  {
   "attachments": {},
   "cell_type": "markdown",
   "metadata": {},
   "source": [
    "Make sure you've confirmed your file locations before running the next cell!"
   ]
  },
  {
   "cell_type": "code",
   "execution_count": 3,
   "metadata": {},
   "outputs": [
    {
     "name": "stdout",
     "output_type": "stream",
     "text": [
      "We think you've got a monomer\n"
     ]
    }
   ],
   "source": [
    "# <-- Press play to check for any breaks in your backbone\n",
    "\n",
    "coords_chains, sequence_chains, secondary_structure_chains, missing_residues_chains = CDT.pull_structure_from_pdb(pdb_file)\n",
    "chains=[1]\n",
    "# >> check for missing residues geometrically in the chain(s)\n",
    "for coords in coords_chains:\n",
    "    breaking_indices = CDT.missing_ca_check(coords)\n",
    "    if len(breaking_indices) > 0:\n",
    "        chains = [i+1 for i in range(len(breaking_indices)+1)]\n",
    "        print(\"We think your PDB file has\", len(breaking_indices)+1, 'chains')\n",
    "        coords_chains, sequence_chains = CDT.break_into_chains(coords_chains[0],sequence_chains[0],breaking_indices)\n",
    "    else:\n",
    "        print(\"We think you've got a monomer\")\n",
    "\n",
    "\n",
    "# use kappa tau method to identify secondary structure\n",
    "secondarysplit= [CDT.findSimilar(CDT.getKapTauList(coords_chains[i-1]),0.2) for i in chains]\n",
    "# Writes all the coords, fingerprint, mixture & SAXS in Carbonara's expected input / file struct\n",
    "CDT.write_fingerprint_file(len(coords_chains), sequence_chains, secondarysplit, working_path)    \n",
    "CDT.write_coordinates_file(coords,working_path)\n",
    "CDT.write_mixture_file(working_path)\n",
    "CDT.write_saxs(SAXS_file, working_path)\n",
    "\n",
    "varyingSection_tensor = [[] for i in range(len(breaking_indices)+1)]"
   ]
  },
  {
   "attachments": {},
   "cell_type": "markdown",
   "metadata": {},
   "source": [
    "# Picking the q range"
   ]
  },
  {
   "cell_type": "code",
   "execution_count": 4,
   "metadata": {},
   "outputs": [
    {
     "data": {
      "application/vnd.jupyter.widget-view+json": {
       "model_id": "1941797a0e174a72ac67b48f43e6e8c1",
       "version_major": 2,
       "version_minor": 0
      },
      "text/plain": [
       "Text(value='0.01', description='Enter your min q:', layout=Layout(height='50px', width='250px'), placeholder='…"
      ]
     },
     "metadata": {},
     "output_type": "display_data"
    },
    {
     "data": {
      "application/vnd.jupyter.widget-view+json": {
       "model_id": "a8cfdcb7c25b4a95bd796c285cc05b91",
       "version_major": 2,
       "version_minor": 0
      },
      "text/plain": [
       "Text(value='0.15', description='Enter your max q:', layout=Layout(height='50px', width='250px'), placeholder='…"
      ]
     },
     "metadata": {},
     "output_type": "display_data"
    }
   ],
   "source": [
    "# <-- Press play to enter your desired q range for the fit\n",
    "\n",
    "minq_text = widgets.Text(\n",
    "    value='0.01',\n",
    "    placeholder='Enter your min q:',\n",
    "    description='Enter your min q:',\n",
    "    disabled=False,\n",
    "    layout={'width': '250px','height':'50px'},   \n",
    ")\n",
    "\n",
    "minq_text.style = {'description_width': '150px','description_height': '25px'}\n",
    "\n",
    "def minq_handler(change):\n",
    "    global minq\n",
    "    minq = change.new\n",
    "    with output:\n",
    "        clear_output(wait=True)\n",
    "\n",
    "minq = '0.01'\n",
    "# Output widget\n",
    "output = widgets.Output()\n",
    "minq_text.observe(minq_handler,names='value')\n",
    "display(minq_text)\n",
    "\n",
    "# <-- Press play to enter your SAXS file location\n",
    "maxq_text = widgets.Text(\n",
    "    value='0.15',\n",
    "    placeholder='Enter your max q:',\n",
    "    description='Enter your max q:',\n",
    "    disabled=False,\n",
    "    layout={'width': '250px','height':'50px'},   \n",
    ")\n",
    "\n",
    "maxq_text.style = {'description_width': '150px','description_height': '25px'}\n",
    "\n",
    "def maxq_handler(change):\n",
    "    global maxq\n",
    "    maxq = change.new\n",
    "    with output:\n",
    "        clear_output(wait=True)\n",
    "\n",
    "maxq = '0.15'\n",
    "# Output widget\n",
    "output = widgets.Output()\n",
    "maxq_text.observe(maxq_handler,names='value')\n",
    "display(maxq_text)"
   ]
  },
  {
   "attachments": {},
   "cell_type": "markdown",
   "metadata": {},
   "source": [
    "# Initial SAXS fit"
   ]
  },
  {
   "cell_type": "code",
   "execution_count": 7,
   "metadata": {},
   "outputs": [
    {
     "data": {
      "text/html": [
       "<div>                            <div id=\"430cb00d-a74f-4769-91ca-913d7ad01409\" class=\"plotly-graph-div\" style=\"height:525px; width:100%;\"></div>            <script type=\"text/javascript\">                require([\"plotly\"], function(Plotly) {                    window.PLOTLYENV=window.PLOTLYENV || {};                                    if (document.getElementById(\"430cb00d-a74f-4769-91ca-913d7ad01409\")) {                    Plotly.newPlot(                        \"430cb00d-a74f-4769-91ca-913d7ad01409\",                        [{\"line\":{\"color\":\"grey\"},\"mode\":\"markers\",\"name\":\"Data\",\"opacity\":0.7,\"x\":[0.01365,0.01502,0.01639,0.01775,0.01912,0.02048,0.02185,0.02321,0.024579999999999998,0.02594,0.02731,0.02867,0.03004,0.03141,0.03277,0.03414,0.03551,0.03687,0.03824,0.03961,0.04097,0.04234,0.04371,0.045079999999999995,0.046439999999999995,0.047810000000000005,0.04918,0.050539999999999995,0.05191,0.05328000000000001,0.05464,0.056010000000000004,0.05738,0.058750000000000004,0.06011,0.06148,0.06284999999999999,0.06421,0.06558,0.06695,0.06831000000000001,0.06967999999999999,0.07105,0.07242,0.07378,0.07515,0.07652,0.07788,0.07925,0.08062,0.08198,0.08335000000000001,0.08471999999999999,0.08609,0.08745,0.08882,0.09019,0.09154999999999999,0.09292,0.09429,0.09566,0.09702,0.09839,0.09976,0.1011,0.1025,0.10389999999999999,0.1052,0.1066,0.10800000000000001,0.1093,0.11069999999999999,0.1121,0.11339999999999999,0.11479999999999999,0.1162,0.11750000000000001,0.1189,0.1203,0.1216,0.12310000000000001,0.1246,0.126,0.1274,0.12869999999999998,0.1301,0.1315,0.1328,0.1342,0.1356,0.1369,0.1383,0.1397,0.141,0.1424,0.14379999999999998,0.1451,0.14650000000000002,0.1479,0.1492,0.1506,0.152,0.1533,0.1547,0.1561,0.1574,0.1588,0.1602,0.1615,0.1629,0.1643,0.1656,0.16699999999999998,0.1684,0.16970000000000002,0.1711,0.17250000000000001,0.1738,0.1752,0.1766,0.1779,0.1793,0.1807,0.18209999999999998,0.1834,0.18480000000000002,0.1862,0.1875],\"y\":[2.474856313934499,2.47232786758114,2.468946630209271,2.4664031782234406,2.4630018143999504,2.458733775483977,2.4553061800117097,2.451005098112319,2.446685436967803,2.4414770918606643,2.4362414778067194,2.4309783077624445,2.425687290128029,2.387844936944869,2.390595970316759,2.3832429960115,2.3804716316511167,2.3749057545736716,2.3683728335320486,2.362739015813793,2.3561258599220753,2.337952236831337,2.337952236831337,2.3263016196113617,2.316487998163037,2.312535423847214,2.303584593327129,2.2970699123059357,2.299881441419731,2.2905125117597764,2.2836061263962426,2.2708880062507912,2.2654023018663296,2.2610336658358103,2.253814928624616,2.241135130677823,2.2293690306627867,2.2094824747317214,2.2067347673372115,2.19789102187938,2.1942200683159205,2.173273356513706,2.1635528842984884,2.1462820985986446,2.1310847748316744,2.114808685517127,2.1030359905334652,2.0880295588663698,2.0705269242902617,2.056556669142377,2.0335284846654296,2.0166348533870235,2.0012096934102623,1.9823798288367047,1.9651523952777084,1.9450526386411842,1.9306514680946736,1.9104309989455537,1.892660054163788,1.8681030358153887,1.8454582015619896,1.8251942453142924,1.8172647596364169,1.7830550285979088,1.7696842615761974,1.7504165056936725,1.7220520568032347,1.7007400708408864,1.6813864117466844,1.6637366858414793,1.6358850824489488,1.606232781485152,1.5935117618838412,1.572773928062509,1.553502280103797,1.5234441992671244,1.4902038245104021,1.463486856949796,1.4440914598461074,1.4226262903672808,1.389289870099689,1.3792697461829262,1.3522203807861393,1.3137236682850553,1.28536844252993,1.2570395252626283,1.234308004122009,1.2092588087551734,1.1869283697166775,1.1448595398334294,1.121351775637599,1.09894556645823,1.048371072231363,1.035317438295796,1.0224509277025455,0.965080896043587,0.945072533299607,0.9086617047096639,0.8812851226753399,0.8514321595256585,0.8215403953283443,0.7979575449122904,0.7371640659767196,0.7371640659767196,0.7016112589720747,0.6780335427498971,0.6611403844248589,0.5971867894140341,0.5664495275139878,0.5235443961737654,0.49103099643781106,0.45805755822733496,0.42395969074432877,0.398104753701872,0.3688011237365729,0.3235317253454781,0.2941610385494901,0.22633844221072896,0.22554067591393115,0.17058630057553367,0.15956456967133845,0.10616019582839072,0.07325046173959274,0.031498667059371016,0.023716526617316065,-0.046672408198430666,-0.10125783207422699,-0.14029708553872267],\"type\":\"scatter\",\"xaxis\":\"x\",\"yaxis\":\"y\",\"showlegend\":false},{\"marker\":{\"color\":\"crimson\",\"size\":8},\"mode\":\"markers\",\"name\":\"Fit\",\"x\":[0.0125,0.0375,0.0625,0.0875,0.1125,0.1375,0.1625,0.1875],\"y\":[2.49736,2.4031,2.21331,1.92651,1.54544,1.08742,0.597825,0.145113],\"type\":\"scatter\",\"xaxis\":\"x\",\"yaxis\":\"y\",\"showlegend\":false},{\"line\":{\"color\":\"crimson\",\"width\":3},\"mode\":\"lines\",\"name\":\"Fit\",\"x\":[0.01365,0.01502,0.01639,0.01775,0.01912,0.02048,0.02185,0.02321,0.024579999999999998,0.02594,0.02731,0.02867,0.03004,0.03141,0.03277,0.03414,0.03551,0.03687,0.03824,0.03961,0.04097,0.04234,0.04371,0.045079999999999995,0.046439999999999995,0.047810000000000005,0.04918,0.050539999999999995,0.05191,0.05328000000000001,0.05464,0.056010000000000004,0.05738,0.058750000000000004,0.06011,0.06148,0.06284999999999999,0.06421,0.06558,0.06695,0.06831000000000001,0.06967999999999999,0.07105,0.07242,0.07378,0.07515,0.07652,0.07788,0.07925,0.08062,0.08198,0.08335000000000001,0.08471999999999999,0.08609,0.08745,0.08882,0.09019,0.09154999999999999,0.09292,0.09429,0.09566,0.09702,0.09839,0.09976,0.1011,0.1025,0.10389999999999999,0.1052,0.1066,0.10800000000000001,0.1093,0.11069999999999999,0.1121,0.11339999999999999,0.11479999999999999,0.1162,0.11750000000000001,0.1189,0.1203,0.1216,0.12310000000000001,0.1246,0.126,0.1274,0.12869999999999998,0.1301,0.1315,0.1328,0.1342,0.1356,0.1369,0.1383,0.1397,0.141,0.1424,0.14379999999999998,0.1451,0.14650000000000002,0.1479,0.1492,0.1506,0.152,0.1533,0.1547,0.1561,0.1574,0.1588,0.1602,0.1615,0.1629,0.1643,0.1656,0.16699999999999998,0.1684,0.16970000000000002,0.1711,0.17250000000000001,0.1738,0.1752,0.1766,0.1779,0.1793,0.1807,0.18209999999999998,0.1834,0.18480000000000002,0.1862,0.1875],\"y\":[2.4950917076439922,2.492130864251835,2.4888885162699617,2.485391081887562,2.481586802616963,2.4775308929179913,2.473163381430673,2.4685477049829614,2.4636156603509325,2.4584389257223145,2.4529410470175814,2.4472019627758907,2.4411369490704624,2.4347868389230634,2.4282007741494143,2.4212815752266788,2.4140762993963114,2.4066403412682154,2.398864022887871,2.390800647134232,2.3825118828291982,2.373875510750943,2.3649511008337303,2.3557383254585473,2.3463072575128012,2.3365188791917135,2.326441154946993,2.316150481870351,2.3054952009050864,2.294549593550526,2.2833964025205002,2.2718712846707554,2.2600548599660533,2.24794680078738,2.235638349185626,2.2229481728904785,2.2099653830573334,2.1967877766091948,2.1832217061940633,2.1693631742694484,2.1553167067328705,2.1408759135554836,2.126143187809707,2.111118706239275,2.095915497615389,2.08031016101086,2.064413597522771,2.0483451957065335,2.0318688312056574,2.015101768762319,1.9981697451616671,1.980823935726851,1.9631879572906707,1.9452619865968575,1.9271802119071928,1.9086772208616423,1.8898868374477467,1.8709516518218565,1.8515955173621965,1.8319589518943786,1.8120442815372584,1.792002201498137,1.7715402872962212,1.750807229582605,1.730268111931392,1.708536988095694,1.686530003157083,1.6658501071817413,1.643318114366988,1.6205175300428516,1.5991072296057705,1.575795657335872,1.552222763150121,1.5301020772637328,1.506036140207675,1.4817254328125105,1.4589391434258374,1.4341793441235813,1.4091985902197421,1.3858114395950931,1.3586067474195453,1.331176414691485,1.3053800166081728,1.27940390581021,1.2551294235346742,1.228829689105355,1.2023740576989095,1.1776756310927186,1.1509423064058564,1.1240769004793925,1.0990192937675485,1.071922270082156,1.0447197096473608,1.0193768245769383,0.9920067587784173,0.9645685817070409,0.9390404756752293,0.9115070890579905,0.8839430778882696,0.8583316918234329,0.8307447669257133,0.8031647041958856,0.777571979026386,0.7500412983864225,0.7225549666347242,0.697082843288924,0.6697181894449542,0.6424353712096222,0.6171857906158853,0.5900969461061455,0.5631274239254173,0.5382023270121058,0.511499074374833,0.4849526307869452,0.4604539584824219,0.4342460802558531,0.4082324977990428,0.3842621910316715,0.35865946975404334,0.33328853096654765,0.30994853066469047,0.2850607488742402,0.26044223629429586,0.23610579326840064,0.21377142362127988,0.19001511978712388,0.16657837222739053,0.145113],\"type\":\"scatter\",\"xaxis\":\"x\",\"yaxis\":\"y\",\"showlegend\":false},{\"line\":{\"color\":\"red\"},\"mode\":\"lines\",\"name\":\"Residual\",\"showlegend\":false,\"x\":[0.01365,0.01502,0.01639,0.01775,0.01912,0.02048,0.02185,0.02321,0.024579999999999998,0.02594,0.02731,0.02867,0.03004,0.03141,0.03277,0.03414,0.03551,0.03687,0.03824,0.03961,0.04097,0.04234,0.04371,0.045079999999999995,0.046439999999999995,0.047810000000000005,0.04918,0.050539999999999995,0.05191,0.05328000000000001,0.05464,0.056010000000000004,0.05738,0.058750000000000004,0.06011,0.06148,0.06284999999999999,0.06421,0.06558,0.06695,0.06831000000000001,0.06967999999999999,0.07105,0.07242,0.07378,0.07515,0.07652,0.07788,0.07925,0.08062,0.08198,0.08335000000000001,0.08471999999999999,0.08609,0.08745,0.08882,0.09019,0.09154999999999999,0.09292,0.09429,0.09566,0.09702,0.09839,0.09976,0.1011,0.1025,0.10389999999999999,0.1052,0.1066,0.10800000000000001,0.1093,0.11069999999999999,0.1121,0.11339999999999999,0.11479999999999999,0.1162,0.11750000000000001,0.1189,0.1203,0.1216,0.12310000000000001,0.1246,0.126,0.1274,0.12869999999999998,0.1301,0.1315,0.1328,0.1342,0.1356,0.1369,0.1383,0.1397,0.141,0.1424,0.14379999999999998,0.1451,0.14650000000000002,0.1479,0.1492,0.1506,0.152,0.1533,0.1547,0.1561,0.1574,0.1588,0.1602,0.1615,0.1629,0.1643,0.1656,0.16699999999999998,0.1684,0.16970000000000002,0.1711,0.17250000000000001,0.1738,0.1752,0.1766,0.1779,0.1793,0.1807,0.18209999999999998,0.1834,0.18480000000000002,0.1862,0.1875],\"y\":[0.020235393709493454,0.01980299667069474,0.019941886060690805,0.018987903664121397,0.01858498821701282,0.018797117434014243,0.017857201418963076,0.017542606870642352,0.01693022338312966,0.016961833861650177,0.01669956921086202,0.016223655013446248,0.01544965894243333,0.046941901978194256,0.037604803832655076,0.038038579215178725,0.03360466774519466,0.031734586694543765,0.03049118935582218,0.02806163132043915,0.026386022907122886,0.035923273919606036,0.026998864002393486,0.029436705847185607,0.02981925934976415,0.02398345534449975,0.022856561619863935,0.019080569564415395,0.005613759485355363,0.004037081790749575,-0.0002097238757423625,0.0009832784199641509,-0.005347441900276362,-0.013086865048430152,-0.018176579438990093,-0.018186957787344582,-0.019403647605453322,-0.01269469812252666,-0.023513061143148217,-0.028527847609931545,-0.03890336158305008,-0.032397442958222555,-0.03740969648878156,-0.035163392359369716,-0.035169277216285266,-0.034498524506267,-0.03862239301069437,-0.039684363159836256,-0.03865809308460433,-0.041454900380057946,-0.03535873950376245,-0.035810917660172636,-0.03802173611959159,-0.037117842239847265,-0.037972183370515555,-0.036375417779541896,-0.040764630646926925,-0.03947934712369716,-0.04106453680159139,-0.036144083921010095,-0.0334139200247312,-0.03319204381615548,-0.04572447234019572,-0.032247799015303835,-0.03941614964480533,-0.04187951759797848,-0.0355220536461518,-0.034889963659145096,-0.038068297379696414,-0.04321915579862767,-0.03677785284317836,-0.030437124149280015,-0.04128899873372016,-0.04267185079877622,-0.04746613989612203,-0.04171876645461392,-0.031264681084564705,-0.0293075128262148,-0.034892869626365286,-0.03681485077218771,-0.030683122680143615,-0.04809333149144113,-0.04684036417796644,-0.03431976247484525,-0.03023901899525594,-0.02820983615727335,-0.031933946423099435,-0.03158317766245489,-0.035986063310821104,-0.020782639354036903,-0.022332481870050547,-0.027023296376073924,-0.003651362584002227,-0.015940613718857577,-0.030444168924128268,-0.0005123143365461935,-0.006032057624377751,0.002845384348326596,0.0026579552129297745,0.006899532297774402,0.009204371597368977,0.005207159283595164,0.0404079130496664,0.012877232409702954,0.020943707662649524,0.01904930053902687,0.008577805020095308,0.045248581795588105,0.050736263101897494,0.06655254993238013,0.0720964274876062,0.08014476878477084,0.08753938363050423,0.08684787708507324,0.09165283474584895,0.11071435491037501,0.1140714592495527,0.1579237488209425,0.1331187938401122,0.16270223039101397,0.15038396099335202,0.1789005530458495,0.18719177455470312,0.20460712620902963,0.1900548970039638,0.23668752798555454,0.26783620430161753,0.28541008553872266],\"type\":\"scatter\",\"xaxis\":\"x2\",\"yaxis\":\"y2\"},{\"line\":{\"color\":\"black\",\"dash\":\"dash\",\"width\":1},\"mode\":\"lines\",\"showlegend\":false,\"x\":[0.01365,0.01502,0.01639,0.01775,0.01912,0.02048,0.02185,0.02321,0.024579999999999998,0.02594,0.02731,0.02867,0.03004,0.03141,0.03277,0.03414,0.03551,0.03687,0.03824,0.03961,0.04097,0.04234,0.04371,0.045079999999999995,0.046439999999999995,0.047810000000000005,0.04918,0.050539999999999995,0.05191,0.05328000000000001,0.05464,0.056010000000000004,0.05738,0.058750000000000004,0.06011,0.06148,0.06284999999999999,0.06421,0.06558,0.06695,0.06831000000000001,0.06967999999999999,0.07105,0.07242,0.07378,0.07515,0.07652,0.07788,0.07925,0.08062,0.08198,0.08335000000000001,0.08471999999999999,0.08609,0.08745,0.08882,0.09019,0.09154999999999999,0.09292,0.09429,0.09566,0.09702,0.09839,0.09976,0.1011,0.1025,0.10389999999999999,0.1052,0.1066,0.10800000000000001,0.1093,0.11069999999999999,0.1121,0.11339999999999999,0.11479999999999999,0.1162,0.11750000000000001,0.1189,0.1203,0.1216,0.12310000000000001,0.1246,0.126,0.1274,0.12869999999999998,0.1301,0.1315,0.1328,0.1342,0.1356,0.1369,0.1383,0.1397,0.141,0.1424,0.14379999999999998,0.1451,0.14650000000000002,0.1479,0.1492,0.1506,0.152,0.1533,0.1547,0.1561,0.1574,0.1588,0.1602,0.1615,0.1629,0.1643,0.1656,0.16699999999999998,0.1684,0.16970000000000002,0.1711,0.17250000000000001,0.1738,0.1752,0.1766,0.1779,0.1793,0.1807,0.18209999999999998,0.1834,0.18480000000000002,0.1862,0.1875],\"y\":[0.0,0.0,0.0,0.0,0.0,0.0,0.0,0.0,0.0,0.0,0.0,0.0,0.0,0.0,0.0,0.0,0.0,0.0,0.0,0.0,0.0,0.0,0.0,0.0,0.0,0.0,0.0,0.0,0.0,0.0,0.0,0.0,0.0,0.0,0.0,0.0,0.0,0.0,0.0,0.0,0.0,0.0,0.0,0.0,0.0,0.0,0.0,0.0,0.0,0.0,0.0,0.0,0.0,0.0,0.0,0.0,0.0,0.0,0.0,0.0,0.0,0.0,0.0,0.0,0.0,0.0,0.0,0.0,0.0,0.0,0.0,0.0,0.0,0.0,0.0,0.0,0.0,0.0,0.0,0.0,0.0,0.0,0.0,0.0,0.0,0.0,0.0,0.0,0.0,0.0,0.0,0.0,0.0,0.0,0.0,0.0,0.0,0.0,0.0,0.0,0.0,0.0,0.0,0.0,0.0,0.0,0.0,0.0,0.0,0.0,0.0,0.0,0.0,0.0,0.0,0.0,0.0,0.0,0.0,0.0,0.0,0.0,0.0,0.0,0.0,0.0,0.0,0.0],\"type\":\"scatter\",\"xaxis\":\"x2\",\"yaxis\":\"y2\"}],                        {\"template\":{\"data\":{\"barpolar\":[{\"marker\":{\"line\":{\"color\":\"white\",\"width\":0.5},\"pattern\":{\"fillmode\":\"overlay\",\"size\":10,\"solidity\":0.2}},\"type\":\"barpolar\"}],\"bar\":[{\"error_x\":{\"color\":\"rgb(36,36,36)\"},\"error_y\":{\"color\":\"rgb(36,36,36)\"},\"marker\":{\"line\":{\"color\":\"white\",\"width\":0.5},\"pattern\":{\"fillmode\":\"overlay\",\"size\":10,\"solidity\":0.2}},\"type\":\"bar\"}],\"carpet\":[{\"aaxis\":{\"endlinecolor\":\"rgb(36,36,36)\",\"gridcolor\":\"white\",\"linecolor\":\"white\",\"minorgridcolor\":\"white\",\"startlinecolor\":\"rgb(36,36,36)\"},\"baxis\":{\"endlinecolor\":\"rgb(36,36,36)\",\"gridcolor\":\"white\",\"linecolor\":\"white\",\"minorgridcolor\":\"white\",\"startlinecolor\":\"rgb(36,36,36)\"},\"type\":\"carpet\"}],\"choropleth\":[{\"colorbar\":{\"outlinewidth\":1,\"tickcolor\":\"rgb(36,36,36)\",\"ticks\":\"outside\"},\"type\":\"choropleth\"}],\"contourcarpet\":[{\"colorbar\":{\"outlinewidth\":1,\"tickcolor\":\"rgb(36,36,36)\",\"ticks\":\"outside\"},\"type\":\"contourcarpet\"}],\"contour\":[{\"colorbar\":{\"outlinewidth\":1,\"tickcolor\":\"rgb(36,36,36)\",\"ticks\":\"outside\"},\"colorscale\":[[0.0,\"#440154\"],[0.1111111111111111,\"#482878\"],[0.2222222222222222,\"#3e4989\"],[0.3333333333333333,\"#31688e\"],[0.4444444444444444,\"#26828e\"],[0.5555555555555556,\"#1f9e89\"],[0.6666666666666666,\"#35b779\"],[0.7777777777777778,\"#6ece58\"],[0.8888888888888888,\"#b5de2b\"],[1.0,\"#fde725\"]],\"type\":\"contour\"}],\"heatmapgl\":[{\"colorbar\":{\"outlinewidth\":1,\"tickcolor\":\"rgb(36,36,36)\",\"ticks\":\"outside\"},\"colorscale\":[[0.0,\"#440154\"],[0.1111111111111111,\"#482878\"],[0.2222222222222222,\"#3e4989\"],[0.3333333333333333,\"#31688e\"],[0.4444444444444444,\"#26828e\"],[0.5555555555555556,\"#1f9e89\"],[0.6666666666666666,\"#35b779\"],[0.7777777777777778,\"#6ece58\"],[0.8888888888888888,\"#b5de2b\"],[1.0,\"#fde725\"]],\"type\":\"heatmapgl\"}],\"heatmap\":[{\"colorbar\":{\"outlinewidth\":1,\"tickcolor\":\"rgb(36,36,36)\",\"ticks\":\"outside\"},\"colorscale\":[[0.0,\"#440154\"],[0.1111111111111111,\"#482878\"],[0.2222222222222222,\"#3e4989\"],[0.3333333333333333,\"#31688e\"],[0.4444444444444444,\"#26828e\"],[0.5555555555555556,\"#1f9e89\"],[0.6666666666666666,\"#35b779\"],[0.7777777777777778,\"#6ece58\"],[0.8888888888888888,\"#b5de2b\"],[1.0,\"#fde725\"]],\"type\":\"heatmap\"}],\"histogram2dcontour\":[{\"colorbar\":{\"outlinewidth\":1,\"tickcolor\":\"rgb(36,36,36)\",\"ticks\":\"outside\"},\"colorscale\":[[0.0,\"#440154\"],[0.1111111111111111,\"#482878\"],[0.2222222222222222,\"#3e4989\"],[0.3333333333333333,\"#31688e\"],[0.4444444444444444,\"#26828e\"],[0.5555555555555556,\"#1f9e89\"],[0.6666666666666666,\"#35b779\"],[0.7777777777777778,\"#6ece58\"],[0.8888888888888888,\"#b5de2b\"],[1.0,\"#fde725\"]],\"type\":\"histogram2dcontour\"}],\"histogram2d\":[{\"colorbar\":{\"outlinewidth\":1,\"tickcolor\":\"rgb(36,36,36)\",\"ticks\":\"outside\"},\"colorscale\":[[0.0,\"#440154\"],[0.1111111111111111,\"#482878\"],[0.2222222222222222,\"#3e4989\"],[0.3333333333333333,\"#31688e\"],[0.4444444444444444,\"#26828e\"],[0.5555555555555556,\"#1f9e89\"],[0.6666666666666666,\"#35b779\"],[0.7777777777777778,\"#6ece58\"],[0.8888888888888888,\"#b5de2b\"],[1.0,\"#fde725\"]],\"type\":\"histogram2d\"}],\"histogram\":[{\"marker\":{\"line\":{\"color\":\"white\",\"width\":0.6}},\"type\":\"histogram\"}],\"mesh3d\":[{\"colorbar\":{\"outlinewidth\":1,\"tickcolor\":\"rgb(36,36,36)\",\"ticks\":\"outside\"},\"type\":\"mesh3d\"}],\"parcoords\":[{\"line\":{\"colorbar\":{\"outlinewidth\":1,\"tickcolor\":\"rgb(36,36,36)\",\"ticks\":\"outside\"}},\"type\":\"parcoords\"}],\"pie\":[{\"automargin\":true,\"type\":\"pie\"}],\"scatter3d\":[{\"line\":{\"colorbar\":{\"outlinewidth\":1,\"tickcolor\":\"rgb(36,36,36)\",\"ticks\":\"outside\"}},\"marker\":{\"colorbar\":{\"outlinewidth\":1,\"tickcolor\":\"rgb(36,36,36)\",\"ticks\":\"outside\"}},\"type\":\"scatter3d\"}],\"scattercarpet\":[{\"marker\":{\"colorbar\":{\"outlinewidth\":1,\"tickcolor\":\"rgb(36,36,36)\",\"ticks\":\"outside\"}},\"type\":\"scattercarpet\"}],\"scattergeo\":[{\"marker\":{\"colorbar\":{\"outlinewidth\":1,\"tickcolor\":\"rgb(36,36,36)\",\"ticks\":\"outside\"}},\"type\":\"scattergeo\"}],\"scattergl\":[{\"marker\":{\"colorbar\":{\"outlinewidth\":1,\"tickcolor\":\"rgb(36,36,36)\",\"ticks\":\"outside\"}},\"type\":\"scattergl\"}],\"scattermapbox\":[{\"marker\":{\"colorbar\":{\"outlinewidth\":1,\"tickcolor\":\"rgb(36,36,36)\",\"ticks\":\"outside\"}},\"type\":\"scattermapbox\"}],\"scatterpolargl\":[{\"marker\":{\"colorbar\":{\"outlinewidth\":1,\"tickcolor\":\"rgb(36,36,36)\",\"ticks\":\"outside\"}},\"type\":\"scatterpolargl\"}],\"scatterpolar\":[{\"marker\":{\"colorbar\":{\"outlinewidth\":1,\"tickcolor\":\"rgb(36,36,36)\",\"ticks\":\"outside\"}},\"type\":\"scatterpolar\"}],\"scatter\":[{\"fillpattern\":{\"fillmode\":\"overlay\",\"size\":10,\"solidity\":0.2},\"type\":\"scatter\"}],\"scatterternary\":[{\"marker\":{\"colorbar\":{\"outlinewidth\":1,\"tickcolor\":\"rgb(36,36,36)\",\"ticks\":\"outside\"}},\"type\":\"scatterternary\"}],\"surface\":[{\"colorbar\":{\"outlinewidth\":1,\"tickcolor\":\"rgb(36,36,36)\",\"ticks\":\"outside\"},\"colorscale\":[[0.0,\"#440154\"],[0.1111111111111111,\"#482878\"],[0.2222222222222222,\"#3e4989\"],[0.3333333333333333,\"#31688e\"],[0.4444444444444444,\"#26828e\"],[0.5555555555555556,\"#1f9e89\"],[0.6666666666666666,\"#35b779\"],[0.7777777777777778,\"#6ece58\"],[0.8888888888888888,\"#b5de2b\"],[1.0,\"#fde725\"]],\"type\":\"surface\"}],\"table\":[{\"cells\":{\"fill\":{\"color\":\"rgb(237,237,237)\"},\"line\":{\"color\":\"white\"}},\"header\":{\"fill\":{\"color\":\"rgb(217,217,217)\"},\"line\":{\"color\":\"white\"}},\"type\":\"table\"}]},\"layout\":{\"annotationdefaults\":{\"arrowhead\":0,\"arrowwidth\":1},\"autotypenumbers\":\"strict\",\"coloraxis\":{\"colorbar\":{\"outlinewidth\":1,\"tickcolor\":\"rgb(36,36,36)\",\"ticks\":\"outside\"}},\"colorscale\":{\"diverging\":[[0.0,\"rgb(103,0,31)\"],[0.1,\"rgb(178,24,43)\"],[0.2,\"rgb(214,96,77)\"],[0.3,\"rgb(244,165,130)\"],[0.4,\"rgb(253,219,199)\"],[0.5,\"rgb(247,247,247)\"],[0.6,\"rgb(209,229,240)\"],[0.7,\"rgb(146,197,222)\"],[0.8,\"rgb(67,147,195)\"],[0.9,\"rgb(33,102,172)\"],[1.0,\"rgb(5,48,97)\"]],\"sequential\":[[0.0,\"#440154\"],[0.1111111111111111,\"#482878\"],[0.2222222222222222,\"#3e4989\"],[0.3333333333333333,\"#31688e\"],[0.4444444444444444,\"#26828e\"],[0.5555555555555556,\"#1f9e89\"],[0.6666666666666666,\"#35b779\"],[0.7777777777777778,\"#6ece58\"],[0.8888888888888888,\"#b5de2b\"],[1.0,\"#fde725\"]],\"sequentialminus\":[[0.0,\"#440154\"],[0.1111111111111111,\"#482878\"],[0.2222222222222222,\"#3e4989\"],[0.3333333333333333,\"#31688e\"],[0.4444444444444444,\"#26828e\"],[0.5555555555555556,\"#1f9e89\"],[0.6666666666666666,\"#35b779\"],[0.7777777777777778,\"#6ece58\"],[0.8888888888888888,\"#b5de2b\"],[1.0,\"#fde725\"]]},\"colorway\":[\"#1F77B4\",\"#FF7F0E\",\"#2CA02C\",\"#D62728\",\"#9467BD\",\"#8C564B\",\"#E377C2\",\"#7F7F7F\",\"#BCBD22\",\"#17BECF\"],\"font\":{\"color\":\"rgb(36,36,36)\"},\"geo\":{\"bgcolor\":\"white\",\"lakecolor\":\"white\",\"landcolor\":\"white\",\"showlakes\":true,\"showland\":true,\"subunitcolor\":\"white\"},\"hoverlabel\":{\"align\":\"left\"},\"hovermode\":\"closest\",\"mapbox\":{\"style\":\"light\"},\"paper_bgcolor\":\"white\",\"plot_bgcolor\":\"white\",\"polar\":{\"angularaxis\":{\"gridcolor\":\"rgb(232,232,232)\",\"linecolor\":\"rgb(36,36,36)\",\"showgrid\":false,\"showline\":true,\"ticks\":\"outside\"},\"bgcolor\":\"white\",\"radialaxis\":{\"gridcolor\":\"rgb(232,232,232)\",\"linecolor\":\"rgb(36,36,36)\",\"showgrid\":false,\"showline\":true,\"ticks\":\"outside\"}},\"scene\":{\"xaxis\":{\"backgroundcolor\":\"white\",\"gridcolor\":\"rgb(232,232,232)\",\"gridwidth\":2,\"linecolor\":\"rgb(36,36,36)\",\"showbackground\":true,\"showgrid\":false,\"showline\":true,\"ticks\":\"outside\",\"zeroline\":false,\"zerolinecolor\":\"rgb(36,36,36)\"},\"yaxis\":{\"backgroundcolor\":\"white\",\"gridcolor\":\"rgb(232,232,232)\",\"gridwidth\":2,\"linecolor\":\"rgb(36,36,36)\",\"showbackground\":true,\"showgrid\":false,\"showline\":true,\"ticks\":\"outside\",\"zeroline\":false,\"zerolinecolor\":\"rgb(36,36,36)\"},\"zaxis\":{\"backgroundcolor\":\"white\",\"gridcolor\":\"rgb(232,232,232)\",\"gridwidth\":2,\"linecolor\":\"rgb(36,36,36)\",\"showbackground\":true,\"showgrid\":false,\"showline\":true,\"ticks\":\"outside\",\"zeroline\":false,\"zerolinecolor\":\"rgb(36,36,36)\"}},\"shapedefaults\":{\"fillcolor\":\"black\",\"line\":{\"width\":0},\"opacity\":0.3},\"ternary\":{\"aaxis\":{\"gridcolor\":\"rgb(232,232,232)\",\"linecolor\":\"rgb(36,36,36)\",\"showgrid\":false,\"showline\":true,\"ticks\":\"outside\"},\"baxis\":{\"gridcolor\":\"rgb(232,232,232)\",\"linecolor\":\"rgb(36,36,36)\",\"showgrid\":false,\"showline\":true,\"ticks\":\"outside\"},\"bgcolor\":\"white\",\"caxis\":{\"gridcolor\":\"rgb(232,232,232)\",\"linecolor\":\"rgb(36,36,36)\",\"showgrid\":false,\"showline\":true,\"ticks\":\"outside\"}},\"title\":{\"x\":0.05},\"xaxis\":{\"automargin\":true,\"gridcolor\":\"rgb(232,232,232)\",\"linecolor\":\"rgb(36,36,36)\",\"showgrid\":false,\"showline\":true,\"ticks\":\"outside\",\"title\":{\"standoff\":15},\"zeroline\":false,\"zerolinecolor\":\"rgb(36,36,36)\"},\"yaxis\":{\"automargin\":true,\"gridcolor\":\"rgb(232,232,232)\",\"linecolor\":\"rgb(36,36,36)\",\"showgrid\":false,\"showline\":true,\"ticks\":\"outside\",\"title\":{\"standoff\":15},\"zeroline\":false,\"zerolinecolor\":\"rgb(36,36,36)\"}}},\"xaxis\":{\"anchor\":\"y\",\"domain\":[0.0,1.0],\"matches\":\"x2\",\"showticklabels\":false},\"yaxis\":{\"anchor\":\"x\",\"domain\":[0.3,1.0],\"title\":{\"text\":\"Intensity I(q)\"}},\"xaxis2\":{\"anchor\":\"y2\",\"domain\":[0.0,1.0],\"title\":{\"text\":\"q\"}},\"yaxis2\":{\"anchor\":\"x2\",\"domain\":[0.0,0.3],\"title\":{\"text\":\"Residual\"},\"range\":[-0.3710331112003395,0.3710331112003395]},\"font\":{\"size\":18},\"margin\":{\"l\":0,\"r\":0,\"t\":0,\"b\":0}},                        {\"responsive\": true}                    ).then(function(){\n",
       "                            \n",
       "var gd = document.getElementById('430cb00d-a74f-4769-91ca-913d7ad01409');\n",
       "var x = new MutationObserver(function (mutations, observer) {{\n",
       "        var display = window.getComputedStyle(gd).display;\n",
       "        if (!display || display === 'none') {{\n",
       "            console.log([gd, 'removed!']);\n",
       "            Plotly.purge(gd);\n",
       "            observer.disconnect();\n",
       "        }}\n",
       "}});\n",
       "\n",
       "// Listen for the removal of the full notebook cells\n",
       "var notebookContainer = gd.closest('#notebook-container');\n",
       "if (notebookContainer) {{\n",
       "    x.observe(notebookContainer, {childList: true});\n",
       "}}\n",
       "\n",
       "// Listen for the clearing of the current output cell\n",
       "var outputEl = gd.closest('.output');\n",
       "if (outputEl) {{\n",
       "    x.observe(outputEl, {childList: true});\n",
       "}}\n",
       "\n",
       "                        })                };                });            </script>        </div>"
      ]
     },
     "metadata": {},
     "output_type": "display_data"
    }
   ],
   "source": [
    "# <-- Press play to view the initial fit to the scattering\n",
    "\n",
    "initial_test_script_name = CDT.write_initial_saxs_check_sh(working_path,mol_name,1,1,float(maxq))\n",
    "subprocess.call(['sh', initial_test_script_name],stdout=subprocess.DEVNULL,stderr=subprocess.STDOUT)\n",
    "CDT.SAXS_fit_plotter(SAXS_file,working_path+'/tmp/mol1_initial_scatter.dat',False)\n",
    "#os.remove(script_name)\n",
    "#shutil.rmtree(working_path+'/tmp')"
   ]
  },
  {
   "attachments": {},
   "cell_type": "markdown",
   "metadata": {},
   "source": [
    "# Recommending varying sections"
   ]
  },
  {
   "cell_type": "code",
   "execution_count": 10,
   "metadata": {},
   "outputs": [
    {
     "name": "stderr",
     "output_type": "stream",
     "text": [
      "100%|██████████| 13/13 [00:03<00:00,  3.49it/s]\n"
     ]
    }
   ],
   "source": [
    "# Running this cell will build the prediction for sections we think you should vary, view these below\n",
    "allowed_linker, linker_indices = CDT.find_non_varying_linkers(working_path+'/coordinates1.dat',working_path+'/fingerPrint1.dat')\n",
    "ss_len_tensor = [len(i) for i in CDT.get_sses(working_path+'/fingerPrint1.dat')]\n",
    "# Calculate cumulative lengths\n",
    "cumulative_lengths = np.cumsum(ss_len_tensor)\n",
    "\n",
    "# Initialize an empty list to hold the chunked groups\n",
    "chunked_groups = [[] for _ in range(len(cumulative_lengths))]\n",
    "\n",
    "# Group the indices based on the cumulative lengths\n",
    "for index in allowed_linker:\n",
    "    for i, cum_length in enumerate(cumulative_lengths):\n",
    "        if index < cum_length:\n",
    "            chunked_groups[i].append(index)\n",
    "            break"
   ]
  },
  {
   "cell_type": "code",
   "execution_count": 8,
   "metadata": {},
   "outputs": [
    {
     "data": {
      "application/vnd.jupyter.widget-view+json": {
       "model_id": "2c08560230ba402a93e48b648d439a33",
       "version_major": 2,
       "version_minor": 0
      },
      "text/plain": [
       "Dropdown(description='Select which chain to process from the dropdown box ', layout=Layout(height='25px', widt…"
      ]
     },
     "metadata": {},
     "output_type": "display_data"
    }
   ],
   "source": [
    "# <-- Press play to select which chain to process\n",
    "\n",
    "chains_Dropdown = widgets.Dropdown(\n",
    "    options = chains,\n",
    "    value = chains[0],\n",
    "    description = 'Select which chain to process from the dropdown box ',\n",
    "    disabled=False,\n",
    "    layout={'width': '400px','height':'25px'}\n",
    ")\n",
    "chains_Dropdown.style = {'description_width': '350px','description_height': '25px'}\n",
    "\n",
    "def chains_handler(change):\n",
    "    global chain\n",
    "    chain = change.new\n",
    "    with output:\n",
    "        clear_output(wait=True)  # Clear previous output\n",
    "\n",
    "chain = chains[0]\n",
    "chains_Dropdown.observe(chains_handler,names='value')\n",
    "display(chains_Dropdown)\n"
   ]
  },
  {
   "attachments": {},
   "cell_type": "markdown",
   "metadata": {},
   "source": [
    "In the below cell, we highlight the sections we recommend to allow to vary during the run. Using ctrl + click, you can toggle these sections. \n",
    "* If you have changed the selected chain above, make sure to rerun this cell!"
   ]
  },
  {
   "cell_type": "code",
   "execution_count": 11,
   "metadata": {},
   "outputs": [
    {
     "data": {
      "application/vnd.jupyter.widget-view+json": {
       "model_id": "2c130cacc90241bb9ca7da2130559a09",
       "version_major": 2,
       "version_minor": 0
      },
      "text/plain": [
       "SelectMultiple(description='Varying Subsections', index=(1, 2, 3, 11), layout=Layout(height='150px', width='30…"
      ]
     },
     "metadata": {},
     "output_type": "display_data"
    },
    {
     "data": {
      "application/vnd.jupyter.widget-view+json": {
       "model_id": "0738dd9a203e4ca7bdb564c7c8e8b164",
       "version_major": 2,
       "version_minor": 0
      },
      "text/plain": [
       "Output()"
      ]
     },
     "metadata": {},
     "output_type": "display_data"
    }
   ],
   "source": [
    "#<--- Press the play button here to view the recommend varying sections\n",
    "fullPoss = CDT.possibleLinkerList(pdb_file,working_path+'/fingerPrint1.dat',chain)\n",
    "possLinkers = [i[1] for i in fullPoss]\n",
    "if chain==1:\n",
    "    recs = [i[1] for i in fullPoss if i[0] in allowed_linker.astype(str) and CDT.linkerLengthCheck(i[1])]\n",
    "    chunked_groups[chain-1] = [int(i[0]) for i in fullPoss if i[0] in allowed_linker.astype(str) and CDT.linkerLengthCheck(i[1])]\n",
    "    linker_SelectMultiple = widgets.SelectMultiple(\n",
    "    options=possLinkers,\n",
    "    value=recs,\n",
    "    #rows=10,\n",
    "    description='Varying Subsections',\n",
    "    layout={'width': '300px','height':'150px'},\n",
    "    disabled=False\n",
    "    )\n",
    "\n",
    "    def SelectMultiple_handler(change):\n",
    "        global varyingLinkers\n",
    "        varyingLinkers = change.new\n",
    "        with output:\n",
    "            clear_output(wait=True)\n",
    "            selectedLinkers = [int(i[0]) for i in fullPoss if i[1] in varyingLinkers]\n",
    "            chunked_groups[chain-1] = [i for i in selectedLinkers]\n",
    "            CDT.highlightVaryingSections(working_path,pdb_file,selectedLinkers)\n",
    "\n",
    "    linker_SelectMultiple.style = {'description_width': '150px','description_height': '25px'}\n",
    "\n",
    "    # Output widget\n",
    "    output = widgets.Output()\n",
    "    recLinkers = [int(i[0]) for i in fullPoss if i[1] in recs]\n",
    "    with output:\n",
    "        CDT.highlightVaryingSections(working_path,pdb_file,recLinkers)\n",
    "    linker_SelectMultiple.observe(SelectMultiple_handler,names='value')\n",
    "    display(linker_SelectMultiple)\n",
    "    display(output)\n",
    "else:\n",
    "    recs = [i[1] for i in fullPoss if int(i[0])+cumulative_lengths[chain-2] in allowed_linker and CDT.linkerLengthCheck(i[1])]\n",
    "    chunked_groups[chain-1] = [int(i[0])+cumulative_lengths[chain-2] for i in fullPoss if int(i[0])+cumulative_lengths[chain-2] in allowed_linker and CDT.linkerLengthCheck(i[1])]\n",
    "    linker_SelectMultiple = widgets.SelectMultiple(\n",
    "    options=possLinkers,\n",
    "    value=recs,\n",
    "    #rows=10,\n",
    "    description='Varying Subsections',\n",
    "    layout={'width': '300px','height':'150px'},\n",
    "    disabled=False\n",
    "    )\n",
    "\n",
    "    def SelectMultiple_handler(change):\n",
    "        global varyingLinkers\n",
    "        varyingLinkers = change.new\n",
    "        with output:\n",
    "            clear_output(wait=True)\n",
    "            selectedLinkers = [int(i[0]) for i in fullPoss if i[1] in varyingLinkers]\n",
    "            chunked_groups[chain-1] = [i+cumulative_lengths[chain-2] for i in selectedLinkers]\n",
    "            CDT.highlightVaryingSections(working_path,pdb_file,selectedLinkers)\n",
    "\n",
    "    linker_SelectMultiple.style = {'description_width': '150px','description_height': '25px'}\n",
    "\n",
    "    # Output widget\n",
    "    output = widgets.Output()\n",
    "    recLinkers = [int(i[0]) for i in fullPoss if i[1] in recs]\n",
    "    with output:\n",
    "        CDT.highlightVaryingSections(working_path,pdb_file,recLinkers)\n",
    "    linker_SelectMultiple.observe(SelectMultiple_handler,names='value')\n",
    "    display(linker_SelectMultiple)\n",
    "    display(output)\n",
    "\n"
   ]
  },
  {
   "attachments": {},
   "cell_type": "markdown",
   "metadata": {},
   "source": [
    "Once you have selected the varying sections for <b>all</b> chains in your molecule, run the below cell and click the button to confirm."
   ]
  },
  {
   "cell_type": "code",
   "execution_count": 12,
   "metadata": {},
   "outputs": [
    {
     "data": {
      "application/vnd.jupyter.widget-view+json": {
       "model_id": "24053fd866e1403586519b30a8bc87f1",
       "version_major": 2,
       "version_minor": 0
      },
      "text/plain": [
       "Button(button_style='success', description='Confirm varying sections', icon='check', layout=Layout(width='28ch…"
      ]
     },
     "metadata": {},
     "output_type": "display_data"
    },
    {
     "data": {
      "application/vnd.jupyter.widget-view+json": {
       "model_id": "8d6201d3495a440ab577a3a492223243",
       "version_major": 2,
       "version_minor": 0
      },
      "text/plain": [
       "Output()"
      ]
     },
     "metadata": {},
     "output_type": "display_data"
    },
    {
     "name": "stdout",
     "output_type": "stream",
     "text": [
      "Varying sections confirmed.\n"
     ]
    }
   ],
   "source": [
    "# <-- Run this cell to confirm you are happy with your selected varying sections\n",
    "varSec_text = 'Confirm varying sections'\n",
    "\n",
    "varSec_button = widgets.Button(\n",
    "    description='Confirm varying sections',\n",
    "    disabled=False,\n",
    "    button_style='success', # 'success', 'info', 'warning', 'danger' or ''\n",
    "    tooltip='Confirm varying sections',\n",
    "    layout=widgets.Layout(width=f'{len(varSec_text) + 4}ch'), \n",
    "    icon='check' # (FontAwesome names without the `fa-` prefix)\n",
    ")\n",
    "output = widgets.Output()\n",
    "varSec_button.style = {'description_width': '300px','description_height': '25px'}\n",
    "\n",
    "def on_varSec_button_clicked(b):\n",
    "    print(\"Varying sections confirmed.\")\n",
    "    with output:\n",
    "        clear_output(wait=True)\n",
    "        flattened = [item for sublist in chunked_groups for item in sublist]\n",
    "        CDT.write_varysections_file(flattened,working_path)\n",
    "        \n",
    "        \n",
    "        \n",
    "varSec_button.on_click(on_varSec_button_clicked)\n",
    "display(varSec_button)\n",
    "display(output)"
   ]
  },
  {
   "attachments": {},
   "cell_type": "markdown",
   "metadata": {},
   "source": [
    "# Distance constraints"
   ]
  },
  {
   "cell_type": "code",
   "execution_count": 13,
   "metadata": {},
   "outputs": [
    {
     "data": {
      "application/vnd.jupyter.widget-view+json": {
       "model_id": "2ba6d7d78d7c4fdcaa9fc5fabb7fdea8",
       "version_major": 2,
       "version_minor": 0
      },
      "text/plain": [
       "Text(value='', description='From resID:', placeholder=' ', style=TextStyle(description_width='150px'))"
      ]
     },
     "metadata": {},
     "output_type": "display_data"
    },
    {
     "data": {
      "application/vnd.jupyter.widget-view+json": {
       "model_id": "fdee0e7e7019451fbdd5c3e71b85e897",
       "version_major": 2,
       "version_minor": 0
      },
      "text/plain": [
       "Text(value='', description='To resID:', placeholder=' ', style=TextStyle(description_width='150px'))"
      ]
     },
     "metadata": {},
     "output_type": "display_data"
    },
    {
     "data": {
      "application/vnd.jupyter.widget-view+json": {
       "model_id": "bb4ddacfc7be4383b924600ea09e988c",
       "version_major": 2,
       "version_minor": 0
      },
      "text/plain": [
       "Text(value='', description='Distance (Angstroms):', placeholder=' ', style=TextStyle(description_width='150px'…"
      ]
     },
     "metadata": {},
     "output_type": "display_data"
    },
    {
     "data": {
      "application/vnd.jupyter.widget-view+json": {
       "model_id": "f0594533899f420ab8ca0a2cb4f1e740",
       "version_major": 2,
       "version_minor": 0
      },
      "text/plain": [
       "Button(button_style='success', description='Add distance constraint', icon='check', layout=Layout(width='27ch'…"
      ]
     },
     "metadata": {},
     "output_type": "display_data"
    },
    {
     "data": {
      "application/vnd.jupyter.widget-view+json": {
       "model_id": "d8ed3cab55fa4218a8b98cfb2d5768ed",
       "version_major": 2,
       "version_minor": 0
      },
      "text/plain": [
       "Output()"
      ]
     },
     "metadata": {},
     "output_type": "display_data"
    },
    {
     "data": {
      "application/vnd.jupyter.widget-view+json": {
       "model_id": "c45f8815a16648bda378df1e9b252d61",
       "version_major": 2,
       "version_minor": 0
      },
      "text/plain": [
       "Button(button_style='info', description='Check distance constraints', icon='check', layout=Layout(width='30ch'…"
      ]
     },
     "metadata": {},
     "output_type": "display_data"
    },
    {
     "data": {
      "application/vnd.jupyter.widget-view+json": {
       "model_id": "d8ed3cab55fa4218a8b98cfb2d5768ed",
       "version_major": 2,
       "version_minor": 0
      },
      "text/plain": [
       "Output()"
      ]
     },
     "metadata": {},
     "output_type": "display_data"
    },
    {
     "data": {
      "application/vnd.jupyter.widget-view+json": {
       "model_id": "667dc11b5881495892810c4e8c8f4557",
       "version_major": 2,
       "version_minor": 0
      },
      "text/plain": [
       "Button(button_style='danger', description='Reset distance constraints', icon='check', layout=Layout(width='30c…"
      ]
     },
     "metadata": {},
     "output_type": "display_data"
    },
    {
     "data": {
      "application/vnd.jupyter.widget-view+json": {
       "model_id": "d8ed3cab55fa4218a8b98cfb2d5768ed",
       "version_major": 2,
       "version_minor": 0
      },
      "text/plain": [
       "Output()"
      ]
     },
     "metadata": {},
     "output_type": "display_data"
    },
    {
     "name": "stdout",
     "output_type": "stream",
     "text": [
      "Once you have added all your distance constraints, confirm below\n"
     ]
    },
    {
     "data": {
      "application/vnd.jupyter.widget-view+json": {
       "model_id": "6cf4dcef71494700881dcf12ce821f42",
       "version_major": 2,
       "version_minor": 0
      },
      "text/plain": [
       "Button(button_style='success', description='Confirm distance constraints', icon='check', layout=Layout(width='…"
      ]
     },
     "metadata": {},
     "output_type": "display_data"
    },
    {
     "data": {
      "application/vnd.jupyter.widget-view+json": {
       "model_id": "d8ed3cab55fa4218a8b98cfb2d5768ed",
       "version_major": 2,
       "version_minor": 0
      },
      "text/plain": [
       "Output()"
      ]
     },
     "metadata": {},
     "output_type": "display_data"
    }
   ],
   "source": [
    "# <-- Run this cell to add distance constraints\n",
    "\n",
    "resA_text = widgets.Text(\n",
    "    value='',\n",
    "    placeholder=' ',\n",
    "    description='From resID:',\n",
    "    disabled=False   \n",
    ")\n",
    "\n",
    "resB_text = widgets.Text(\n",
    "    value='',\n",
    "    placeholder=' ',\n",
    "    description='To resID:',\n",
    "    disabled=False   \n",
    ")\n",
    "\n",
    "dist_text = widgets.Text(\n",
    "    value='',\n",
    "    placeholder=' ',\n",
    "    description=\"Distance (Angstroms):\",\n",
    "    disabled=False   \n",
    ")\n",
    "\n",
    "resA_text.style = {'description_width': '150px','description_height': '25px'}\n",
    "resB_text.style = {'description_width': '150px','description_height': '25px'}\n",
    "dist_text.style = {'description_width': '150px','description_height': '25px'}\n",
    "\n",
    "contactPreds = []\n",
    "fixedDistSet=[]\n",
    "\n",
    "def resA_handler(change):\n",
    "    global resA\n",
    "    resA = change.new\n",
    "    with output:\n",
    "        clear_output(wait=True)\n",
    "\n",
    "def resB_handler(change):\n",
    "    global resB\n",
    "    resB = change.new\n",
    "    with output:\n",
    "        clear_output(wait=True)\n",
    "\n",
    "def dist_handler(change):\n",
    "    global dist\n",
    "    dist = change.new\n",
    "    with output:\n",
    "        clear_output(wait=True)\n",
    "\n",
    "resA = ''\n",
    "resB = ''\n",
    "dist = ''\n",
    "\n",
    "output = widgets.Output()\n",
    "\n",
    "resA_text.observe(resA_handler,names='value')\n",
    "resB_text.observe(resB_handler,names='value')\n",
    "dist_text.observe(dist_handler,names='value')\n",
    "display(resA_text)\n",
    "display(resB_text)\n",
    "display(dist_text)\n",
    "### Add distance constraint button\n",
    "distCons_text = 'Add distance constraint'\n",
    "distCons_button = widgets.Button(\n",
    "    description=distCons_text,\n",
    "    disabled=False,\n",
    "    button_style='success', # 'success', 'info', 'warning', 'danger' or ''\n",
    "    tooltip=distCons_text,\n",
    "    layout=widgets.Layout(width=f'{len(distCons_text) + 4}ch'), \n",
    "    icon='check' # (FontAwesome names without the `fa-` prefix)\n",
    ")\n",
    "\n",
    "distCons_button.style = {'description_width': '300px','description_height': '25px'}\n",
    "\n",
    "def on_distCons_button_clicked(b):\n",
    "    with output:\n",
    "        print('Distance constraint added')\n",
    "        clear_output(wait=True)\n",
    "        try:\n",
    "            contactPreds.append([int(resA),int(resB)])\n",
    "            fixedDistSet.append(float(dist))\n",
    "        except:\n",
    "            print(\"Make sure you've specified resIDs and a distance in the right format\")\n",
    "\n",
    "### Check distance constraint button\n",
    "\n",
    "check_distCons_text = 'Check distance constraints'\n",
    "check_distCons_button = widgets.Button(\n",
    "    description=check_distCons_text,\n",
    "    disabled=False,\n",
    "    button_style='info', # 'success', 'info', 'warning', 'danger' or ''\n",
    "    tooltip=check_distCons_text,\n",
    "    layout=widgets.Layout(width=f'{len(check_distCons_text) + 4}ch'), \n",
    "    icon='check' # (FontAwesome names without the `fa-` prefix)\n",
    ")\n",
    "\n",
    "check_distCons_button.style = {'description_width': '300px','description_height': '25px'}\n",
    "\n",
    "def check_distCons_button_clicked(b):\n",
    "    with output:\n",
    "        clear_output(wait=True)\n",
    "        print(\"Distance constraints are: \")\n",
    "        print(contactPreds)\n",
    "        print(fixedDistSet)\n",
    "\n",
    "### Reset distance constraint button\n",
    "\n",
    "reset_distCons_text = 'Reset distance constraints'\n",
    "reset_distCons_button = widgets.Button(\n",
    "    description=reset_distCons_text,\n",
    "    disabled=False,\n",
    "    button_style='danger', # 'success', 'info', 'warning', 'danger' or ''\n",
    "    tooltip=reset_distCons_text,\n",
    "    layout=widgets.Layout(width=f'{len(reset_distCons_text) + 4}ch'), \n",
    "    icon='check' # (FontAwesome names without the `fa-` prefix)\n",
    ")\n",
    "\n",
    "reset_distCons_button.style = {'description_width': '300px','description_height': '25px'}\n",
    "\n",
    "def reset_distCons_button_clicked(b):\n",
    "    print(\"Distance constraints reset.\")\n",
    "    global contactPreds\n",
    "    global fixedDistSet\n",
    "    with output:\n",
    "        clear_output(wait=True)\n",
    "        contactPreds = []\n",
    "        fixedDistSet=[]\n",
    "               \n",
    "### Confirm distance constraint button   \n",
    "\n",
    "confirm_distCons_text = 'Confirm distance constraints'\n",
    "confirm_distCons_button = widgets.Button(\n",
    "    description=confirm_distCons_text,\n",
    "    disabled=False,\n",
    "    button_style='success', # 'success', 'info', 'warning', 'danger' or ''\n",
    "    tooltip=confirm_distCons_text,\n",
    "    layout=widgets.Layout(width=f'{len(confirm_distCons_text) + 4}ch'), \n",
    "    icon='check' # (FontAwesome names without the `fa-` prefix)\n",
    ")\n",
    "\n",
    "confirm_distCons_button.style = {'description_width': '300px','description_height': '25px'}\n",
    "\n",
    "def confirm_distCons_button_clicked(b):\n",
    "    print(\"Distance constraints confirmed.\")\n",
    "    with output:\n",
    "        clear_output(wait=True)\n",
    "        CDT.translate_distance_constraints(contactPreds,coords_chains[chain-1],working_path,fixedDistSet)\n",
    "        \n",
    "### Set on click actions               \n",
    "distCons_button.on_click(on_distCons_button_clicked)\n",
    "check_distCons_button.on_click(check_distCons_button_clicked)\n",
    "reset_distCons_button.on_click(reset_distCons_button_clicked)   \n",
    "confirm_distCons_button.on_click(confirm_distCons_button_clicked)\n",
    "\n",
    "### Display all\n",
    "display(distCons_button)\n",
    "display(output)\n",
    "display(check_distCons_button)\n",
    "display(output)\n",
    "display(reset_distCons_button)\n",
    "display(output)\n",
    "print('Once you have added all your distance constraints, confirm below')\n",
    "display(confirm_distCons_button)\n",
    "display(output)"
   ]
  },
  {
   "attachments": {},
   "cell_type": "markdown",
   "metadata": {},
   "source": [
    "# Write the sh file"
   ]
  },
  {
   "cell_type": "code",
   "execution_count": 14,
   "metadata": {},
   "outputs": [
    {
     "name": "stdout",
     "output_type": "stream",
     "text": [
      "RunMe_EasyExample_testrun.sh\n"
     ]
    }
   ],
   "source": [
    "# <-- Press play to write your sh file\n",
    "\n",
    "run_sh_file = CDT.write_run_sh_file(working_path,mol_name,'testrun',1,minq,maxq,20,10,pairedQ=True)\n",
    "os.remove(initial_test_script_name)\n",
    "shutil.rmtree(working_path+'/tmp')\n",
    "print(run_sh_file)"
   ]
  },
  {
   "attachments": {},
   "cell_type": "markdown",
   "metadata": {},
   "source": [
    "Unfortunately you now need to head to the terminal to set off your run!\n",
    "* First, navigate to the carbonara directory\n",
    "* Enter _sh_ followed by the script name printed above and hit enter."
   ]
  }
 ],
 "metadata": {
  "kernelspec": {
   "display_name": "Python 3 (ipykernel)",
   "language": "python",
   "name": "python3"
  },
  "language_info": {
   "codemirror_mode": {
    "name": "ipython",
    "version": 3
   },
   "file_extension": ".py",
   "mimetype": "text/x-python",
   "name": "python",
   "nbconvert_exporter": "python",
   "pygments_lexer": "ipython3",
   "version": "3.11.8"
  }
 },
 "nbformat": 4,
 "nbformat_minor": 2
}
