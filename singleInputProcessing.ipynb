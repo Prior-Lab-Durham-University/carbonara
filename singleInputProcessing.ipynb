{
 "cells": [
  {
   "cell_type": "markdown",
   "metadata": {},
   "source": [
    "### Essential\n",
    "* PDB File\n",
    "* SAXS File\n",
    "    \n",
    "### Optional\n",
    "* Distance Constraints\n",
    "* Rotations"
   ]
  },
  {
   "cell_type": "markdown",
   "metadata": {
    "hide_input": true
   },
   "source": [
    "Import Carbonara's Data Tools by running the below cell (_ctrl+enter_)"
   ]
  },
  {
   "cell_type": "code",
   "execution_count": 1,
   "metadata": {
    "hide_input": true,
    "vscode": {
     "languageId": "python"
    }
   },
   "outputs": [],
   "source": [
    "# <-- Imports\n",
    "import CarbonaraDataTools as CDT\n",
    "import ipywidgets as widgets\n",
    "from IPython.display import display, clear_output\n",
    "import plotly.io as pio\n",
    "pio.renderers.default='notebook'\n",
    "import numpy as np\n",
    "import os, subprocess, shutil\n",
    "import traitlets\n",
    "from tkinter import Tk, filedialog"
   ]
  },
  {
   "cell_type": "markdown",
   "metadata": {},
   "source": [
    "1) Enter the location of your PDB file below"
   ]
  },
  {
   "cell_type": "code",
   "execution_count": 2,
   "metadata": {
    "hide_input": true,
    "scrolled": true,
    "vscode": {
     "languageId": "python"
    }
   },
   "outputs": [
    {
     "data": {
      "application/vnd.jupyter.widget-view+json": {
       "model_id": "6b84615af642469a9074eb016d567d6e",
       "version_major": 2,
       "version_minor": 0
      },
      "text/plain": [
       "SelectPDBFileButton(description='Select PDB File', icon='square-o', style=ButtonStyle(button_color='orange'))"
      ]
     },
     "execution_count": 2,
     "metadata": {},
     "output_type": "execute_result"
    }
   ],
   "source": [
    "class SelectPDBFileButton(widgets.Button):\n",
    "    \"\"\"A file widget that leverages tkinter.filedialog.\"\"\"\n",
    "\n",
    "    def __init__(self):\n",
    "        super(SelectPDBFileButton, self).__init__()\n",
    "        # Add the selected_files trait\n",
    "        self.add_traits(files=traitlets.traitlets.List())\n",
    "        # Create the button.\n",
    "        self.description = \"Select PDB File\"\n",
    "        self.icon = \"square-o\"\n",
    "        self.style.button_color = \"orange\"\n",
    "        # Set on click behavior.\n",
    "        self.on_click(self.select_files)\n",
    "\n",
    "    @staticmethod\n",
    "    def select_files(b):\n",
    "        \"\"\"Generate instance of tkinter.filedialog.\n",
    "\n",
    "        Parameters\n",
    "        ----------\n",
    "        b : obj:\n",
    "            An instance of ipywidgets.widgets.Button \n",
    "        \"\"\"\n",
    "        # Create Tk root\n",
    "        root = Tk()\n",
    "        # Hide the main window\n",
    "        root.withdraw()\n",
    "        # Raise the root to the top of all windows.\n",
    "        root.call('wm', 'attributes', '.', '-topmost', True)\n",
    "        # List of selected fileswill be set to b.value\n",
    "        b.files = filedialog.askopenfilename(multiple=False)\n",
    "\n",
    "        b.description = \"Files Selected\"\n",
    "        b.icon = \"check-square-o\"\n",
    "        b.style.button_color = \"lightgreen\"\n",
    "        \n",
    "PDBbutton = SelectPDBFileButton()\n",
    "PDBbutton"
   ]
  },
  {
   "cell_type": "markdown",
   "metadata": {},
   "source": [
    "Run cell below to confirm file"
   ]
  },
  {
   "cell_type": "code",
   "execution_count": null,
   "metadata": {
    "hide_input": true
   },
   "outputs": [],
   "source": [
    "pdb_file=PDBbutton.files[0]\n",
    "pdb_file"
   ]
  },
  {
   "cell_type": "markdown",
   "metadata": {},
   "source": [
    "2. Enter the location of your corresponding SAXS data file below"
   ]
  },
  {
   "cell_type": "code",
   "execution_count": null,
   "metadata": {
    "hide_input": true,
    "jupyter": {
     "source_hidden": true
    },
    "vscode": {
     "languageId": "python"
    }
   },
   "outputs": [],
   "source": [
    "class SelectSAXSFileButton(widgets.Button):\n",
    "    \"\"\"A file widget that leverages tkinter.filedialog.\"\"\"\n",
    "\n",
    "    def __init__(self):\n",
    "        super(SelectSAXSFileButton, self).__init__()\n",
    "        # Add the selected_files trait\n",
    "        self.add_traits(files=traitlets.traitlets.List())\n",
    "        # Create the button.\n",
    "        self.description = \"Select SAXS File\"\n",
    "        self.icon = \"square-o\"\n",
    "        self.style.button_color = \"orange\"\n",
    "        # Set on click behavior.\n",
    "        self.on_click(self.select_files)\n",
    "\n",
    "    @staticmethod\n",
    "    def select_files(b):\n",
    "        \"\"\"Generate instance of tkinter.filedialog.\n",
    "\n",
    "        Parameters\n",
    "        ----------\n",
    "        b : obj:\n",
    "            An instance of ipywidgets.widgets.Button \n",
    "        \"\"\"\n",
    "        # Create Tk root\n",
    "        root = Tk()\n",
    "        # Hide the main window\n",
    "        root.withdraw()\n",
    "        # Raise the root to the top of all windows.\n",
    "        root.call('wm', 'attributes', '.', '-topmost', True)\n",
    "        # List of selected fileswill be set to b.value\n",
    "        b.files = filedialog.askopenfilename(multiple=False)\n",
    "\n",
    "        b.description = \"Files Selected\"\n",
    "        b.icon = \"check-square-o\"\n",
    "        b.style.button_color = \"lightgreen\"\n",
    "        \n",
    "SAXSbutton = SelectSAXSFileButton()\n",
    "SAXSbutton"
   ]
  },
  {
   "cell_type": "markdown",
   "metadata": {},
   "source": [
    "Run the cell below to confirm SAXS file"
   ]
  },
  {
   "cell_type": "code",
   "execution_count": null,
   "metadata": {
    "hide_input": true
   },
   "outputs": [],
   "source": [
    "SAXS_file = SAXSbutton.files[0]\n",
    "SAXS_file"
   ]
  },
  {
   "cell_type": "markdown",
   "metadata": {
    "hide_input": true
   },
   "source": [
    "3. Enter a name for your prediction below (the name of your protein should work!)"
   ]
  },
  {
   "cell_type": "code",
   "execution_count": null,
   "metadata": {
    "hide_input": true,
    "jupyter": {
     "source_hidden": true
    },
    "vscode": {
     "languageId": "python"
    }
   },
   "outputs": [],
   "source": [
    "# <-- Run this cell to enter a name for your prediction\n",
    "molName_text = widgets.Text(\n",
    "    value='Lysozyme',\n",
    "    placeholder='Enter a name for your prediction:',\n",
    "    description='Enter a name for your prediction:',\n",
    "    disabled=False,\n",
    "    layout={'width': '550px','height':'50px'},   \n",
    ")\n",
    "\n",
    "molName_text.style = {'description_width': '200px','description_height': '25px'}\n",
    "\n",
    "def molName_handler(change):\n",
    "    global mol_name\n",
    "    mol_name = change.new\n",
    "    with output:\n",
    "        clear_output(wait=True)\n",
    "\n",
    "mol_name = 'Lysozyme'\n",
    "molName_text.observe(molName_handler,names='value')\n",
    "display(molName_text)"
   ]
  },
  {
   "cell_type": "markdown",
   "metadata": {},
   "source": [
    "4. Select the output directory\n",
    "* newFitData will be created as a child directory, outputs will go in here"
   ]
  },
  {
   "cell_type": "code",
   "execution_count": null,
   "metadata": {
    "hide_input": false
   },
   "outputs": [],
   "source": [
    "class SelectOutputDirButton(widgets.Button):\n",
    "    \"\"\"A file widget that leverages tkinter.filedialog.\"\"\"\n",
    "\n",
    "    def __init__(self):\n",
    "        super(SelectOutputDirButton, self).__init__()\n",
    "        # Add the selected_files trait\n",
    "        self.add_traits(files=traitlets.traitlets.List())\n",
    "        # Create the button.\n",
    "        self.description = \"Select Output Dir\"\n",
    "        self.icon = \"square-o\"\n",
    "        self.style.button_color = \"orange\"\n",
    "        # Set on click behavior.\n",
    "        self.on_click(self.select_files)\n",
    "\n",
    "    @staticmethod\n",
    "    def select_files(b):\n",
    "        \"\"\"Generate instance of tkinter.filedialog.\n",
    "\n",
    "        Parameters\n",
    "        ----------\n",
    "        b : obj:\n",
    "            An instance of ipywidgets.widgets.Button \n",
    "        \"\"\"\n",
    "        # Create Tk root\n",
    "        root = Tk()\n",
    "        # Hide the main window\n",
    "        root.withdraw()\n",
    "        # Raise the root to the top of all windows.\n",
    "        root.call('wm', 'attributes', '.', '-topmost', True)\n",
    "        # List of selected fileswill be set to b.value\n",
    "        b.files = filedialog.askdirectory()\n",
    "\n",
    "        b.description = \"Files Selected\"\n",
    "        b.icon = \"check-square-o\"\n",
    "        b.style.button_color = \"lightgreen\"\n",
    "        \n",
    "OutDirbutton = SelectOutputDirButton()\n",
    "OutDirbutton"
   ]
  },
  {
   "cell_type": "markdown",
   "metadata": {},
   "source": [
    "Run the cell below to confirm file locations"
   ]
  },
  {
   "cell_type": "code",
   "execution_count": null,
   "metadata": {
    "hide_input": true,
    "jupyter": {
     "source_hidden": true
    },
    "vscode": {
     "languageId": "python"
    }
   },
   "outputs": [],
   "source": [
    "# <-- Run this cell and click the button to confirm file locations\n",
    "\n",
    "working_path = OutDirbutton.files[0]+'/newFitData'\n",
    "confirm_filelocs_text = 'Confirm file locations'\n",
    "\n",
    "confirm_filelocs_button = widgets.Button(\n",
    "    description=confirm_filelocs_text,\n",
    "    disabled=False,\n",
    "    button_style='success', # 'success', 'info', 'warning', 'danger' or ''\n",
    "    tooltip=confirm_filelocs_text,\n",
    "    layout=widgets.Layout(width=f'{len(confirm_filelocs_text) + 4}ch'), \n",
    "    icon='check' # (FontAwesome names without the `fa-` prefix)\n",
    ")\n",
    "output = widgets.Output()\n",
    "confirm_filelocs_button.style = {'description_width': '300px','description_height': '25px'}\n",
    "\n",
    "def confirm_filelocs_button_clicked(b):\n",
    "    global working_path\n",
    "    working_path = OutDirbutton.files[0]+'/newFitData'\n",
    "    if not os.path.isdir(working_path):\n",
    "        os.makedirs(working_path)\n",
    "    with output:\n",
    "        clear_output(wait=True)\n",
    "        print('Working path is:',working_path)\n",
    "        print(\"File locations confirmed.\")     \n",
    "\n",
    "\n",
    "confirm_filelocs_button.on_click(confirm_filelocs_button_clicked)\n",
    "display(confirm_filelocs_button)\n",
    "display(output)"
   ]
  },
  {
   "cell_type": "markdown",
   "metadata": {},
   "source": [
    "5. Check how many chains are in your PDB file. (Make sure you've confirmed your file locations above)"
   ]
  },
  {
   "cell_type": "code",
   "execution_count": null,
   "metadata": {
    "hide_input": true,
    "jupyter": {
     "source_hidden": true
    },
    "vscode": {
     "languageId": "python"
    }
   },
   "outputs": [],
   "source": [
    "# <-- Run this cell to check for any breaks in your backbone\n",
    "\n",
    "coords_chains_in, sequence_chains_in, secondary_structure_chains_in, missing_residues_chains_in = CDT.pull_structure_from_pdb(pdb_file)\n",
    "for j in range(len(coords_chains_in)):\n",
    "    breaking_indices = CDT.missing_ca_check(coords_chains_in[j])\n",
    "    if len(breaking_indices) > 0:\n",
    "        chains = [i+1 for i in range(len(breaking_indices)+1)]\n",
    "        print(\"We think your PDB file has\", len(breaking_indices)+1, 'chains')\n",
    "        coords_chains_in[j], sequence_chains_in[j] = CDT.break_into_chains(coords_chains_in[j],sequence_chains_in[j],breaking_indices)\n",
    "\n",
    "coords_chains,sequence_chains = [],[]\n",
    "for i in range(len(coords_chains_in)):\n",
    "    if isinstance(coords_chains_in[i],list):\n",
    "        for j in range(len(coords_chains_in[i])):\n",
    "            coords_chains.append(coords_chains_in[i][j])\n",
    "            sequence_chains.append(sequence_chains_in[i][j])\n",
    "    else:\n",
    "        coords_chains.append(coords_chains_in[i])\n",
    "        sequence_chains.append(sequence_chains_in[i])\n",
    "\n",
    "coords=[]\n",
    "for i in range(len(coords_chains)):\n",
    "    for j in range(len(coords_chains[i])):\n",
    "        coords.append(coords_chains[i][j])\n",
    "coords = np.array(coords)\n",
    "\n",
    "# use kappa tau method to identify secondary structure\n",
    "secondarysplit= [CDT.findSimilar(CDT.getKapTauList(coords_chains[i]),0.2) for i in range(len(coords_chains))]\n",
    "# Writes all the coords, fingerprint, mixture & SAXS in Carbonara's expected input / file struct\n",
    "CDT.write_fingerprint_file(len(coords_chains), sequence_chains, secondarysplit, working_path)    \n",
    "CDT.write_coordinates_file(coords,working_path)\n",
    "CDT.write_mixture_file(working_path)\n",
    "CDT.write_saxs(SAXS_file, working_path)\n",
    "chains = [i+1 for i in range(len(coords_chains))]\n",
    "varyingSection_tensor = [[] for i in range(len(breaking_indices)+1)]"
   ]
  },
  {
   "cell_type": "markdown",
   "metadata": {},
   "source": [
    "6. Select the range of _q_ you'd like to fit to in this run."
   ]
  },
  {
   "cell_type": "code",
   "execution_count": null,
   "metadata": {
    "hide_input": true,
    "jupyter": {
     "source_hidden": true
    },
    "vscode": {
     "languageId": "python"
    }
   },
   "outputs": [],
   "source": [
    "# <-- Run this cell to enter your desired q range for the fit\n",
    "\n",
    "minq_text = widgets.Text(\n",
    "    value=str(round(np.genfromtxt(working_path+'/Saxs.dat')[:,0].min(),2)\n",
    "),\n",
    "    placeholder='Enter your min q:',\n",
    "    description='Enter your min q:',\n",
    "    disabled=False,\n",
    "    layout={'width': '250px','height':'50px'},   \n",
    ")\n",
    "\n",
    "minq_text.style = {'description_width': '150px','description_height': '25px'}\n",
    "\n",
    "def minq_handler(change):\n",
    "    global minq\n",
    "    minq = change.new\n",
    "    with output:\n",
    "        clear_output(wait=True)\n",
    "\n",
    "minq = round(np.genfromtxt(working_path+'/Saxs.dat')[:,0].min(),2)\n",
    "\n",
    "# Output widget\n",
    "output = widgets.Output()\n",
    "minq_text.observe(minq_handler,names='value')\n",
    "display(minq_text)\n",
    "\n",
    "startq_text = widgets.Text(\n",
    "    value='0.15',\n",
    "    placeholder='Enter your starting q max:',\n",
    "    description='Enter your starting q max:',\n",
    "    disabled=False,\n",
    "    layout={'width': '250px','height':'50px'},   \n",
    ")\n",
    "\n",
    "startq_text.style = {'description_width': '150px','description_height': '25px'}\n",
    "\n",
    "def startq_handler(change):\n",
    "    global startq\n",
    "    startq = change.new\n",
    "    with output:\n",
    "        clear_output(wait=True)\n",
    "\n",
    "startq = '0.15'\n",
    "# Output widget\n",
    "output = widgets.Output()\n",
    "startq_text.observe(startq_handler,names='value')\n",
    "display(startq_text)\n",
    "\n",
    "maxq = round(np.genfromtxt(working_path+'/Saxs.dat')[:,0].max(),2)\n",
    "\n",
    "maxq_text = widgets.Text(\n",
    "    value=str(round(np.genfromtxt(working_path+'/Saxs.dat')[:,0].max(),2)),\n",
    "    placeholder='Enter your max q:',\n",
    "    description='Enter your max q:',\n",
    "    disabled=False,\n",
    "    layout={'width': '250px','height':'50px'},   \n",
    ")\n",
    "\n",
    "maxq_text.style = {'description_width': '150px','description_height': '25px'}\n",
    "\n",
    "def maxq_handler(change):\n",
    "    global maxq\n",
    "    maxq = change.new\n",
    "    with output:\n",
    "        clear_output(wait=True)\n",
    "\n",
    "# Output widget\n",
    "output = widgets.Output()\n",
    "maxq_text.observe(maxq_handler,names='value')\n",
    "display(maxq_text)"
   ]
  },
  {
   "cell_type": "markdown",
   "metadata": {},
   "source": [
    "7. View the initial fit to the SAXS data for this _q_ range. If you change q<sub>max</sub> above, rerun this cell to update the fit"
   ]
  },
  {
   "cell_type": "code",
   "execution_count": null,
   "metadata": {
    "hide_input": true,
    "jupyter": {
     "source_hidden": true
    },
    "vscode": {
     "languageId": "python"
    }
   },
   "outputs": [],
   "source": [
    "# <-- Run this cell to view the initial fit to the scattering\n",
    "\n",
    "initial_test_script_name = CDT.write_initial_saxs_check_sh(working_path,mol_name,1,1,float(startq))\n",
    "subprocess.call(['sh', initial_test_script_name],stdout=subprocess.DEVNULL,stderr=subprocess.STDOUT)\n",
    "CDT.SAXS_fit_plotter(working_path+'/Saxs.dat',working_path+'/tmp/mol1_initial_scatter.dat',False)"
   ]
  },
  {
   "cell_type": "markdown",
   "metadata": {},
   "source": [
    "8. Let us predict which subsections to change during the prediction."
   ]
  },
  {
   "cell_type": "code",
   "execution_count": null,
   "metadata": {
    "hide_input": true,
    "jupyter": {
     "source_hidden": true
    },
    "vscode": {
     "languageId": "python"
    }
   },
   "outputs": [],
   "source": [
    "# Run this cell to predict the subsections we think you should vary\n",
    "allowed_linker, linker_indices = CDT.find_non_varying_linkers(working_path+'/coordinates1.dat',working_path+'/fingerPrint1.dat')\n",
    "ss_len_tensor = [len(i) for i in CDT.get_sses(working_path+'/fingerPrint1.dat')]\n",
    "# Calculate cumulative lengths\n",
    "cumulative_lengths = np.cumsum(ss_len_tensor)\n",
    "\n",
    "# Initialize an empty list to hold the chunked groups\n",
    "chunked_groups = [[] for _ in range(len(cumulative_lengths))]\n",
    "\n",
    "# Group the indices based on the cumulative lengths\n",
    "for index in allowed_linker:\n",
    "    for i, cum_length in enumerate(cumulative_lengths):\n",
    "        if index < cum_length:\n",
    "            chunked_groups[i].append(index)\n",
    "            break"
   ]
  },
  {
   "cell_type": "markdown",
   "metadata": {},
   "source": [
    "9. View the recommended varying subsections and change them if you'd like. \n",
    "* If you select a different chain from the dropdown, you'll need to rerun the viewer cell.\n",
    "* Use _ctrl + click_ to select multiple different subsections\n",
    "* To reset to our predicted subsections, simply rerun the cell."
   ]
  },
  {
   "cell_type": "code",
   "execution_count": null,
   "metadata": {
    "hide_input": true,
    "jupyter": {
     "source_hidden": true
    },
    "vscode": {
     "languageId": "python"
    }
   },
   "outputs": [],
   "source": [
    "# <-- Run this cell to select which chain to process\n",
    "\n",
    "chains_Dropdown = widgets.Dropdown(\n",
    "    options = chains,\n",
    "    value = chains[0],\n",
    "    description = 'Select which chain to process from the dropdown box ',\n",
    "    disabled=False,\n",
    "    layout={'width': '400px','height':'25px'}\n",
    ")\n",
    "chains_Dropdown.style = {'description_width': '350px','description_height': '25px'}\n",
    "\n",
    "def chains_handler(change):\n",
    "    global chain\n",
    "    chain = change.new\n",
    "    with output:\n",
    "        clear_output(wait=True)  # Clear previous output\n",
    "\n",
    "chain = chains[0]\n",
    "chains_Dropdown.observe(chains_handler,names='value')\n",
    "display(chains_Dropdown)\n"
   ]
  },
  {
   "cell_type": "code",
   "execution_count": null,
   "metadata": {
    "hide_input": true,
    "jupyter": {
     "source_hidden": true
    },
    "vscode": {
     "languageId": "python"
    }
   },
   "outputs": [],
   "source": [
    "#<--- Run this cell to view the recommended varying subsections for the selected chain\n",
    "fullPoss = CDT.possibleLinkerList(pdb_file,working_path+'/fingerPrint1.dat',chain)\n",
    "possLinkers = [i[1] for i in fullPoss]\n",
    "# Output widget\n",
    "output = widgets.Output()\n",
    "def render_initial(change=None):\n",
    "        with output:\n",
    "            clear_output(wait=True)\n",
    "            CDT.highlightVaryingSections(working_path,pdb_file,recLinkers).show(\"notebook\")\n",
    "if chain==1:\n",
    "    recs = [i[1] for i in fullPoss if i[0] in allowed_linker.astype(str) and CDT.linkerLengthCheck(i[1])]\n",
    "    chunked_groups[chain-1] = [int(i[0]) for i in fullPoss if i[0] in allowed_linker.astype(str) and CDT.linkerLengthCheck(i[1])]\n",
    "    linker_SelectMultiple = widgets.SelectMultiple(\n",
    "    options=possLinkers,\n",
    "    value=recs,\n",
    "    #rows=10,\n",
    "    description='Varying Subsections',\n",
    "    layout={'width': '300px','height':'150px'},\n",
    "    disabled=False\n",
    "    )\n",
    "\n",
    "    def SelectMultiple_handler(change):\n",
    "        global varyingLinkers\n",
    "        varyingLinkers = change.new\n",
    "        with output:\n",
    "            clear_output(wait=True)\n",
    "            selectedLinkers = [int(i[0]) for i in fullPoss if i[1] in varyingLinkers]\n",
    "            chunked_groups[chain-1] = [i for i in selectedLinkers]\n",
    "            CDT.highlightVaryingSections(working_path,pdb_file,selectedLinkers).show(\"notebook\")\n",
    "\n",
    "    linker_SelectMultiple.style = {'description_width': '150px','description_height': '25px'}\n",
    "    recLinkers = [int(i[0]) for i in fullPoss if i[1] in recs]\n",
    "    linker_SelectMultiple.observe(SelectMultiple_handler,names='value')\n",
    "    display(linker_SelectMultiple)\n",
    "    display(output)\n",
    "    render_initial()\n",
    "else:\n",
    "    recs = [i[1] for i in fullPoss if int(i[0])+cumulative_lengths[chain-2] in allowed_linker and CDT.linkerLengthCheck(i[1])]\n",
    "    chunked_groups[chain-1] = [int(i[0])+cumulative_lengths[chain-2] for i in fullPoss if int(i[0])+cumulative_lengths[chain-2] in allowed_linker and CDT.linkerLengthCheck(i[1])]\n",
    "    linker_SelectMultiple = widgets.SelectMultiple(\n",
    "    options=possLinkers,\n",
    "    value=recs,\n",
    "    #rows=10,\n",
    "    description='Varying Subsections',\n",
    "    layout={'width': '300px','height':'150px'},\n",
    "    disabled=False\n",
    "    )\n",
    "\n",
    "    def SelectMultiple_handler(change):\n",
    "        global varyingLinkers\n",
    "        varyingLinkers = change.new\n",
    "        with output:\n",
    "            clear_output(wait=True)\n",
    "            selectedLinkers = [int(i[0]) for i in fullPoss if i[1] in varyingLinkers]\n",
    "            chunked_groups[chain-1] = [i+cumulative_lengths[chain-2] for i in selectedLinkers]\n",
    "            CDT.highlightVaryingSections(working_path,pdb_file,selectedLinkers).show(\"notebook\")\n",
    "\n",
    "    linker_SelectMultiple.style = {'description_width': '150px','description_height': '25px'}\n",
    "    recLinkers = [int(i[0]) for i in fullPoss if i[1] in recs]\n",
    "    linker_SelectMultiple.observe(SelectMultiple_handler,names='value')\n",
    "    display(linker_SelectMultiple)\n",
    "    display(output)\n",
    "    render_initial()"
   ]
  },
  {
   "cell_type": "markdown",
   "metadata": {},
   "source": [
    "10. Confirm the varying subsections. (Make sure you've checked them for <b>all</b> chains!)"
   ]
  },
  {
   "cell_type": "code",
   "execution_count": null,
   "metadata": {
    "hide_input": true,
    "jupyter": {
     "source_hidden": true
    },
    "vscode": {
     "languageId": "python"
    }
   },
   "outputs": [],
   "source": [
    "# <-- Run this cell to confirm you are happy with your selected varying sections\n",
    "varSec_text = 'Confirm varying sections'\n",
    "\n",
    "varSec_button = widgets.Button(\n",
    "    description='Confirm varying sections',\n",
    "    disabled=False,\n",
    "    button_style='success', # 'success', 'info', 'warning', 'danger' or ''\n",
    "    tooltip='Confirm varying sections',\n",
    "    layout=widgets.Layout(width=f'{len(varSec_text) + 4}ch'), \n",
    "    icon='check' # (FontAwesome names without the `fa-` prefix)\n",
    ")\n",
    "output = widgets.Output()\n",
    "varSec_button.style = {'description_width': '300px','description_height': '25px'}\n",
    "\n",
    "def on_varSec_button_clicked(b):\n",
    "    \n",
    "    with output:\n",
    "        clear_output(wait=True)\n",
    "        flattened = [item for sublist in chunked_groups for item in sublist]\n",
    "        CDT.write_varysections_file(flattened,working_path)\n",
    "        print(\"Varying sections confirmed.\")\n",
    "        \n",
    "        \n",
    "        \n",
    "varSec_button.on_click(on_varSec_button_clicked)\n",
    "display(varSec_button)\n",
    "display(output)"
   ]
  },
  {
   "cell_type": "markdown",
   "metadata": {
    "hide_input": true
   },
   "source": [
    "11. (OPTIONAL) Add any distance constraints. \n",
    "* If you specify ResIDs alone, we will keep these fixed to their initial relative distance."
   ]
  },
  {
   "cell_type": "code",
   "execution_count": null,
   "metadata": {
    "hide_input": true,
    "jupyter": {
     "source_hidden": true
    },
    "vscode": {
     "languageId": "python"
    }
   },
   "outputs": [],
   "source": [
    "# <-- Run this cell to add distance constraints\n",
    "\n",
    "resA_text = widgets.Text(\n",
    "    value='',\n",
    "    placeholder=' ',\n",
    "    description='From resID:',\n",
    "    disabled=False   \n",
    ")\n",
    "\n",
    "resB_text = widgets.Text(\n",
    "    value='',\n",
    "    placeholder=' ',\n",
    "    description='To resID:',\n",
    "    disabled=False   \n",
    ")\n",
    "\n",
    "dist_text = widgets.Text(\n",
    "    value='',\n",
    "    placeholder=' ',\n",
    "    description=\"Distance (Angstroms):\",\n",
    "    disabled=False   \n",
    ")\n",
    "\n",
    "resA_text.style = {'description_width': '150px','description_height': '25px'}\n",
    "resB_text.style = {'description_width': '150px','description_height': '25px'}\n",
    "dist_text.style = {'description_width': '150px','description_height': '25px'}\n",
    "\n",
    "contactPreds = []\n",
    "fixedDistSet=[]\n",
    "\n",
    "def resA_handler(change):\n",
    "    global resA\n",
    "    resA = change.new\n",
    "    with output:\n",
    "        clear_output(wait=True)\n",
    "\n",
    "def resB_handler(change):\n",
    "    global resB\n",
    "    resB = change.new\n",
    "    with output:\n",
    "        clear_output(wait=True)\n",
    "\n",
    "def dist_handler(change):\n",
    "    global dist\n",
    "    dist = change.new\n",
    "    with output:\n",
    "        clear_output(wait=True)\n",
    "\n",
    "resA = ''\n",
    "resB = ''\n",
    "dist = ''\n",
    "\n",
    "output = widgets.Output()\n",
    "\n",
    "resA_text.observe(resA_handler,names='value')\n",
    "resB_text.observe(resB_handler,names='value')\n",
    "dist_text.observe(dist_handler,names='value')\n",
    "display(resA_text)\n",
    "display(resB_text)\n",
    "display(dist_text)\n",
    "### Add distance constraint button\n",
    "distCons_text = 'Add distance constraint'\n",
    "distCons_button = widgets.Button(\n",
    "    description=distCons_text,\n",
    "    disabled=False,\n",
    "    button_style='success', # 'success', 'info', 'warning', 'danger' or ''\n",
    "    tooltip=distCons_text,\n",
    "    layout=widgets.Layout(width=f'{len(distCons_text) + 4}ch'), \n",
    "    icon='check' # (FontAwesome names without the `fa-` prefix)\n",
    ")\n",
    "\n",
    "distCons_button.style = {'description_width': '300px','description_height': '25px'}\n",
    "\n",
    "def on_distCons_button_clicked(b):\n",
    "    with output:\n",
    "        print('Distance constraint added')\n",
    "        clear_output(wait=True)\n",
    "        if dist!='':\n",
    "            contactPreds.append([int(resA),int(resB)])\n",
    "            fixedDistSet.append(float(dist))\n",
    "        else:\n",
    "            contactPreds.append([int(resA),int(resB)])\n",
    "\n",
    "\n",
    "### Check distance constraint button\n",
    "\n",
    "check_distCons_text = 'Check distance constraints'\n",
    "check_distCons_button = widgets.Button(\n",
    "    description=check_distCons_text,\n",
    "    disabled=False,\n",
    "    button_style='info', # 'success', 'info', 'warning', 'danger' or ''\n",
    "    tooltip=check_distCons_text,\n",
    "    layout=widgets.Layout(width=f'{len(check_distCons_text) + 4}ch'), \n",
    "    icon='check' # (FontAwesome names without the `fa-` prefix)\n",
    ")\n",
    "\n",
    "check_distCons_button.style = {'description_width': '300px','description_height': '25px'}\n",
    "\n",
    "def check_distCons_button_clicked(b):\n",
    "    with output:\n",
    "        clear_output(wait=True)\n",
    "        print(\"Distance constraints are: \")\n",
    "        print(contactPreds)\n",
    "        print(fixedDistSet)\n",
    "\n",
    "### Reset distance constraint button\n",
    "\n",
    "reset_distCons_text = 'Reset distance constraints'\n",
    "reset_distCons_button = widgets.Button(\n",
    "    description=reset_distCons_text,\n",
    "    disabled=False,\n",
    "    button_style='danger', # 'success', 'info', 'warning', 'danger' or ''\n",
    "    tooltip=reset_distCons_text,\n",
    "    layout=widgets.Layout(width=f'{len(reset_distCons_text) + 4}ch'), \n",
    "    icon='check' # (FontAwesome names without the `fa-` prefix)\n",
    ")\n",
    "\n",
    "reset_distCons_button.style = {'description_width': '300px','description_height': '25px'}\n",
    "\n",
    "def reset_distCons_button_clicked(b):\n",
    "    print(\"Distance constraints reset.\")\n",
    "    global contactPreds\n",
    "    global fixedDistSet\n",
    "    with output:\n",
    "        clear_output(wait=True)\n",
    "        contactPreds = []\n",
    "        fixedDistSet=[]\n",
    "               \n",
    "### Confirm distance constraint button   \n",
    "\n",
    "confirm_distCons_text = 'Confirm distance constraints'\n",
    "confirm_distCons_button = widgets.Button(\n",
    "    description=confirm_distCons_text,\n",
    "    disabled=False,\n",
    "    button_style='success', # 'success', 'info', 'warning', 'danger' or ''\n",
    "    tooltip=confirm_distCons_text,\n",
    "    layout=widgets.Layout(width=f'{len(confirm_distCons_text) + 4}ch'), \n",
    "    icon='check' # (FontAwesome names without the `fa-` prefix)\n",
    ")\n",
    "\n",
    "confirm_distCons_button.style = {'description_width': '300px','description_height': '25px'}\n",
    "\n",
    "def confirm_distCons_button_clicked(b):\n",
    "    print(\"Distance constraints confirmed.\")\n",
    "    with output:\n",
    "        clear_output(wait=True)\n",
    "        CDT.translate_distance_constraints(contactPreds,np.genfromtxt(working_path+'/coordinates1.dat'),working_path,fixedDistSet)\n",
    "        \n",
    "### Set on click actions               \n",
    "distCons_button.on_click(on_distCons_button_clicked)\n",
    "check_distCons_button.on_click(check_distCons_button_clicked)\n",
    "reset_distCons_button.on_click(reset_distCons_button_clicked)   \n",
    "confirm_distCons_button.on_click(confirm_distCons_button_clicked)\n",
    "\n",
    "### Display all\n",
    "display(distCons_button)\n",
    "display(output)\n",
    "display(check_distCons_button)\n",
    "display(output)\n",
    "display(reset_distCons_button)\n",
    "display(output)\n",
    "print('Once you have added all your distance constraints, confirm below')\n",
    "display(confirm_distCons_button)\n",
    "display(output)"
   ]
  },
  {
   "cell_type": "markdown",
   "metadata": {},
   "source": [
    "12. Select how many distinct predictions you'd like for this run, and how many fitting steps we should take for each prediction."
   ]
  },
  {
   "cell_type": "code",
   "execution_count": null,
   "metadata": {
    "hide_input": true,
    "jupyter": {
     "source_hidden": true
    },
    "vscode": {
     "languageId": "python"
    }
   },
   "outputs": [],
   "source": [
    "# <-- Run this cell to select the number of runs and how mny fitting steps per run\n",
    "\n",
    "no_runs_text = widgets.Text(\n",
    "    value='10',\n",
    "    placeholder='Enter the number of runs:',\n",
    "    description='Enter the number of runs:',\n",
    "    disabled=False,\n",
    "    layout={'width': '350px','height':'50px'},   \n",
    ")\n",
    "\n",
    "no_runs_text.style = {'description_width': '250px','description_height': '25px'}\n",
    "\n",
    "def no_runs_handler(change):\n",
    "    global no_runs\n",
    "    no_runs = change.new\n",
    "    with output:\n",
    "        clear_output(wait=True)\n",
    "\n",
    "no_runs = '10'\n",
    "# Output widget\n",
    "output = widgets.Output()\n",
    "no_runs_text.observe(no_runs_handler,names='value')\n",
    "display(no_runs_text)\n",
    "\n",
    "fit_steps_text = widgets.Text(\n",
    "    value='10000',\n",
    "    placeholder='Enter your number of fitting steps:',\n",
    "    description='Enter your number of fitting steps:',\n",
    "    disabled=False,\n",
    "    layout={'width': '350px','height':'50px'},   \n",
    ")\n",
    "\n",
    "fit_steps_text.style = {'description_width': '250px','description_height': '25px'}\n",
    "\n",
    "def fit_steps_handler(change):\n",
    "    global fit_steps\n",
    "    fit_steps = change.new\n",
    "    with output:\n",
    "        clear_output(wait=True)\n",
    "\n",
    "fit_steps = '10000'\n",
    "# Output widget\n",
    "output = widgets.Output()\n",
    "fit_steps_text.observe(fit_steps_handler,names='value')\n",
    "display(fit_steps_text)"
   ]
  },
  {
   "cell_type": "markdown",
   "metadata": {},
   "source": [
    "13. Enter a unique name for the run with these parameters."
   ]
  },
  {
   "cell_type": "code",
   "execution_count": null,
   "metadata": {
    "hide_input": true,
    "jupyter": {
     "source_hidden": true
    },
    "vscode": {
     "languageId": "python"
    }
   },
   "outputs": [],
   "source": [
    "# <-- Run this cell to enter a name for this run\n",
    "runName_text = widgets.Text(\n",
    "    value='TestRun',\n",
    "    placeholder='Enter a name for this run:',\n",
    "    description='Enter a name for this run:',\n",
    "    disabled=False,\n",
    "    layout={'width': '550px','height':'50px'},   \n",
    ")\n",
    "\n",
    "runName_text.style = {'description_width': '200px','description_height': '25px'}\n",
    "\n",
    "def runName_handler(change):\n",
    "    global run_name\n",
    "    run_name = change.new\n",
    "    with output:\n",
    "        clear_output(wait=True)\n",
    "\n",
    "run_name = 'TestRun'\n",
    "# Output widget\n",
    "output = widgets.Output()\n",
    "runName_text.observe(runName_handler,names='value')\n",
    "display(runName_text)"
   ]
  },
  {
   "cell_type": "markdown",
   "metadata": {},
   "source": [
    "14. Would you like to allow rotations?\n",
    "* Can leave checked for monomers, has no effect"
   ]
  },
  {
   "cell_type": "code",
   "execution_count": null,
   "metadata": {
    "hide_input": true,
    "vscode": {
     "languageId": "python"
    }
   },
   "outputs": [],
   "source": [
    "# <-- Run this cell to choose if rotations are allowed\n",
    "\n",
    "rotation_checkbox = widgets.Checkbox(\n",
    "    value=True,\n",
    "    description='Allow rotations?',\n",
    "    disabled=False,\n",
    "    indent=False\n",
    ")\n",
    "rotation = True\n",
    "display(rotation_checkbox)\n",
    "\n",
    "def checkbox_handler(change):\n",
    "    global rotation\n",
    "    rotation = rotation_checkbox.value\n",
    "\n",
    "rotation_checkbox.observe(checkbox_handler, names='value')"
   ]
  },
  {
   "cell_type": "markdown",
   "metadata": {},
   "source": [
    "13. Write the _.sh_ file for this run."
   ]
  },
  {
   "cell_type": "code",
   "execution_count": null,
   "metadata": {
    "hide_input": true,
    "jupyter": {
     "source_hidden": true
    },
    "vscode": {
     "languageId": "python"
    }
   },
   "outputs": [],
   "source": [
    "# <-- Press play to write your sh file\n",
    "\n",
    "run_sh_file = CDT.write_run_sh_file(working_path,\n",
    "                                    mol_name,\n",
    "                                    run_name,\n",
    "                                    1,\n",
    "                                    minq,\n",
    "                                    maxq,\n",
    "                                    startq,\n",
    "                                    int(fit_steps),\n",
    "                                    int(no_runs),\n",
    "                                    pairedQ=(len(fixedDistSet)>0),\n",
    "                                    rotation=rotation)\n",
    "#os.remove(initial_test_script_name)\n",
    "#shutil.rmtree(working_path+'/tmp')\n",
    "print(run_sh_file)"
   ]
  },
  {
   "cell_type": "markdown",
   "metadata": {},
   "source": [
    "14. You now need to head to the terminal to set off your run!\n",
    "* First, navigate to the carbonara directory\n",
    "```shell\n",
    "cd {carbonara_directory}\n",
    "```\n",
    "* Enter _sh_ followed by the script name printed above and hit enter.\n",
    "```shell\n",
    "sh {script_name}\n",
    "```"
   ]
  },
  {
   "cell_type": "code",
   "execution_count": null,
   "metadata": {},
   "outputs": [],
   "source": []
  }
 ],
 "metadata": {
  "kernelspec": {
   "display_name": "Python 3 (ipykernel)",
   "language": "python",
   "name": "python3"
  },
  "language_info": {
   "codemirror_mode": {
    "name": "ipython",
    "version": 3
   },
   "file_extension": ".py",
   "mimetype": "text/x-python",
   "name": "python",
   "nbconvert_exporter": "python",
   "pygments_lexer": "ipython3",
   "version": "3.11.9"
  },
  "widgets": {
   "application/vnd.jupyter.widget-state+json": {
    "state": {
     "01e076588f3348a58f037542a1f51e54": {
      "model_module": "@jupyter-widgets/controls",
      "model_module_version": "2.0.0",
      "model_name": "TextStyleModel",
      "state": {
       "description_width": "200px",
       "font_size": null,
       "text_color": null
      }
     },
     "0b9be0764a384343bc111d74baace548": {
      "model_module": "@jupyter-widgets/controls",
      "model_module_version": "2.0.0",
      "model_name": "TextStyleModel",
      "state": {
       "description_width": "150px",
       "font_size": null,
       "text_color": null
      }
     },
     "10cd996b9bd24062844583a5ad18785a": {
      "model_module": "@jupyter-widgets/controls",
      "model_module_version": "2.0.0",
      "model_name": "TextStyleModel",
      "state": {
       "description_width": "",
       "font_size": null,
       "text_color": null
      }
     },
     "226045a105fc473385ed9c9d64e000b3": {
      "model_module": "@jupyter-widgets/controls",
      "model_module_version": "2.0.0",
      "model_name": "ButtonStyleModel",
      "state": {
       "font_family": null,
       "font_size": null,
       "font_style": null,
       "font_variant": null,
       "font_weight": null,
       "text_color": null,
       "text_decoration": null
      }
     },
     "25e4ff55b2264ae785c05912d858cef2": {
      "model_module": "@jupyter-widgets/controls",
      "model_module_version": "2.0.0",
      "model_name": "TextModel",
      "state": {
       "description": "Enter a name for your prediction:",
       "layout": "IPY_MODEL_79d863928dc04b5aa7bfca1fadd50445",
       "placeholder": "Enter a name for your prediction:",
       "style": "IPY_MODEL_e9b35140e9ec4c37a420af07d79c9061",
       "value": "Lysozyme"
      }
     },
     "2d0fae1904944025b00722ec053f51b6": {
      "model_module": "@jupyter-widgets/controls",
      "model_module_version": "2.0.0",
      "model_name": "TextModel",
      "state": {
       "description": "Enter your min q:",
       "layout": "IPY_MODEL_f3d534cce3884e8a8f30a0fac17e733c",
       "placeholder": "Enter your min q:",
       "style": "IPY_MODEL_e0b18bda0aa2492aa5e0d5213c239cff",
       "value": "0.0"
      }
     },
     "32749892507348eab55678310ee9bb2e": {
      "model_module": "@jupyter-widgets/controls",
      "model_module_version": "2.0.0",
      "model_name": "ButtonModel",
      "state": {
       "button_style": "success",
       "description": "Confirm file locations",
       "icon": "check",
       "layout": "IPY_MODEL_8fbd18312f2e470399a07becffc7f095",
       "style": "IPY_MODEL_a37428d850b740789abe8efb108173e6",
       "tooltip": "Confirm file locations"
      }
     },
     "32788beabbed409d9d52943634a2a84f": {
      "model_module": "@jupyter-widgets/base",
      "model_module_version": "2.0.0",
      "model_name": "LayoutModel",
      "state": {
       "height": "50px",
       "width": "250px"
      }
     },
     "38edae429ce54ab19db094d679496db1": {
      "model_module": "@jupyter-widgets/controls",
      "model_module_version": "2.0.0",
      "model_name": "TextStyleModel",
      "state": {
       "description_width": "200px",
       "font_size": null,
       "text_color": null
      }
     },
     "4401b52022bb460e9cde5ce33de0311d": {
      "model_module": "@jupyter-widgets/base",
      "model_module_version": "2.0.0",
      "model_name": "LayoutModel",
      "state": {}
     },
     "4badceb9e03c4fe9ac8c442cce706a4b": {
      "model_module": "@jupyter-widgets/controls",
      "model_module_version": "2.0.0",
      "model_name": "TextModel",
      "state": {
       "description": "Enter your max q:",
       "layout": "IPY_MODEL_32788beabbed409d9d52943634a2a84f",
       "placeholder": "Enter your max q:",
       "style": "IPY_MODEL_9a2c0930ada3411082d891bdf625003e",
       "value": "0.6"
      }
     },
     "5a9f92770c474dc6a75472d3a384d0b6": {
      "model_module": "@jupyter-widgets/output",
      "model_module_version": "1.0.0",
      "model_name": "OutputModel",
      "state": {
       "layout": "IPY_MODEL_4401b52022bb460e9cde5ce33de0311d"
      }
     },
     "5d10ee20a1cb466781f3e05f678b117d": {
      "model_module": "@jupyter-widgets/base",
      "model_module_version": "2.0.0",
      "model_name": "LayoutModel",
      "state": {}
     },
     "77d866b82f624d4b911ca423d9ee82ec": {
      "model_module": "@jupyter-widgets/controls",
      "model_module_version": "2.0.0",
      "model_name": "TextModel",
      "state": {
       "description": "Enter your start q:",
       "layout": "IPY_MODEL_a49ffef89ba84dfd957a49a3baef4cde",
       "placeholder": "Enter your start q:",
       "style": "IPY_MODEL_0b9be0764a384343bc111d74baace548",
       "value": "0.15"
      }
     },
     "79d863928dc04b5aa7bfca1fadd50445": {
      "model_module": "@jupyter-widgets/base",
      "model_module_version": "2.0.0",
      "model_name": "LayoutModel",
      "state": {
       "height": "50px",
       "width": "550px"
      }
     },
     "81612e2744124dcb9c61b2cb42dd2348": {
      "model_module": "@jupyter-widgets/output",
      "model_module_version": "1.0.0",
      "model_name": "OutputModel",
      "state": {
       "layout": "IPY_MODEL_5d10ee20a1cb466781f3e05f678b117d"
      }
     },
     "8a11f9056fb34a27a44d6cf2a5def4e1": {
      "model_module": "@jupyter-widgets/base",
      "model_module_version": "2.0.0",
      "model_name": "LayoutModel",
      "state": {
       "height": "50px",
       "width": "550px"
      }
     },
     "8fbd18312f2e470399a07becffc7f095": {
      "model_module": "@jupyter-widgets/base",
      "model_module_version": "2.0.0",
      "model_name": "LayoutModel",
      "state": {
       "width": "26ch"
      }
     },
     "93749468450f4a5ab3f759539797b945": {
      "model_module": "@jupyter-widgets/output",
      "model_module_version": "1.0.0",
      "model_name": "OutputModel",
      "state": {
       "layout": "IPY_MODEL_ddab3a3f5b7647668f128cf13fe467aa"
      }
     },
     "9a2c0930ada3411082d891bdf625003e": {
      "model_module": "@jupyter-widgets/controls",
      "model_module_version": "2.0.0",
      "model_name": "TextStyleModel",
      "state": {
       "description_width": "150px",
       "font_size": null,
       "text_color": null
      }
     },
     "9d72cbee07944e43b821cf86dcf60230": {
      "model_module": "@jupyter-widgets/base",
      "model_module_version": "2.0.0",
      "model_name": "LayoutModel",
      "state": {}
     },
     "a37428d850b740789abe8efb108173e6": {
      "model_module": "@jupyter-widgets/controls",
      "model_module_version": "2.0.0",
      "model_name": "ButtonStyleModel",
      "state": {
       "font_family": null,
       "font_size": null,
       "font_style": null,
       "font_variant": null,
       "font_weight": null,
       "text_color": null,
       "text_decoration": null
      }
     },
     "a49ffef89ba84dfd957a49a3baef4cde": {
      "model_module": "@jupyter-widgets/base",
      "model_module_version": "2.0.0",
      "model_name": "LayoutModel",
      "state": {
       "height": "50px",
       "width": "250px"
      }
     },
     "a8d18bd95b9f4e6db59c2b5091846809": {
      "model_module": "@jupyter-widgets/controls",
      "model_module_version": "2.0.0",
      "model_name": "TextStyleModel",
      "state": {
       "description_width": "",
       "font_size": null,
       "text_color": null
      }
     },
     "ad97fb191afe49318dde32d11850219c": {
      "model_module": "@jupyter-widgets/controls",
      "model_module_version": "2.0.0",
      "model_name": "TextStyleModel",
      "state": {
       "description_width": "",
       "font_size": null,
       "text_color": null
      }
     },
     "b6e0e3ba823c428c8def6338e1f135cc": {
      "model_module": "@jupyter-widgets/controls",
      "model_module_version": "2.0.0",
      "model_name": "TextStyleModel",
      "state": {
       "description_width": "",
       "font_size": null,
       "text_color": null
      }
     },
     "b8023ebaf83b4a4caf55e9cedb10e360": {
      "model_module": "@jupyter-widgets/controls",
      "model_module_version": "2.0.0",
      "model_name": "TextStyleModel",
      "state": {
       "description_width": "",
       "font_size": null,
       "text_color": null
      }
     },
     "c3a3d0ba876440db9f50e586130b38ad": {
      "model_module": "@jupyter-widgets/base",
      "model_module_version": "2.0.0",
      "model_name": "LayoutModel",
      "state": {}
     },
     "c712f7ffd70e46818398f3083c84c2bd": {
      "model_module": "@jupyter-widgets/output",
      "model_module_version": "1.0.0",
      "model_name": "OutputModel",
      "state": {
       "layout": "IPY_MODEL_d4fba0fb741b454d9cf3ed3df92899ed"
      }
     },
     "ca6c1d695ce64eb5a80ec2cd9f405ff3": {
      "model_module": "@jupyter-widgets/controls",
      "model_module_version": "2.0.0",
      "model_name": "TextModel",
      "state": {
       "description": "Enter your SAXS file location:",
       "layout": "IPY_MODEL_8a11f9056fb34a27a44d6cf2a5def4e1",
       "placeholder": "Enter your SAXS file location:",
       "style": "IPY_MODEL_38edae429ce54ab19db094d679496db1",
       "value": "Examples/Lysozyme/LysozymeSaxs.dat"
      }
     },
     "d06b0891a64c40d199f022f4467b08c6": {
      "model_module": "@jupyter-widgets/output",
      "model_module_version": "1.0.0",
      "model_name": "OutputModel",
      "state": {
       "layout": "IPY_MODEL_c3a3d0ba876440db9f50e586130b38ad"
      }
     },
     "d4fba0fb741b454d9cf3ed3df92899ed": {
      "model_module": "@jupyter-widgets/base",
      "model_module_version": "2.0.0",
      "model_name": "LayoutModel",
      "state": {}
     },
     "d725aa6e2a52426683a1e2ed207b1e1f": {
      "model_module": "@jupyter-widgets/controls",
      "model_module_version": "2.0.0",
      "model_name": "TextModel",
      "state": {
       "description": "Enter your PDB file location:",
       "layout": "IPY_MODEL_e7d65703175045b2a22fa4fc6c096c76",
       "placeholder": "Enter your PDB file location:",
       "style": "IPY_MODEL_01e076588f3348a58f037542a1f51e54",
       "value": "Examples/Lysozyme/Lysozyme.pdb"
      }
     },
     "ddab3a3f5b7647668f128cf13fe467aa": {
      "model_module": "@jupyter-widgets/base",
      "model_module_version": "2.0.0",
      "model_name": "LayoutModel",
      "state": {}
     },
     "e0b18bda0aa2492aa5e0d5213c239cff": {
      "model_module": "@jupyter-widgets/controls",
      "model_module_version": "2.0.0",
      "model_name": "TextStyleModel",
      "state": {
       "description_width": "150px",
       "font_size": null,
       "text_color": null
      }
     },
     "e361a7f2fef240178dcfa5054cc6975e": {
      "model_module": "@jupyter-widgets/output",
      "model_module_version": "1.0.0",
      "model_name": "OutputModel",
      "state": {
       "layout": "IPY_MODEL_e4df125bce7b4838b28e36b4a51499c7"
      }
     },
     "e4df125bce7b4838b28e36b4a51499c7": {
      "model_module": "@jupyter-widgets/base",
      "model_module_version": "2.0.0",
      "model_name": "LayoutModel",
      "state": {}
     },
     "e7d65703175045b2a22fa4fc6c096c76": {
      "model_module": "@jupyter-widgets/base",
      "model_module_version": "2.0.0",
      "model_name": "LayoutModel",
      "state": {
       "height": "50px",
       "width": "550px"
      }
     },
     "e8c9c4f725ca4fa6accfc499f6d76d7e": {
      "model_module": "@jupyter-widgets/output",
      "model_module_version": "1.0.0",
      "model_name": "OutputModel",
      "state": {
       "layout": "IPY_MODEL_9d72cbee07944e43b821cf86dcf60230"
      }
     },
     "e9b35140e9ec4c37a420af07d79c9061": {
      "model_module": "@jupyter-widgets/controls",
      "model_module_version": "2.0.0",
      "model_name": "TextStyleModel",
      "state": {
       "description_width": "200px",
       "font_size": null,
       "text_color": null
      }
     },
     "f3d534cce3884e8a8f30a0fac17e733c": {
      "model_module": "@jupyter-widgets/base",
      "model_module_version": "2.0.0",
      "model_name": "LayoutModel",
      "state": {
       "height": "50px",
       "width": "250px"
      }
     },
     "fc0919f7c6074af0b76d6f40a289fa89": {
      "model_module": "@jupyter-widgets/controls",
      "model_module_version": "2.0.0",
      "model_name": "TextStyleModel",
      "state": {
       "description_width": "",
       "font_size": null,
       "text_color": null
      }
     }
    },
    "version_major": 2,
    "version_minor": 0
   }
  }
 },
 "nbformat": 4,
 "nbformat_minor": 4
}
