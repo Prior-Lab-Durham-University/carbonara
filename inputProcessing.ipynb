{
 "cells": [
  {
   "cell_type": "code",
   "execution_count": 1,
   "metadata": {},
   "outputs": [],
   "source": [
    "import CarbonaraDataTools as CDT\n",
    "import ipywidgets as widgets\n",
    "from IPython.display import display, clear_output\n",
    "import plotly.io as pio\n",
    "pio.renderers.default='notebook'\n",
    "import numpy as np\n",
    "import os\n",
    "import subprocess"
   ]
  },
  {
   "cell_type": "code",
   "execution_count": 2,
   "metadata": {},
   "outputs": [
    {
     "data": {
      "application/vnd.jupyter.widget-view+json": {
       "model_id": "a78130bcedf24c0981cdd7b83d54bdcc",
       "version_major": 2,
       "version_minor": 0
      },
      "text/plain": [
       "Text(value='newFitData/test_simple/Lysozyme.pdb', description='Enter your PDB file location:', layout=Layout(h…"
      ]
     },
     "metadata": {},
     "output_type": "display_data"
    },
    {
     "data": {
      "application/vnd.jupyter.widget-view+json": {
       "model_id": "4572e9dfb9c84da0a9c9e20a5e2375e4",
       "version_major": 2,
       "version_minor": 0
      },
      "text/plain": [
       "Text(value='newFitData/test_simple/Saxs.dat', description='Enter your SAXS file location:', layout=Layout(heig…"
      ]
     },
     "metadata": {},
     "output_type": "display_data"
    },
    {
     "data": {
      "application/vnd.jupyter.widget-view+json": {
       "model_id": "2f829a00caf74129b8dd6a8f05336e64",
       "version_major": 2,
       "version_minor": 0
      },
      "text/plain": [
       "Text(value='TestLyso', description='Enter a name for your prediction:', layout=Layout(height='50px', width='55…"
      ]
     },
     "metadata": {},
     "output_type": "display_data"
    }
   ],
   "source": [
    "# <-- Press play to enter your file locations\n",
    "pdbFile_text = widgets.Text(\n",
    "    value='newFitData/test_simple/Lysozyme.pdb',\n",
    "    placeholder='Enter your PDB file location:',\n",
    "    description='Enter your PDB file location:',\n",
    "    disabled=False,\n",
    "    layout={'width': '550px','height':'50px'},   \n",
    ")\n",
    "\n",
    "pdbFile_text.style = {'description_width': '200px','description_height': '25px'}\n",
    "\n",
    "def pdbFile_handler(change):\n",
    "    global pdb_file\n",
    "    pdb_file = change.new\n",
    "    with output:\n",
    "        clear_output(wait=True)\n",
    "\n",
    "pdb_file = 'newFitData/test_simple/Lysozyme.pdb'\n",
    "# Output widget\n",
    "output = widgets.Output()\n",
    "pdbFile_text.observe(pdbFile_handler,names='value')\n",
    "display(pdbFile_text)\n",
    "\n",
    "# <-- Press play to enter your SAXS file location\n",
    "saxsFile_text = widgets.Text(\n",
    "    value='newFitData/test_simple/Saxs.dat',\n",
    "    placeholder='Enter your SAXS file location:',\n",
    "    description='Enter your SAXS file location:',\n",
    "    disabled=False,\n",
    "    layout={'width': '550px','height':'50px'},   \n",
    ")\n",
    "\n",
    "saxsFile_text.style = {'description_width': '200px','description_height': '25px'}\n",
    "\n",
    "def saxsFile_handler(change):\n",
    "    global SAXS_file\n",
    "    global working_path\n",
    "    SAXS_file = change.new\n",
    "    working_path = os.path.dirname(SAXS_file)\n",
    "    with output:\n",
    "        clear_output(wait=True)\n",
    "\n",
    "SAXS_file = 'newFitData/test_simple/Saxs.dat'\n",
    "working_path = os.path.dirname(SAXS_file)\n",
    "# Output widget\n",
    "output = widgets.Output()\n",
    "saxsFile_text.observe(saxsFile_handler,names='value')\n",
    "display(saxsFile_text)\n",
    "\n",
    "# <-- Press play to enter a name for your prediction\n",
    "molName_text = widgets.Text(\n",
    "    value='TestLyso',\n",
    "    placeholder='Enter a name for your prediction:',\n",
    "    description='Enter a name for your prediction:',\n",
    "    disabled=False,\n",
    "    layout={'width': '550px','height':'50px'},   \n",
    ")\n",
    "\n",
    "molName_text.style = {'description_width': '200px','description_height': '25px'}\n",
    "\n",
    "def molName_handler(change):\n",
    "    global mol_name\n",
    "    mol_name = change.new\n",
    "    with output:\n",
    "        clear_output(wait=True)\n",
    "\n",
    "mol_name = 'TestLyso'\n",
    "# Output widget\n",
    "output = widgets.Output()\n",
    "molName_text.observe(molName_handler,names='value')\n",
    "display(molName_text)"
   ]
  },
  {
   "cell_type": "code",
   "execution_count": 7,
   "metadata": {},
   "outputs": [
    {
     "data": {
      "text/html": [
       "<div>                            <div id=\"97dce40a-044c-41e3-b95d-be31c077e7b6\" class=\"plotly-graph-div\" style=\"height:525px; width:100%;\"></div>            <script type=\"text/javascript\">                require([\"plotly\"], function(Plotly) {                    window.PLOTLYENV=window.PLOTLYENV || {};                                    if (document.getElementById(\"97dce40a-044c-41e3-b95d-be31c077e7b6\")) {                    Plotly.newPlot(                        \"97dce40a-044c-41e3-b95d-be31c077e7b6\",                        [{\"line\":{\"color\":\"grey\"},\"mode\":\"markers\",\"name\":\"Data\",\"opacity\":0.7,\"x\":[0.01365,0.01502,0.01639,0.01775,0.01912,0.02048,0.02185,0.02321,0.024579999999999998,0.02594,0.02731,0.02867,0.03004,0.03141,0.03277,0.03414,0.03551,0.03687,0.03824,0.03961,0.04097,0.04234,0.04371,0.045079999999999995,0.046439999999999995,0.047810000000000005,0.04918,0.050539999999999995,0.05191,0.05328000000000001,0.05464,0.056010000000000004,0.05738,0.058750000000000004,0.06011,0.06148,0.06284999999999999,0.06421,0.06558,0.06695,0.06831000000000001,0.06967999999999999,0.07105,0.07242,0.07378,0.07515,0.07652,0.07788,0.07925,0.08062,0.08198,0.08335000000000001,0.08471999999999999,0.08609,0.08745,0.08882,0.09019,0.09154999999999999,0.09292,0.09429,0.09566,0.09702,0.09839,0.09976,0.1011,0.1025,0.10389999999999999,0.1052,0.1066,0.10800000000000001,0.1093,0.11069999999999999,0.1121,0.11339999999999999,0.11479999999999999,0.1162,0.11750000000000001,0.1189,0.1203,0.1216,0.12310000000000001,0.1246,0.126,0.1274,0.12869999999999998,0.1301,0.1315,0.1328,0.1342,0.1356,0.1369],\"y\":[2.474856313934499,2.47232786758114,2.468946630209271,2.4664031782234406,2.4630018143999504,2.458733775483977,2.4553061800117097,2.451005098112319,2.446685436967803,2.4414770918606643,2.4362414778067194,2.4309783077624445,2.425687290128029,2.387844936944869,2.390595970316759,2.3832429960115,2.3804716316511167,2.3749057545736716,2.3683728335320486,2.362739015813793,2.3561258599220753,2.337952236831337,2.337952236831337,2.3263016196113617,2.316487998163037,2.312535423847214,2.303584593327129,2.2970699123059357,2.299881441419731,2.2905125117597764,2.2836061263962426,2.2708880062507912,2.2654023018663296,2.2610336658358103,2.253814928624616,2.241135130677823,2.2293690306627867,2.2094824747317214,2.2067347673372115,2.19789102187938,2.1942200683159205,2.173273356513706,2.1635528842984884,2.1462820985986446,2.1310847748316744,2.114808685517127,2.1030359905334652,2.0880295588663698,2.0705269242902617,2.056556669142377,2.0335284846654296,2.0166348533870235,2.0012096934102623,1.9823798288367047,1.9651523952777084,1.9450526386411842,1.9306514680946736,1.9104309989455537,1.892660054163788,1.8681030358153887,1.8454582015619896,1.8251942453142924,1.8172647596364169,1.7830550285979088,1.7696842615761974,1.7504165056936725,1.7220520568032347,1.7007400708408864,1.6813864117466844,1.6637366858414793,1.6358850824489488,1.606232781485152,1.5935117618838412,1.572773928062509,1.553502280103797,1.5234441992671244,1.4902038245104021,1.463486856949796,1.4440914598461074,1.4226262903672808,1.389289870099689,1.3792697461829262,1.3522203807861393,1.3137236682850553,1.28536844252993,1.2570395252626283,1.234308004122009,1.2092588087551734,1.1869283697166775,1.1448595398334294,1.121351775637599],\"type\":\"scatter\",\"xaxis\":\"x\",\"yaxis\":\"y\",\"showlegend\":false},{\"marker\":{\"color\":\"crimson\",\"size\":8},\"mode\":\"markers\",\"name\":\"Fit\",\"x\":[0.0125,0.0375,0.0625,0.0875,0.1125,0.1375],\"y\":[2.49781,2.40291,2.21257,1.92697,1.55172,1.1085],\"type\":\"scatter\",\"xaxis\":\"x\",\"yaxis\":\"y\",\"showlegend\":false},{\"line\":{\"color\":\"crimson\",\"width\":3},\"mode\":\"lines\",\"name\":\"Fit\",\"x\":[0.01365,0.01502,0.01639,0.01775,0.01912,0.02048,0.02185,0.02321,0.024579999999999998,0.02594,0.02731,0.02867,0.03004,0.03141,0.03277,0.03414,0.03551,0.03687,0.03824,0.03961,0.04097,0.04234,0.04371,0.045079999999999995,0.046439999999999995,0.047810000000000005,0.04918,0.050539999999999995,0.05191,0.05328000000000001,0.05464,0.056010000000000004,0.05738,0.058750000000000004,0.06011,0.06148,0.06284999999999999,0.06421,0.06558,0.06695,0.06831000000000001,0.06967999999999999,0.07105,0.07242,0.07378,0.07515,0.07652,0.07788,0.07925,0.08062,0.08198,0.08335000000000001,0.08471999999999999,0.08609,0.08745,0.08882,0.09019,0.09154999999999999,0.09292,0.09429,0.09566,0.09702,0.09839,0.09976,0.1011,0.1025,0.10389999999999999,0.1052,0.1066,0.10800000000000001,0.1093,0.11069999999999999,0.1121,0.11339999999999999,0.11479999999999999,0.1162,0.11750000000000001,0.1189,0.1203,0.1216,0.12310000000000001,0.1246,0.126,0.1274,0.12869999999999998,0.1301,0.1315,0.1328,0.1342,0.1356,0.1369],\"y\":[2.49553593380732,2.492563747818045,2.4893054827567718,2.485788014278333,2.48195958273692,2.47787604578859,2.473477319251214,2.4688275862552445,2.463858436206088,2.4586423795847305,2.453102677507971,2.4473201696834788,2.441209787063298,2.4348129705399186,2.4281795087784968,2.4212118187025884,2.413957597865435,2.406472894415743,2.3986476070169527,2.390535691998865,2.382199459109566,2.373516284520735,2.364546385454556,2.3552897295462687,2.3458169837282825,2.335988810746856,2.32587378406527,2.3155488371539414,2.3048621003901104,2.293888413068068,2.28271097731206,2.271165386898666,2.2593327490690114,2.2472130314583323,2.2348978027868696,2.2222059245824437,2.209226870772519,2.1960586011074876,2.1825077764740017,2.1686705144858256,2.1546512806299716,2.140244247196003,2.1255517925960388,2.1105742563858154,2.095424412414047,2.079879806350946,2.0640511348662804,2.0480573733759195,2.0316636569983326,2.014986891387876,1.998152231329409,1.980912445785986,1.9633906271983896,1.9455871151223536,1.927635273961693,1.9092720210522383,1.890631823388879,1.8718579229347598,1.8526784207799436,1.8332345834446344,1.813530624382143,1.7937173665228383,1.7735076262890623,1.753050373932901,1.7328056954146134,1.711410186666666,1.6897694071773866,1.6694587104417062,1.647357606423146,1.6250243995599993,1.6040825251908264,1.5813143890278394,1.558327317917013,1.53679007453152,1.513393469350293,1.489791097117973,1.467694293333333,1.443707782260053,1.4195286720324263,1.3969081164658128,1.3706106395340796,1.3441075515303462,1.3191907078799998,1.294104068018453,1.2706612243046402,1.2452598179362133,1.219701783253333,1.1958330064190932,1.1699856004587732,1.1439947340807466,1.1197358327432536],\"type\":\"scatter\",\"xaxis\":\"x\",\"yaxis\":\"y\",\"showlegend\":false},{\"line\":{\"color\":\"red\"},\"mode\":\"lines\",\"name\":\"Residual\",\"showlegend\":false,\"x\":[0.01365,0.01502,0.01639,0.01775,0.01912,0.02048,0.02185,0.02321,0.024579999999999998,0.02594,0.02731,0.02867,0.03004,0.03141,0.03277,0.03414,0.03551,0.03687,0.03824,0.03961,0.04097,0.04234,0.04371,0.045079999999999995,0.046439999999999995,0.047810000000000005,0.04918,0.050539999999999995,0.05191,0.05328000000000001,0.05464,0.056010000000000004,0.05738,0.058750000000000004,0.06011,0.06148,0.06284999999999999,0.06421,0.06558,0.06695,0.06831000000000001,0.06967999999999999,0.07105,0.07242,0.07378,0.07515,0.07652,0.07788,0.07925,0.08062,0.08198,0.08335000000000001,0.08471999999999999,0.08609,0.08745,0.08882,0.09019,0.09154999999999999,0.09292,0.09429,0.09566,0.09702,0.09839,0.09976,0.1011,0.1025,0.10389999999999999,0.1052,0.1066,0.10800000000000001,0.1093,0.11069999999999999,0.1121,0.11339999999999999,0.11479999999999999,0.1162,0.11750000000000001,0.1189,0.1203,0.1216,0.12310000000000001,0.1246,0.126,0.1274,0.12869999999999998,0.1301,0.1315,0.1328,0.1342,0.1356,0.1369],\"y\":[0.02067961987282141,0.020235880236904702,0.020358852547500916,0.019384836054892496,0.018957768336969494,0.019142270304612907,0.018171139239504086,0.01782248814292542,0.01717299923828497,0.017165287724066225,0.01686119970125155,0.016341861921034262,0.015522496935268748,0.04696803359504953,0.037583538461737565,0.037968822691088366,0.0334859662143181,0.0315671398420716,0.03027477348490404,0.02779667618507231,0.026073599187490526,0.03556404768939814,0.026594148623219294,0.02898810993490697,0.029328985565245436,0.023453386899642048,0.022289190738141063,0.01847892484800573,0.004980658970379359,0.0033759013082916844,-0.0008951490841826448,0.00027738064787463657,-0.006069552797318245,-0.013820634377478047,-0.018917125837746518,-0.018929206095379403,-0.020142159890267575,-0.013423873624233806,-0.024226990863209785,-0.029220507393554307,-0.03956878768594896,-0.03302910931770331,-0.038001091702449585,-0.03570784221282919,-0.03566036241762749,-0.03492887916618104,-0.03898485566718479,-0.03997218549045023,-0.03886326729192913,-0.041569777754501214,-0.03537625333602068,-0.03572240760103762,-0.0378190662118727,-0.03679271371435111,-0.037517121316015256,-0.03578061758894591,-0.040019644705794555,-0.03857307601079385,-0.039981633383844306,-0.03486845237075431,-0.03192757717984662,-0.03147687879145411,-0.04375713334735454,-0.03000465466500768,-0.036878566161584025,-0.039006319027006464,-0.03228264962584815,-0.03128136039918017,-0.03402880532353825,-0.038712286281479935,-0.03180255725812242,-0.024918392457312644,-0.035184443966828294,-0.035983853530989096,-0.04010881075350392,-0.03365310214915129,-0.02250953117706911,-0.019779074689743048,-0.024562787813681153,-0.025718173901468022,-0.018679230565609384,-0.03516219465257997,-0.03302967290613945,-0.019619600266602255,-0.014707218225289864,-0.011779707326414979,-0.014606220868675912,-0.013425802336080261,-0.016942769257904278,-0.0008648057526827735,-0.0016159428943454124],\"type\":\"scatter\",\"xaxis\":\"x2\",\"yaxis\":\"y2\"},{\"line\":{\"color\":\"black\",\"dash\":\"dash\",\"width\":1},\"mode\":\"lines\",\"showlegend\":false,\"x\":[0.01365,0.01502,0.01639,0.01775,0.01912,0.02048,0.02185,0.02321,0.024579999999999998,0.02594,0.02731,0.02867,0.03004,0.03141,0.03277,0.03414,0.03551,0.03687,0.03824,0.03961,0.04097,0.04234,0.04371,0.045079999999999995,0.046439999999999995,0.047810000000000005,0.04918,0.050539999999999995,0.05191,0.05328000000000001,0.05464,0.056010000000000004,0.05738,0.058750000000000004,0.06011,0.06148,0.06284999999999999,0.06421,0.06558,0.06695,0.06831000000000001,0.06967999999999999,0.07105,0.07242,0.07378,0.07515,0.07652,0.07788,0.07925,0.08062,0.08198,0.08335000000000001,0.08471999999999999,0.08609,0.08745,0.08882,0.09019,0.09154999999999999,0.09292,0.09429,0.09566,0.09702,0.09839,0.09976,0.1011,0.1025,0.10389999999999999,0.1052,0.1066,0.10800000000000001,0.1093,0.11069999999999999,0.1121,0.11339999999999999,0.11479999999999999,0.1162,0.11750000000000001,0.1189,0.1203,0.1216,0.12310000000000001,0.1246,0.126,0.1274,0.12869999999999998,0.1301,0.1315,0.1328,0.1342,0.1356,0.1369],\"y\":[0.0,0.0,0.0,0.0,0.0,0.0,0.0,0.0,0.0,0.0,0.0,0.0,0.0,0.0,0.0,0.0,0.0,0.0,0.0,0.0,0.0,0.0,0.0,0.0,0.0,0.0,0.0,0.0,0.0,0.0,0.0,0.0,0.0,0.0,0.0,0.0,0.0,0.0,0.0,0.0,0.0,0.0,0.0,0.0,0.0,0.0,0.0,0.0,0.0,0.0,0.0,0.0,0.0,0.0,0.0,0.0,0.0,0.0,0.0,0.0,0.0,0.0,0.0,0.0,0.0,0.0,0.0,0.0,0.0,0.0,0.0,0.0,0.0,0.0,0.0,0.0,0.0,0.0,0.0,0.0,0.0,0.0,0.0,0.0,0.0,0.0,0.0,0.0,0.0,0.0,0.0],\"type\":\"scatter\",\"xaxis\":\"x2\",\"yaxis\":\"y2\"}],                        {\"template\":{\"data\":{\"barpolar\":[{\"marker\":{\"line\":{\"color\":\"white\",\"width\":0.5},\"pattern\":{\"fillmode\":\"overlay\",\"size\":10,\"solidity\":0.2}},\"type\":\"barpolar\"}],\"bar\":[{\"error_x\":{\"color\":\"rgb(36,36,36)\"},\"error_y\":{\"color\":\"rgb(36,36,36)\"},\"marker\":{\"line\":{\"color\":\"white\",\"width\":0.5},\"pattern\":{\"fillmode\":\"overlay\",\"size\":10,\"solidity\":0.2}},\"type\":\"bar\"}],\"carpet\":[{\"aaxis\":{\"endlinecolor\":\"rgb(36,36,36)\",\"gridcolor\":\"white\",\"linecolor\":\"white\",\"minorgridcolor\":\"white\",\"startlinecolor\":\"rgb(36,36,36)\"},\"baxis\":{\"endlinecolor\":\"rgb(36,36,36)\",\"gridcolor\":\"white\",\"linecolor\":\"white\",\"minorgridcolor\":\"white\",\"startlinecolor\":\"rgb(36,36,36)\"},\"type\":\"carpet\"}],\"choropleth\":[{\"colorbar\":{\"outlinewidth\":1,\"tickcolor\":\"rgb(36,36,36)\",\"ticks\":\"outside\"},\"type\":\"choropleth\"}],\"contourcarpet\":[{\"colorbar\":{\"outlinewidth\":1,\"tickcolor\":\"rgb(36,36,36)\",\"ticks\":\"outside\"},\"type\":\"contourcarpet\"}],\"contour\":[{\"colorbar\":{\"outlinewidth\":1,\"tickcolor\":\"rgb(36,36,36)\",\"ticks\":\"outside\"},\"colorscale\":[[0.0,\"#440154\"],[0.1111111111111111,\"#482878\"],[0.2222222222222222,\"#3e4989\"],[0.3333333333333333,\"#31688e\"],[0.4444444444444444,\"#26828e\"],[0.5555555555555556,\"#1f9e89\"],[0.6666666666666666,\"#35b779\"],[0.7777777777777778,\"#6ece58\"],[0.8888888888888888,\"#b5de2b\"],[1.0,\"#fde725\"]],\"type\":\"contour\"}],\"heatmapgl\":[{\"colorbar\":{\"outlinewidth\":1,\"tickcolor\":\"rgb(36,36,36)\",\"ticks\":\"outside\"},\"colorscale\":[[0.0,\"#440154\"],[0.1111111111111111,\"#482878\"],[0.2222222222222222,\"#3e4989\"],[0.3333333333333333,\"#31688e\"],[0.4444444444444444,\"#26828e\"],[0.5555555555555556,\"#1f9e89\"],[0.6666666666666666,\"#35b779\"],[0.7777777777777778,\"#6ece58\"],[0.8888888888888888,\"#b5de2b\"],[1.0,\"#fde725\"]],\"type\":\"heatmapgl\"}],\"heatmap\":[{\"colorbar\":{\"outlinewidth\":1,\"tickcolor\":\"rgb(36,36,36)\",\"ticks\":\"outside\"},\"colorscale\":[[0.0,\"#440154\"],[0.1111111111111111,\"#482878\"],[0.2222222222222222,\"#3e4989\"],[0.3333333333333333,\"#31688e\"],[0.4444444444444444,\"#26828e\"],[0.5555555555555556,\"#1f9e89\"],[0.6666666666666666,\"#35b779\"],[0.7777777777777778,\"#6ece58\"],[0.8888888888888888,\"#b5de2b\"],[1.0,\"#fde725\"]],\"type\":\"heatmap\"}],\"histogram2dcontour\":[{\"colorbar\":{\"outlinewidth\":1,\"tickcolor\":\"rgb(36,36,36)\",\"ticks\":\"outside\"},\"colorscale\":[[0.0,\"#440154\"],[0.1111111111111111,\"#482878\"],[0.2222222222222222,\"#3e4989\"],[0.3333333333333333,\"#31688e\"],[0.4444444444444444,\"#26828e\"],[0.5555555555555556,\"#1f9e89\"],[0.6666666666666666,\"#35b779\"],[0.7777777777777778,\"#6ece58\"],[0.8888888888888888,\"#b5de2b\"],[1.0,\"#fde725\"]],\"type\":\"histogram2dcontour\"}],\"histogram2d\":[{\"colorbar\":{\"outlinewidth\":1,\"tickcolor\":\"rgb(36,36,36)\",\"ticks\":\"outside\"},\"colorscale\":[[0.0,\"#440154\"],[0.1111111111111111,\"#482878\"],[0.2222222222222222,\"#3e4989\"],[0.3333333333333333,\"#31688e\"],[0.4444444444444444,\"#26828e\"],[0.5555555555555556,\"#1f9e89\"],[0.6666666666666666,\"#35b779\"],[0.7777777777777778,\"#6ece58\"],[0.8888888888888888,\"#b5de2b\"],[1.0,\"#fde725\"]],\"type\":\"histogram2d\"}],\"histogram\":[{\"marker\":{\"line\":{\"color\":\"white\",\"width\":0.6}},\"type\":\"histogram\"}],\"mesh3d\":[{\"colorbar\":{\"outlinewidth\":1,\"tickcolor\":\"rgb(36,36,36)\",\"ticks\":\"outside\"},\"type\":\"mesh3d\"}],\"parcoords\":[{\"line\":{\"colorbar\":{\"outlinewidth\":1,\"tickcolor\":\"rgb(36,36,36)\",\"ticks\":\"outside\"}},\"type\":\"parcoords\"}],\"pie\":[{\"automargin\":true,\"type\":\"pie\"}],\"scatter3d\":[{\"line\":{\"colorbar\":{\"outlinewidth\":1,\"tickcolor\":\"rgb(36,36,36)\",\"ticks\":\"outside\"}},\"marker\":{\"colorbar\":{\"outlinewidth\":1,\"tickcolor\":\"rgb(36,36,36)\",\"ticks\":\"outside\"}},\"type\":\"scatter3d\"}],\"scattercarpet\":[{\"marker\":{\"colorbar\":{\"outlinewidth\":1,\"tickcolor\":\"rgb(36,36,36)\",\"ticks\":\"outside\"}},\"type\":\"scattercarpet\"}],\"scattergeo\":[{\"marker\":{\"colorbar\":{\"outlinewidth\":1,\"tickcolor\":\"rgb(36,36,36)\",\"ticks\":\"outside\"}},\"type\":\"scattergeo\"}],\"scattergl\":[{\"marker\":{\"colorbar\":{\"outlinewidth\":1,\"tickcolor\":\"rgb(36,36,36)\",\"ticks\":\"outside\"}},\"type\":\"scattergl\"}],\"scattermapbox\":[{\"marker\":{\"colorbar\":{\"outlinewidth\":1,\"tickcolor\":\"rgb(36,36,36)\",\"ticks\":\"outside\"}},\"type\":\"scattermapbox\"}],\"scatterpolargl\":[{\"marker\":{\"colorbar\":{\"outlinewidth\":1,\"tickcolor\":\"rgb(36,36,36)\",\"ticks\":\"outside\"}},\"type\":\"scatterpolargl\"}],\"scatterpolar\":[{\"marker\":{\"colorbar\":{\"outlinewidth\":1,\"tickcolor\":\"rgb(36,36,36)\",\"ticks\":\"outside\"}},\"type\":\"scatterpolar\"}],\"scatter\":[{\"fillpattern\":{\"fillmode\":\"overlay\",\"size\":10,\"solidity\":0.2},\"type\":\"scatter\"}],\"scatterternary\":[{\"marker\":{\"colorbar\":{\"outlinewidth\":1,\"tickcolor\":\"rgb(36,36,36)\",\"ticks\":\"outside\"}},\"type\":\"scatterternary\"}],\"surface\":[{\"colorbar\":{\"outlinewidth\":1,\"tickcolor\":\"rgb(36,36,36)\",\"ticks\":\"outside\"},\"colorscale\":[[0.0,\"#440154\"],[0.1111111111111111,\"#482878\"],[0.2222222222222222,\"#3e4989\"],[0.3333333333333333,\"#31688e\"],[0.4444444444444444,\"#26828e\"],[0.5555555555555556,\"#1f9e89\"],[0.6666666666666666,\"#35b779\"],[0.7777777777777778,\"#6ece58\"],[0.8888888888888888,\"#b5de2b\"],[1.0,\"#fde725\"]],\"type\":\"surface\"}],\"table\":[{\"cells\":{\"fill\":{\"color\":\"rgb(237,237,237)\"},\"line\":{\"color\":\"white\"}},\"header\":{\"fill\":{\"color\":\"rgb(217,217,217)\"},\"line\":{\"color\":\"white\"}},\"type\":\"table\"}]},\"layout\":{\"annotationdefaults\":{\"arrowhead\":0,\"arrowwidth\":1},\"autotypenumbers\":\"strict\",\"coloraxis\":{\"colorbar\":{\"outlinewidth\":1,\"tickcolor\":\"rgb(36,36,36)\",\"ticks\":\"outside\"}},\"colorscale\":{\"diverging\":[[0.0,\"rgb(103,0,31)\"],[0.1,\"rgb(178,24,43)\"],[0.2,\"rgb(214,96,77)\"],[0.3,\"rgb(244,165,130)\"],[0.4,\"rgb(253,219,199)\"],[0.5,\"rgb(247,247,247)\"],[0.6,\"rgb(209,229,240)\"],[0.7,\"rgb(146,197,222)\"],[0.8,\"rgb(67,147,195)\"],[0.9,\"rgb(33,102,172)\"],[1.0,\"rgb(5,48,97)\"]],\"sequential\":[[0.0,\"#440154\"],[0.1111111111111111,\"#482878\"],[0.2222222222222222,\"#3e4989\"],[0.3333333333333333,\"#31688e\"],[0.4444444444444444,\"#26828e\"],[0.5555555555555556,\"#1f9e89\"],[0.6666666666666666,\"#35b779\"],[0.7777777777777778,\"#6ece58\"],[0.8888888888888888,\"#b5de2b\"],[1.0,\"#fde725\"]],\"sequentialminus\":[[0.0,\"#440154\"],[0.1111111111111111,\"#482878\"],[0.2222222222222222,\"#3e4989\"],[0.3333333333333333,\"#31688e\"],[0.4444444444444444,\"#26828e\"],[0.5555555555555556,\"#1f9e89\"],[0.6666666666666666,\"#35b779\"],[0.7777777777777778,\"#6ece58\"],[0.8888888888888888,\"#b5de2b\"],[1.0,\"#fde725\"]]},\"colorway\":[\"#1F77B4\",\"#FF7F0E\",\"#2CA02C\",\"#D62728\",\"#9467BD\",\"#8C564B\",\"#E377C2\",\"#7F7F7F\",\"#BCBD22\",\"#17BECF\"],\"font\":{\"color\":\"rgb(36,36,36)\"},\"geo\":{\"bgcolor\":\"white\",\"lakecolor\":\"white\",\"landcolor\":\"white\",\"showlakes\":true,\"showland\":true,\"subunitcolor\":\"white\"},\"hoverlabel\":{\"align\":\"left\"},\"hovermode\":\"closest\",\"mapbox\":{\"style\":\"light\"},\"paper_bgcolor\":\"white\",\"plot_bgcolor\":\"white\",\"polar\":{\"angularaxis\":{\"gridcolor\":\"rgb(232,232,232)\",\"linecolor\":\"rgb(36,36,36)\",\"showgrid\":false,\"showline\":true,\"ticks\":\"outside\"},\"bgcolor\":\"white\",\"radialaxis\":{\"gridcolor\":\"rgb(232,232,232)\",\"linecolor\":\"rgb(36,36,36)\",\"showgrid\":false,\"showline\":true,\"ticks\":\"outside\"}},\"scene\":{\"xaxis\":{\"backgroundcolor\":\"white\",\"gridcolor\":\"rgb(232,232,232)\",\"gridwidth\":2,\"linecolor\":\"rgb(36,36,36)\",\"showbackground\":true,\"showgrid\":false,\"showline\":true,\"ticks\":\"outside\",\"zeroline\":false,\"zerolinecolor\":\"rgb(36,36,36)\"},\"yaxis\":{\"backgroundcolor\":\"white\",\"gridcolor\":\"rgb(232,232,232)\",\"gridwidth\":2,\"linecolor\":\"rgb(36,36,36)\",\"showbackground\":true,\"showgrid\":false,\"showline\":true,\"ticks\":\"outside\",\"zeroline\":false,\"zerolinecolor\":\"rgb(36,36,36)\"},\"zaxis\":{\"backgroundcolor\":\"white\",\"gridcolor\":\"rgb(232,232,232)\",\"gridwidth\":2,\"linecolor\":\"rgb(36,36,36)\",\"showbackground\":true,\"showgrid\":false,\"showline\":true,\"ticks\":\"outside\",\"zeroline\":false,\"zerolinecolor\":\"rgb(36,36,36)\"}},\"shapedefaults\":{\"fillcolor\":\"black\",\"line\":{\"width\":0},\"opacity\":0.3},\"ternary\":{\"aaxis\":{\"gridcolor\":\"rgb(232,232,232)\",\"linecolor\":\"rgb(36,36,36)\",\"showgrid\":false,\"showline\":true,\"ticks\":\"outside\"},\"baxis\":{\"gridcolor\":\"rgb(232,232,232)\",\"linecolor\":\"rgb(36,36,36)\",\"showgrid\":false,\"showline\":true,\"ticks\":\"outside\"},\"bgcolor\":\"white\",\"caxis\":{\"gridcolor\":\"rgb(232,232,232)\",\"linecolor\":\"rgb(36,36,36)\",\"showgrid\":false,\"showline\":true,\"ticks\":\"outside\"}},\"title\":{\"x\":0.05},\"xaxis\":{\"automargin\":true,\"gridcolor\":\"rgb(232,232,232)\",\"linecolor\":\"rgb(36,36,36)\",\"showgrid\":false,\"showline\":true,\"ticks\":\"outside\",\"title\":{\"standoff\":15},\"zeroline\":false,\"zerolinecolor\":\"rgb(36,36,36)\"},\"yaxis\":{\"automargin\":true,\"gridcolor\":\"rgb(232,232,232)\",\"linecolor\":\"rgb(36,36,36)\",\"showgrid\":false,\"showline\":true,\"ticks\":\"outside\",\"title\":{\"standoff\":15},\"zeroline\":false,\"zerolinecolor\":\"rgb(36,36,36)\"}}},\"xaxis\":{\"anchor\":\"y\",\"domain\":[0.0,1.0],\"matches\":\"x2\",\"showticklabels\":false},\"yaxis\":{\"anchor\":\"x\",\"domain\":[0.3,1.0],\"title\":{\"text\":\"Intensity I(q)\"}},\"xaxis2\":{\"anchor\":\"y2\",\"domain\":[0.0,1.0],\"title\":{\"text\":\"q\"}},\"yaxis2\":{\"anchor\":\"x2\",\"domain\":[0.0,0.3],\"title\":{\"text\":\"Residual\"},\"range\":[-0.06105844367356439,0.06105844367356439]},\"font\":{\"size\":18},\"margin\":{\"l\":0,\"r\":0,\"t\":0,\"b\":0}},                        {\"responsive\": true}                    ).then(function(){\n",
       "                            \n",
       "var gd = document.getElementById('97dce40a-044c-41e3-b95d-be31c077e7b6');\n",
       "var x = new MutationObserver(function (mutations, observer) {{\n",
       "        var display = window.getComputedStyle(gd).display;\n",
       "        if (!display || display === 'none') {{\n",
       "            console.log([gd, 'removed!']);\n",
       "            Plotly.purge(gd);\n",
       "            observer.disconnect();\n",
       "        }}\n",
       "}});\n",
       "\n",
       "// Listen for the removal of the full notebook cells\n",
       "var notebookContainer = gd.closest('#notebook-container');\n",
       "if (notebookContainer) {{\n",
       "    x.observe(notebookContainer, {childList: true});\n",
       "}}\n",
       "\n",
       "// Listen for the clearing of the current output cell\n",
       "var outputEl = gd.closest('.output');\n",
       "if (outputEl) {{\n",
       "    x.observe(outputEl, {childList: true});\n",
       "}}\n",
       "\n",
       "                        })                };                });            </script>        </div>"
      ]
     },
     "metadata": {},
     "output_type": "display_data"
    }
   ],
   "source": [
    "script_name = CDT.write_initial_saxs_check_sh(working_path,mol_name,1,1)\n",
    "subprocess.call(['sh', script_name],stdout=subprocess.DEVNULL,stderr=subprocess.STDOUT)\n",
    "CDT.SAXS_fit_plotter(SAXS_file,working_path+'/tmp/mol1_initial_scatter.dat',False)"
   ]
  },
  {
   "cell_type": "code",
   "execution_count": 3,
   "metadata": {},
   "outputs": [
    {
     "name": "stdout",
     "output_type": "stream",
     "text": [
      "We think you've got a monomer\n"
     ]
    }
   ],
   "source": [
    "# <-- Press play to check for any breaks in your backbone\n",
    "\n",
    "coords_chains, sequence_chains, secondary_structure_chains, missing_residues_chains = CDT.pull_structure_from_pdb(pdb_file)\n",
    "chains=[1]\n",
    "# >> check for missing residues geometrically in the chain(s)\n",
    "for coords in coords_chains:\n",
    "    breaking_indices = CDT.missing_ca_check(coords)\n",
    "    if len(breaking_indices) > 0:\n",
    "        chains = [i+1 for i in range(len(breaking_indices)+1)]\n",
    "        print(\"We think your PDB file has\", len(breaking_indices)+1, 'chains')\n",
    "        coords_chains, sequence_chains = CDT.break_into_chains(coords_chains[0],sequence_chains[0],breaking_indices)\n",
    "    else:\n",
    "        print(\"We think you've got a monomer\")\n",
    "\n",
    "varyingSection_tensor = [[] for i in range(len(breaking_indices)+1)]"
   ]
  },
  {
   "cell_type": "code",
   "execution_count": 4,
   "metadata": {},
   "outputs": [
    {
     "name": "stderr",
     "output_type": "stream",
     "text": [
      "100%|██████████| 13/13 [00:03<00:00,  3.34it/s]\n"
     ]
    }
   ],
   "source": [
    "# Running this cell will build the prediction for sections we think you should vary, view these below\n",
    "allowed_linker, linker_indices = CDT.find_non_varying_linkers(working_path+'/coordinates1.dat',working_path+'/fingerPrint1.dat')\n",
    "ss_len_tensor = [len(i) for i in CDT.get_sses(working_path+'/fingerPrint1.dat')]\n",
    "# Calculate cumulative lengths\n",
    "cumulative_lengths = np.cumsum(ss_len_tensor)\n",
    "\n",
    "# Initialize an empty list to hold the chunked groups\n",
    "chunked_groups = [[] for _ in range(len(cumulative_lengths))]\n",
    "\n",
    "# Group the indices based on the cumulative lengths\n",
    "for index in allowed_linker:\n",
    "    for i, cum_length in enumerate(cumulative_lengths):\n",
    "        if index < cum_length:\n",
    "            chunked_groups[i].append(index)\n",
    "            break"
   ]
  },
  {
   "cell_type": "code",
   "execution_count": 5,
   "metadata": {},
   "outputs": [
    {
     "data": {
      "application/vnd.jupyter.widget-view+json": {
       "model_id": "36b11994d42f48c7a492d7fb4740e8ae",
       "version_major": 2,
       "version_minor": 0
      },
      "text/plain": [
       "Dropdown(description='Select which chain to process from the dropdown box ', layout=Layout(height='25px', widt…"
      ]
     },
     "metadata": {},
     "output_type": "display_data"
    }
   ],
   "source": [
    "chains_Dropdown = widgets.Dropdown(\n",
    "    options = chains,\n",
    "    value = chains[0],\n",
    "    description = 'Select which chain to process from the dropdown box ',\n",
    "    disabled=False,\n",
    "    layout={'width': '400px','height':'25px'}\n",
    ")\n",
    "chains_Dropdown.style = {'description_width': '350px','description_height': '25px'}\n",
    "\n",
    "def chains_handler(change):\n",
    "    global chain\n",
    "    chain = change.new\n",
    "    with output:\n",
    "        clear_output(wait=True)  # Clear previous output\n",
    "\n",
    "chain = chains[0]\n",
    "chains_Dropdown.observe(chains_handler,names='value')\n",
    "display(chains_Dropdown)\n"
   ]
  },
  {
   "attachments": {},
   "cell_type": "markdown",
   "metadata": {},
   "source": [
    "In the below cell, we highlight the sections we recommend to allow to vary during the run. Using ctrl + click, you can toggle these sections. \n",
    "* If you have changed the selected chain above, make sure to rerun this cell!"
   ]
  },
  {
   "cell_type": "code",
   "execution_count": 6,
   "metadata": {},
   "outputs": [
    {
     "data": {
      "application/vnd.jupyter.widget-view+json": {
       "model_id": "3c512ebe17434c99b42fae62032cadc0",
       "version_major": 2,
       "version_minor": 0
      },
      "text/plain": [
       "SelectMultiple(description='Varying Subsections', index=(1, 2, 3, 11), layout=Layout(height='150px', width='30…"
      ]
     },
     "metadata": {},
     "output_type": "display_data"
    },
    {
     "data": {
      "application/vnd.jupyter.widget-view+json": {
       "model_id": "284f7199d3a6437880ad510167f835be",
       "version_major": 2,
       "version_minor": 0
      },
      "text/plain": [
       "Output()"
      ]
     },
     "metadata": {},
     "output_type": "display_data"
    }
   ],
   "source": [
    "#<--- Press the play button here to view the recommend varying sections\n",
    "fullPoss = CDT.possibleLinkerList(pdb_file,working_path+'/fingerPrint1.dat',chain)\n",
    "possLinkers = [i[1] for i in fullPoss]\n",
    "if chain==1:\n",
    "    recs = [i[1] for i in fullPoss if i[0] in allowed_linker.astype(str) and CDT.linkerLengthCheck(i[1])]\n",
    "    chunked_groups[chain-1] = [int(i[0]) for i in fullPoss if i[0] in allowed_linker.astype(str) and CDT.linkerLengthCheck(i[1])]\n",
    "    linker_SelectMultiple = widgets.SelectMultiple(\n",
    "    options=possLinkers,\n",
    "    value=recs,\n",
    "    #rows=10,\n",
    "    description='Varying Subsections',\n",
    "    layout={'width': '300px','height':'150px'},\n",
    "    disabled=False\n",
    "    )\n",
    "\n",
    "    def SelectMultiple_handler(change):\n",
    "        global varyingLinkers\n",
    "        varyingLinkers = change.new\n",
    "        with output:\n",
    "            clear_output(wait=True)\n",
    "            selectedLinkers = [int(i[0]) for i in fullPoss if i[1] in varyingLinkers]\n",
    "            chunked_groups[chain-1] = [i for i in selectedLinkers]\n",
    "            CDT.highlightVaryingSections(working_path,pdb_file,selectedLinkers)\n",
    "\n",
    "    linker_SelectMultiple.style = {'description_width': '150px','description_height': '25px'}\n",
    "\n",
    "    # Output widget\n",
    "    output = widgets.Output()\n",
    "    recLinkers = [int(i[0]) for i in fullPoss if i[1] in recs]\n",
    "    with output:\n",
    "        CDT.highlightVaryingSections(working_path,pdb_file,recLinkers)\n",
    "    linker_SelectMultiple.observe(SelectMultiple_handler,names='value')\n",
    "    display(linker_SelectMultiple)\n",
    "    display(output)\n",
    "else:\n",
    "    recs = [i[1] for i in fullPoss if int(i[0])+cumulative_lengths[chain-2] in allowed_linker and CDT.linkerLengthCheck(i[1])]\n",
    "    chunked_groups[chain-1] = [int(i[0])+cumulative_lengths[chain-2] for i in fullPoss if int(i[0])+cumulative_lengths[chain-2] in allowed_linker and CDT.linkerLengthCheck(i[1])]\n",
    "    linker_SelectMultiple = widgets.SelectMultiple(\n",
    "    options=possLinkers,\n",
    "    value=recs,\n",
    "    #rows=10,\n",
    "    description='Varying Subsections',\n",
    "    layout={'width': '300px','height':'150px'},\n",
    "    disabled=False\n",
    "    )\n",
    "\n",
    "    def SelectMultiple_handler(change):\n",
    "        global varyingLinkers\n",
    "        varyingLinkers = change.new\n",
    "        with output:\n",
    "            clear_output(wait=True)\n",
    "            selectedLinkers = [int(i[0]) for i in fullPoss if i[1] in varyingLinkers]\n",
    "            chunked_groups[chain-1] = [i+cumulative_lengths[chain-2] for i in selectedLinkers]\n",
    "            CDT.highlightVaryingSections(working_path,pdb_file,selectedLinkers)\n",
    "\n",
    "    linker_SelectMultiple.style = {'description_width': '150px','description_height': '25px'}\n",
    "\n",
    "    # Output widget\n",
    "    output = widgets.Output()\n",
    "    recLinkers = [int(i[0]) for i in fullPoss if i[1] in recs]\n",
    "    with output:\n",
    "        CDT.highlightVaryingSections(working_path,pdb_file,recLinkers)\n",
    "    linker_SelectMultiple.observe(SelectMultiple_handler,names='value')\n",
    "    display(linker_SelectMultiple)\n",
    "    display(output)\n",
    "\n"
   ]
  },
  {
   "attachments": {},
   "cell_type": "markdown",
   "metadata": {},
   "source": [
    "Once you have selected the varying sections for <b>all</b> chains in your molecule, run the below cell and click the button to confirm"
   ]
  },
  {
   "cell_type": "code",
   "execution_count": 7,
   "metadata": {},
   "outputs": [
    {
     "data": {
      "application/vnd.jupyter.widget-view+json": {
       "model_id": "97f588b0b815474e98247abb63bbe550",
       "version_major": 2,
       "version_minor": 0
      },
      "text/plain": [
       "Button(button_style='success', description='Confirm varying sections', icon='check', layout=Layout(width='28ch…"
      ]
     },
     "metadata": {},
     "output_type": "display_data"
    },
    {
     "data": {
      "application/vnd.jupyter.widget-view+json": {
       "model_id": "7c0897e38fcb4ae68debd03b4d4ca5cb",
       "version_major": 2,
       "version_minor": 0
      },
      "text/plain": [
       "Output()"
      ]
     },
     "metadata": {},
     "output_type": "display_data"
    }
   ],
   "source": [
    "# <-- Run this cell to confirm you are happy with your selected varying sections\n",
    "varSec_text = 'Confirm varying sections'\n",
    "\n",
    "varSec_button = widgets.Button(\n",
    "    description='Confirm varying sections',\n",
    "    disabled=False,\n",
    "    button_style='success', # 'success', 'info', 'warning', 'danger' or ''\n",
    "    tooltip='Confirm varying sections',\n",
    "    layout=widgets.Layout(width=f'{len(varSec_text) + 4}ch'), \n",
    "    icon='check' # (FontAwesome names without the `fa-` prefix)\n",
    ")\n",
    "output = widgets.Output()\n",
    "varSec_button.style = {'description_width': '300px','description_height': '25px'}\n",
    "\n",
    "def on_varSec_button_clicked(b):\n",
    "    print(\"Varying sections confirmed.\")\n",
    "    with output:\n",
    "        clear_output(wait=True)\n",
    "        flattened = [item for sublist in chunked_groups for item in sublist]\n",
    "        CDT.write_varysections_file(flattened,working_path)\n",
    "        \n",
    "        \n",
    "        \n",
    "varSec_button.on_click(on_varSec_button_clicked)\n",
    "display(varSec_button)\n",
    "display(output)"
   ]
  },
  {
   "cell_type": "code",
   "execution_count": 8,
   "metadata": {},
   "outputs": [
    {
     "data": {
      "text/plain": [
       "'newFitData/test_simple/Saxs.dat'"
      ]
     },
     "execution_count": 8,
     "metadata": {},
     "output_type": "execute_result"
    }
   ],
   "source": [
    "# use kappa tau method to identify secondary structure\n",
    "secondarysplit= [CDT.findSimilar(CDT.getKapTauList(coords_chains[i-1]),0.2) for i in chains]\n",
    "# Writes all the coords, fingerprint, mixture & SAXS in Carbonara's expected input / file struct\n",
    "CDT.write_fingerprint_file(len(coords_chains), sequence_chains, secondarysplit, working_path)    \n",
    "CDT.write_coordinates_file(coords,working_path)\n",
    "CDT.write_mixture_file(working_path)\n",
    "CDT.write_saxs(SAXS_file, working_path)\n",
    "\n",
    "# Add any contact predictions eg. for 1 secondarysplit\n",
    "\n",
    "#contactPreds = [[231,686],[228,683],[225,591],[136,680],[830,890],[375,435],[149,205],[604,660],[719,784],[477,551],[22,96],[264,329]]\n",
    "#fixedDistSet=[]\n",
    "#if I wanted to fix these distances as 6 a fixedDistSet = [6.0,6.0,6.0,6.0]\n",
    "#\n",
    "#CDT.translate_distance_constraints(contactPreds,coords,splitList,working_path,fixedDistSet)\n"
   ]
  },
  {
   "cell_type": "code",
   "execution_count": 20,
   "metadata": {},
   "outputs": [
    {
     "data": {
      "application/vnd.jupyter.widget-view+json": {
       "model_id": "bcb8737e4aa345488882e7d46003c1a0",
       "version_major": 2,
       "version_minor": 0
      },
      "text/plain": [
       "Text(value='', description='From resID:', placeholder=' ', style=TextStyle(description_width='150px'))"
      ]
     },
     "metadata": {},
     "output_type": "display_data"
    },
    {
     "data": {
      "application/vnd.jupyter.widget-view+json": {
       "model_id": "647d7cbb77134afca30cf0e10d181167",
       "version_major": 2,
       "version_minor": 0
      },
      "text/plain": [
       "Text(value='', description='To resID:', placeholder=' ', style=TextStyle(description_width='150px'))"
      ]
     },
     "metadata": {},
     "output_type": "display_data"
    },
    {
     "data": {
      "application/vnd.jupyter.widget-view+json": {
       "model_id": "dadc55907a7549a6b038eb913ac95b62",
       "version_major": 2,
       "version_minor": 0
      },
      "text/plain": [
       "Text(value='', description='Distance (Angstroms):', placeholder=' ', style=TextStyle(description_width='150px'…"
      ]
     },
     "metadata": {},
     "output_type": "display_data"
    },
    {
     "data": {
      "application/vnd.jupyter.widget-view+json": {
       "model_id": "f86053dd34f04b4c9294bb6fc577dcd0",
       "version_major": 2,
       "version_minor": 0
      },
      "text/plain": [
       "Button(button_style='success', description='Add distance constraint', icon='check', layout=Layout(width='27ch'…"
      ]
     },
     "metadata": {},
     "output_type": "display_data"
    },
    {
     "data": {
      "application/vnd.jupyter.widget-view+json": {
       "model_id": "ffdfb89dc7584a08aa072f2821a4e25c",
       "version_major": 2,
       "version_minor": 0
      },
      "text/plain": [
       "Output()"
      ]
     },
     "metadata": {},
     "output_type": "display_data"
    },
    {
     "data": {
      "application/vnd.jupyter.widget-view+json": {
       "model_id": "8e4a55262ffc49af9b82ace0fc8b196f",
       "version_major": 2,
       "version_minor": 0
      },
      "text/plain": [
       "Button(button_style='info', description='Check distance constraints', icon='check', layout=Layout(width='30ch'…"
      ]
     },
     "metadata": {},
     "output_type": "display_data"
    },
    {
     "data": {
      "application/vnd.jupyter.widget-view+json": {
       "model_id": "ffdfb89dc7584a08aa072f2821a4e25c",
       "version_major": 2,
       "version_minor": 0
      },
      "text/plain": [
       "Output()"
      ]
     },
     "metadata": {},
     "output_type": "display_data"
    },
    {
     "data": {
      "application/vnd.jupyter.widget-view+json": {
       "model_id": "4eabec713cf84b59befd5b55edb20782",
       "version_major": 2,
       "version_minor": 0
      },
      "text/plain": [
       "Button(button_style='danger', description='Reset distance constraints', icon='check', layout=Layout(width='30c…"
      ]
     },
     "metadata": {},
     "output_type": "display_data"
    },
    {
     "data": {
      "application/vnd.jupyter.widget-view+json": {
       "model_id": "ffdfb89dc7584a08aa072f2821a4e25c",
       "version_major": 2,
       "version_minor": 0
      },
      "text/plain": [
       "Output()"
      ]
     },
     "metadata": {},
     "output_type": "display_data"
    },
    {
     "name": "stdout",
     "output_type": "stream",
     "text": [
      "Once you have added all your distance constraints, confirm below\n"
     ]
    },
    {
     "data": {
      "application/vnd.jupyter.widget-view+json": {
       "model_id": "b96797536a0749ff860c5e7127dc3694",
       "version_major": 2,
       "version_minor": 0
      },
      "text/plain": [
       "Button(button_style='success', description='Confirm distance constraints', icon='check', layout=Layout(width='…"
      ]
     },
     "metadata": {},
     "output_type": "display_data"
    },
    {
     "data": {
      "application/vnd.jupyter.widget-view+json": {
       "model_id": "ffdfb89dc7584a08aa072f2821a4e25c",
       "version_major": 2,
       "version_minor": 0
      },
      "text/plain": [
       "Output()"
      ]
     },
     "metadata": {},
     "output_type": "display_data"
    }
   ],
   "source": [
    "# <-- Run this cell to add distance constraints\n",
    "\n",
    "resA_text = widgets.Text(\n",
    "    value='',\n",
    "    placeholder=' ',\n",
    "    description='From resID:',\n",
    "    disabled=False   \n",
    ")\n",
    "\n",
    "resB_text = widgets.Text(\n",
    "    value='',\n",
    "    placeholder=' ',\n",
    "    description='To resID:',\n",
    "    disabled=False   \n",
    ")\n",
    "\n",
    "dist_text = widgets.Text(\n",
    "    value='',\n",
    "    placeholder=' ',\n",
    "    description=\"Distance (Angstroms):\",\n",
    "    disabled=False   \n",
    ")\n",
    "\n",
    "resA_text.style = {'description_width': '150px','description_height': '25px'}\n",
    "resB_text.style = {'description_width': '150px','description_height': '25px'}\n",
    "dist_text.style = {'description_width': '150px','description_height': '25px'}\n",
    "\n",
    "contactPreds = []\n",
    "fixedDistSet=[]\n",
    "\n",
    "def resA_handler(change):\n",
    "    global resA\n",
    "    resA = change.new\n",
    "    with output:\n",
    "        clear_output(wait=True)\n",
    "\n",
    "def resB_handler(change):\n",
    "    global resB\n",
    "    resB = change.new\n",
    "    with output:\n",
    "        clear_output(wait=True)\n",
    "\n",
    "def dist_handler(change):\n",
    "    global dist\n",
    "    dist = change.new\n",
    "    with output:\n",
    "        clear_output(wait=True)\n",
    "\n",
    "resA = ''\n",
    "resB = ''\n",
    "dist = ''\n",
    "\n",
    "output = widgets.Output()\n",
    "\n",
    "resA_text.observe(resA_handler,names='value')\n",
    "resB_text.observe(resB_handler,names='value')\n",
    "dist_text.observe(dist_handler,names='value')\n",
    "display(resA_text)\n",
    "display(resB_text)\n",
    "display(dist_text)\n",
    "### Add distance constraint button\n",
    "distCons_text = 'Add distance constraint'\n",
    "distCons_button = widgets.Button(\n",
    "    description=distCons_text,\n",
    "    disabled=False,\n",
    "    button_style='success', # 'success', 'info', 'warning', 'danger' or ''\n",
    "    tooltip=distCons_text,\n",
    "    layout=widgets.Layout(width=f'{len(distCons_text) + 4}ch'), \n",
    "    icon='check' # (FontAwesome names without the `fa-` prefix)\n",
    ")\n",
    "\n",
    "distCons_button.style = {'description_width': '300px','description_height': '25px'}\n",
    "\n",
    "def on_distCons_button_clicked(b):\n",
    "    with output:\n",
    "        print('Distance constraint added')\n",
    "        clear_output(wait=True)\n",
    "        contactPreds.append([int(resA),int(resB)])\n",
    "        fixedDistSet.append(float(dist))\n",
    "\n",
    "### Check distance constraint button\n",
    "\n",
    "check_distCons_text = 'Check distance constraints'\n",
    "check_distCons_button = widgets.Button(\n",
    "    description=check_distCons_text,\n",
    "    disabled=False,\n",
    "    button_style='info', # 'success', 'info', 'warning', 'danger' or ''\n",
    "    tooltip=check_distCons_text,\n",
    "    layout=widgets.Layout(width=f'{len(check_distCons_text) + 4}ch'), \n",
    "    icon='check' # (FontAwesome names without the `fa-` prefix)\n",
    ")\n",
    "\n",
    "check_distCons_button.style = {'description_width': '300px','description_height': '25px'}\n",
    "\n",
    "def check_distCons_button_clicked(b):\n",
    "    with output:\n",
    "        clear_output(wait=True)\n",
    "        print(\"Distance constraints are: \")\n",
    "        print(contactPreds)\n",
    "        print(fixedDistSet)\n",
    "\n",
    "### Reset distance constraint button\n",
    "\n",
    "reset_distCons_text = 'Reset distance constraints'\n",
    "reset_distCons_button = widgets.Button(\n",
    "    description=reset_distCons_text,\n",
    "    disabled=False,\n",
    "    button_style='danger', # 'success', 'info', 'warning', 'danger' or ''\n",
    "    tooltip=reset_distCons_text,\n",
    "    layout=widgets.Layout(width=f'{len(reset_distCons_text) + 4}ch'), \n",
    "    icon='check' # (FontAwesome names without the `fa-` prefix)\n",
    ")\n",
    "\n",
    "reset_distCons_button.style = {'description_width': '300px','description_height': '25px'}\n",
    "\n",
    "def reset_distCons_button_clicked(b):\n",
    "    print(\"Distance constraints reset.\")\n",
    "    global contactPreds\n",
    "    global fixedDistSet\n",
    "    with output:\n",
    "        clear_output(wait=True)\n",
    "        contactPreds = []\n",
    "        fixedDistSet=[]\n",
    "               \n",
    "### Confirm distance constraint button   \n",
    "\n",
    "confirm_distCons_text = 'Confirm distance constraints'\n",
    "confirm_distCons_button = widgets.Button(\n",
    "    description=confirm_distCons_text,\n",
    "    disabled=False,\n",
    "    button_style='success', # 'success', 'info', 'warning', 'danger' or ''\n",
    "    tooltip=confirm_distCons_text,\n",
    "    layout=widgets.Layout(width=f'{len(confirm_distCons_text) + 4}ch'), \n",
    "    icon='check' # (FontAwesome names without the `fa-` prefix)\n",
    ")\n",
    "\n",
    "confirm_distCons_button.style = {'description_width': '300px','description_height': '25px'}\n",
    "\n",
    "def confirm_distCons_button_clicked(b):\n",
    "    print(\"Distance constraints confirmed.\")\n",
    "    with output:\n",
    "        clear_output(wait=True)\n",
    "        CDT.translate_distance_constraints(contactPreds,coords_chains[chain-1],working_path,fixedDistSet)\n",
    "        \n",
    "### Set on click actions               \n",
    "distCons_button.on_click(on_distCons_button_clicked)\n",
    "check_distCons_button.on_click(check_distCons_button_clicked)\n",
    "reset_distCons_button.on_click(reset_distCons_button_clicked)   \n",
    "confirm_distCons_button.on_click(confirm_distCons_button_clicked)\n",
    "\n",
    "### Display all\n",
    "display(distCons_button)\n",
    "display(output)\n",
    "display(check_distCons_button)\n",
    "display(output)\n",
    "display(reset_distCons_button)\n",
    "display(output)\n",
    "print('Once you have added all your distance constraints, confirm below')\n",
    "display(confirm_distCons_button)\n",
    "display(output)"
   ]
  },
  {
   "attachments": {},
   "cell_type": "markdown",
   "metadata": {},
   "source": [
    "* chris' initial saxs prediction viewer - what does he want it to do?\n",
    "* set min and max q with above\n",
    "* before final write of sh file need checks that all necessary files exist\n",
    "* final write and run the sh file"
   ]
  },
  {
   "cell_type": "code",
   "execution_count": null,
   "metadata": {},
   "outputs": [],
   "source": [
    "def write_run_sh_file(working_path, mol_name, run_name, no_structures,min_q, max_q, max_fit_steps, fit_n_times, pairedQ=False,rotation=False):\n",
    "    script_name = 'RunMe_'+ mol_name + '_' + run_name + '.sh'\n",
    "    if not os.path.isdir(working_path+'/'+mol_name+'/'+run_name):\n",
    "        os.makedirs(working_path+'/'+mol_name+'/'+run_name)\n",
    "    with open(script_name, 'w+') as fout:\n",
    "        fout.write('#!/bin/bash')\n",
    "        # argv[ 1] scattering data file\n",
    "        saxs_file = working_path+'/Saxs.dat'\n",
    "        fout.write('\\n ScatterFile='+saxs_file)\n",
    "        fout.write('\\n fileLocs='+working_path+'/')\n",
    "        # argv[ 2] sequence file location\n",
    "        FP_file = working_path+\"/fingerPrint1.dat\"\n",
    "        # argv[ 3] restart tag (use to start from existing prediction)\n",
    "        coords_file = working_path+'/coordinates1.dat'\n",
    "        fout.write('\\n initialCoordsFile=frompdb')\n",
    "        # argv[ 4] paired distances file (can be empty)\n",
    "        if pairedQ==False:\n",
    "            fout.write('\\n pairedPredictions=False')\n",
    "        else:\n",
    "            pairedDistFile = working_path+'/'+mol_name+'/fixedDistanceConstraints1.dat'\n",
    "            fout.write('\\n pairedPredictions=True')\n",
    "        # argv[ 5] fixed sections file (again can be empty)\n",
    "        varying_file = working_path+\"/varyingSectionSecondary1.dat\"\n",
    "        # argv[ 6] number of structures\n",
    "        fout.write('\\n noStructures='+str(no_structures))\n",
    "        # argv[ 7] request to apply hydrophobic covering WITHIN monomers will be a list of sections on which to apply it. Will say none if not. -- Currently not used\n",
    "        # argv[ 8] request to apply hydrophobic covering BETWEEN monomers will be a list of pairs to try to hydropobically pair. Will say none if not. -- currently not used\n",
    "        # argv[ 9] kmin\n",
    "        # argv[10] kmax\n",
    "        # argv[11] Max number of fitting steps\n",
    "        # argv[12] prediction file\n",
    "        # argv[13] scattering output file\n",
    "        # argv[14] mixture list file, alist of sets of numbers indicatig the allowed set of mixture percentages of each species (e.g. dimer 20 monomer 80)\n",
    "        # argv[15] previous fit string in form fitname/mol6Substep_10_1.dat+fitname/mol6Substep_10_2.dat\n",
    "        # argv[16] log file location\n",
    "        # argv[17] last line of the previous fit log, this is only used for a restart if argv[3] = True\n",
    "        # argv[18] is true if we want to apply affine rotations,false if not.\n",
    "        mixture_file = working_path+\"/mixtureFile.dat\"\n",
    "\n",
    "        # $1 is the moelcule name $2 the output file $3 the restart file if sied\n",
    "        \n",
    "        \n",
    "        \n",
    "        \n",
    "        \n",
    "        fout.write('\\n fixedsections='+working_path+'/varyingSectionSecondary1.dat')\n",
    "        fout.write('\\n withinMonomerHydroCover=none')\n",
    "        fout.write('\\n betweenMonomerHydroCover=none')\n",
    "        fout.write('\\n kmin='+str(min_q))\n",
    "        fout.write('\\n kmax='+str(max_q))\n",
    "        fout.write('\\n maxNoFitSteps='+str(max_fit_steps))\n",
    "        if rotation==False:\n",
    "            fout.write('\\n affineTrans=False')\n",
    "        else:\n",
    "            fout.write('\\n affineTrans=True')\n",
    "\n",
    "\n",
    "        fout.write('\\nfor i in {1..'+str(fit_n_times)+'}')\n",
    "\n",
    "        fout.write('\\n\\ndo')\n",
    "        fout.write('\\n\\n   echo \" Run number : $i \"')\n",
    "        fout.write('\\n\\n   ./getInitialPrediction $ScatterFile $fileLocs $initialCoordsFile $pairedPredictions $fixedsections $noStructures $withinMonomerHydroCover $betweenMonomerHydroCover $kmin $kmax $maxNoFitSteps '+working_path+'/tmp/mol$i '+working_path+'/tmp/scatter$i.dat '+working_path+'/mixtureFile.dat '+working_path+'/redundant '+working_path+'/tmp/fitLog$i.dat '+'null '+'$affineTrans')\n",
    "\n",
    "        fout.write('\\n\\ndone')\n",
    "        fout.close()\n",
    "    return script_name"
   ]
  }
 ],
 "metadata": {
  "kernelspec": {
   "display_name": "Python 3 (ipykernel)",
   "language": "python",
   "name": "python3"
  },
  "language_info": {
   "codemirror_mode": {
    "name": "ipython",
    "version": 3
   },
   "file_extension": ".py",
   "mimetype": "text/x-python",
   "name": "python",
   "nbconvert_exporter": "python",
   "pygments_lexer": "ipython3",
   "version": "3.11.8"
  },
  "orig_nbformat": 4
 },
 "nbformat": 4,
 "nbformat_minor": 2
}
