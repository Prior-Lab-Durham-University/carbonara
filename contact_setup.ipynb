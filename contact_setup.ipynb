{
 "cells": [],
 "metadata": {
  "kernelspec": {
   "display_name": "NLE_lab",
   "language": "python",
   "name": "python3"
  },
  "language_info": {
   "name": "python",
   "version": "3.11.7"
  }
 },
 "nbformat": 4,
 "nbformat_minor": 2
}
